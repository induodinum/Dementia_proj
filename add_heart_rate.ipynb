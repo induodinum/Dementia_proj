{
 "cells": [
  {
   "cell_type": "code",
   "execution_count": 35,
   "metadata": {},
   "outputs": [],
   "source": [
    "import csv\n",
    "import numpy as np\n",
    "from os import listdir\n",
    "from os.path import isfile, join"
   ]
  },
  {
   "cell_type": "code",
   "execution_count": 36,
   "metadata": {},
   "outputs": [],
   "source": [
    "mypath = '/Users/admin/Desktop/coding/Dementia_proj/SmartwatchData/raw_data'\n",
    "all_files = [f for f in listdir(mypath) if isfile(join(mypath, f))]\n",
    "# print(all_files)\n",
    "\n",
    "acc_files = [f for f in all_files if(f[-3:]=='csv' and f[0:3]=='acc')]\n",
    "hr_files = [f for f in all_files if(f[-3:]=='csv' and f[0:2]=='hr')]\n",
    "# print(acc_files)\n",
    "# print(hr_files)"
   ]
  },
  {
   "cell_type": "code",
   "execution_count": 37,
   "metadata": {},
   "outputs": [],
   "source": [
    "all_data_list = []\n",
    "all_labels = set()\n",
    "for a in hr_files:\n",
    "    a = \"SmartwatchData/raw_data/\" + a\n",
    "    f = open(a,\"r\")\n",
    "\n",
    "    start = \"SmartwatchData/raw_data/hr_\"\n",
    "    stop = \"_1.csv\"\n",
    "\n",
    "    label = f.name[:-len(stop)]\n",
    "    label = label[len(start):]\n",
    "#     print(label)\n",
    "    all_labels.add(label)\n",
    "\n",
    "    for line in f:\n",
    "        e = line.strip('\\n').split(',')\n",
    "        new_e = [e[1],e[0],label]\n",
    "        all_data_list.append(new_e)\n",
    "    # break\n",
    "\n",
    "def sortfunc(elem):\n",
    "    return elem[0]     # Sort by timestamp\n",
    "\n",
    "all_data_list.sort(key=sortfunc)\n",
    "\n",
    "all_data = np.array(all_data_list)\n",
    "# print(all_data)"
   ]
  },
  {
   "cell_type": "code",
   "execution_count": 38,
   "metadata": {},
   "outputs": [],
   "source": [
    "with open('SmartwatchData/prep_data/data_heartrate.csv','w') as data_file:\n",
    "    writer = csv.writer(data_file,delimiter=',')\n",
    "\n",
    "    headers = ['date','time','heart rate','label']\n",
    "    writer.writerow(headers)\n",
    "\n",
    "    for e in all_data_list:\n",
    "        date,time = e[0].split(' ')\n",
    "        new_e = [date,time,e[1],e[2]]\n",
    "        writer.writerow(new_e)"
   ]
  },
  {
   "cell_type": "code",
   "execution_count": 39,
   "metadata": {},
   "outputs": [],
   "source": [
    "def calc_sec(time):\n",
    "    hms = time.split(':')\n",
    "    hms = [float(x) for x in hms]\n",
    "    sec = hms[2] + hms[1]*60 + hms[0]*3600\n",
    "    sec = round(sec,3)\n",
    "    return sec"
   ]
  },
  {
   "cell_type": "code",
   "execution_count": 40,
   "metadata": {},
   "outputs": [
    {
     "name": "stdout",
     "output_type": "stream",
     "text": [
      "[['date' 'time' 'heart rate' 'label']\n",
      " ['2018-10-05' '14:42:48.81' '91.99695' 'walking_downstairs']\n",
      " ['2018-10-05' '14:42:49.908' '91.99695' 'walking_downstairs']\n",
      " ['2018-10-05' '19:24:30.911' '91.52907' 'walking_downstairs']\n",
      " ['2018-10-05' '19:24:32.011' '91.52907' 'walking_downstairs']\n",
      " ['2018-10-05' '19:50:44.718' '90.449165' 'walking']\n",
      " ['2018-10-05' '19:50:45.822' '89.174286' 'walking']\n",
      " ['2018-10-05' '19:50:46.922' '86.45309' 'walking']\n",
      " ['2018-10-05' '19:50:48.013' '84.96936' 'walking']\n",
      " ['2018-10-05' '19:50:49.145' '84.03406' 'walking']\n",
      " ['2018-10-05' '19:50:50.253' '82.86216' 'walking']\n",
      " ['2018-10-05' '19:50:51.344' '79.800964' 'walking']\n",
      " ['2018-10-05' '19:50:52.445' '76.90419' 'walking']\n",
      " ['2018-10-05' '19:50:53.523' '75.4558' 'walking']\n",
      " ['2018-10-05' '19:50:54.624' '74.73161' 'walking']\n",
      " ['2018-10-05' '19:50:55.724' '82.08887' 'walking']\n",
      " ['2018-10-05' '19:50:56.813' '86.71722' 'walking']\n",
      " ['2018-10-05' '19:50:57.963' '89.354095' 'walking']\n",
      " ['2018-10-05' '19:50:59.043' '91.29729' 'walking']\n",
      " ['2018-10-05' '19:51:00.155' '92.357666' 'walking']\n",
      " ['2018-10-05' '19:51:01.264' '93.12077' 'walking']\n",
      " ['2018-10-05' '19:51:02.344' '93.60332' 'walking']\n",
      " ['2018-10-05' '19:51:03.423' '93.84459' 'walking']\n",
      " ['2018-10-05' '19:51:04.573' '94.16557' 'walking']\n",
      " ['2018-10-05' '19:51:05.666' '94.326065' 'walking']\n",
      " ['2018-10-05' '19:51:06.753' '94.19441' 'walking']\n",
      " ['2018-10-05' '19:51:07.852' '93.62197' 'walking']\n",
      " ['2018-10-05' '19:51:08.977' '90.9783' 'walking']\n",
      " ['2018-10-05' '19:51:10.043' '89.65647' 'walking']\n",
      " ['2018-10-05' '19:51:11.183' '88.99556' 'walking']\n",
      " ['2018-10-05' '19:51:12.271' '90.44986' 'walking']\n",
      " ['2018-10-05' '19:51:13.388' '91.610176' 'walking']\n",
      " ['2018-10-05' '19:51:14.463' '99.44117' 'walking']\n",
      " ['2018-10-05' '19:51:32.366' '105.9895' 'walking']\n",
      " ['2018-10-05' '19:51:33.464' '111.54646' 'walking']\n",
      " ['2018-10-05' '19:51:34.555' '116.91196' 'walking']\n",
      " ['2018-10-05' '19:51:35.694' '119.59471' 'walking']\n",
      " ['2018-10-05' '19:52:32.46' '107.45787' 'walking_upstairs']\n",
      " ['2018-10-05' '19:52:33.56' '97.16495' 'walking_upstairs']\n",
      " ['2018-10-05' '19:52:34.661' '91.002464' 'walking_upstairs']\n",
      " ['2018-10-05' '19:52:35.751' '87.427666' 'walking_upstairs']\n",
      " ['2018-10-05' '19:52:36.832' '84.87602' 'walking_upstairs']\n",
      " ['2018-10-05' '19:52:37.946' '82.24907' 'walking_upstairs']\n",
      " ['2018-10-05' '19:52:39.023' '80.24797' 'walking_upstairs']\n",
      " ['2018-10-05' '19:52:40.122' '78.189186' 'walking_upstairs']\n",
      " ['2018-10-05' '19:52:41.269' '76.481346' 'walking_upstairs']\n",
      " ['2018-10-05' '19:52:42.356' '75.627426' 'walking_upstairs']\n",
      " ['2018-10-05' '19:52:43.462' '75.20047' 'walking_upstairs']\n",
      " ['2018-10-05' '19:52:44.564' '80.2253' 'walking_upstairs']\n",
      " ['2018-10-05' '19:52:45.632' '87.99498' 'walking_upstairs']\n",
      " ['2018-10-05' '19:52:46.731' '93.87812' 'walking_upstairs']\n",
      " ['2018-10-05' '19:52:47.831' '98.06699' 'walking_upstairs']\n",
      " ['2018-10-05' '19:52:48.931' '100.35475' 'walking_upstairs']\n",
      " ['2018-10-05' '19:52:50.061' '101.49863' 'walking_upstairs']\n",
      " ['2018-10-05' '19:52:51.161' '102.07057' 'walking_upstairs']\n",
      " ['2018-10-05' '19:52:52.242' '102.0843' 'walking_upstairs']\n",
      " ['2018-10-05' '19:52:53.354' '100.14456' 'walking_upstairs']\n",
      " ['2018-10-05' '19:52:54.439' '99.1747' 'walking_upstairs']\n",
      " ['2018-10-05' '19:52:55.519' '98.68976' 'walking_upstairs']]\n"
     ]
    }
   ],
   "source": [
    "hr_data = []\n",
    "with open('SmartwatchData/prep_data/data_heartrate.csv') as hr_file:\n",
    "    for line in hr_file:\n",
    "        e = line.strip('\\n').split(',')\n",
    "        hr_data.append(e)\n",
    "        \n",
    "hr_data = np.array(hr_data)\n",
    "print(hr_data)"
   ]
  }
 ],
 "metadata": {
  "kernelspec": {
   "display_name": "Python 3",
   "language": "python",
   "name": "python3"
  },
  "language_info": {
   "codemirror_mode": {
    "name": "ipython",
    "version": 3
   },
   "file_extension": ".py",
   "mimetype": "text/x-python",
   "name": "python",
   "nbconvert_exporter": "python",
   "pygments_lexer": "ipython3",
   "version": "3.6.5"
  }
 },
 "nbformat": 4,
 "nbformat_minor": 2
}
