{
 "cells": [
  {
   "cell_type": "code",
   "execution_count": 87,
   "metadata": {},
   "outputs": [],
   "source": [
    "import pandas as pd\n",
    "import numpy as np\n",
    "import csv\n",
    "import matplotlib.pyplot as plt\n",
    "\n",
    "from datetime import datetime, timedelta\n",
    "\n",
    "from os import listdir, walk\n",
    "from os.path import isfile, join"
   ]
  },
  {
   "cell_type": "code",
   "execution_count": 51,
   "metadata": {},
   "outputs": [],
   "source": [
    "def calc_sec(time):\n",
    "    hms = time.split(':')\n",
    "    hms = [float(x) for x in hms]\n",
    "    sec = hms[2] + hms[1]*60 + hms[0]*3600\n",
    "    sec = round(sec,3)\n",
    "    return sec"
   ]
  },
  {
   "cell_type": "code",
   "execution_count": 52,
   "metadata": {},
   "outputs": [],
   "source": [
    "def calc_ts(sec):\n",
    "    ts = ''\n",
    "    hr = int(sec/3600)\n",
    "    mn = int((sec - (hr*3600))/60)\n",
    "    sc = sec - (hr*3600) - (mn*60)\n",
    "    sc = round(sc,3)\n",
    "    ts += str(hr) + ':' + str(mn) + ':' + str(sc)\n",
    "    # print(ts)\n",
    "    return ts"
   ]
  },
  {
   "cell_type": "code",
   "execution_count": 101,
   "metadata": {},
   "outputs": [],
   "source": [
    "mypath = 'DDC_Data/'\n",
    "nectec_dir = 'NECTEC_Data/'"
   ]
  },
  {
   "cell_type": "code",
   "execution_count": 102,
   "metadata": {
    "scrolled": false
   },
   "outputs": [],
   "source": [
    "def load_sensor_data(subject_id):\n",
    "    sid_dir = mypath + subject_id\n",
    "    sid_files = [f for f in listdir(sid_dir) if f[5:9]=='data']\n",
    "\n",
    "    filepath = sid_dir + '/' + sid_files[0]\n",
    "\n",
    "    df_n = pd.read_csv(filepath, header=2, names=['sensor_id','timestamp','count','x','y','z',\n",
    "                                                  'gyro_x','gyro_y','gyro_z','mag_x','mag_y','mag_z','mark'])\n",
    "\n",
    "    df_n['timestamp'] = df_n['timestamp'].apply(lambda x: (datetime.utcfromtimestamp(x/1000) + timedelta(hours=7)).strftime('%Y-%m-%d %H:%M:%S.%f'))\n",
    "\n",
    "    xyz_cols = ['x','y','z']\n",
    "    g = 9800\n",
    "    for c in xyz_cols:\n",
    "        df_n[c] = df_n[c].apply(lambda x: x/g)\n",
    "\n",
    "    cols = ['timestamp','x','y','z']\n",
    "    df = df_n[cols].dropna()\n",
    "    df = df.reset_index(drop=True)\n",
    "\n",
    "    df.to_csv(nectec_dir + subject_id + '-nectec.csv')\n",
    "    \n",
    "    return df"
   ]
  },
  {
   "cell_type": "code",
   "execution_count": 103,
   "metadata": {},
   "outputs": [],
   "source": [
    "def load_timer(subject_id):\n",
    "    sid_dir = mypath + subject_id\n",
    "    sid_files = [f for f in listdir(sid_dir) if f[5:11]=='iphone']\n",
    "    \n",
    "    timer_path = sid_dir + '/' + sid_files[0]\n",
    "    \n",
    "    df_timer = pd.read_csv(timer_path, header=None, names=['sid','raw_label', 'timestamp', 'duration','label'])\n",
    "\n",
    "    filtered_timer = [i for i in df_timer['sid'] if i==int(subject_id)]\n",
    "\n",
    "    timer_filt = df_timer[df_timer['sid'].isin(filtered_timer)]\n",
    "    timer_filt = timer_filt.reset_index(drop=True)\n",
    "\n",
    "    timer_arr = []\n",
    "\n",
    "    for i in range(len(timer_filt)):\n",
    "        if(timer_filt.loc[i]['raw_label']=='upstairs' or \n",
    "          timer_filt.loc[i]['raw_label']=='downstairs'):\n",
    "            timer_arr.append('walk')\n",
    "        else:\n",
    "            timer_arr.append(timer_filt.loc[i]['raw_label'])\n",
    "\n",
    "    timer_filt['label'] = pd.Series(timer_arr)\n",
    "\n",
    "    timer_filt.to_csv(nectec_dir + subject_id + '-timer.csv')\n",
    "\n",
    "    return timer_filt"
   ]
  },
  {
   "cell_type": "code",
   "execution_count": 99,
   "metadata": {},
   "outputs": [
    {
     "name": "stdout",
     "output_type": "stream",
     "text": [
      "['1002', '1003', '1004', '1005', '1006', '1007', '1008']\n"
     ]
    }
   ],
   "source": [
    "all_subjects = [str(i) for i in range(1002,1009)]\n",
    "\n",
    "print(all_subjects)"
   ]
  },
  {
   "cell_type": "code",
   "execution_count": 104,
   "metadata": {},
   "outputs": [
    {
     "name": "stdout",
     "output_type": "stream",
     "text": [
      "1002\n",
      "1003\n",
      "1004\n",
      "1005\n",
      "1006\n",
      "1007\n",
      "1008\n"
     ]
    }
   ],
   "source": [
    "for sid in all_subjects:\n",
    "    print(sid)\n",
    "    df = load_sensor_data(sid)\n",
    "    timer_filt = load_timer(sid)"
   ]
  },
  {
   "cell_type": "code",
   "execution_count": 75,
   "metadata": {},
   "outputs": [],
   "source": [
    "time_prd = []\n",
    "\n",
    "for i in range(len(timer_filt)):\n",
    "    tm = calc_sec(timer_filt.loc[i]['timestamp'].split(' ')[1])\n",
    "    dur = calc_sec(timer_filt.loc[i]['duration'])\n",
    "    \n",
    "    time_prd.append([tm, tm+dur])"
   ]
  },
  {
   "cell_type": "code",
   "execution_count": 106,
   "metadata": {},
   "outputs": [],
   "source": [
    "label_list = []\n",
    "\n",
    "for i in range(len(df)):\n",
    "    cnt = 0\n",
    "    for j in range(len(time_prd)):\n",
    "        tm = calc_sec(df.loc[i]['timestamp'].split(' ')[1])\n",
    "        if(tm>=time_prd[j][0] and tm<=time_prd[j][1]):\n",
    "            label_list.append(timer_filt['label'])\n",
    "            cnt = 1\n",
    "        \n",
    "#         print(tm, time_prd[j][0], time_prd[j][1])\n",
    "    \n",
    "    if(cnt==0):\n",
    "        label_list.append('NaN')\n",
    "\n",
    "df['label'] = pd.Series(label_list)"
   ]
  },
  {
   "cell_type": "code",
   "execution_count": 105,
   "metadata": {},
   "outputs": [
    {
     "data": {
      "image/png": "[encoded data removed]",
      "text/plain": [
       "<Figure size 720x432 with 3 Axes>"
      ]
     },
     "metadata": {
      "needs_background": "light"
     },
     "output_type": "display_data"
    }
   ],
   "source": [
    "f, ax = plt.subplots(nrows=3, ncols=1, figsize=(10,6))\n",
    "f.tight_layout()\n",
    "ax[0].plot(df['x'], color='r')\n",
    "ax[1].plot(df['y'], color='g')\n",
    "ax[2].plot(df['z'], color='b')\n",
    "\n",
    "plt.show()"
   ]
  },
  {
   "cell_type": "code",
   "execution_count": null,
   "metadata": {},
   "outputs": [],
   "source": []
  }
 ],
 "metadata": {
  "kernelspec": {
   "display_name": "Python 3",
   "language": "python",
   "name": "python3"
  },
  "language_info": {
   "codemirror_mode": {
    "name": "ipython",
    "version": 3
   },
   "file_extension": ".py",
   "mimetype": "text/x-python",
   "name": "python",
   "nbconvert_exporter": "python",
   "pygments_lexer": "ipython3",
   "version": "3.6.6"
  }
 },
 "nbformat": 4,
 "nbformat_minor": 2
}
