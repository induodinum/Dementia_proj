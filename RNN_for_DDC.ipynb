{
 "cells": [
  {
   "cell_type": "code",
   "execution_count": 1,
   "metadata": {},
   "outputs": [],
   "source": [
    "import numpy as np\n",
    "import pandas as pd\n",
    "import matplotlib.pyplot as plt\n",
    "import os\n",
    "import math\n",
    "\n",
    "from os import listdir, walk\n",
    "from os.path import isfile, join"
   ]
  },
  {
   "cell_type": "code",
   "execution_count": 2,
   "metadata": {},
   "outputs": [
    {
     "name": "stdout",
     "output_type": "stream",
     "text": [
      "Loading 1001's data\n",
      "     sid   raw_label                timestamp  duration   label\n",
      "0   1001       stand  2019-01-14 14:52:30.956  00:00:30   stand\n",
      "1   1001         sit  2019-01-14 14:53:07.802  00:00:30     sit\n",
      "2   1001       stand  2019-01-14 14:53:41.932  00:00:28   stand\n",
      "3   1001       sleep  2019-01-14 14:55:15.521  00:00:30   sleep\n",
      "4   1001         sit  2019-01-14 14:55:51.726  00:00:30     sit\n",
      "5   1001       sleep  2019-01-14 14:56:27.937  00:00:31   sleep\n",
      "6   1001         sit  2019-01-14 14:57:03.592  00:00:01     sit\n",
      "7   1001       stand  2019-01-14 14:57:05.548  00:00:31   stand\n",
      "8   1001        walk  2019-01-14 14:59:11.365  00:01:00    walk\n",
      "9   1001  downstairs  2019-01-14 15:01:41.375  00:00:13  stairs\n",
      "10  1001    upstairs  2019-01-14 15:01:56.600  00:00:21  stairs\n",
      "11  1001  downstairs  2019-01-14 15:02:20.945  00:00:22  stairs\n",
      "12  1001    upstairs  2019-01-14 15:02:44.824  00:00:22  stairs\n",
      "Loading 1002's data\n",
      "     sid   raw_label                timestamp  duration   label\n",
      "0   1002       stand  2019-01-14 15:19:08.197  00:00:30   stand\n",
      "1   1002         sit  2019-01-14 15:19:44.910  00:00:30     sit\n",
      "2   1002       stand  2019-01-14 15:20:17.811  00:00:31   stand\n",
      "3   1002       sleep  2019-01-14 15:21:05.156  00:00:30   sleep\n",
      "4   1002         sit  2019-01-14 15:21:43.401  00:00:30     sit\n",
      "5   1002       sleep  2019-01-14 15:22:18.797  00:00:30   sleep\n",
      "6   1002       stand  2019-01-14 15:22:57.350  00:00:30   stand\n",
      "7   1002        walk  2019-01-14 15:23:44.030  00:01:00    walk\n",
      "8   1002  downstairs  2019-01-14 15:25:20.475  00:00:18  stairs\n",
      "9   1002    upstairs  2019-01-14 15:25:40.224  00:00:14  stairs\n",
      "10  1002  downstairs  2019-01-14 15:25:57.599  00:00:14  stairs\n",
      "11  1002    upstairs  2019-01-14 15:26:13.636  00:00:16  stairs\n",
      "Loading 1003's data\n",
      "     sid   raw_label                timestamp  duration   label\n",
      "0   1003       stand  2019-01-14 15:46:12.978  00:00:30   stand\n",
      "1   1003         sit  2019-01-14 15:46:47.359  00:00:30     sit\n",
      "2   1003       stand  2019-01-14 15:47:20.869  00:00:30   stand\n",
      "3   1003       sleep  2019-01-14 15:48:11.689  00:00:30   sleep\n",
      "4   1003         sit  2019-01-14 15:48:45.659  00:00:32     sit\n",
      "5   1003       sleep  2019-01-14 15:49:24.555  00:00:30   sleep\n",
      "6   1003       stand  2019-01-14 15:50:01.009  00:00:30   stand\n",
      "7   1003        walk  2019-01-14 15:51:10.240  00:01:00    walk\n",
      "8   1003  downstairs  2019-01-14 15:52:41.083  00:00:14  stairs\n",
      "9   1003    upstairs  2019-01-14 15:52:56.493  00:00:13  stairs\n",
      "10  1003  downstairs  2019-01-14 15:53:12.202  00:00:13  stairs\n",
      "11  1003    upstairs  2019-01-14 15:53:27.007  00:00:15  stairs\n",
      "Loading 1004's data\n",
      "     sid   raw_label                timestamp  duration   label\n",
      "0   1004       stand  2019-01-14 16:05:55.934  00:00:30   stand\n",
      "1   1004         sit  2019-01-14 16:06:29.315  00:00:30     sit\n",
      "2   1004       stand  2019-01-14 16:07:10.027  00:00:23   stand\n",
      "3   1004       sleep  2019-01-14 16:07:39.987  00:00:30   sleep\n",
      "4   1004         sit  2019-01-14 16:08:12.213  00:00:31     sit\n",
      "5   1004       stand  2019-01-14 16:08:46.868  00:00:30   stand\n",
      "6   1004        walk  2019-01-14 16:09:45.316  00:01:00    walk\n",
      "7   1004  downstairs  2019-01-14 16:11:19.355  00:00:15  stairs\n",
      "8   1004    upstairs  2019-01-14 16:11:36.324  00:00:14  stairs\n",
      "9   1004  downstairs  2019-01-14 16:11:51.826  00:00:15  stairs\n",
      "10  1004    upstairs  2019-01-14 16:12:08.313  00:00:15  stairs\n",
      "Loading 1005's data\n",
      "     sid   raw_label                timestamp  duration   label\n",
      "0   1005       stand  2019-01-14 16:22:08.091  00:00:12   stand\n",
      "1   1005       stand  2019-01-14 16:22:23.070  00:00:21   stand\n",
      "2   1005         sit  2019-01-14 16:22:45.670  00:00:28     sit\n",
      "3   1005       stand  2019-01-14 16:23:17.880  00:00:30   stand\n",
      "4   1005       sleep  2019-01-14 16:24:02.593  00:00:31   sleep\n",
      "5   1005         sit  2019-01-14 16:24:40.310  00:00:30     sit\n",
      "6   1005       sleep  2019-01-14 16:25:15.979  00:00:31   sleep\n",
      "7   1005       stand  2019-01-14 16:25:53.778  00:00:30   stand\n",
      "8   1005        walk  2019-01-14 16:27:08.025  00:01:00    walk\n",
      "9   1005  downstairs  2019-01-14 16:28:45.083  00:00:12  stairs\n",
      "10  1005    upstairs  2019-01-14 16:28:58.647  00:00:12  stairs\n",
      "11  1005  downstairs  2019-01-14 16:29:11.822  00:00:11  stairs\n",
      "12  1005    upstairs  2019-01-14 16:29:24.291  00:00:12  stairs\n",
      "Loading 1006's data\n",
      "     sid   raw_label                timestamp  duration   label\n",
      "0   1006       stand  2019-01-14 16:36:30.865  00:00:30   stand\n",
      "1   1006         sit  2019-01-14 16:37:03.353  00:00:31     sit\n",
      "2   1006       stand  2019-01-14 16:37:37.603  00:00:30   stand\n",
      "3   1006       sleep  2019-01-14 16:38:14.173  00:00:30   sleep\n",
      "4   1006         sit  2019-01-14 16:38:49.852  00:00:31     sit\n",
      "5   1006       sleep  2019-01-14 16:39:24.904  00:00:33   sleep\n",
      "6   1006       stand  2019-01-14 16:39:59.731  00:00:31   stand\n",
      "7   1006        walk  2019-01-14 16:40:51.421  00:01:00    walk\n",
      "8   1006  downstairs  2019-01-14 16:42:21.629  00:00:14  stairs\n",
      "9   1006    upstairs  2019-01-14 16:42:37.656  00:00:15  stairs\n",
      "10  1006  downstairs  2019-01-14 16:42:54.172  00:00:14  stairs\n",
      "11  1006    upstairs  2019-01-14 16:43:09.509  00:00:13  stairs\n",
      "Loading 1007's data\n",
      "     sid   raw_label                timestamp  duration   label\n",
      "0   1007       stand  2019-01-14 16:56:30.222  00:00:30   stand\n",
      "1   1007         sit  2019-01-14 16:57:02.922  00:00:33     sit\n",
      "2   1007       stand  2019-01-14 16:57:38.966  00:00:31   stand\n",
      "3   1007       sleep  2019-01-14 16:58:21.678  00:00:30   sleep\n",
      "4   1007         sit  2019-01-14 16:58:57.010  00:00:30     sit\n",
      "5   1007       sleep  2019-01-14 16:59:32.452  00:00:30   sleep\n",
      "6   1007       stand  2019-01-14 17:00:10.556  00:00:30   stand\n",
      "7   1007        walk  2019-01-14 17:01:05.515  00:01:00    walk\n",
      "8   1007  downstairs  2019-01-14 17:02:38.500  00:00:14  stairs\n",
      "9   1007    upstairs  2019-01-14 17:02:54.721  00:00:13  stairs\n",
      "10  1007  downstairs  2019-01-14 17:03:08.993  00:00:14  stairs\n",
      "11  1007    upstairs  2019-01-14 17:03:24.578  00:00:14  stairs\n",
      "Loading 1008's data\n",
      "     sid   raw_label                timestamp  duration   label\n",
      "0   1008       stand  2019-01-14 17:17:24.419  00:00:30   stand\n",
      "1   1008         sit  2019-01-14 17:17:58.119  00:00:30     sit\n",
      "2   1008       stand  2019-01-14 17:18:31.415  00:00:30   stand\n",
      "3   1008       sleep  2019-01-14 17:19:15.476  00:00:30   sleep\n",
      "4   1008         sit  2019-01-14 17:19:49.987  00:00:32     sit\n",
      "5   1008       sleep  2019-01-14 17:20:26.674  00:00:31   sleep\n",
      "6   1008       stand  2019-01-14 17:21:15.283  00:00:20   stand\n",
      "7   1008        walk  2019-01-14 17:22:07.277  00:01:00    walk\n",
      "8   1008  downstairs  2019-01-14 17:23:44.585  00:00:18  stairs\n",
      "9   1008    upstairs  2019-01-14 17:24:03.613  00:00:15  stairs\n",
      "10  1008  downstairs  2019-01-14 17:24:20.448  00:00:16  stairs\n",
      "11  1008    upstairs  2019-01-14 17:24:38.042  00:00:14  stairs\n",
      "Loading 1009's data\n",
      "     sid   raw_label                timestamp  duration   label\n",
      "0   1009       stand  2019-02-08 16:37:19.394  00:00:30   stand\n",
      "1   1009         sit  2019-02-08 16:37:53.442  00:00:31     sit\n",
      "2   1009       stand  2019-02-08 16:38:28.945  00:00:30   stand\n",
      "3   1009       sleep  2019-02-08 16:39:07.178  00:00:30   sleep\n",
      "4   1009         sit  2019-02-08 16:39:43.810  00:00:30     sit\n",
      "5   1009       sleep  2019-02-08 16:40:21.363  00:00:30   sleep\n",
      "6   1009       stand  2019-02-08 16:40:57.352  00:00:30   stand\n",
      "7   1009        walk  2019-02-08 16:43:36.858  00:00:34    walk\n",
      "8   1009        walk  2019-02-08 16:44:16.215  00:00:31    walk\n",
      "9   1009    upstairs  2019-02-08 16:45:18.383  00:00:21  stairs\n",
      "10  1009  downstairs  2019-02-08 16:45:43.819  00:00:18  stairs\n",
      "11  1009    upstairs  2019-02-08 16:46:29.806  00:00:18  stairs\n",
      "12  1009  downstairs  2019-02-08 16:46:51.156  00:00:21  stairs\n",
      "Loading 2001's data\n",
      "     sid   raw_label                timestamp  duration   label\n",
      "0   2001       stand  2019-01-16 13:58:47.829  00:00:30   stand\n",
      "1   2001         sit  2019-01-16 13:59:26.627  00:00:30     sit\n",
      "2   2001       stand  2019-01-16 14:00:01.045  00:00:30   stand\n",
      "3   2001       sleep  2019-01-16 14:01:30.673  00:00:30   sleep\n",
      "4   2001         sit  2019-01-16 14:02:09.519  00:00:30     sit\n",
      "5   2001       sleep  2019-01-16 14:02:59.920  00:00:30   sleep\n",
      "6   2001       stand  2019-01-16 14:03:45.039  00:00:30   stand\n",
      "7   2001        walk  2019-01-16 14:04:32.327  00:00:31    walk\n",
      "8   2001        walk  2019-01-16 14:05:07.253  00:00:30    walk\n",
      "9   2001  downstairs  2019-01-16 14:07:04.700  00:00:43  stairs\n",
      "10  2001    upstairs  2019-01-16 14:08:06.679  00:00:30  stairs\n",
      "11  2001  downstairs  2019-01-16 14:08:44.824  00:00:37  stairs\n",
      "12  2001    upstairs  2019-01-16 14:09:27.265  00:00:31  stairs\n"
     ]
    },
    {
     "name": "stdout",
     "output_type": "stream",
     "text": [
      "Loading 2002's data\n",
      "     sid   raw_label                timestamp  duration   label\n",
      "0   2002       stand  2019-01-16 14:22:12.439  00:00:30   stand\n",
      "1   2002         sit  2019-01-16 14:22:46.157  00:00:30     sit\n",
      "2   2002       stand  2019-01-16 14:23:19.307  00:00:30   stand\n",
      "3   2002       sleep  2019-01-16 14:24:05.584  00:00:30   sleep\n",
      "4   2002         sit  2019-01-16 14:24:44.454  00:00:30     sit\n",
      "5   2002       sleep  2019-01-16 14:25:20.640  00:00:30   sleep\n",
      "6   2002       stand  2019-01-16 14:25:59.460  00:00:30   stand\n",
      "7   2002        walk  2019-01-16 14:26:42.431  00:00:30    walk\n",
      "8   2002        walk  2019-01-16 14:27:17.169  00:00:31    walk\n",
      "9   2002  downstairs  2019-01-16 14:28:22.139  00:00:23  stairs\n",
      "10  2002    upstairs  2019-01-16 14:28:51.399  00:00:20  stairs\n",
      "11  2002  downstairs  2019-01-16 14:29:15.654  00:00:21  stairs\n",
      "12  2002    upstairs  2019-01-16 14:29:39.313  00:00:20  stairs\n",
      "Finished loading\n"
     ]
    }
   ],
   "source": [
    "%run load_dataset.ipynb"
   ]
  },
  {
   "cell_type": "code",
   "execution_count": 3,
   "metadata": {},
   "outputs": [],
   "source": [
    "%run preprocess_for_SVM.ipynb"
   ]
  },
  {
   "cell_type": "code",
   "execution_count": 4,
   "metadata": {},
   "outputs": [],
   "source": [
    "subj_train = ['1001','1002','1003','2001']\n",
    "subj_val = ['1004','1005','1006','2002']\n",
    "subj_test = ['1007','1008','1009']"
   ]
  },
  {
   "cell_type": "code",
   "execution_count": 5,
   "metadata": {},
   "outputs": [],
   "source": [
    "def get_X_y(subj_ids, X, y, s):\n",
    "    X_get = []\n",
    "    y_get = []\n",
    "    s_get = []\n",
    "    for i in range(len(s)):\n",
    "        for j in range(len(subj_ids)):\n",
    "            if(s[i]==subj_ids[j]):\n",
    "                X_get.append(X[i])\n",
    "                y_get.append(y[i])\n",
    "                s_get.append(s[i])\n",
    "                \n",
    "    return np.array(X_get), np.array(y_get), np.array(s_get)"
   ]
  },
  {
   "cell_type": "code",
   "execution_count": 6,
   "metadata": {},
   "outputs": [],
   "source": [
    "X_train, y_train, s_train = get_X_y(subj_train, X_all, y_all, subj_all)\n",
    "X_val, y_val, s_val = get_X_y(subj_val, X_all, y_all, subj_all)\n",
    "X_test, y_test, s_test = get_X_y(subj_test, X_all, y_all, subj_all)"
   ]
  },
  {
   "cell_type": "code",
   "execution_count": 8,
   "metadata": {},
   "outputs": [
    {
     "name": "stdout",
     "output_type": "stream",
     "text": [
      "(8311, 3) (8311,) (8311,)\n",
      "(7714, 3) (7714,) (7714,)\n",
      "(5982, 3) (5982,) (5982,)\n"
     ]
    }
   ],
   "source": [
    "print(X_train.shape, y_train.shape, s_train.shape)\n",
    "print(X_val.shape, y_val.shape, s_val.shape)\n",
    "print(X_test.shape, y_test.shape, s_test.shape)"
   ]
  },
  {
   "cell_type": "code",
   "execution_count": null,
   "metadata": {},
   "outputs": [],
   "source": []
  },
  {
   "cell_type": "code",
   "execution_count": 7,
   "metadata": {},
   "outputs": [
    {
     "name": "stdout",
     "output_type": "stream",
     "text": [
      "(8311, 3) (8311,)\n"
     ]
    }
   ],
   "source": [
    "print(X_train.shape, y_train.shape)"
   ]
  },
  {
   "cell_type": "code",
   "execution_count": 10,
   "metadata": {},
   "outputs": [],
   "source": [
    "def prepare_pure(X, y, subj_all, new_label_list):\n",
    "    X_label, y_label = label_grouping(X, y, subj_all, new_label_list)\n",
    "    \n",
    "    X_concat = []\n",
    "    y_concat = []\n",
    "    for i in range(len(X_label)):\n",
    "        for j in range(len(X_label[i])):\n",
    "            X_ol, y_ol = make_overlapping(np.array(X_label[i][j]), y_label[i][j])\n",
    "            print(i, j, X_ol.shape)\n",
    "            \n",
    "            if(len(X_concat)==0):\n",
    "                X_concat = X_ol\n",
    "            else:\n",
    "                X_concat = np.vstack((X_concat, X_ol))\n",
    "\n",
    "            if(len(y_concat)==0):\n",
    "                y_concat = y_ol\n",
    "            else:\n",
    "                y_concat = np.hstack((y_concat, y_ol))\n",
    "    \n",
    "    return X_concat, y_concat    "
   ]
  },
  {
   "cell_type": "code",
   "execution_count": 9,
   "metadata": {},
   "outputs": [
    {
     "name": "stdout",
     "output_type": "stream",
     "text": [
      "0\n"
     ]
    }
   ],
   "source": [
    "X_label, y_label = label_grouping(X_train, y_train, s_train, label_list)\n",
    "print(len(X_label[4][2]))"
   ]
  },
  {
   "cell_type": "code",
   "execution_count": 11,
   "metadata": {},
   "outputs": [
    {
     "name": "stdout",
     "output_type": "stream",
     "text": [
      "0 0 (322, 60, 3)\n",
      "0 1 (314, 60, 3)\n",
      "0 2 (326, 60, 3)\n",
      "0 3 (315, 60, 3)\n",
      "1 0 (320, 60, 3)\n",
      "1 1 (314, 60, 3)\n",
      "1 2 (314, 60, 3)\n",
      "1 3 (314, 60, 3)\n",
      "2 0 (494, 60, 3)\n",
      "2 1 (507, 60, 3)\n",
      "2 2 (501, 60, 3)\n",
      "2 3 (501, 60, 3)\n",
      "3 0 (289, 60, 3)\n",
      "3 1 (228, 60, 3)\n",
      "3 2 (190, 60, 3)\n",
      "3 3 (617, 60, 3)\n",
      "4 0 (315, 60, 3)\n",
      "4 1 (315, 60, 3)\n",
      "4 2 (315, 60, 3)\n",
      "4 3 (320, 60, 3)\n",
      "0 0 (321, 60, 3)\n",
      "0 1 (302, 60, 3)\n",
      "0 2 (327, 60, 3)\n",
      "0 3 (315, 60, 3)\n",
      "1 0 (127, 60, 3)\n",
      "1 1 (327, 60, 3)\n",
      "1 2 (332, 60, 3)\n",
      "1 3 (315, 60, 3)\n",
      "2 0 (458, 60, 3)\n",
      "2 1 (518, 60, 3)\n",
      "2 2 (507, 60, 3)\n",
      "2 3 (500, 60, 3)\n",
      "3 0 (216, 60, 3)\n",
      "3 1 (158, 60, 3)\n",
      "3 2 (209, 60, 3)\n",
      "3 3 (339, 60, 3)\n",
      "4 0 (314, 60, 3)\n",
      "4 1 (314, 60, 3)\n",
      "4 2 (315, 60, 3)\n",
      "4 3 (320, 60, 3)\n",
      "0 0 (334, 60, 3)\n",
      "0 1 (327, 60, 3)\n",
      "0 2 (322, 60, 3)\n",
      "1 0 (314, 60, 3)\n",
      "1 1 (321, 60, 3)\n",
      "1 2 (315, 60, 3)\n",
      "2 0 (508, 60, 3)\n",
      "2 1 (439, 60, 3)\n",
      "2 2 (502, 60, 3)\n",
      "3 0 (197, 60, 3)\n",
      "3 1 (247, 60, 3)\n",
      "3 2 (296, 60, 3)\n",
      "4 0 (315, 60, 3)\n",
      "4 1 (314, 60, 3)\n",
      "4 2 (346, 60, 3)\n"
     ]
    }
   ],
   "source": [
    "label_list = [0,1,3,2,4]\n",
    "label_dict = {\n",
    "    0: 'sit',\n",
    "    1: 'sleep',\n",
    "    3: 'stand',\n",
    "    2: 'stairs',\n",
    "    4: 'walk'\n",
    "}\n",
    "\n",
    "all_subjects = subj_train\n",
    "X_train_pure, y_train_pure = prepare_pure(X_train, y_train, s_train, label_list)\n",
    "\n",
    "all_subjects = subj_val\n",
    "X_val_pure, y_val_pure = prepare_pure(X_val, y_val, s_val, label_list)\n",
    "\n",
    "all_subjects = subj_test\n",
    "X_test_pure, y_test_pure = prepare_pure(X_test, y_test, s_test, label_list)"
   ]
  },
  {
   "cell_type": "code",
   "execution_count": 12,
   "metadata": {},
   "outputs": [
    {
     "name": "stdout",
     "output_type": "stream",
     "text": [
      "(7131, 60, 3) (7131,)\n",
      "(6534, 60, 3) (6534,)\n",
      "(5097, 60, 3) (5097,)\n"
     ]
    }
   ],
   "source": [
    "print(X_train_pure.shape, y_train_pure.shape)\n",
    "print(X_val_pure.shape, y_val_pure.shape)\n",
    "print(X_test_pure.shape, y_test_pure.shape)"
   ]
  },
  {
   "cell_type": "code",
   "execution_count": 13,
   "metadata": {},
   "outputs": [],
   "source": [
    "VAL_LEN = X_val.shape[0]\n",
    "X_train = X_train[:VAL_LEN]\n",
    "y_train = y_train[:VAL_LEN]"
   ]
  },
  {
   "cell_type": "code",
   "execution_count": 14,
   "metadata": {},
   "outputs": [
    {
     "name": "stdout",
     "output_type": "stream",
     "text": [
      "Hello World!\n"
     ]
    }
   ],
   "source": [
    "print(\"Hello World!\")"
   ]
  },
  {
   "cell_type": "code",
   "execution_count": 15,
   "metadata": {},
   "outputs": [
    {
     "name": "stderr",
     "output_type": "stream",
     "text": [
      "Using TensorFlow backend.\n"
     ]
    }
   ],
   "source": [
    "import keras"
   ]
  },
  {
   "cell_type": "code",
   "execution_count": 17,
   "metadata": {},
   "outputs": [],
   "source": [
    "%run RNN_model.ipynb"
   ]
  }
 ],
 "metadata": {
  "kernelspec": {
   "display_name": "Python 3",
   "language": "python",
   "name": "python3"
  },
  "language_info": {
   "codemirror_mode": {
    "name": "ipython",
    "version": 3
   },
   "file_extension": ".py",
   "mimetype": "text/x-python",
   "name": "python",
   "nbconvert_exporter": "python",
   "pygments_lexer": "ipython3",
   "version": "3.6.6"
  }
 },
 "nbformat": 4,
 "nbformat_minor": 2
}
