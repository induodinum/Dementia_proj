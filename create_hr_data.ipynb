{
 "cells": [
  {
   "cell_type": "code",
   "execution_count": 267,
   "metadata": {},
   "outputs": [],
   "source": [
    "import numpy as np\n",
    "import csv\n",
    "import pandas as pd\n",
    "import matplotlib.pyplot as plt"
   ]
  },
  {
   "cell_type": "code",
   "execution_count": 268,
   "metadata": {},
   "outputs": [],
   "source": [
    "def calc_sec(time):\n",
    "    hms = time.split(':')\n",
    "    hms = [float(x) for x in hms]\n",
    "    sec = hms[2] + hms[1]*60 + hms[0]*3600\n",
    "    sec = round(sec,3)\n",
    "    return sec"
   ]
  },
  {
   "cell_type": "code",
   "execution_count": 269,
   "metadata": {},
   "outputs": [],
   "source": [
    "def calc_ts(sec):\n",
    "    ts = ''\n",
    "    hr = int(sec/3600)\n",
    "    mn = int((sec - (hr*3600))/60)\n",
    "    sc = sec - (hr*3600) - (mn*60)\n",
    "    sc = round(sc,3)\n",
    "    ts += str(hr) + ':' + str(mn) + ':' + str(sc)\n",
    "    # print(ts)\n",
    "    return ts"
   ]
  },
  {
   "cell_type": "code",
   "execution_count": 270,
   "metadata": {},
   "outputs": [],
   "source": [
    "def calc_t_period(dates,secs):\n",
    "    t_period = []\n",
    "    len_sec = len(secs)\n",
    "    \n",
    "    start_sec = secs[0]\n",
    "    prev_sec = secs[0]\n",
    "    prev_date = dates[0]\n",
    "    last_sec = secs[len_sec-1]\n",
    "    \n",
    "\n",
    "    for i in range(len_sec):\n",
    "        curr_sec = secs[i]\n",
    "        diff_sec = curr_sec - prev_sec\n",
    "        curr_date = dates[i]\n",
    "        \n",
    "        if((diff_sec>3.0)&(curr_date==prev_date)):\n",
    "#             print(\"sad\")\n",
    "            t_period.append([curr_date,start_sec,prev_sec])\n",
    "            start_sec = curr_sec\n",
    "    #         print(calc_ts(start_sec))\n",
    "        elif(curr_date!=prev_date):\n",
    "            t_period.append([prev_date,start_sec,prev_sec])\n",
    "            start_sec = curr_sec\n",
    "            prev_date = curr_date\n",
    "        elif(i==len_sec-1):\n",
    "#             print(\"yaay\")\n",
    "            t_period.append([curr_date,start_sec,curr_sec])\n",
    "        \n",
    "\n",
    "        prev_sec = curr_sec\n",
    "    \n",
    "    return t_period"
   ]
  },
  {
   "cell_type": "code",
   "execution_count": 271,
   "metadata": {},
   "outputs": [],
   "source": [
    "cols = ['heart rate','timestamp']\n",
    "\n",
    "filepath = 'SmartwatchData/raw_data/log_hr.csv'\n",
    "\n",
    "raw_df = pd.read_csv(filepath,names=cols)\n",
    "\n",
    "# raw_df.plot(figsize=(15,6),title=filename[4:])\n",
    "# plt.savefig(fname + '.png', dpi=300)"
   ]
  },
  {
   "cell_type": "code",
   "execution_count": 272,
   "metadata": {},
   "outputs": [],
   "source": [
    "from os import listdir\n",
    "from os.path import isfile, join"
   ]
  },
  {
   "cell_type": "code",
   "execution_count": 273,
   "metadata": {},
   "outputs": [
    {
     "name": "stdout",
     "output_type": "stream",
     "text": [
      "['hr_walking_down_2.csv', 'hr_walking_down_1.csv', 'hr_walking_1.csv', 'hr_walking_up_1.csv']\n"
     ]
    }
   ],
   "source": [
    "mypath = '/Users/admin/Desktop/coding/Dementia_proj/SmartwatchData/raw_data'\n",
    "all_files = [f for f in listdir(mypath) if isfile(join(mypath, f))]\n",
    "\n",
    "hr_files = [f for f in all_files if(f[-3:]=='csv' and f[0:2]=='hr')]\n",
    "print(hr_files)"
   ]
  },
  {
   "cell_type": "code",
   "execution_count": 274,
   "metadata": {},
   "outputs": [
    {
     "name": "stdout",
     "output_type": "stream",
     "text": [
      "     heart rate                timestamp\n",
      "664   143.76166  2018-10-30 01:05:46.185\n",
      "665   143.95978  2018-10-30 01:05:47.275\n",
      "666   144.13910  2018-10-30 01:06:50.312\n",
      "0      91.52907  2018-10-05 19:24:30.911\n",
      "1      91.52907  2018-10-05 19:24:32.011\n",
      "     heart rate                timestamp\n",
      "666   144.13910  2018-10-30 01:06:50.312\n",
      "0      91.52907  2018-10-05 19:24:30.911\n",
      "1      91.52907  2018-10-05 19:24:32.011\n",
      "0      91.99695   2018-10-05 14:42:48.81\n",
      "1      91.99695  2018-10-05 14:42:49.908\n",
      "    heart rate                timestamp\n",
      "27    99.44117  2018-10-05 19:51:14.463\n",
      "28   105.98950  2018-10-05 19:51:32.366\n",
      "29   111.54646  2018-10-05 19:51:33.464\n",
      "30   116.91196  2018-10-05 19:51:34.555\n",
      "31   119.59471  2018-10-05 19:51:35.694\n",
      "    heart rate                timestamp\n",
      "17   102.07057  2018-10-05 19:52:51.161\n",
      "18   102.08430  2018-10-05 19:52:52.242\n",
      "19   100.14456  2018-10-05 19:52:53.354\n",
      "20    99.17470  2018-10-05 19:52:54.439\n",
      "21    98.68976  2018-10-05 19:52:55.519\n",
      "    heart rate                timestamp\n",
      "0   110.007324  2018-10-19 23:29:00.171\n",
      "1   111.893585   2018-10-19 23:29:01.25\n",
      "2    94.316376  2018-10-19 23:29:02.401\n",
      "3    84.633630  2018-10-19 23:29:03.491\n",
      "4    79.303420  2018-10-19 23:29:04.593\n",
      "5    74.567200  2018-10-19 23:29:05.692\n",
      "6    72.060135  2018-10-19 23:29:06.822\n",
      "7    65.470570  2018-10-19 23:29:07.913\n",
      "8    62.175790  2018-10-19 23:29:09.006\n",
      "9    60.528397  2018-10-19 23:29:10.154\n",
      "10   68.713700  2018-10-19 23:29:11.241\n",
      "11   73.025475   2018-10-19 23:29:12.34\n",
      "12   75.527330  2018-10-19 23:29:13.432\n",
      "13   76.950650  2018-10-19 23:29:14.522\n",
      "14   77.662315  2018-10-19 23:29:15.621\n",
      "15   77.845750  2018-10-19 23:29:16.713\n",
      "16   76.272390  2018-10-19 23:29:17.817\n",
      "17   75.485720  2018-10-19 23:29:18.912\n",
      "18   75.092380   2018-10-19 23:29:19.99\n",
      "19   76.337980  2018-10-19 23:29:21.101\n",
      "20   77.393370  2018-10-19 23:29:22.242\n",
      "21   77.921070  2018-10-19 23:29:23.322\n",
      "22   78.184910  2018-10-19 23:29:24.432\n",
      "23   76.654340  2018-10-19 23:29:25.524\n",
      "24   74.586770   2018-10-19 23:29:26.61\n",
      "25   73.531370   2018-10-19 23:29:27.71\n",
      "26   72.720220   2018-10-19 23:29:28.79\n",
      "27   72.314650  2018-10-19 23:29:29.889\n",
      "28   71.972690  2018-10-19 23:29:31.072\n",
      "29   71.801704  2018-10-19 23:29:32.179\n",
      "..         ...                      ...\n",
      "24   88.995560  2018-10-05 19:51:11.183\n",
      "25   90.449860  2018-10-05 19:51:12.271\n",
      "26   91.610176  2018-10-05 19:51:13.388\n",
      "27   99.441170  2018-10-05 19:51:14.463\n",
      "28  105.989500  2018-10-05 19:51:32.366\n",
      "29  111.546460  2018-10-05 19:51:33.464\n",
      "30  116.911960  2018-10-05 19:51:34.555\n",
      "31  119.594710  2018-10-05 19:51:35.694\n",
      "0   107.457870   2018-10-05 19:52:32.46\n",
      "1    97.164950   2018-10-05 19:52:33.56\n",
      "2    91.002464  2018-10-05 19:52:34.661\n",
      "3    87.427666  2018-10-05 19:52:35.751\n",
      "4    84.876020  2018-10-05 19:52:36.832\n",
      "5    82.249070  2018-10-05 19:52:37.946\n",
      "6    80.247970  2018-10-05 19:52:39.023\n",
      "7    78.189186  2018-10-05 19:52:40.122\n",
      "8    76.481346  2018-10-05 19:52:41.269\n",
      "9    75.627426  2018-10-05 19:52:42.356\n",
      "10   75.200470  2018-10-05 19:52:43.462\n",
      "11   80.225300  2018-10-05 19:52:44.564\n",
      "12   87.994980  2018-10-05 19:52:45.632\n",
      "13   93.878120  2018-10-05 19:52:46.731\n",
      "14   98.066990  2018-10-05 19:52:47.831\n",
      "15  100.354750  2018-10-05 19:52:48.931\n",
      "16  101.498630  2018-10-05 19:52:50.061\n",
      "17  102.070570  2018-10-05 19:52:51.161\n",
      "18  102.084300  2018-10-05 19:52:52.242\n",
      "19  100.144560  2018-10-05 19:52:53.354\n",
      "20   99.174700  2018-10-05 19:52:54.439\n",
      "21   98.689760  2018-10-05 19:52:55.519\n",
      "\n",
      "[725 rows x 2 columns]\n"
     ]
    }
   ],
   "source": [
    "cols = ['heart rate','timestamp']\n",
    "\n",
    "for f in hr_files:\n",
    "    fname = 'SmartwatchData/raw_data/' + f\n",
    "    a_hr_df = pd.read_csv(fname,names=cols)\n",
    "#     print(a_hr_df.head())\n",
    "    \n",
    "    raw_df = raw_df.append(a_hr_df,sort=False)\n",
    "    print(raw_df.tail())\n",
    "\n",
    "print(raw_df)\n"
   ]
  },
  {
   "cell_type": "code",
   "execution_count": 275,
   "metadata": {},
   "outputs": [
    {
     "name": "stdout",
     "output_type": "stream",
     "text": [
      "[['2018-10-19' '23:29:0.171' '23:29:54.09']\n",
      " ['2018-10-20' '11:21:21.05' '11:21:49.598']\n",
      " ['2018-10-20' '11:22:20.37' '11:22:38.149']\n",
      " ['2018-10-21' '17:39:30.499' '17:39:58.119']\n",
      " ['2018-10-21' '17:41:13.371' '17:41:21.199']\n",
      " ['2018-10-21' '17:41:34.758' '17:42:3.697']\n",
      " ['2018-10-21' '17:42:57.423' '17:42:59.684']\n",
      " ['2018-10-21' '17:43:45.046' '17:44:13.028']\n",
      " ['2018-10-21' '17:44:25.402' '17:44:28.779']\n",
      " ['2018-10-21' '17:45:57.7' '17:46:26.361']\n",
      " ['2018-10-21' '17:47:27.432' '17:47:32.923']\n",
      " ['2018-10-21' '17:47:46.69' '17:48:15.353']\n",
      " ['2018-10-21' '17:49:28.383' '17:49:36.144']\n",
      " ['2018-10-21' '18:45:54.558' '18:46:22.131']\n",
      " ['2018-10-21' '18:46:57.372' '18:47:2.869']\n",
      " ['2018-10-22' '16:4:49.062' '16:5:17.762']\n",
      " ['2018-10-22' '16:6:15.385' '16:6:25.293']\n",
      " ['2018-10-22' '16:6:57.27' '16:7:25.942']\n",
      " ['2018-10-22' '16:8:32.406' '16:8:36.792']\n",
      " ['2018-10-22' '16:45:21.201' '16:45:50.971']\n",
      " ['2018-10-22' '16:46:46.368' '16:47:3.979']\n",
      " ['2018-10-22' '17:6:40.582' '17:7:9.241']\n",
      " ['2018-10-22' '17:8:24.372' '17:8:27.7']\n",
      " ['2018-10-22' '17:38:30.432' '17:38:59.08']\n",
      " ['2018-10-22' '17:39:24.377' '17:39:24.377']\n",
      " ['2018-10-27' '9:52:48.797' '9:53:17.501']\n",
      " ['2018-10-27' '9:54:12.369' '9:54:17.891']\n",
      " ['2018-10-27' '9:54:31.038' '9:54:59.595']\n",
      " ['2018-10-27' '9:55:59.369' '9:56:6.019']\n",
      " ['2018-10-27' '10:22:6.797' '10:22:35.483']\n",
      " ['2018-10-27' '10:22:56.361' '10:23:0.732']\n",
      " ['2018-10-27' '18:56:0.691' '18:56:6.212']\n",
      " ['2018-10-27' '18:56:18.793' '18:56:19.902']\n",
      " ['2018-10-27' '18:56:33.801' '18:56:34.911']\n",
      " ['2018-10-30' '1:0:14.125' '1:0:56.839']\n",
      " ['2018-10-30' '1:1:19.306' '1:1:19.306']\n",
      " ['2018-10-30' '1:3:18.709' '1:3:47.295']\n",
      " ['2018-10-30' '1:4:34.344' '1:4:34.344']\n",
      " ['2018-10-30' '1:5:18.822' '1:5:47.275']\n",
      " ['2018-10-30' '1:6:50.312' '1:6:50.312']\n",
      " ['2018-10-05' '19:24:30.911' '14:42:49.908']\n",
      " ['2018-10-05' '19:50:44.718' '19:51:14.463']\n",
      " ['2018-10-05' '19:51:32.366' '19:51:35.694']\n",
      " ['2018-10-05' '19:52:32.46' '19:52:55.519']]\n"
     ]
    }
   ],
   "source": [
    "cols = raw_df.columns.tolist()\n",
    "cols = cols[-1:] + cols[:-1]\n",
    "\n",
    "raw_df = raw_df[cols]\n",
    "\n",
    "row_len = len(raw_df.index)\n",
    "\n",
    "dates = [raw_df.iloc[i,0].split(' ')[0] for i in range(row_len)]\n",
    "secs = [calc_sec(raw_df.iloc[i,0].split(' ')[1]) for i in range(row_len)]\n",
    "timestamp = [raw_df.iloc[i,0].split(' ')[1] for i in range(row_len)]\n",
    "\n",
    "raw_df['date'] = pd.Series(dates, index=raw_df.index)\n",
    "raw_df['sec'] = pd.Series(secs, index=raw_df.index)\n",
    "raw_df['time'] = pd.Series(timestamp, index=raw_df.index)\n",
    "\n",
    "# print(raw_df)\n",
    "\n",
    "period = calc_t_period(dates,secs)\n",
    "# print(period)\n",
    "\n",
    "ts = []\n",
    "for elem in period:\n",
    "    ts.append([elem[0],calc_ts(elem[1]),calc_ts(elem[2])])\n",
    "#     print(elem[2]-elem[1])\n",
    "\n",
    "ts_np = np.array(ts)\n",
    "print(ts_np)"
   ]
  },
  {
   "cell_type": "code",
   "execution_count": 279,
   "metadata": {},
   "outputs": [
    {
     "name": "stdout",
     "output_type": "stream",
     "text": [
      "                    time  heart rate\n",
      "date                                \n",
      "2018-10-05   14:42:48.81   91.996950\n",
      "2018-10-05  14:42:49.908   91.996950\n",
      "2018-10-05  19:24:30.911   91.529070\n",
      "2018-10-05  19:24:32.011   91.529070\n",
      "2018-10-05  19:50:44.718   90.449165\n"
     ]
    }
   ],
   "source": [
    "cols = ['date','time','heart rate']\n",
    "hr_df = raw_df[cols]\n",
    "hr_df = hr_df.set_index('date')\n",
    "hr_df = hr_df.sort_values(by=['date','time'])\n",
    "print(hr_df.head())\n",
    "hr_df.to_csv('SmartwatchData/prep_data/data_hr.csv')"
   ]
  },
  {
   "cell_type": "code",
   "execution_count": 277,
   "metadata": {},
   "outputs": [
    {
     "name": "stdout",
     "output_type": "stream",
     "text": [
      "                 timestamp  heart rate        date        sec          time\n",
      "0  2018-10-19 23:29:00.171  110.007324  2018-10-19  84540.171  23:29:00.171\n",
      "1   2018-10-19 23:29:01.25  111.893585  2018-10-19  84541.250   23:29:01.25\n",
      "2  2018-10-19 23:29:02.401   94.316376  2018-10-19  84542.401  23:29:02.401\n",
      "3  2018-10-19 23:29:03.491   84.633630  2018-10-19  84543.491  23:29:03.491\n",
      "4  2018-10-19 23:29:04.593   79.303420  2018-10-19  84544.593  23:29:04.593\n"
     ]
    }
   ],
   "source": [
    "print(raw_df.head())"
   ]
  },
  {
   "cell_type": "code",
   "execution_count": null,
   "metadata": {},
   "outputs": [],
   "source": []
  }
 ],
 "metadata": {
  "kernelspec": {
   "display_name": "Python 3",
   "language": "python",
   "name": "python3"
  },
  "language_info": {
   "codemirror_mode": {
    "name": "ipython",
    "version": 3
   },
   "file_extension": ".py",
   "mimetype": "text/x-python",
   "name": "python",
   "nbconvert_exporter": "python",
   "pygments_lexer": "ipython3",
   "version": "3.6.5"
  }
 },
 "nbformat": 4,
 "nbformat_minor": 2
}
