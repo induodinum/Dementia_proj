{
 "cells": [
  {
   "cell_type": "code",
   "execution_count": 6,
   "metadata": {
    "collapsed": true
   },
   "outputs": [],
   "source": [
    "import pandas as pd\n",
    "import numpy as np\n",
    "import matplotlib.pyplot as plt\n",
    "\n",
    "from os import listdir"
   ]
  },
  {
   "cell_type": "code",
   "execution_count": 7,
   "metadata": {
    "collapsed": true
   },
   "outputs": [],
   "source": [
    "%run preprocess_for_SVM.ipynb"
   ]
  },
  {
   "cell_type": "code",
   "execution_count": 8,
   "metadata": {
    "collapsed": true
   },
   "outputs": [],
   "source": [
    "%run eval_score.ipynb"
   ]
  },
  {
   "cell_type": "code",
   "execution_count": 9,
   "metadata": {
    "collapsed": true
   },
   "outputs": [],
   "source": [
    "def calc_sec(time):\n",
    "    hms = time.split(':')\n",
    "    hms = [float(x) for x in hms]\n",
    "    sec = hms[2] + hms[1]*60 + hms[0]*3600\n",
    "    sec = round(sec,3)\n",
    "    return sec"
   ]
  },
  {
   "cell_type": "code",
   "execution_count": 10,
   "metadata": {
    "collapsed": true
   },
   "outputs": [],
   "source": [
    "def calc_ts(sec):\n",
    "    ts = ''\n",
    "    hr = int(sec/3600)\n",
    "    mn = int((sec - (hr*3600))/60)\n",
    "    sc = sec - (hr*3600) - (mn*60)\n",
    "    sc = round(sc,3)\n",
    "    ts += str(hr) + ':' + str(mn) + ':' + str(sc)\n",
    "    # print(ts)\n",
    "    return ts"
   ]
  },
  {
   "cell_type": "markdown",
   "metadata": {},
   "source": [
    "# Get the Actual Timestamp Labels"
   ]
  },
  {
   "cell_type": "code",
   "execution_count": 24,
   "metadata": {
    "collapsed": true
   },
   "outputs": [],
   "source": [
    "def load_actual_timer(test_subj):\n",
    "    timer_dir = 'DDC_Data/' + test_subj + '/'\n",
    "    timer_files = [f for f in listdir(timer_dir) if 'history_amdtimer' in f]\n",
    "    timer_path = timer_dir + timer_files[0]\n",
    "    \n",
    "    cols = ['sid', 'timestamp', 'duration', 'label']\n",
    "    df_timer = pd.read_csv(timer_path, header=None, names=['sid','raw_label','timestamp', 'duration'])\n",
    "    sid_list = np.array(list(df_timer['sid']))\n",
    "\n",
    "    tf = list(map(lambda x: x==int(test_subj), sid_list))\n",
    "    df_sid = df_timer[tf]\n",
    "    df_sid = df_sid.reset_index(drop=True)\n",
    "    \n",
    "    timer_arr = []\n",
    "    time_start = []\n",
    "    time_finish = []\n",
    "\n",
    "    for i in range(len(df_sid)):\n",
    "        if(df_sid.loc[i]['raw_label']=='upstairs' or \n",
    "          df_sid.loc[i]['raw_label']=='downstairs'):\n",
    "            timer_arr.append('walk')\n",
    "        else:\n",
    "            timer_arr.append(df_sid.loc[i]['raw_label'])\n",
    "\n",
    "        fin = calc_sec(df_sid.loc[i]['timestamp'].split(' ')[1]) + calc_sec(df_sid.loc[i]['duration'])\n",
    "        ts_fin = calc_ts(fin)\n",
    "        time_start.append(df_sid.loc[i]['timestamp'].split(' ')[1])\n",
    "        time_finish.append(ts_fin)\n",
    "\n",
    "    df_sid['label'] = pd.Series(timer_arr)\n",
    "    df_sid['start'] = pd.Series(time_start)\n",
    "    df_sid['finish'] = pd.Series(time_finish)\n",
    "    \n",
    "    return df_sid"
   ]
  },
  {
   "cell_type": "markdown",
   "metadata": {},
   "source": [
    "# Load Data of the Subject"
   ]
  },
  {
   "cell_type": "code",
   "execution_count": 12,
   "metadata": {
    "collapsed": true
   },
   "outputs": [],
   "source": [
    "def load_data(test_subj, df_sid):\n",
    "    filepath = 'DDC_Data/' + test_subj + '/' + test_subj + '-log_acc.csv'\n",
    "\n",
    "    df_test = pd.read_csv(filepath, header=None, names=['x','y','z','timestamp'])\n",
    "\n",
    "    test_filt = [i for i in range(len(df_test)) \n",
    "                 if calc_sec(df_test.loc[i]['timestamp'].split(' ')[1])<=calc_sec(df_sid.loc[len(df_sid)-1]['finish']) \n",
    "                 and calc_sec(df_test.loc[i]['timestamp'].split(' ')[1])>=calc_sec(df_sid.loc[0]['start'])]\n",
    "\n",
    "    df_test_filt = df_test[df_test.index.isin(test_filt)]\n",
    "    df_test = df_test_filt.reset_index(drop=True)\n",
    "    \n",
    "    return df_test"
   ]
  },
  {
   "cell_type": "markdown",
   "metadata": {},
   "source": [
    "# Preprocess (PCA, impure)"
   ]
  },
  {
   "cell_type": "code",
   "execution_count": 29,
   "metadata": {
    "collapsed": true
   },
   "outputs": [],
   "source": [
    "def preprocess_data(df_test, pca):\n",
    "    ts_list = []\n",
    "    g = 9.8\n",
    "\n",
    "    X_ = []\n",
    "    \n",
    "    for i in range(len(df_test)):\n",
    "        X_i = [df_test.loc[i]['x']/g, df_test.loc[i]['y']/g, df_test.loc[i]['z']/g]\n",
    "        ts_list.append(df_test.loc[i]['timestamp'])\n",
    "\n",
    "        X_.append(X_i)\n",
    "        \n",
    "    X_ = np.array(X_)\n",
    "    X_visua = np.vstack(X_)\n",
    "\n",
    "    ts_list = np.array(ts_list)\n",
    "    \n",
    "    X_vis_pca = pca.transform(X_visua)\n",
    "    X_vis_imp, ts_list_imp = prepare_impure_label(X_vis_pca, ts_list)\n",
    "    \n",
    "    return X_vis_imp, ts_list_imp"
   ]
  },
  {
   "cell_type": "markdown",
   "metadata": {},
   "source": [
    "# Predict"
   ]
  },
  {
   "cell_type": "code",
   "execution_count": 14,
   "metadata": {
    "collapsed": true
   },
   "outputs": [],
   "source": [
    "def predict(X_vis_imp, ts_list_imp):\n",
    "    y_t_pred_ = svm_model.predict(X_vis_imp)\n",
    "    print(\"Finished prediction\")\n",
    "    \n",
    "    y_t_pred = combine(X_vis_imp, y_t_pred_)\n",
    "    \n",
    "    y_dict = {}\n",
    "    y_dict['timestamp'] = ts_list_imp\n",
    "    y_dict['y_pred'] = y_t_pred\n",
    "\n",
    "    df_y = pd.DataFrame(y_dict)\n",
    "    \n",
    "    return df_y"
   ]
  },
  {
   "cell_type": "markdown",
   "metadata": {},
   "source": [
    "# Prepare Actual Labels"
   ]
  },
  {
   "cell_type": "code",
   "execution_count": 15,
   "metadata": {
    "collapsed": true
   },
   "outputs": [],
   "source": [
    "def prepare_actual_lb(df_test, df_y, df_sid):\n",
    "    sid_idx = 0\n",
    "    label_arr = []\n",
    "\n",
    "    for i in range(len(df_test)):\n",
    "        ts = df_test.loc[i]['timestamp'].split(' ')[1]\n",
    "        date = df_test.loc[i]['timestamp'].split(' ')[0]\n",
    "        ts_sec = calc_sec(ts)\n",
    "        if(date==df_sid.loc[sid_idx]['timestamp'].split(' ')[0]):\n",
    "            if(ts_sec>=calc_sec(df_sid.loc[sid_idx]['start']) and ts_sec<=calc_sec(df_sid.loc[sid_idx]['finish'])):\n",
    "                label_arr.append(label_dict[df_sid.loc[sid_idx]['label']])\n",
    "\n",
    "            elif(ts_sec>calc_sec(df_sid.loc[sid_idx]['finish']) and sid_idx<len(df_sid)-1):\n",
    "                sid_idx += 1\n",
    "                label_arr.append(None)\n",
    "\n",
    "            elif(sid_idx==len(df_sid) or ts_sec<calc_sec(df_sid.loc[sid_idx]['start'])):\n",
    "                label_arr.append(None)\n",
    "        else:\n",
    "            label_arr.append(None)\n",
    "            \n",
    "    df_test['y_actual'] = pd.Series(np.array(label_arr))\n",
    "    df_y['y_actual'] = pd.Series(np.array(label_arr))\n",
    "    \n",
    "    return df_test, df_y"
   ]
  },
  {
   "cell_type": "code",
   "execution_count": 16,
   "metadata": {
    "collapsed": true
   },
   "outputs": [],
   "source": [
    "def get_actual_periods(df_test):\n",
    "    keep = 0\n",
    "    actual_periods = [[] for i in range(len(LABELS))]\n",
    "    \n",
    "    for i in range(len(df_test)):\n",
    "        keep_lb = df_test.loc[keep]['y_actual']\n",
    "\n",
    "        if(i+1<len(df_test) and keep_lb!=df_test.loc[i+1]['y_actual'] \n",
    "           and df_test.loc[i]['y_actual']!=None \n",
    "           and df_test.loc[keep]['y_actual']!=None):\n",
    "            actual_periods[df_test.loc[i]['y_actual']].append([keep, i])\n",
    "\n",
    "            keep = i+1\n",
    "\n",
    "        elif(df_test.loc[i]['y_actual']==None and df_test.loc[i+1]['y_actual']!=None):\n",
    "#             actual_periods[-1].append(i)\n",
    "\n",
    "            keep = i+1\n",
    "\n",
    "        elif(i==len(df_test)-1):\n",
    "            if(df_test.loc[i]['y_actual']!=None):\n",
    "                actual_periods[df_test.loc[i]['y_actual']].append([keep, i-1])    \n",
    "\n",
    "    actual_periods = np.array(actual_periods)\n",
    "    \n",
    "    return actual_periods"
   ]
  },
  {
   "cell_type": "markdown",
   "metadata": {},
   "source": [
    "# Prepare Predicted Labels"
   ]
  },
  {
   "cell_type": "code",
   "execution_count": 17,
   "metadata": {
    "collapsed": true
   },
   "outputs": [],
   "source": [
    "def get_predicted_periods(df_y):\n",
    "    label_period = []\n",
    "    period_list = [[] for i in range(len(LABELS))]\n",
    "    pred_periods = [[] for i in range(len(LABELS))]\n",
    "\n",
    "    keep = 0\n",
    "\n",
    "    for i in range(len(df_y)):\n",
    "\n",
    "        keep_lb = df_y.loc[keep]['y_pred']\n",
    "\n",
    "        if(keep_lb!=df_y.loc[i]['y_pred']):\n",
    "            if(keep!=0):\n",
    "                label_period.append([df_y.loc[keep]['timestamp'], df_y.loc[i-1]['timestamp'], \n",
    "                                     df_y.loc[i-1]['y_pred']])\n",
    "\n",
    "                period_list[df_y.loc[i-1]['y_pred']].append([df_y.loc[keep]['timestamp'], df_y.loc[i-1]['timestamp']])\n",
    "\n",
    "            if(df_y.loc[i]['y_pred']!=None):\n",
    "                pred_periods[df_y.loc[i-1]['y_pred']].append([keep, i-1])               \n",
    "\n",
    "            keep = i\n",
    "\n",
    "        elif(i==len(df_y)-1):\n",
    "            label_period.append([df_y.loc[keep]['timestamp'], df_y.loc[i-1]['timestamp'], \n",
    "                                     df_y.loc[i-1]['y_pred']])\n",
    "\n",
    "            period_list[df_y.loc[i-1]['y_pred']].append([df_y.loc[keep]['timestamp'], df_y.loc[i-1]['timestamp']])\n",
    "\n",
    "            if(df_y.loc[i]['y_pred']!=None):\n",
    "                pred_periods[df_y.loc[i-1]['y_pred']].append([keep, i]) \n",
    "\n",
    "    pred_periods = np.array(pred_periods)\n",
    "    \n",
    "    return pred_periods"
   ]
  },
  {
   "cell_type": "code",
   "execution_count": 18,
   "metadata": {
    "collapsed": true
   },
   "outputs": [],
   "source": [
    "def postprocess_predicted(pred_periods, df_y):\n",
    "    onesec = 1 ### Threshold\n",
    "    T = 0.16 ### Time stamp\n",
    "\n",
    "    pp_periods = []\n",
    "    for p_lb in pred_periods:\n",
    "        temp = []\n",
    "        for p in p_lb:\n",
    "            if(p[1]-p[0]>int(onesec*2/T)):\n",
    "                temp.append([p[0],p[1]])\n",
    "        pp_periods.append(temp)\n",
    "\n",
    "    pp_periods = np.array(pp_periods)\n",
    "    \n",
    "    no_val = -1\n",
    "    all_run = [no_val for i in range(len(df_y))]\n",
    "\n",
    "    for i in range(len(pp_periods)):\n",
    "        for p in pp_periods[i]:\n",
    "            for j in range(p[0],p[1]+1):\n",
    "                all_run[j] = i\n",
    "\n",
    "    for i in range(len(all_run)-1,0,-1):\n",
    "        if(all_run[i-1]==no_val):\n",
    "            all_run[i-1] = all_run[i]\n",
    "\n",
    "    return all_run"
   ]
  },
  {
   "cell_type": "markdown",
   "metadata": {},
   "source": [
    "# Plot X, Y, Z-axis Accelerations with Labels Highlighted"
   ]
  },
  {
   "cell_type": "code",
   "execution_count": 19,
   "metadata": {
    "collapsed": true
   },
   "outputs": [],
   "source": [
    "def plot_highlighted(test_subj, df_test, pred_periods, actual_periods):\n",
    "    ax1 = df_test.plot(y=['x','y','z'], figsize=(15,4), color=['r','g','b'])\n",
    "\n",
    "    color_list = ['indianred','khaki','lightgreen','skyblue']   # sit, sleep, stand, walk\n",
    "\n",
    "    for i in range(len(pred_periods)):\n",
    "        for item in pred_periods[i]:\n",
    "            ax1.axvspan(item[0], item[1], color=color_list[i])\n",
    "            \n",
    "    ax2 = df_test.plot(y=['x','y','z'], figsize=(15,4), color=['r','g','b'])\n",
    "\n",
    "    for i in range(len(actual_periods)):\n",
    "        for item in actual_periods[i]:\n",
    "            ax2.axvspan(item[0], item[1], color=color_list[i])\n",
    "       \n",
    "    ax1.set_title('Prediction for ' + test_subj)\n",
    "    ax2.set_title('Actual for ' + test_subj)\n",
    "    ax1.legend(loc='upper right')\n",
    "    ax2.legend(loc='upper right')\n",
    "    \n",
    "    fig1 = ax1.get_figure()\n",
    "    fig2 = ax2.get_figure()\n",
    "    \n",
    "    plt.show()\n",
    "    plt.close(fig1)\n",
    "    plt.close(fig2)"
   ]
  },
  {
   "cell_type": "markdown",
   "metadata": {},
   "source": [
    "# Evaluation"
   ]
  },
  {
   "cell_type": "code",
   "execution_count": 20,
   "metadata": {
    "collapsed": true
   },
   "outputs": [],
   "source": [
    "def evaluate(df_y):\n",
    "    LABELS = ['sit', 'sleep', 'stand', 'walk']\n",
    "    \n",
    "    df_y_notnull = df_y.dropna()\n",
    "    df_y_notnull = df_y_notnull.reset_index(drop=True)\n",
    "\n",
    "    actual_y = list(df_y_notnull['y_actual'])\n",
    "    pred_y = list(df_y_notnull['y_pred'])\n",
    "    \n",
    "    last = len(pred_y)\n",
    "    \n",
    "    for i in range(len(pred_y)):\n",
    "        if(pred_y[i]==-1):\n",
    "            last = i\n",
    "            break\n",
    "\n",
    "    pred_y = pred_y[:last]\n",
    "    actual_y = actual_y[:last]\n",
    "    \n",
    "    acc = accuracy_score(actual_y, pred_y)\n",
    "    print(acc)\n",
    "\n",
    "    show_conf_matrix(actual_y, pred_y, LABELS)\n",
    "    show_clf_report(actual_y, pred_y, LABELS)"
   ]
  },
  {
   "cell_type": "markdown",
   "metadata": {},
   "source": [
    "# Function Call"
   ]
  },
  {
   "cell_type": "code",
   "execution_count": 32,
   "metadata": {
    "collapsed": true
   },
   "outputs": [],
   "source": [
    "all_subjects = [str(i) for i in range(3001,3006)]"
   ]
  },
  {
   "cell_type": "code",
   "execution_count": 30,
   "metadata": {
    "collapsed": true
   },
   "outputs": [],
   "source": [
    "def call_functions(all_subjects):\n",
    "    for s in all_subjects:\n",
    "        print(\"Loading {0}'s data\".format(s))\n",
    "\n",
    "        df_sid = load_actual_timer(s)\n",
    "        df_test = load_data(s, df_sid)\n",
    "\n",
    "        X_vis_imp, ts_list_imp = preprocess_data(df_test, pca)\n",
    "        df_y = predict(X_vis_imp, ts_list_imp)\n",
    "\n",
    "        df_test, df_y = prepare_actual_lb(df_test, df_y, df_sid)\n",
    "\n",
    "        actual_periods = get_actual_periods(df_test)\n",
    "        pred_periods = get_predicted_periods(df_y)\n",
    "        pp_all_run = postprocess_predicted(pred_periods, df_y)\n",
    "\n",
    "        df_y['y_pred'] = pd.Series(pp_all_run)\n",
    "        pp_periods = get_predicted_periods(df_y)\n",
    "#         plot_highlighted(s, df_test, pp_periods, actual_periods)"
   ]
  }
 ],
 "metadata": {
  "kernelspec": {
   "display_name": "Python 3",
   "language": "python",
   "name": "python3"
  },
  "language_info": {
   "codemirror_mode": {
    "name": "ipython",
    "version": 3
   },
   "file_extension": ".py",
   "mimetype": "text/x-python",
   "name": "python",
   "nbconvert_exporter": "python",
   "pygments_lexer": "ipython3",
   "version": "3.6.6"
  }
 },
 "nbformat": 4,
 "nbformat_minor": 2
}
