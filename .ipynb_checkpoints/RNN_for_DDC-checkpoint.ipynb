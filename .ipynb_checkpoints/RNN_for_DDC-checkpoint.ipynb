{
 "cells": [
  {
   "cell_type": "code",
   "execution_count": 3,
   "metadata": {},
   "outputs": [],
   "source": [
    "import numpy as np\n",
    "import pandas as pd\n",
    "import matplotlib.pyplot as plt\n",
    "import os\n",
    "import math\n",
    "\n",
    "from os import listdir, walk\n",
    "from os.path import isfile, join\n",
    "from sklearn.preprocessing import label_binarize"
   ]
  },
  {
   "cell_type": "code",
   "execution_count": 4,
   "metadata": {
    "scrolled": true
   },
   "outputs": [
    {
     "name": "stdout",
     "output_type": "stream",
     "text": [
      "Loading 1001's data\n",
      "Loading 1002's data\n",
      "Loading 1003's data\n",
      "Loading 1004's data\n",
      "Loading 1005's data\n",
      "Loading 1006's data\n",
      "Loading 1007's data\n",
      "Loading 1008's data\n",
      "Loading 1009's data\n",
      "Loading 1010's data\n",
      "Loading 1011's data\n",
      "Loading 1012's data\n",
      "Loading 2001's data\n",
      "Loading 2002's data\n",
      "Finished loading\n"
     ]
    }
   ],
   "source": [
    "%run load_dataset.ipynb"
   ]
  },
  {
   "cell_type": "code",
   "execution_count": 5,
   "metadata": {},
   "outputs": [],
   "source": [
    "%run preprocess_for_SVM.ipynb"
   ]
  },
  {
   "cell_type": "code",
   "execution_count": 6,
   "metadata": {},
   "outputs": [],
   "source": [
    "subj_train = ['1001','1002','1003','1004','2001','2002']\n",
    "subj_val = ['1005','1006']\n",
    "subj_test = ['1007','1008','1009']"
   ]
  },
  {
   "cell_type": "code",
   "execution_count": 7,
   "metadata": {},
   "outputs": [],
   "source": [
    "def get_X_y(subj_ids, X, y, s):\n",
    "    X_get = []\n",
    "    y_get = []\n",
    "    s_get = []\n",
    "    for i in range(len(s)):\n",
    "        for j in range(len(subj_ids)):\n",
    "            if(s[i]==subj_ids[j]):\n",
    "                X_get.append(X[i])\n",
    "                y_get.append(y[i])\n",
    "                s_get.append(s[i])\n",
    "                \n",
    "    return np.array(X_get), np.array(y_get), np.array(s_get)"
   ]
  },
  {
   "cell_type": "code",
   "execution_count": 8,
   "metadata": {},
   "outputs": [],
   "source": [
    "X_train, y_train, s_train = get_X_y(subj_train, X_all, y_all, subj_all)\n",
    "X_val, y_val, s_val = get_X_y(subj_val, X_all, y_all, subj_all)\n",
    "X_test, y_test, s_test = get_X_y(subj_test, X_all, y_all, subj_all)"
   ]
  },
  {
   "cell_type": "code",
   "execution_count": 9,
   "metadata": {},
   "outputs": [
    {
     "name": "stdout",
     "output_type": "stream",
     "text": [
      "(8311, 3) (8311,) (8311,)\n",
      "(7714, 3) (7714,) (7714,)\n",
      "(5982, 3) (5982,) (5982,)\n"
     ]
    }
   ],
   "source": [
    "print(X_train.shape, y_train.shape, s_train.shape)\n",
    "print(X_val.shape, y_val.shape, s_val.shape)\n",
    "print(X_test.shape, y_test.shape, s_test.shape)"
   ]
  },
  {
   "cell_type": "code",
   "execution_count": 10,
   "metadata": {},
   "outputs": [],
   "source": [
    "def prepare_pure(X, y, subj_all, new_label_list):\n",
    "    X_label, y_label = label_grouping(X, y, subj_all, new_label_list)\n",
    "    \n",
    "    X_concat = []\n",
    "    y_concat = []\n",
    "    for i in range(len(X_label)):\n",
    "        for j in range(len(X_label[i])):\n",
    "            X_ol, y_ol = make_overlapping(np.array(X_label[i][j]), y_label[i][j])\n",
    "#             print(i, j, X_ol.shape)\n",
    "            \n",
    "            if(len(X_concat)==0):\n",
    "                X_concat = X_ol\n",
    "            else:\n",
    "                X_concat = np.vstack((X_concat, X_ol))\n",
    "\n",
    "            if(len(y_concat)==0):\n",
    "                y_concat = y_ol\n",
    "            else:\n",
    "                y_concat = np.hstack((y_concat, y_ol))\n",
    "                \n",
    "#     X_concat_xyz = concat_xyz(X_concat)\n",
    "    \n",
    "    return X_concat, y_concat    "
   ]
  },
  {
   "cell_type": "code",
   "execution_count": 11,
   "metadata": {},
   "outputs": [],
   "source": [
    "X_label, y_label = label_grouping(X_train, y_train, s_train, label_list)"
   ]
  },
  {
   "cell_type": "code",
   "execution_count": 12,
   "metadata": {},
   "outputs": [],
   "source": [
    "label_list = [0,1,3,2,4]\n",
    "label_dict = {\n",
    "    0: 'sit',\n",
    "    1: 'sleep',\n",
    "    3: 'stand',\n",
    "    2: 'stairs',\n",
    "    4: 'walk'\n",
    "}\n",
    "\n",
    "all_subjects = subj_train\n",
    "X_train_pure, y_train_pure = prepare_pure(X_train, y_train, s_train, label_list)\n",
    "\n",
    "all_subjects = subj_val\n",
    "X_val_pure, y_val_pure = prepare_pure(X_val, y_val, s_val, label_list)\n",
    "\n",
    "all_subjects = subj_test\n",
    "X_test_pure, y_test_pure = prepare_pure(X_test, y_test, s_test, label_list)"
   ]
  },
  {
   "cell_type": "code",
   "execution_count": 13,
   "metadata": {},
   "outputs": [
    {
     "name": "stdout",
     "output_type": "stream",
     "text": [
      "6534\n"
     ]
    }
   ],
   "source": [
    "VAL_LEN = X_val_pure.shape[0]\n",
    "X_train_pure = X_train_pure[:VAL_LEN]\n",
    "y_train_pure = y_train_pure[:VAL_LEN]\n",
    "\n",
    "print(VAL_LEN)"
   ]
  },
  {
   "cell_type": "code",
   "execution_count": 14,
   "metadata": {},
   "outputs": [
    {
     "name": "stdout",
     "output_type": "stream",
     "text": [
      "(6534, 60, 3) (6534,)\n",
      "(6534, 60, 3) (6534,)\n",
      "(5097, 60, 3) (5097,)\n"
     ]
    }
   ],
   "source": [
    "print(X_train_pure.shape, y_train_pure.shape)\n",
    "print(X_val_pure.shape, y_val_pure.shape)\n",
    "print(X_test_pure.shape, y_test_pure.shape)"
   ]
  },
  {
   "cell_type": "code",
   "execution_count": 15,
   "metadata": {},
   "outputs": [],
   "source": [
    "LABEL_COUNT = 5"
   ]
  },
  {
   "cell_type": "code",
   "execution_count": 16,
   "metadata": {},
   "outputs": [],
   "source": [
    "def reshape_y(y, window_length=60):\n",
    "    \n",
    "    y_rs_ = label_binarize(y, classes=[0,1,2,3,4])\n",
    "    \n",
    "    y_rs = []\n",
    "    for i in range(len(y_rs_)):\n",
    "        y_temp = []\n",
    "        for j in range(window_length):\n",
    "            y_temp.append(y_rs_[i])\n",
    "            \n",
    "        y_rs.append(np.array(y_temp))\n",
    "        \n",
    "    y_rs = np.array(y_rs)\n",
    "    y_rs = y_rs.reshape((y_rs.shape[0],y_rs.shape[1],LABEL_COUNT))\n",
    "        \n",
    "    return np.array(y_rs)"
   ]
  },
  {
   "cell_type": "code",
   "execution_count": 17,
   "metadata": {},
   "outputs": [],
   "source": [
    "def reshape_X(X):\n",
    "    X_rs = X.reshape((X.shape[0],1,X.shape[1]))\n",
    "    return X_rs"
   ]
  },
  {
   "cell_type": "code",
   "execution_count": 18,
   "metadata": {},
   "outputs": [],
   "source": [
    "y_train_rs = reshape_y(y_train_pure)\n",
    "y_val_rs = reshape_y(y_val_pure)\n",
    "y_test_rs = reshape_y(y_test_pure)"
   ]
  },
  {
   "cell_type": "code",
   "execution_count": 19,
   "metadata": {},
   "outputs": [],
   "source": [
    "# X_train_rs = reshape_X(X_train_pure)\n",
    "# X_val_rs = reshape_X(X_val_pure)\n",
    "# X_test_rs = reshape_X(X_test_pure)"
   ]
  },
  {
   "cell_type": "code",
   "execution_count": 20,
   "metadata": {},
   "outputs": [
    {
     "name": "stdout",
     "output_type": "stream",
     "text": [
      "(6534, 60, 5)\n",
      "(6534, 60, 3)\n"
     ]
    }
   ],
   "source": [
    "print(y_train_rs.shape)\n",
    "print(X_train_pure.shape)"
   ]
  },
  {
   "cell_type": "code",
   "execution_count": 30,
   "metadata": {},
   "outputs": [],
   "source": [
    "%run RNN_model.ipynb"
   ]
  },
  {
   "cell_type": "code",
   "execution_count": null,
   "metadata": {
    "scrolled": false
   },
   "outputs": [
    {
     "name": "stdout",
     "output_type": "stream",
     "text": [
      "_________________________________________________________________\n",
      "Layer (type)                 Output Shape              Param #   \n",
      "=================================================================\n",
      "gru_4 (GRU)                  (None, 60, 90)            25380     \n",
      "_________________________________________________________________\n",
      "activation_4 (Activation)    (None, 60, 90)            0         \n",
      "_________________________________________________________________\n",
      "gru_5 (GRU)                  (None, 60, 90)            48870     \n",
      "_________________________________________________________________\n",
      "activation_5 (Activation)    (None, 60, 90)            0         \n",
      "_________________________________________________________________\n",
      "dense_3 (Dense)              (None, 60, 5)             455       \n",
      "=================================================================\n",
      "Total params: 74,705\n",
      "Trainable params: 74,705\n",
      "Non-trainable params: 0\n",
      "_________________________________________________________________\n",
      "Train on 6534 samples, validate on 6534 samples\n",
      "Epoch 1/50\n",
      "\n",
      "Epoch 00001: LearningRateScheduler setting learning rate to 0.001.\n",
      "6534/6534 [==============================] - 13s 2ms/step - loss: 1.1187 - categorical_accuracy: 0.5453 - val_loss: 0.9952 - val_categorical_accuracy: 0.5908\n",
      "Epoch 2/50\n",
      "\n",
      "Epoch 00002: LearningRateScheduler setting learning rate to 0.001.\n",
      "6534/6534 [==============================] - 12s 2ms/step - loss: 0.9287 - categorical_accuracy: 0.6038 - val_loss: 0.9610 - val_categorical_accuracy: 0.6008\n",
      "Epoch 3/50\n",
      "\n",
      "Epoch 00003: LearningRateScheduler setting learning rate to 0.001.\n",
      "6534/6534 [==============================] - 11s 2ms/step - loss: 0.8459 - categorical_accuracy: 0.6368 - val_loss: 0.9642 - val_categorical_accuracy: 0.5860\n",
      "Epoch 4/50\n",
      "\n",
      "Epoch 00004: LearningRateScheduler setting learning rate to 0.001.\n",
      "6534/6534 [==============================] - 12s 2ms/step - loss: 0.7641 - categorical_accuracy: 0.6687 - val_loss: 1.0053 - val_categorical_accuracy: 0.6166\n",
      "Epoch 5/50\n",
      "\n",
      "Epoch 00005: LearningRateScheduler setting learning rate to 0.001.\n",
      "6534/6534 [==============================] - 11s 2ms/step - loss: 0.7229 - categorical_accuracy: 0.6927 - val_loss: 0.8681 - val_categorical_accuracy: 0.6680\n",
      "Epoch 6/50\n",
      "\n",
      "Epoch 00006: LearningRateScheduler setting learning rate to 0.001.\n",
      "6534/6534 [==============================] - 12s 2ms/step - loss: 0.6242 - categorical_accuracy: 0.7541 - val_loss: 0.7812 - val_categorical_accuracy: 0.6764\n",
      "Epoch 7/50\n",
      "\n",
      "Epoch 00007: LearningRateScheduler setting learning rate to 0.001.\n",
      "6534/6534 [==============================] - 12s 2ms/step - loss: 0.5270 - categorical_accuracy: 0.7954 - val_loss: 0.6935 - val_categorical_accuracy: 0.7454\n",
      "Epoch 8/50\n",
      "\n",
      "Epoch 00008: LearningRateScheduler setting learning rate to 0.001.\n",
      "6534/6534 [==============================] - 12s 2ms/step - loss: 0.4679 - categorical_accuracy: 0.8253 - val_loss: 0.7183 - val_categorical_accuracy: 0.7321\n",
      "Epoch 9/50\n",
      "\n",
      "Epoch 00009: LearningRateScheduler setting learning rate to 0.001.\n",
      "6534/6534 [==============================] - 11s 2ms/step - loss: 0.4309 - categorical_accuracy: 0.8386 - val_loss: 0.6583 - val_categorical_accuracy: 0.7557\n",
      "Epoch 10/50\n",
      "\n",
      "Epoch 00010: LearningRateScheduler setting learning rate to 0.0009000000000000001.\n",
      "6534/6534 [==============================] - 11s 2ms/step - loss: 0.4033 - categorical_accuracy: 0.8495 - val_loss: 0.7398 - val_categorical_accuracy: 0.7287\n",
      "Epoch 11/50\n",
      "\n",
      "Epoch 00011: LearningRateScheduler setting learning rate to 0.0009000000000000001.\n",
      "6534/6534 [==============================] - 11s 2ms/step - loss: 0.3831 - categorical_accuracy: 0.8561 - val_loss: 0.6787 - val_categorical_accuracy: 0.7576\n",
      "Epoch 12/50\n",
      "\n",
      "Epoch 00012: LearningRateScheduler setting learning rate to 0.0009000000000000001.\n",
      "1100/6534 [====>.........................] - ETA: 7s - loss: 0.3721 - categorical_accuracy: 0.8632"
     ]
    }
   ],
   "source": [
    "rnn_model = create_rnn_model(X_train_pure)\n",
    "rnn_model.summary()\n",
    "\n",
    "compile_model(rnn_model)\n",
    "train_model(rnn_model, X_train_pure, y_train_rs, \n",
    "                        X_val_pure, y_val_rs)"
   ]
  },
  {
   "cell_type": "code",
   "execution_count": 22,
   "metadata": {},
   "outputs": [],
   "source": [
    "y_pred = get_y_predict(rnn_model, X_test_pure)"
   ]
  },
  {
   "cell_type": "code",
   "execution_count": 23,
   "metadata": {},
   "outputs": [],
   "source": [
    "def convert_y(y):\n",
    "  y_conv = [j for i in range(len(y)) for j in range(len(y[i][0])) if y[i][0][j]==np.amax(y[i][0])]\n",
    "  return np.array(y_conv)"
   ]
  },
  {
   "cell_type": "code",
   "execution_count": 24,
   "metadata": {},
   "outputs": [
    {
     "name": "stdout",
     "output_type": "stream",
     "text": [
      "GRU units:  90\n",
      "GRU units 2:  90\n",
      "Batch size:  50\n",
      "\n",
      "Accuracy:  0.5350206003531489\n"
     ]
    }
   ],
   "source": [
    "y_t = convert_y(y_test_rs)\n",
    "y_p = convert_y(y_pred)\n",
    "      \n",
    "print(\"GRU units: \", GRU_UNITS)\n",
    "print('GRU units 2: ', GRU_UNITS_2)\n",
    "print(\"Batch size: \", BATCH_SIZE)\n",
    "print()\n",
    "  \n",
    "acc_score = accuracy_score(y_t, y_p)\n",
    "\n",
    "print(\"Accuracy: \", acc_score)"
   ]
  },
  {
   "cell_type": "code",
   "execution_count": 25,
   "metadata": {},
   "outputs": [
    {
     "name": "stdout",
     "output_type": "stream",
     "text": [
      "[0 0 0 ... 3 3 3]\n",
      "[0 0 0 ... 4 4 4]\n"
     ]
    }
   ],
   "source": [
    "print(y_p)\n",
    "print(y_t)"
   ]
  },
  {
   "cell_type": "code",
   "execution_count": 26,
   "metadata": {},
   "outputs": [],
   "source": [
    "%run eval_score.ipynb"
   ]
  },
  {
   "cell_type": "code",
   "execution_count": 27,
   "metadata": {},
   "outputs": [
    {
     "name": "stdout",
     "output_type": "stream",
     "text": [
      "['sit', 'sleep', 'stand', 'stairs', 'walk']\n"
     ]
    }
   ],
   "source": [
    "LABELS = list(label_dict.values())\n",
    "print(LABELS)"
   ]
  },
  {
   "cell_type": "code",
   "execution_count": 28,
   "metadata": {},
   "outputs": [
    {
     "data": {
      "image/png": "[encoded data removed]",
      "text/plain": [
       "<Figure size 432x288 with 2 Axes>"
      ]
     },
     "metadata": {
      "needs_background": "light"
     },
     "output_type": "display_data"
    },
    {
     "data": {
      "image/png": "[encoded data removed]",
      "text/plain": [
       "<Figure size 432x288 with 2 Axes>"
      ]
     },
     "metadata": {
      "needs_background": "light"
     },
     "output_type": "display_data"
    }
   ],
   "source": [
    "show_conf_matrix(y_t, y_p, LABELS)"
   ]
  },
  {
   "cell_type": "code",
   "execution_count": 29,
   "metadata": {},
   "outputs": [
    {
     "name": "stdout",
     "output_type": "stream",
     "text": [
      "              precision    recall  f1-score   support\n",
      "\n",
      "         sit       0.89      0.68      0.77       983\n",
      "       sleep       0.87      0.65      0.74       950\n",
      "       stand       0.00      0.00      0.00       740\n",
      "      stairs       0.40      0.99      0.57      1449\n",
      "        walk       0.00      0.00      0.00       975\n",
      "\n",
      "   micro avg       0.54      0.54      0.54      5097\n",
      "   macro avg       0.43      0.46      0.42      5097\n",
      "weighted avg       0.45      0.54      0.45      5097\n",
      "\n"
     ]
    },
    {
     "name": "stderr",
     "output_type": "stream",
     "text": [
      "c:\\python36\\lib\\site-packages\\sklearn\\metrics\\classification.py:1143: UndefinedMetricWarning: Precision and F-score are ill-defined and being set to 0.0 in labels with no predicted samples.\n",
      "  'precision', 'predicted', average, warn_for)\n",
      "c:\\python36\\lib\\site-packages\\sklearn\\metrics\\classification.py:1143: UndefinedMetricWarning: Precision and F-score are ill-defined and being set to 0.0 in labels with no predicted samples.\n",
      "  'precision', 'predicted', average, warn_for)\n",
      "c:\\python36\\lib\\site-packages\\sklearn\\metrics\\classification.py:1143: UndefinedMetricWarning: Precision and F-score are ill-defined and being set to 0.0 in labels with no predicted samples.\n",
      "  'precision', 'predicted', average, warn_for)\n"
     ]
    }
   ],
   "source": [
    "show_clf_report(y_t, y_p, LABELS)"
   ]
  },
  {
   "cell_type": "code",
   "execution_count": null,
   "metadata": {},
   "outputs": [],
   "source": []
  }
 ],
 "metadata": {
  "kernelspec": {
   "display_name": "Python 3",
   "language": "python",
   "name": "python3"
  },
  "language_info": {
   "codemirror_mode": {
    "name": "ipython",
    "version": 3
   },
   "file_extension": ".py",
   "mimetype": "text/x-python",
   "name": "python",
   "nbconvert_exporter": "python",
   "pygments_lexer": "ipython3",
   "version": "3.6.6"
  }
 },
 "nbformat": 4,
 "nbformat_minor": 2
}
