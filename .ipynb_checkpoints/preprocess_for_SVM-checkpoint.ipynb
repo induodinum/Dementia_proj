{
 "cells": [
  {
   "cell_type": "markdown",
   "metadata": {},
   "source": [
    "# Import Libraries"
   ]
  },
  {
   "cell_type": "code",
   "execution_count": 4,
   "metadata": {
    "collapsed": true
   },
   "outputs": [],
   "source": [
    "import numpy as np\n",
    "\n",
    "from sklearn.svm import LinearSVC\n",
    "from sklearn.preprocessing import MinMaxScaler, label_binarize, LabelEncoder\n",
    "from sklearn.metrics import accuracy_score, confusion_matrix\n",
    "from sklearn.model_selection import train_test_split"
   ]
  },
  {
   "cell_type": "markdown",
   "metadata": {},
   "source": [
    "# Wavelet Denoising"
   ]
  },
  {
   "cell_type": "code",
   "execution_count": 7,
   "metadata": {
    "collapsed": true
   },
   "outputs": [],
   "source": [
    "import pywt\n",
    "\n",
    "from statsmodels.robust import mad"
   ]
  },
  {
   "cell_type": "code",
   "execution_count": 8,
   "metadata": {
    "collapsed": true
   },
   "outputs": [],
   "source": [
    "def wavelet_smooth( x, wavelet=\"db4\", level=1, title=None, color=None ):\n",
    "    # calculate the wavelet coefficients\n",
    "    coeff = pywt.wavedec( x, wavelet, mode=\"periodic\" )\n",
    "    \n",
    "    # calculate a threshold\n",
    "    sigma = mad( coeff[-level] )\n",
    "    \n",
    "    # sqtwolog threshold\n",
    "    uthresh = sigma * np.sqrt( 2*np.log( len( x ) ) )\n",
    "    coeff[1:] = ( pywt.threshold( i, value=uthresh, mode=\"soft\" ) for i in coeff[1:] )\n",
    "    \n",
    "    # reconstruct the signal using the thresholded coefficients\n",
    "    y = pywt.waverec( coeff, wavelet, mode=\"periodic\" )\n",
    "    \n",
    "    f, ax = plt.subplots()\n",
    "    plt.plot(x)\n",
    "    plt.plot(y)\n",
    "    \n",
    "#     plt.show()\n",
    "    plt.close(f)\n",
    "    \n",
    "    return y"
   ]
  },
  {
   "cell_type": "markdown",
   "metadata": {},
   "source": [
    "# Calculate Roll, Pitch, Yaw"
   ]
  },
  {
   "cell_type": "code",
   "execution_count": 9,
   "metadata": {
    "collapsed": true
   },
   "outputs": [],
   "source": [
    "def calc_rpy(y, subject_id, colors):\n",
    "    y_t = y.transpose()\n",
    "    \n",
    "    ax = np.array(y_t[0])\n",
    "    ay = np.array(y_t[1])\n",
    "    az = np.array(y_t[2])\n",
    "\n",
    "    rpy = []\n",
    "    rpy_labels = ['pitch','roll','yaw']\n",
    "\n",
    "    pitch = 180 * np.arctan(ax/np.sqrt(ay*ay + az*az))/math.pi\n",
    "    rpy.append(pitch)\n",
    "\n",
    "    roll = 180 * np.arctan(ay/np.sqrt(ax*ax + az*az))/math.pi\n",
    "    rpy.append(roll)\n",
    "\n",
    "    yaw = 180 * np.arctan(az/np.sqrt(ax*ax + ay*ay))/math.pi\n",
    "    rpy.append(yaw)\n",
    "\n",
    "    figure, axes = plt.subplots(nrows=TRIAXIAL, ncols=1, figsize=(16,15))\n",
    "\n",
    "    for i in range(TRIAXIAL):\n",
    "        ax = axes[i]\n",
    "        ax.plot(rpy[i],color=colors[i] ,label=rpy_labels[i])\n",
    "        ax.legend(loc='upper right')\n",
    "        ax.set_ylim(top=95, bottom=-95)\n",
    "        ax.set_title(rpy_labels[i] + ' for subject id: ' + subject_id)\n",
    "\n",
    "    figure.savefig(basepath + 'Graphs/' + subject_id + '/' + subject_id + '_ddc_rpy.png', dpi=300) \n",
    "\n",
    "#     plt.show()\n",
    "    plt.close(figure)\n",
    "\n",
    "    return roll, pitch, yaw"
   ]
  },
  {
   "cell_type": "markdown",
   "metadata": {},
   "source": [
    "# Normalize Data (Z-score)"
   ]
  },
  {
   "cell_type": "code",
   "execution_count": 10,
   "metadata": {
    "collapsed": true
   },
   "outputs": [],
   "source": [
    "from scipy import stats"
   ]
  },
  {
   "cell_type": "code",
   "execution_count": 11,
   "metadata": {
    "collapsed": true
   },
   "outputs": [],
   "source": [
    "def normalize_data(X):\n",
    "    scaler = MinMaxScaler(feature_range=(-1, 1))\n",
    "    X_norm = []\n",
    "    \n",
    "    for i in range(len(X_label)):\n",
    "        X_lb = []\n",
    "        for X_subj in X_label[i]:\n",
    "            X_tp = np.array(X_subj).transpose()\n",
    "            X_a = []\n",
    "            for X_axis in X_tp:\n",
    "                X_n = stats.zscore(X_axis)\n",
    "                X_a.append(X_n)\n",
    "            X_a = np.array(X_a).transpose()\n",
    "            X_lb.append(X_a)\n",
    "            \n",
    "        X_norm.append(X_lb)\n",
    "    \n",
    "    return np.array(X_norm)"
   ]
  },
  {
   "cell_type": "markdown",
   "metadata": {},
   "source": [
    "# PCA, LDA, and SVD"
   ]
  },
  {
   "cell_type": "code",
   "execution_count": 12,
   "metadata": {
    "collapsed": true
   },
   "outputs": [],
   "source": [
    "from sklearn.decomposition import PCA\n",
    "from sklearn.discriminant_analysis import LinearDiscriminantAnalysis\n",
    "\n",
    "from mpl_toolkits.mplot3d import Axes3D"
   ]
  },
  {
   "cell_type": "code",
   "execution_count": 13,
   "metadata": {
    "collapsed": true
   },
   "outputs": [],
   "source": [
    "def apply_pca(X, y, target_names):\n",
    "    n_comp = 3\n",
    "\n",
    "    pca = PCA(n_components=n_comp)\n",
    "    X_r = pca.fit(X).transform(X)\n",
    "#     print(pca.fit(X).components_)\n",
    "    \n",
    "    lw = 1\n",
    "    fig = plt.figure(figsize=(15,6))\n",
    "    ax = fig.add_subplot(111)\n",
    "    \n",
    "    for color, i, target_name in zip(colors, [0, 1, 2, 3, 4, 5], target_names): \n",
    "        \n",
    "        ax.scatter(X_r[np.where(y==i), 0], X_r[np.where(y==i), 1],\n",
    "                   color=color, alpha=.8, linewidths=lw, label=target_name)\n",
    "        ax.legend(loc='best', shadow=False, scatterpoints=1)\n",
    "\n",
    "    plt.show()\n",
    "    plt.close(fig)\n",
    "\n",
    "    return np.array(X_r)"
   ]
  },
  {
   "cell_type": "code",
   "execution_count": 14,
   "metadata": {
    "collapsed": true
   },
   "outputs": [],
   "source": [
    "def apply_lda(X, y, target_names):\n",
    "    n_comp = 3\n",
    "\n",
    "    lda = LinearDiscriminantAnalysis(n_components=n_comp)\n",
    "    X_r = lda.fit(X, y).transform(X)\n",
    "    #   print(X_r.shape)\n",
    "\n",
    "    lw = 1\n",
    "    fig, ax = plt.subplots(figsize=(10,6))\n",
    "\n",
    "    for color, i, target_name in zip(colors, [0, 1, 2, 3, 4, 5], target_names):  \n",
    "        ax.scatter(X_r[np.where(y==i), 0], X_r[np.where(y==i), 1], color=color, alpha=.8, linewidths=lw,\n",
    "                      label=target_name)\n",
    "        ax.legend(loc='best', shadow=False, scatterpoints=1)\n",
    "\n",
    "    plt.show()\n",
    "    plt.close(fig)\n",
    "\n",
    "    return np.array(X_r)"
   ]
  },
  {
   "cell_type": "code",
   "execution_count": 15,
   "metadata": {
    "collapsed": true
   },
   "outputs": [],
   "source": [
    "def apply_svd(X, y, target_names):\n",
    "    u, s, vh = np.linalg.svd(X, full_matrices=False)\n",
    "    return u, s, vh"
   ]
  },
  {
   "cell_type": "markdown",
   "metadata": {},
   "source": [
    "# Support Vector Classifier"
   ]
  },
  {
   "cell_type": "code",
   "execution_count": 16,
   "metadata": {
    "collapsed": true
   },
   "outputs": [],
   "source": [
    "from sklearn.svm import SVC"
   ]
  },
  {
   "cell_type": "code",
   "execution_count": 17,
   "metadata": {
    "collapsed": true
   },
   "outputs": [],
   "source": [
    "def svm_classifier(X, y):\n",
    "    clf = SVC(kernel='rbf', decision_function_shape='ovr', gamma='auto')\n",
    "    clf.fit(X, y)\n",
    "\n",
    "    return clf"
   ]
  },
  {
   "cell_type": "markdown",
   "metadata": {},
   "source": [
    "# K-Nearest Neighbors Classifier"
   ]
  },
  {
   "cell_type": "code",
   "execution_count": 18,
   "metadata": {
    "collapsed": true
   },
   "outputs": [],
   "source": [
    "from sklearn.neighbors import NearestNeighbors\n",
    "from sklearn.neighbors import KDTree\n",
    "from sklearn import neighbors"
   ]
  },
  {
   "cell_type": "code",
   "execution_count": 19,
   "metadata": {
    "collapsed": true
   },
   "outputs": [],
   "source": [
    "def nn_classifier(X, y):\n",
    "#   print(y.shape)\n",
    "    neighbor = 6\n",
    "    clf = neighbors.KNeighborsClassifier(n_neighbors=neighbor, algorithm='ball_tree')\n",
    "    clf.fit(X, y)\n",
    "\n",
    "    return clf"
   ]
  },
  {
   "cell_type": "markdown",
   "metadata": {},
   "source": [
    "# Group X and y by Label and Subject ID"
   ]
  },
  {
   "cell_type": "code",
   "execution_count": 20,
   "metadata": {
    "collapsed": true
   },
   "outputs": [],
   "source": [
    "def label_grouping(X, y, subj, lb_list):\n",
    "    X_label = []\n",
    "    y_label = []\n",
    "    \n",
    "    for i in range(len(lb_list)):\n",
    "        X_act = []\n",
    "        y_act = []\n",
    "        for s in range(len(all_subjects)):\n",
    "            X_subj = []\n",
    "            y_subj = []\n",
    "            for j in range(len(y)):\n",
    "                if(y[j]==lb_list[i]):\n",
    "                    if(subj[j]==all_subjects[s]):\n",
    "                        X_subj.append(np.array(X[j]))\n",
    "                        y_subj.append(np.array(y[j]))\n",
    "            \n",
    "            X_act.append(X_subj)\n",
    "            y_act.append(y_subj)\n",
    "            \n",
    "        X_label.append(X_act)\n",
    "        y_label.append(y_act)\n",
    "    \n",
    "    return np.array(X_label), np.array(y_label)"
   ]
  },
  {
   "cell_type": "code",
   "execution_count": 4,
   "metadata": {
    "collapsed": true
   },
   "outputs": [],
   "source": [
    "def plot_all_label(X, y, lb_list, lb_dict):\n",
    "    \n",
    "    color_subj = ['darkred','crimson','orange','gold','yellow','peachpuff','lime','green','olive','aqua',\n",
    "                  'paleturquoise','teal','dodgerblue','blue','navy','purple','lavender','magenta','mediumslateblue','pink']\n",
    "    \n",
    "    for i in range(len(lb_list)):\n",
    "        f, ax = plt.subplots(nrows=1, ncols=TRIAXIAL, figsize=(15,5))\n",
    "\n",
    "        print(\"plotting \", lb_dict[lb_list[i]])\n",
    "\n",
    "        for j in range(len(all_subjects)):\n",
    "            X_i_tp = np.array(X[i][j]).transpose()\n",
    "\n",
    "            ax[0].plot(X_i_tp[0], color=color_subj[j], label='x')\n",
    "            ax[0].set_title('X-axis for ' + lb_dict[lb_list[i]])\n",
    "            ax[0].set_ylim(top=3.0, bottom=-3.0)\n",
    "            \n",
    "            ax[1].plot(X_i_tp[1], color=color_subj[j], label='y')\n",
    "            ax[1].set_title('Y-axis for ' + lb_dict[lb_list[i]])\n",
    "            ax[1].set_ylim(top=3.0, bottom=-3.0)\n",
    "\n",
    "            ax[2].plot(X_i_tp[2], color=color_subj[j], label='z')\n",
    "            ax[2].set_title('Z-axis for ' + lb_dict[lb_list[i]])\n",
    "            ax[2].set_ylim(top=3.0, bottom=-1.5)\n",
    "            \n",
    "\n",
    "#         f.savefig(basepath + 'Graphs/all_subjects_' + lb_dict[lb_list[i]] + '.png', dpi=200)\n",
    "        plt.show()\n",
    "        plt.close(f)"
   ]
  },
  {
   "cell_type": "markdown",
   "metadata": {
    "collapsed": true
   },
   "source": [
    "# Make Overlapping Time Window"
   ]
  },
  {
   "cell_type": "code",
   "execution_count": 22,
   "metadata": {
    "collapsed": true
   },
   "outputs": [],
   "source": [
    "def make_overlapping(X, y, window_length = 60):   \n",
    "    length = X.shape[0]\n",
    "    X_new = []\n",
    "    y_new = []\n",
    "    \n",
    "    for i in range(length):\n",
    "        X_temp = []\n",
    "        for j in range(window_length):\n",
    "            if(i+j<length):\n",
    "                X_temp.append(X[i+j])\n",
    "        \n",
    "        if(i+window_length-1<length):\n",
    "            X_new.append(X_temp)\n",
    "            y_new.append(y[i+window_length-1])\n",
    "    \n",
    "    return np.array(X_new), np.array(y_new)"
   ]
  },
  {
   "cell_type": "markdown",
   "metadata": {},
   "source": [
    "# Concatenate X,Y,Z Axis into 1 Numpy Array"
   ]
  },
  {
   "cell_type": "code",
   "execution_count": 23,
   "metadata": {
    "collapsed": true
   },
   "outputs": [],
   "source": [
    "def concat_xyz(X):\n",
    "    X_concat = []\n",
    "    for X_i in X:\n",
    "        X_tp = X_i.transpose()\n",
    "        X_stack = np.hstack((X_tp[0],X_tp[1],X_tp[2]))\n",
    "        X_concat.append(X_stack)\n",
    "\n",
    "    return np.array(X_concat)"
   ]
  },
  {
   "cell_type": "markdown",
   "metadata": {},
   "source": [
    "# Concatenate X Axis-wise"
   ]
  },
  {
   "cell_type": "code",
   "execution_count": 24,
   "metadata": {
    "collapsed": true
   },
   "outputs": [],
   "source": [
    "def concat_label(X):\n",
    "    X_concat = []\n",
    "    for X_lb in X:\n",
    "        X_temp = []\n",
    "        for i in range(len(X_lb)):\n",
    "            if(i==0):\n",
    "                X_temp = X_lb[i]\n",
    "            else:\n",
    "                X_temp = np.vstack((X_temp, X_lb[i]))\n",
    "                \n",
    "        if(len(X_concat)==0):\n",
    "            X_concat = X_temp\n",
    "        else:\n",
    "            X_concat = np.vstack((X_concat, X_temp))\n",
    "            \n",
    "    return np.array(X_concat)"
   ]
  },
  {
   "cell_type": "markdown",
   "metadata": {},
   "source": [
    "# Reshape Data (Pure Label)"
   ]
  },
  {
   "cell_type": "code",
   "execution_count": 1,
   "metadata": {
    "collapsed": true
   },
   "outputs": [],
   "source": [
    "def prepare_pure_label(X, y, subj_all, new_label_list):\n",
    "    X_label, y_label = label_grouping(X, y, subj_all, new_label_list)\n",
    "    \n",
    "    X_concat = []\n",
    "    y_concat = []\n",
    "    for i in range(len(X_label)):\n",
    "        for j in range(len(X_label[i])):\n",
    "            X_ol, y_ol = make_overlapping(np.array(X_label[i][j]), y_label[i][j])\n",
    "\n",
    "            if(len(X_concat)==0):\n",
    "                X_concat = X_ol\n",
    "            else:\n",
    "                X_concat = np.vstack((X_concat, X_ol))\n",
    "\n",
    "            if(len(y_concat)==0):\n",
    "                y_concat = y_ol\n",
    "            else:\n",
    "                y_concat = np.hstack((y_concat, y_ol))\n",
    "    \n",
    "    X_concat_xyz = concat_xyz(X_concat)\n",
    "    \n",
    "    return X_concat_xyz, y_concat    "
   ]
  },
  {
   "cell_type": "markdown",
   "metadata": {},
   "source": [
    "# Reshape Data (Impure Label)"
   ]
  },
  {
   "cell_type": "code",
   "execution_count": 2,
   "metadata": {
    "collapsed": true
   },
   "outputs": [],
   "source": [
    "def prepare_impure_label(X, y):\n",
    "    X_ol, y_ol = make_overlapping(X, y)\n",
    "    X_concat_ol = concat_xyz(X_ol)\n",
    "    \n",
    "    return X_concat_ol, y_ol"
   ]
  },
  {
   "cell_type": "code",
   "execution_count": null,
   "metadata": {
    "collapsed": true
   },
   "outputs": [],
   "source": []
  }
 ],
 "metadata": {
  "kernelspec": {
   "display_name": "Python 3",
   "language": "python",
   "name": "python3"
  },
  "language_info": {
   "codemirror_mode": {
    "name": "ipython",
    "version": 3
   },
   "file_extension": ".py",
   "mimetype": "text/x-python",
   "name": "python",
   "nbconvert_exporter": "python",
   "pygments_lexer": "ipython3",
   "version": "3.6.6"
  }
 },
 "nbformat": 4,
 "nbformat_minor": 2
}
