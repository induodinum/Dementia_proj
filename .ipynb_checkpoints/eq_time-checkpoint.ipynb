{
 "cells": [
  {
   "cell_type": "code",
   "execution_count": 71,
   "metadata": {},
   "outputs": [],
   "source": [
    "import numpy as np\n",
    "import pandas as pd\n",
    "import csv\n",
    "import math"
   ]
  },
  {
   "cell_type": "code",
   "execution_count": 72,
   "metadata": {},
   "outputs": [],
   "source": [
    "def calc_sec(time):\n",
    "    hms = time.split(':')\n",
    "    hms = [float(x) for x in hms]\n",
    "    sec = hms[2] + hms[1]*60 + hms[0]*3600\n",
    "    sec = round(sec,3)\n",
    "    return sec"
   ]
  },
  {
   "cell_type": "code",
   "execution_count": 73,
   "metadata": {},
   "outputs": [],
   "source": [
    "def calc_ts(sec):\n",
    "    ts = ''\n",
    "    hr = int(sec/3600)\n",
    "    mn = int((sec - (hr*3600))/60)\n",
    "    sc = sec - (hr*3600) - (mn*60)\n",
    "    sc = round(sc,3)\n",
    "    ts += str(hr) + ':' + str(mn) + ':' + str(sc)\n",
    "    # print(ts)\n",
    "    return ts"
   ]
  },
  {
   "cell_type": "code",
   "execution_count": 74,
   "metadata": {},
   "outputs": [
    {
     "name": "stdout",
     "output_type": "stream",
     "text": [
      "         date          time         x         y         z               label\n",
      "0  2018-10-05  14:42:28.999  0.590171  0.414197  9.877279  walking_downstairs\n",
      "1  2018-10-05  14:42:29.159  0.585382  0.519542  9.882068  walking_downstairs\n",
      "2  2018-10-05  14:42:29.321  0.513556  0.524330  9.872491  walking_downstairs\n",
      "3  2018-10-05   14:42:29.48  0.590171  0.538695  9.810242  walking_downstairs\n",
      "4  2018-10-05  14:42:29.642  0.599748  0.720655  9.757569  walking_downstairs\n"
     ]
    }
   ],
   "source": [
    "filepath = 'SmartwatchData/prep_data/data_activities.csv'\n",
    "df = pd.read_csv(filepath)\n",
    "# print(df.head())\n",
    "\n",
    "df_grp = df.groupby('date')\n",
    "\n",
    "idx = {}\n",
    "df_key = {}\n",
    "\n",
    "for key,item in df_grp:\n",
    "    idx[key] = df_grp.get_group(key).index\n",
    "    df_key[key] = df_grp.get_group(key)\n",
    "\n",
    "dates = list(df_key.keys())"
   ]
  },
  {
   "cell_type": "code",
   "execution_count": 75,
   "metadata": {},
   "outputs": [],
   "source": [
    "key_list = ['time','x','y','z','label']\n",
    "new_lines = []\n",
    "\n",
    "# change from 160ms+-2ms to 1s\n",
    "for d in dates:\n",
    "    df_date = df.loc[df['date']==d]\n",
    "    \n",
    "    data_dict = {}\n",
    "    \n",
    "    for k in key_list:\n",
    "        data_dict[k] = []\n",
    "    \n",
    "    for i in range(len(df_date)):\n",
    "        for k in key_list:\n",
    "            data_dict[k].append(df_date.iloc[i][k])\n",
    "    \n",
    "    prev_t = data_dict['time'][0]\n",
    "    prev_sec = calc_sec(prev_t)\n",
    "    \n",
    "    exact_dur = 0.16\n",
    "\n",
    "    trimmed_mean_list = []\n",
    "    trimmed_mean_elem = []\n",
    "    \n",
    "    for i in range(len(data_dict['time'])):\n",
    "        time = data_dict['time'][i]\n",
    "        x = data_dict['x'][i]\n",
    "        y = data_dict['y'][i]\n",
    "        z = data_dict['z'][i]\n",
    "        label = data_dict['label'][i]\n",
    "        \n",
    "        sec = calc_sec(time)\n",
    "\n",
    "        duration = sec - prev_sec\n",
    "        duration = round(duration,3)\n",
    "        # print(duration)\n",
    "\n",
    "        if(duration!=exact_dur and duration!=0.0 and duration<2*exact_dur):\n",
    "            new_sec = prev_sec + exact_dur\n",
    "        else:\n",
    "            new_sec = prev_sec + duration\n",
    "\n",
    "        diff_sec = math.floor(new_sec)-math.floor(prev_sec)\n",
    "        \n",
    "        if(diff_sec>=1):                           # If it's the first millisecond in timestamp\n",
    "            trimmed_mean_np = np.array(trimmed_mean_list)\n",
    "            # print(trimmed_mean_np)\n",
    "            x_item = sorted([float(item[1]) for item in trimmed_mean_np])\n",
    "            y_item = sorted([float(item[2]) for item in trimmed_mean_np])\n",
    "            z_item = sorted([float(item[3]) for item in trimmed_mean_np])\n",
    "\n",
    "            x_item = np.array(x_item[1:-1])         # Drop the min,max data in the list\n",
    "            y_item = np.array(y_item[1:-1])\n",
    "            z_item = np.array(z_item[1:-1])\n",
    "\n",
    "            # print(math.floor(prev_sec))\n",
    "\n",
    "            if(len(x_item)>0):\n",
    "                x0 = round(np.mean(x_item),8)  # Calculate mean value on each axis\n",
    "                y0 = round(np.mean(y_item),8)\n",
    "                z0 = round(np.mean(z_item),8)\n",
    "            else:\n",
    "                x0 = trimmed_mean_np[0,1]\n",
    "                y0 = trimmed_mean_np[0,2]\n",
    "                z0 = trimmed_mean_np[0,3]\n",
    "\n",
    "            prev_sec = math.floor(prev_sec)\n",
    "            new_ts = calc_ts(prev_sec)\n",
    "            # print(new_ts)\n",
    "            \n",
    "            elem = [d,new_ts,x0,y0,z0,label]\n",
    "            \n",
    "            new_lines.append(elem)\n",
    "\n",
    "            trimmed_mean_list.clear()\n",
    "\n",
    "            prev_sec = new_sec\n",
    "            # print(prev_sec)\n",
    "\n",
    "        trimmed_mean_elem = [new_sec,x,y,z,label]\n",
    "        trimmed_mean_list.append(trimmed_mean_elem)\n",
    "\n",
    "new_lines = np.array(new_lines)\n",
    "# print(new_lines)\n"
   ]
  },
  {
   "cell_type": "code",
   "execution_count": 76,
   "metadata": {},
   "outputs": [],
   "source": [
    "new_dict = {}\n",
    "new_key_list = ['date','time','x','y','z','label']\n",
    "for k in new_key_list:\n",
    "    new_dict[k] = []\n",
    "        \n",
    "for line in new_lines:\n",
    "    for i in range(len(new_key_list)):\n",
    "        new_dict[new_key_list[i]].append(line[i])\n",
    "\n",
    "new_df = pd.DataFrame(new_dict)\n",
    "# print(new_df.head())\n",
    "\n",
    "new_df = new_df.groupby('label',as_index=True)\n",
    "\n",
    "ix = {}\n",
    "dkey = {}\n",
    "for key,item in new_df:\n",
    "    ix[key] = new_df.get_group(key).index\n",
    "    dkey[key] = new_df.get_group(key)\n",
    "    \n",
    "# print(dkey['walking'])"
   ]
  },
  {
   "cell_type": "code",
   "execution_count": 77,
   "metadata": {},
   "outputs": [],
   "source": [
    "import matplotlib.pyplot as plt"
   ]
  },
  {
   "cell_type": "code",
   "execution_count": 78,
   "metadata": {},
   "outputs": [
    {
     "name": "stdout",
     "output_type": "stream",
     "text": [
      "['running', 'walking', 'walking_downstairs', 'walking_upstairs']\n"
     ]
    },
    {
     "data": {
      "image/png": "[encoded data removed]",
      "text/plain": [
       "<Figure size 432x288 with 4 Axes>"
      ]
     },
     "metadata": {},
     "output_type": "display_data"
    }
   ],
   "source": [
    "label_names = list(dkey.keys())\n",
    "print(label_names)\n",
    "\n",
    "ai_lb = {}\n",
    "\n",
    "for i in range(len(label_names)):\n",
    "    ai_lb[label_names[i]] = dkey[label_names[i]].values\n",
    "# print(ai_lb)\n",
    "\n",
    "for i in range(len(label_names)):\n",
    "    lb = label_names[i]\n",
    "    x_val = []\n",
    "    y_val = []\n",
    "    z_val = []\n",
    "    for ts in ai_lb[lb]:\n",
    "        x_val.append(float(ts[2]))\n",
    "        y_val.append(float(ts[3]))\n",
    "        z_val.append(float(ts[4]))\n",
    "        \n",
    "    plt.subplot(len(label_names),1,i+1)\n",
    "    plt.plot(x_val,'r',label='X')\n",
    "    plt.plot(y_val,'g',label='Y')\n",
    "    plt.plot(z_val,'b',label='Z')    \n",
    "    plt.title('Action: ' + label_names[i]) \n",
    "    \n",
    "plt.show()"
   ]
  }
 ],
 "metadata": {
  "kernelspec": {
   "display_name": "Python 3",
   "language": "python",
   "name": "python3"
  },
  "language_info": {
   "codemirror_mode": {
    "name": "ipython",
    "version": 3
   },
   "file_extension": ".py",
   "mimetype": "text/x-python",
   "name": "python",
   "nbconvert_exporter": "python",
   "pygments_lexer": "ipython3",
   "version": "3.6.5"
  }
 },
 "nbformat": 4,
 "nbformat_minor": 2
}
