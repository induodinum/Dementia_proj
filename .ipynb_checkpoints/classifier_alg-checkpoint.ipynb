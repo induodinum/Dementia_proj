{
 "cells": [
  {
   "cell_type": "markdown",
   "metadata": {},
   "source": [
    "# Import Libraries"
   ]
  },
  {
   "cell_type": "code",
   "execution_count": 3,
   "metadata": {
    "collapsed": true
   },
   "outputs": [],
   "source": [
    "import numpy as np\n",
    "import pandas as pd\n",
    "import matplotlib.pyplot as plt\n",
    "import math"
   ]
  },
  {
   "cell_type": "markdown",
   "metadata": {},
   "source": [
    "# Classification Algorithms"
   ]
  },
  {
   "cell_type": "markdown",
   "metadata": {},
   "source": [
    "## Classify walk"
   ]
  },
  {
   "cell_type": "code",
   "execution_count": 44,
   "metadata": {
    "collapsed": true
   },
   "outputs": [],
   "source": [
    "def fluc(X,axis,rs,rf,diff=0.15,diff2=1.0):\n",
    "    cnt = 0\n",
    "    mult = 0\n",
    "    j = 1\n",
    "\n",
    "    i = rs\n",
    "    while(i<rf):\n",
    "        if(abs(X[i+j][axis]-X[i][axis])>diff and abs(X[i+j][axis]-X[i][axis])<diff2):\n",
    "            if(cnt==0):\n",
    "                if(X[i+j][axis]>X[i][axis]):\n",
    "                    mult = 1\n",
    "                else:\n",
    "                    mult = -1\n",
    "                cnt += 1\n",
    "            else:\n",
    "                if((X[i+j][axis]>X[i][axis] and mult==-1) or \n",
    "                   (X[i+j][axis]<X[i][axis] and mult==1)):\n",
    "                    mult *= -1\n",
    "                    cnt += 1\n",
    "            i += j-1  \n",
    "        else:\n",
    "            if(cnt==0):\n",
    "                if(X[i+j][axis]>X[i][axis]):\n",
    "                    mult = 1\n",
    "                else:\n",
    "                    mult = -1\n",
    "        i += 1\n",
    "\n",
    "    return cnt"
   ]
  },
  {
   "cell_type": "code",
   "execution_count": 46,
   "metadata": {
    "collapsed": true
   },
   "outputs": [],
   "source": [
    "def calc_walk(X, step=10):\n",
    "    s = 0\n",
    "    f = len(X)\n",
    "\n",
    "    thres = 2\n",
    "\n",
    "    walk = [set(),set(),set()]\n",
    "    arr = [[],[],[]]\n",
    "    diff_arr = [0.15,0.015,0.04]\n",
    "    diff_arr2 = [0.9,0.7,0.4]\n",
    "    axes = 3        \n",
    "        \n",
    "    for i in range(s,f,step):\n",
    "        for j in range(axes):\n",
    "            if(i+step<f):\n",
    "                arr[j].append(fluc(X,j,i,i+step,diff=diff_arr[j],diff2=diff_arr2[j]))\n",
    "            else:\n",
    "                arr[j].append(fluc(X,j,i,f-1,diff=diff_arr[j],diff2=diff_arr2[j]))\n",
    "            if(len(arr[j])>=6 and \n",
    "                arr[j][-6]>=thres and arr[j][-5]>=thres and \n",
    "                arr[j][-4]>=thres and arr[j][-3]>=thres and \n",
    "                arr[j][-2]>=thres and arr[j][-1]>=thres):\n",
    "                for k in range(6):\n",
    "                    walk[j].add(i-k*step)\n",
    "\n",
    "    for i in range(axes):\n",
    "        walk[i] = list(walk[i])\n",
    "        walk[i] = sorted(walk[i])\n",
    "\n",
    "    return walk"
   ]
  },
  {
   "cell_type": "code",
   "execution_count": 6,
   "metadata": {
    "collapsed": true
   },
   "outputs": [],
   "source": [
    "def intersection(lst1, lst2): \n",
    "    return [value for value in lst1 if value in lst2] "
   ]
  },
  {
   "cell_type": "code",
   "execution_count": 7,
   "metadata": {
    "collapsed": true
   },
   "outputs": [],
   "source": [
    "def intersection_walk(walk):\n",
    "  \n",
    "    walk_its = intersection(walk[0],walk[1])\n",
    "    walk_its = intersection(walk_its,walk[2])\n",
    "\n",
    "    return walk_its"
   ]
  },
  {
   "cell_type": "code",
   "execution_count": 8,
   "metadata": {
    "collapsed": true
   },
   "outputs": [],
   "source": [
    "def calc_walk_periods(walk_its, step=10):\n",
    "    walk_its_p = []\n",
    "    kp = walk_its[0]\n",
    "\n",
    "    for i in range(len(walk_its)):\n",
    "        if(i+1<=len(walk_its)-1 and walk_its[i+1]-walk_its[i]>step):\n",
    "            walk_its_p.append(period(kp,walk_its[i]))\n",
    "            kp = walk_its[i+1]\n",
    "\n",
    "        if(i==len(walk_its)-1 and walk_its[i]-walk_its[i-1]==step):\n",
    "            walk_its_p.append(period(kp,walk_its[i]))\n",
    "\n",
    "    #   print(len(walk_its_p))\n",
    "\n",
    "    #   for x in walk_its_p:\n",
    "    #       print(x.s,x.f)\n",
    "\n",
    "    return walk_its_p"
   ]
  },
  {
   "cell_type": "markdown",
   "metadata": {},
   "source": [
    "## Walk + Stairs"
   ]
  },
  {
   "cell_type": "code",
   "execution_count": 47,
   "metadata": {
    "collapsed": true
   },
   "outputs": [],
   "source": [
    "def get_exact_walk_stair(y):\n",
    "    walk_lbl = 4\n",
    "    stairs_lbl = 2\n",
    "    \n",
    "    walk_chk = np.array((y-stairs_lbl)*(y-walk_lbl)==0)\n",
    "#     walk_chk = np.array(y==walk_lbl)\n",
    "    \n",
    "    walk_ts = np.array([i for i in range(len(walk_chk)) if walk_chk[i]==True])\n",
    "    \n",
    "    walk_keep = walk_ts[0]\n",
    "    walk_prd = []     # walk period\n",
    "    \n",
    "    for i in range(len(walk_ts)):\n",
    "        if(walk_ts[i]-walk_ts[i-1]>1):\n",
    "            walk_prd.append(period(walk_keep,walk_ts[i-1]))\n",
    "            walk_keep = walk_ts[i]\n",
    "        \n",
    "    return walk_prd"
   ]
  },
  {
   "cell_type": "markdown",
   "metadata": {},
   "source": [
    "## Walk"
   ]
  },
  {
   "cell_type": "code",
   "execution_count": null,
   "metadata": {
    "collapsed": true
   },
   "outputs": [],
   "source": [
    "def get_exact_walk(y):\n",
    "    walk_lbl = 4\n",
    "    stairs_lbl = 2\n",
    "    \n",
    "    walk_chk = np.array((y-walk_lbl)==0)\n",
    "#     walk_chk = np.array(y==walk_lbl)\n",
    "    \n",
    "    walk_ts = np.array([i for i in range(len(walk_chk)) if walk_chk[i]==True])\n",
    "    \n",
    "    walk_keep = walk_ts[0]\n",
    "    walk_prd = []     # walk period\n",
    "    \n",
    "    for i in range(len(walk_ts)):\n",
    "        if(walk_ts[i]-walk_ts[i-1]>1):\n",
    "            walk_prd.append(period(walk_keep,walk_ts[i-1]))\n",
    "            walk_keep = walk_ts[i]\n",
    "        \n",
    "    return walk_prd"
   ]
  },
  {
   "cell_type": "code",
   "execution_count": 38,
   "metadata": {
    "collapsed": true
   },
   "outputs": [],
   "source": [
    "def binarize_walk_prd(walk_prd, y):\n",
    "    walk_bin = np.zeros(len(y))\n",
    "    \n",
    "    for w in walk_prd:\n",
    "        for i in range(w.s, w.f+1):\n",
    "            walk_bin[i] = 1\n",
    "    \n",
    "    return walk_bin"
   ]
  },
  {
   "cell_type": "markdown",
   "metadata": {},
   "source": [
    "## Classify inactive"
   ]
  },
  {
   "cell_type": "code",
   "execution_count": 9,
   "metadata": {
    "collapsed": true
   },
   "outputs": [],
   "source": [
    "def calc_inactive(ai1):\n",
    "    # Slide windows by 1\n",
    "    # Each window length is at least 50\n",
    "    ki = -1\n",
    "    kj = -1\n",
    "    s = []\n",
    "\n",
    "    SD_THRES = 0.002\n",
    "    WINDOW_LEN = 50\n",
    "\n",
    "    for i in tqdm(range(0,len(ai1)-1)):\n",
    "        if(not(len(s)!=0 and s[-1].s==ki and s[-1].f==kj)):\n",
    "            s.append(period(ki,kj))\n",
    "        for j in range(1,len(ai1)):\n",
    "            if(j-i>=WINDOW_LEN):\n",
    "                if(np.std(ai1[i:j])<SD_THRES):\n",
    "                    kj = j\n",
    "                    ki = i\n",
    "\n",
    "    return s                  "
   ]
  },
  {
   "cell_type": "code",
   "execution_count": 10,
   "metadata": {
    "collapsed": true
   },
   "outputs": [],
   "source": [
    "def get_sequence(s):\n",
    "  \n",
    "    seq = []\n",
    "    for i in range(len(ai1)):\n",
    "        seq.append(i)\n",
    "\n",
    "    sequence = []\n",
    "    for x in s:\n",
    "        if(x.s in seq and x.f in seq):\n",
    "            for i in range(x.s,x.f+1):\n",
    "                seq.remove(i)\n",
    "            sequence.append(x)\n",
    "\n",
    "    #   for x in sequence:\n",
    "    #       print(x.s,x.f)\n",
    "\n",
    "    return sequence"
   ]
  },
  {
   "cell_type": "markdown",
   "metadata": {},
   "source": [
    "# Show Plots of Classification"
   ]
  },
  {
   "cell_type": "markdown",
   "metadata": {},
   "source": [
    "## Walking"
   ]
  },
  {
   "cell_type": "code",
   "execution_count": 12,
   "metadata": {
    "collapsed": true
   },
   "outputs": [],
   "source": [
    "def plot_walk(df1, ai1, walk_its_p):\n",
    "    x_axis = []\n",
    "    y_axis = []\n",
    "\n",
    "    p_idx = 0\n",
    "\n",
    "    fig = plt.figure(figsize=(16,6))\n",
    "\n",
    "    # print(len(walk_its_p))\n",
    "    for i in range(len(df1)):\n",
    "        if(p_idx<len(walk_its_p)):\n",
    "            if(i>=walk_its_p[p_idx].s and i<=walk_its_p[p_idx].f):\n",
    "            #         print('r',i)\n",
    "                x_axis.append(i)\n",
    "                y_axis.append(ai1[i])\n",
    "\n",
    "            if(i==walk_its_p[p_idx].f):\n",
    "                plt.plot(x_axis,y_axis,color='r')\n",
    "                x_axis = []\n",
    "                y_axis = []\n",
    "                p_idx += 1\n",
    "\n",
    "        if(p_idx<len(walk_its_p)):\n",
    "            if(i<=walk_its_p[p_idx].s):\n",
    "            #         print('b++',i)\n",
    "                x_axis.append(i)\n",
    "                y_axis.append(ai1[i])\n",
    "\n",
    "            if(i==walk_its_p[p_idx].s):\n",
    "                plt.plot(x_axis,y_axis,color='b')\n",
    "                x_axis = []\n",
    "                y_axis = []\n",
    "\n",
    "        else:\n",
    "            x_axis.append(i)\n",
    "            y_axis.append(ai1[i])\n",
    "            if(i==len(df1)-1):\n",
    "                plt.plot(x_axis,y_axis,color='b')\n",
    "\n",
    "\n",
    "    fig.savefig(basepath + 'Graphs/' + subject_id + '/' + subject_id + '_ddc_walking.png', dpi=300) \n",
    "    #   plt.show()\n",
    "    plt.close(fig)"
   ]
  },
  {
   "cell_type": "markdown",
   "metadata": {},
   "source": [
    "## Inactive"
   ]
  },
  {
   "cell_type": "code",
   "execution_count": 11,
   "metadata": {
    "collapsed": true
   },
   "outputs": [],
   "source": [
    "def plot_inactive(df1, ai1, sequence):\n",
    "    x_axis = []\n",
    "    y_axis = []\n",
    "    active = set()\n",
    "    seq_idx = 0\n",
    "    idx = 1 + np.std(ai1)\n",
    "\n",
    "    fig = plt.figure(figsize=(16,6))\n",
    "\n",
    "    for i in range(len(ai1)):\n",
    "        if(seq_idx<len(sequence) and i>=sequence[seq_idx].s and i<=sequence[seq_idx].f):\n",
    "        #         print('r',i)\n",
    "            x_axis.append(i)\n",
    "            y_axis.append(ai1[i])\n",
    "            active.add(ai1[i])\n",
    "\n",
    "        if(seq_idx<len(sequence) and i==sequence[seq_idx].f):\n",
    "            plt.plot(x_axis,y_axis,color='r')\n",
    "            x_axis = []\n",
    "            y_axis = []\n",
    "            seq_idx += 1\n",
    "\n",
    "        if(seq_idx<len(sequence) and i<=sequence[seq_idx].s):\n",
    "        #         print('b++',i)\n",
    "            x_axis.append(i)\n",
    "            y_axis.append(ai1[i])\n",
    "\n",
    "        if(seq_idx<len(sequence) and i==sequence[seq_idx].s):\n",
    "            plt.plot(x_axis,y_axis,color='b')\n",
    "            x_axis = []\n",
    "            y_axis = []\n",
    "\n",
    "\n",
    "    x_axis = []\n",
    "    y_axis = []\n",
    "\n",
    "    p_idx = 0\n",
    "    for i in range(len(df1)):\n",
    "        if(p_idx<len(walk_its_p)):\n",
    "            if(i>=walk_its_p[p_idx].s and i<=walk_its_p[p_idx].f):\n",
    "            #         print('r',i)\n",
    "                x_axis.append(i)\n",
    "                y_axis.append(ai1[i])\n",
    "\n",
    "            if(i==walk_its_p[p_idx].f):\n",
    "                plt.plot(x_axis,y_axis,color='b')\n",
    "                x_axis = []\n",
    "                y_axis = []\n",
    "                p_idx += 1\n",
    "\n",
    "        if(p_idx<len(walk_its_p)):\n",
    "            if(i<=walk_its_p[p_idx].s):\n",
    "            #         print('b++',i)\n",
    "                x_axis.append(i)\n",
    "                y_axis.append(ai1[i])\n",
    "\n",
    "            if(i==walk_its_p[p_idx].s):\n",
    "                # color some red?\n",
    "                x_axis = []\n",
    "                y_axis = []\n",
    "\n",
    "        else:\n",
    "            x_axis.append(i)\n",
    "            y_axis.append(ai1[i])\n",
    "            if(i==len(df1)-1):\n",
    "                plt.plot(x_axis,y_axis,color='r')\n",
    "\n",
    "    fig.savefig(basepath + 'Graphs/' + subject_id + '/' + subject_id + '_inactive.png', dpi=300)          \n",
    "    #   plt.show()\n",
    "    plt.close(fig)"
   ]
  },
  {
   "cell_type": "markdown",
   "metadata": {},
   "source": [
    "# Evaluation"
   ]
  },
  {
   "cell_type": "markdown",
   "metadata": {},
   "source": [
    "## Walking"
   ]
  },
  {
   "cell_type": "code",
   "execution_count": 13,
   "metadata": {
    "collapsed": true
   },
   "outputs": [],
   "source": [
    "def exact_walk_range(timer_filt):\n",
    "  # Retrieve exact walking time periods from the csv file in timestamp (seconds) form\n",
    "    walk_lbl = ['walk','downstairs','upstairs']\n",
    "\n",
    "    w_times = [t for t in timer_filt['label'] for lb in walk_lbl if t==lb]\n",
    "    walk_times = timer_filt[timer_filt['label'].isin(w_times)]\n",
    "    walk_times = walk_times.reset_index(drop=True)\n",
    "\n",
    "    walks = walk_times[['timestamp','duration']].to_dict()\n",
    "\n",
    "    all_walks = []\n",
    "\n",
    "    for i in range(len(walk_times)):\n",
    "        tmstmp = walk_times.loc[i]['timestamp'].split(' ')[1]\n",
    "        durat = walk_times.loc[i]['duration']\n",
    "        all_walks.append(period(calc_sec(tmstmp), calc_sec(tmstmp) + calc_sec(durat)))\n",
    "\n",
    "    exact_range = []\n",
    "    for x in all_walks:\n",
    "        exact_range.append(range(math.floor(x.s), math.ceil(x.f)))\n",
    "\n",
    "    return exact_range"
   ]
  },
  {
   "cell_type": "code",
   "execution_count": 14,
   "metadata": {
    "collapsed": true
   },
   "outputs": [],
   "source": [
    "def pred_walk_range(df1, walk_its_p):\n",
    "    # Get predicted walking time periods in timestamp (seconds) form\n",
    "    all_walks_pred = []\n",
    "\n",
    "    for x in walk_its_p:\n",
    "        tsp1 = df1.loc[x.s]['timestamp'].split(' ')[1]\n",
    "        tsp2 = df1.loc[x.f]['timestamp'].split(' ')[1]\n",
    "\n",
    "        all_walks_pred.append(period(calc_sec(tsp1), calc_sec(tsp2)))\n",
    "\n",
    "    pred_range = []\n",
    "    for x in all_walks_pred:\n",
    "        pred_range.append(range(math.floor(x.s), math.ceil(x.f)))\n",
    "\n",
    "    return pred_range"
   ]
  },
  {
   "cell_type": "code",
   "execution_count": 15,
   "metadata": {
    "collapsed": true
   },
   "outputs": [],
   "source": [
    "def overlap_walk(exact_range, pred_range):\n",
    "    # Calculate range of overlap\n",
    "    overlap_sets = []\n",
    "\n",
    "    for e in exact_range:\n",
    "        for p in pred_range:\n",
    "            overlap_sets.append(set(e).intersection(p))\n",
    "\n",
    "    overlap_list = []\n",
    "\n",
    "    for x in overlap_sets:\n",
    "        if(len(x)!=0):\n",
    "            l = list(x)\n",
    "            ll = sorted(l)\n",
    "\n",
    "            overlap_list.append(period(ll[0],ll[-1]))\n",
    "\n",
    "    overlap_dur = 0\n",
    "    for x in overlap_list:\n",
    "        overlap_dur += x.f - x.s\n",
    "\n",
    "    print(overlap_dur)\n",
    "\n",
    "    return overlap_dur"
   ]
  },
  {
   "cell_type": "code",
   "execution_count": 16,
   "metadata": {
    "collapsed": true
   },
   "outputs": [],
   "source": [
    "def union_walk(exact_range, pred_range):\n",
    "  # Calculate range of union\n",
    "    union_sets = []\n",
    "\n",
    "    for e in exact_range:\n",
    "        for p in pred_range:\n",
    "            union_sets.append(set(e).union(p))\n",
    "\n",
    "    union_set_2 = set()\n",
    "\n",
    "    for x in union_sets:\n",
    "        union_set_2 = union_set_2.union(x)\n",
    "\n",
    "    # print(union_set_2)\n",
    "\n",
    "    l = list(union_set_2)\n",
    "    ll = sorted(l)\n",
    "\n",
    "    union_list = []\n",
    "    keep = ll[0]\n",
    "\n",
    "    for i in range(len(ll)):\n",
    "        if(i>0 and ll[i]-ll[i-1]>1):\n",
    "            union_list.append(period(keep,ll[i-1]))\n",
    "            keep = ll[i]\n",
    "\n",
    "    union_dur = 0\n",
    "    for x in union_list:\n",
    "        union_dur += x.f - x.s\n",
    "\n",
    "    print(union_dur)\n",
    "\n",
    "    return union_dur"
   ]
  },
  {
   "cell_type": "markdown",
   "metadata": {},
   "source": [
    "## IoU"
   ]
  },
  {
   "cell_type": "code",
   "execution_count": 22,
   "metadata": {
    "collapsed": true
   },
   "outputs": [],
   "source": [
    "def calc_iou(subject_id, df1, df_timer, walk_its_p):\n",
    "    exact_range = exact_walk_range(df_timer)\n",
    "    pred_range = pred_walk_range(df1, walk_its_p)\n",
    "\n",
    "    overlap_dur = overlap_walk(exact_range, pred_range)\n",
    "    union_dur = union_walk(exact_range, pred_range)\n",
    "\n",
    "    IoU = overlap_dur/union_dur\n",
    "    print(\"IoU for\", subject_id, \":\", IoU)"
   ]
  },
  {
   "cell_type": "markdown",
   "metadata": {},
   "source": [
    "# Function Call"
   ]
  },
  {
   "cell_type": "code",
   "execution_count": 42,
   "metadata": {
    "collapsed": true
   },
   "outputs": [],
   "source": [
    "# classify inactive\n",
    "# s = calc_inactive(ai1)\n",
    "# sequence = get_sequence(s)\n",
    "\n",
    "# plot_inactive(df1, ai1, sequence)\n"
   ]
  },
  {
   "cell_type": "code",
   "execution_count": null,
   "metadata": {
    "collapsed": true
   },
   "outputs": [],
   "source": []
  }
 ],
 "metadata": {
  "kernelspec": {
   "display_name": "Python 3",
   "language": "python",
   "name": "python3"
  },
  "language_info": {
   "codemirror_mode": {
    "name": "ipython",
    "version": 3
   },
   "file_extension": ".py",
   "mimetype": "text/x-python",
   "name": "python",
   "nbconvert_exporter": "python",
   "pygments_lexer": "ipython3",
   "version": "3.6.6"
  }
 },
 "nbformat": 4,
 "nbformat_minor": 2
}
