{
 "cells": [
  {
   "cell_type": "code",
   "execution_count": 2,
   "metadata": {},
   "outputs": [],
   "source": [
    "import pandas as pd\n",
    "import numpy as np\n",
    "import csv\n",
    "import matplotlib.pyplot as plt\n",
    "\n",
    "from datetime import datetime, timedelta\n",
    "\n",
    "from os import listdir, walk\n",
    "from os.path import isfile, join"
   ]
  },
  {
   "cell_type": "code",
   "execution_count": 3,
   "metadata": {},
   "outputs": [],
   "source": [
    "def calc_sec(time):\n",
    "    hms = time.split(':')\n",
    "    hms = [float(x) for x in hms]\n",
    "    sec = hms[2] + hms[1]*60 + hms[0]*3600\n",
    "    sec = round(sec,3)\n",
    "    return sec"
   ]
  },
  {
   "cell_type": "code",
   "execution_count": 4,
   "metadata": {},
   "outputs": [],
   "source": [
    "def calc_ts(sec):\n",
    "    ts = ''\n",
    "    hr = int(sec/3600)\n",
    "    mn = int((sec - (hr*3600))/60)\n",
    "    sc = sec - (hr*3600) - (mn*60)\n",
    "    sc = round(sc,3)\n",
    "    ts += str(hr) + ':' + str(mn) + ':' + str(sc)\n",
    "    # print(ts)\n",
    "    return ts"
   ]
  },
  {
   "cell_type": "code",
   "execution_count": 5,
   "metadata": {},
   "outputs": [],
   "source": [
    "mypath = 'DDC_Data/'\n",
    "nectec_dir = 'NECTEC_Data/'"
   ]
  },
  {
   "cell_type": "code",
   "execution_count": 6,
   "metadata": {},
   "outputs": [],
   "source": [
    "filepath = mypath + 'calibration.csv'\n",
    "\n",
    "df_c = pd.read_csv(filepath, header=2, names=['sensor_id','timestamp','count','x','y','z',\n",
    "                                                  'gyro_x','gyro_y','gyro_z','mag_x','mag_y','mag_z','mark'])\n",
    "\n",
    "df_c['timestamp'] = df_c['timestamp'].apply(lambda x: (datetime.utcfromtimestamp(x/1000) + timedelta(hours=7)).strftime('%Y-%m-%d %H:%M:%S.%f'))\n",
    "\n",
    "xyz_cols = ['x','y','z']\n",
    "k = 1000\n",
    "\n",
    "df_c['x'] = df_c['x'].apply(lambda x: -1*x/k)\n",
    "df_c['y'] = df_c['y'].apply(lambda x: -1*x/k)\n",
    "df_c['z'] = df_c['z'].apply(lambda x: x/k)\n",
    "\n",
    "cols = ['timestamp','x','y','z']\n",
    "df = df_c[cols].dropna()\n",
    "df = df.reset_index(drop=True)"
   ]
  },
  {
   "cell_type": "code",
   "execution_count": 13,
   "metadata": {},
   "outputs": [],
   "source": [
    "timer_path = mypath + 'calibration_timer.csv'\n",
    "\n",
    "df_timer = pd.read_csv(timer_path)\n",
    "df_timer['start'] = df_timer['timestamp'].apply(lambda x: x.split(' ')[1])\n",
    "\n",
    "finish_arr = [calc_ts(calc_sec(df_timer.loc[i, 'timestamp'].split(' ')[1]) \n",
    "                      + calc_sec(df_timer.loc[i, 'duration'])) \n",
    "              for i in range(len(df_timer))]\n",
    "df_timer['finish'] = pd.Series(finish_arr)\n",
    "\n",
    "cols = ['position', 'timestamp', 'start', 'finish']\n",
    "# df_timer[cols]"
   ]
  },
  {
   "cell_type": "code",
   "execution_count": 8,
   "metadata": {},
   "outputs": [
    {
     "name": "stdout",
     "output_type": "stream",
     "text": [
      "[[106, 332], [1857, 2087], [2213, 2440], [2733, 2949], [3834, 4061], [4171, 4387]]\n"
     ]
    }
   ],
   "source": [
    "ts_idx = []\n",
    "idx_timer = 0\n",
    "\n",
    "for i in range(len(df)):\n",
    "    ts = calc_sec(df.loc[i, 'timestamp'].split(' ')[1])\n",
    "    if(ts>calc_sec(df_timer.loc[idx_timer, 'finish'])\n",
    "      and idx_timer<len(df_timer)-1):\n",
    "        idx_timer += 1\n",
    "    if(ts>=calc_sec(df_timer.loc[idx_timer, 'start'])\n",
    "      and ts<=calc_sec(df_timer.loc[idx_timer, 'finish'])):\n",
    "        ts_idx.append(i)\n",
    "\n",
    "\n",
    "ts_periods = []\n",
    "keep_idx = ts_idx[0]\n",
    "for i in range(len(ts_idx)):\n",
    "    if(i+1<len(ts_idx) and ts_idx[i+1]-ts_idx[i]>1):\n",
    "        ts_periods.append([keep_idx, ts_idx[i]])\n",
    "        keep_idx = ts_idx[i+1]\n",
    "    if(i==len(ts_idx)-1):\n",
    "        ts_periods.append([keep_idx, ts_idx[i]])\n",
    "        \n",
    "# print(ts_periods)"
   ]
  },
  {
   "cell_type": "code",
   "execution_count": 12,
   "metadata": {},
   "outputs": [],
   "source": [
    "arange_ = [np.arange(tsp[0], tsp[1]+1) for tsp in ts_periods]\n",
    "arange_arr = np.apply_along_axis(np.hstack, 0, arange_)\n",
    "\n",
    "del_rows = [i for i in range(len(df)) if not i in arange_arr]\n",
    "\n",
    "df_cl = df_c.drop(del_rows, axis=0)\n",
    "df_cl = df_cl.reset_index(drop=True)\n",
    "\n",
    "calib_lbl = []\n",
    "\n",
    "for i in range(len(df_cl)):\n",
    "    for j in range(len(ts_periods)):\n",
    "        if(int(df_cl.loc[i, 'count'])>=ts_periods[j][0] and int(df_cl.loc[i, 'count'])<=ts_periods[j][1]):\n",
    "            calib_lbl.append(j+1)\n",
    "        \n",
    "df_cl['label'] = pd.Series(calib_lbl)\n",
    "\n",
    "cols = ['timestamp','x','y','z','label']\n",
    "# df_cl[cols].to_csv(mypath + 'calib-nectec.csv')"
   ]
  },
  {
   "cell_type": "code",
   "execution_count": 28,
   "metadata": {},
   "outputs": [
    {
     "name": "stdout",
     "output_type": "stream",
     "text": [
      "min_values:  [1.793, 0.769, 4.863]\n",
      "max_values:  [9.345, 8.449, 13.109]\n"
     ]
    }
   ],
   "source": [
    "min_idx = [3,5,1]\n",
    "max_idx = [4,0,2]\n",
    "cols = ['x', 'y', 'z']\n",
    "\n",
    "min_vals = []\n",
    "max_vals = []\n",
    "\n",
    "for j in range(3):\n",
    "    min_vals.append(round(np.mean([df_c.loc[i, cols[j]] for i in arange_[min_idx[j]]]), 3))\n",
    "    max_vals.append(round(np.mean([df_c.loc[i, cols[j]] for i in arange_[max_idx[j]]]), 3))\n",
    "    \n",
    "print('min_values: ', min_vals)\n",
    "print('max_values: ', max_vals)"
   ]
  }
 ],
 "metadata": {
  "kernelspec": {
   "display_name": "Python 3",
   "language": "python",
   "name": "python3"
  },
  "language_info": {
   "codemirror_mode": {
    "name": "ipython",
    "version": 3
   },
   "file_extension": ".py",
   "mimetype": "text/x-python",
   "name": "python",
   "nbconvert_exporter": "python",
   "pygments_lexer": "ipython3",
   "version": "3.6.6"
  }
 },
 "nbformat": 4,
 "nbformat_minor": 2
}
