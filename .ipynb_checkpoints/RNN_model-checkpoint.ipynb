{
 "cells": [
  {
   "cell_type": "code",
   "execution_count": 1,
   "metadata": {},
   "outputs": [
    {
     "name": "stderr",
     "output_type": "stream",
     "text": [
      "Using TensorFlow backend.\n"
     ]
    }
   ],
   "source": [
    "import numpy as np\n",
    "import pandas as pd\n",
    "import matplotlib.pyplot as plt\n",
    "import os\n",
    "import math\n",
    "import keras\n",
    "\n",
    "from keras import metrics\n",
    "from keras import callbacks\n",
    "from keras import models\n",
    "\n",
    "from keras.models import Sequential\n",
    "from keras.layers import Conv1D, MaxPooling1D\n",
    "from keras.layers import Dense, Activation, Dropout\n",
    "from keras.layers import GRU, Input, concatenate, ConvLSTM2D, LSTM\n",
    "from keras.callbacks import ModelCheckpoint, EarlyStopping, LearningRateScheduler"
   ]
  },
  {
   "cell_type": "code",
   "execution_count": 2,
   "metadata": {
    "collapsed": true
   },
   "outputs": [],
   "source": [
    "def create_rnn_model(X):\n",
    "      \n",
    "  # RNN layers\n",
    "    gru_layer_1 = GRU(units=GRU_UNITS, \n",
    "                 dropout=0.1, recurrent_dropout=0.1, \n",
    "                 return_sequences=True,\n",
    "                 input_shape=(X.shape[1], X.shape[2]))\n",
    "  \n",
    "    model.add(gru_layer_1)\n",
    "    model.add(Activation('relu'))\n",
    "  \n",
    "    gru_layer_2 = GRU(units=GRU_UNITS_2, \n",
    "                 dropout=0.1, recurrent_dropout=0.1, \n",
    "                 return_sequences=True)\n",
    "\n",
    "    model.add(gru_layer_2)\n",
    "    model.add(Activation('relu'))\n",
    "    \n",
    "    gru_layer_3 = GRU(units=GRU_UNITS_3, \n",
    "                 dropout=0.1, recurrent_dropout=0.1, \n",
    "                 return_sequences=True)\n",
    "\n",
    "    model.add(gru_layer_3)\n",
    "    model.add(Activation('relu'))\n",
    "    \n",
    "    model.add(Dense(256, activation='relu'))\n",
    "  \n",
    "    model.add(gru_layer_2)\n",
    "    model.add(Activation('relu'))\n",
    "    \n",
    "  # Output layers\n",
    "    output = Dense(LABEL_COUNT, activation='softmax')\n",
    "#   drpout = Dropout(0.08, seed=42)\n",
    "    model.add(output)\n",
    "#   model.add(drpout)\n",
    "  \n",
    "    return model"
   ]
  },
  {
   "cell_type": "code",
   "execution_count": null,
   "metadata": {
    "collapsed": true
   },
   "outputs": [],
   "source": [
    "def cnn_model(X):\n",
    "    model = Sequential()\n",
    "    # CNN\n",
    "    model.add(Conv1D(filters,(2),input_shape=(X.shape[1],X.shape[2]), activation='relu'))\n",
    "    model.add(MaxPooling1D(pool_size=(4)))\n",
    "    model.add(Conv1D(filters,(2),input_shape=(X.shape[1],X.shape[2]), activation='relu'))\n",
    "    model.add(MaxPooling1D(pool_size=(4)))\n",
    "    model.add(Flatten())\n",
    "    model.add(Dense(128, activation = 'relu'))\n",
    "    model.add(Dense(LABEL_COUNT , activation='softmax'))\n",
    "    return model"
   ]
  },
  {
   "cell_type": "code",
   "execution_count": null,
   "metadata": {
    "collapsed": true
   },
   "outputs": [],
   "source": [
    "def lstm_model(X):\n",
    "    model = Sequential()\n",
    "    model.add(LSTM(50, return_sequences=True, input_shape=(X.shape[1], X.shape[2])))\n",
    "    model.add(Dropout(0.2))\n",
    "    model.add(LSTM(100, return_sequences=False))\n",
    "    model.add(Dropout(0.2))\n",
    "    model.add(Dense(256, activation='relu'))\n",
    "    model.add(Dropout(0.2))\n",
    "    model.add(Dense(128, activation='relu'))\n",
    "    model.add(Dense(LABEL_COUNT, activation= 'softmax'))\n",
    "    return model"
   ]
  },
  {
   "cell_type": "code",
   "execution_count": 2,
   "metadata": {
    "collapsed": true
   },
   "outputs": [],
   "source": [
    "def compile_model(rnn_model):\n",
    "    optimizer = keras.optimizers.Adam(lr=initial_lrate)\n",
    "\n",
    "    rnn_model.compile(optimizer=optimizer,\n",
    "                  loss=keras.losses.categorical_crossentropy,\n",
    "                  metrics=[metrics.categorical_accuracy])\n",
    "    \n",
    "    return rnn_model"
   ]
  },
  {
   "cell_type": "code",
   "execution_count": 5,
   "metadata": {
    "collapsed": true
   },
   "outputs": [],
   "source": [
    "drop = 0.9\n",
    "epochs_drop = 9.0\n",
    "initial_lrate = 0.001\n",
    "\n",
    "BATCH_SIZE = 50\n",
    "EPOCHS = 50\n",
    "\n",
    "GRU_UNITS = 90\n",
    "GRU_UNITS_2 = 90\n",
    "GRU_UNITS_3 = 90\n",
    "\n",
    "decay_rate = []"
   ]
  },
  {
   "cell_type": "code",
   "execution_count": 4,
   "metadata": {
    "collapsed": true
   },
   "outputs": [],
   "source": [
    "def scheduler(epoch):\n",
    "    lrate = initial_lrate * math.pow(drop, math.floor((epoch)/epochs_drop))\n",
    "    decay_rate.append(lrate)\n",
    "  \n",
    "    return lrate"
   ]
  },
  {
   "cell_type": "code",
   "execution_count": 8,
   "metadata": {
    "collapsed": true
   },
   "outputs": [],
   "source": [
    "basepath = ''\n",
    "chkpoint_path = basepath + 'model_chkpoints/weights.best.hdf5'\n",
    "\n",
    "model_chkpoint = ModelCheckpoint(chkpoint_path, verbose=0, save_best_only=True, save_weights_only=True)\n",
    "early_stop = EarlyStopping(monitor='categorical_accuracy', min_delta=0.1, patience=10, verbose=0)\n",
    "lrate = LearningRateScheduler(scheduler, verbose=1)"
   ]
  },
  {
   "cell_type": "code",
   "execution_count": 3,
   "metadata": {
    "collapsed": true
   },
   "outputs": [],
   "source": [
    "def train_model(rnn_model, X_train, y_train, X_val, y_val):\n",
    "    model_fit = rnn_model.fit(X_train, y_train,\n",
    "                     batch_size=BATCH_SIZE,\n",
    "                     epochs=EPOCHS,\n",
    "                     validation_data=(X_val, y_val),\n",
    "                     verbose=1,\n",
    "                     callbacks=[model_chkpoint, early_stop, lrate])\n",
    "    \n",
    "    plt.plot(model_fit.history['categorical_accuracy'])\n",
    "    plt.title('Categorical Acc. for GRU Units: ' + str(GRU_UNITS) + ', GRU Units (2): ' + str(GRU_UNITS_2) + ' ,and Batch_size: ' + str(BATCH_SIZE))\n",
    "\n",
    "#     plt.savefig(basepath + 'Graphs/RNN_accuracy_' + str(GRU_UNITS) + '_' + str(GRU_UNITS_2) + '_' + str(BATCH_SIZE) + '.png', dpi=200)\n",
    "    plt.show()\n",
    "    \n",
    "    return rnn_model"
   ]
  },
  {
   "cell_type": "code",
   "execution_count": 6,
   "metadata": {
    "collapsed": true
   },
   "outputs": [],
   "source": [
    "def get_y_predict(rnn_model, X_test):\n",
    "    rnn_model.load_weights(chkpoint_path)\n",
    "    y_pred = rnn_model.predict(X_test, batch_size=BATCH_SIZE)\n",
    "    \n",
    "    return y_pred"
   ]
  },
  {
   "cell_type": "code",
   "execution_count": 10,
   "metadata": {
    "collapsed": true
   },
   "outputs": [],
   "source": [
    "# get the max probability for label binarized y value\n",
    "def convert_y(y):\n",
    "  y_conv = [j for i in range(len(y)) for j in range(len(y[i][0])) if y[i][0][j]==np.amax(y[i][0])]\n",
    "  return np.array(y_conv)"
   ]
  },
  {
   "cell_type": "code",
   "execution_count": 9,
   "metadata": {
    "collapsed": true
   },
   "outputs": [],
   "source": [
    "def get_label(y_test, y_pred):\n",
    "    y_t = convert_y(y_test)\n",
    "    y_p = convert_y(y_pred)"
   ]
  }
 ],
 "metadata": {
  "kernelspec": {
   "display_name": "Python 3",
   "language": "python",
   "name": "python3"
  },
  "language_info": {
   "codemirror_mode": {
    "name": "ipython",
    "version": 3
   },
   "file_extension": ".py",
   "mimetype": "text/x-python",
   "name": "python",
   "nbconvert_exporter": "python",
   "pygments_lexer": "ipython3",
   "version": "3.6.6"
  }
 },
 "nbformat": 4,
 "nbformat_minor": 2
}
