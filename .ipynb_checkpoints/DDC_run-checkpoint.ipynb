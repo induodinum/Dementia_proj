{
 "cells": [
  {
   "cell_type": "markdown",
   "metadata": {
    "colab_type": "text",
    "id": "M7KG93zTnlu0"
   },
   "source": [
    "# Import Core Libraries"
   ]
  },
  {
   "cell_type": "code",
   "execution_count": 56,
   "metadata": {
    "colab": {},
    "colab_type": "code",
    "id": "4AvIBQQQMGyA"
   },
   "outputs": [],
   "source": [
    "import numpy as np\n",
    "import pandas as pd\n",
    "import matplotlib.pyplot as plt\n",
    "import os\n",
    "\n",
    "from os import listdir, walk\n",
    "from os.path import isfile, join\n",
    "\n",
    "from tqdm import tqdm"
   ]
  },
  {
   "cell_type": "markdown",
   "metadata": {
    "colab_type": "text",
    "id": "OPxeSsPMntcW"
   },
   "source": [
    "## Define Methods to be Used"
   ]
  },
  {
   "cell_type": "code",
   "execution_count": 57,
   "metadata": {
    "colab": {},
    "colab_type": "code",
    "id": "PCGmvmupMGyE"
   },
   "outputs": [],
   "source": [
    "def calc_sec(time):\n",
    "    hms = time.split(':')\n",
    "    hms = [float(x) for x in hms]\n",
    "    sec = hms[2] + hms[1]*60 + hms[0]*3600\n",
    "    sec = round(sec,3)\n",
    "    return sec"
   ]
  },
  {
   "cell_type": "code",
   "execution_count": 58,
   "metadata": {
    "colab": {},
    "colab_type": "code",
    "id": "IU4wgjaHMGyG"
   },
   "outputs": [],
   "source": [
    "def calc_ts(sec):\n",
    "    ts = ''\n",
    "    hr = int(sec/3600)\n",
    "    mn = int((sec - (hr*3600))/60)\n",
    "    sc = sec - (hr*3600) - (mn*60)\n",
    "    sc = round(sc,3)\n",
    "    ts += str(hr) + ':' + str(mn) + ':' + str(sc)\n",
    "    # print(ts)\n",
    "    return ts"
   ]
  },
  {
   "cell_type": "code",
   "execution_count": 59,
   "metadata": {
    "colab": {},
    "colab_type": "code",
    "id": "3llujjuIMGyJ"
   },
   "outputs": [],
   "source": [
    "def calc_t_period(dates,secs):\n",
    "    t_period = []\n",
    "    \n",
    "    start_sec = secs[0]\n",
    "    prev_sec = secs[0]\n",
    "    prev_date = dates[0]\n",
    "\n",
    "    for i in range(len(secs)):\n",
    "        curr_sec = secs[i]\n",
    "        diff_sec = curr_sec - prev_sec\n",
    "        curr_date = dates[i]\n",
    "        \n",
    "        if((diff_sec>3.0) and (curr_date==prev_date)):\n",
    "            t_period.append([curr_date,start_sec,prev_sec])\n",
    "            start_sec = curr_sec\n",
    "        elif(curr_date!=prev_date):\n",
    "            t_period.append([prev_date,start_sec,prev_sec])\n",
    "            start_sec = curr_sec\n",
    "            prev_date = curr_date\n",
    "        elif(i==len(secs)-1):\n",
    "            t_period.append([curr_date,start_sec,curr_sec])\n",
    "\n",
    "        prev_sec = curr_sec\n",
    "    \n",
    "    return t_period"
   ]
  },
  {
   "cell_type": "code",
   "execution_count": 60,
   "metadata": {
    "colab": {},
    "colab_type": "code",
    "id": "OuKHbiHSMGyL"
   },
   "outputs": [],
   "source": [
    "def equation_bai(X_i):\n",
    "    all_std = []\n",
    "    \n",
    "    std_i = np.std(X_i,axis=0)\n",
    "    diff_std = std_i**2 - std_i_bar**2\n",
    "    diff_std = (diff_std + 1) / (std_i_bar**2 + 1)\n",
    "    \n",
    "    diff_std_ = std_i**2\n",
    "\n",
    "    all_std.append(diff_std)\n",
    "    \n",
    "    all_std = np.array(all_std)\n",
    "    \n",
    "    ai = np.sum(all_std**2,axis=1)/3\n",
    "    ai[ai<0] = 0\n",
    "    ai = np.sqrt(ai)\n",
    "    \n",
    "    return ai"
   ]
  },
  {
   "cell_type": "code",
   "execution_count": 61,
   "metadata": {
    "colab": {},
    "colab_type": "code",
    "id": "QYzcMBlfMGyO"
   },
   "outputs": [],
   "source": [
    "std_i_bar = [0.00349329,0.00465817,0.00543154]\n",
    "std_i_bar = np.array(std_i_bar)"
   ]
  },
  {
   "cell_type": "markdown",
   "metadata": {
    "colab_type": "text",
    "id": "Im12HZ4kMGyQ"
   },
   "source": [
    "# Load Dataset"
   ]
  },
  {
   "cell_type": "code",
   "execution_count": 62,
   "metadata": {
    "colab": {},
    "colab_type": "code",
    "id": "bc5O4aBzHXZZ"
   },
   "outputs": [],
   "source": [
    "# Retrieve file directories from Google Drive\n",
    "mypath = 'DDC_Data/'\n",
    "basepath = '/'\n",
    "\n",
    "dir_ = [f for f in walk(mypath)]\n",
    "# print(dir_)\n",
    "\n",
    "dir = list(dir_[0])\n",
    "dir[1] = sorted(dir[1])\n",
    "\n",
    "outer_path = dir[0]\n",
    "sub_path = dir[1]\n",
    "\n",
    "folders = [join(outer_path,d) for d in sub_path]\n",
    "\n",
    "files = []\n",
    "for fd in folders:\n",
    "    temp_f = [f for f in listdir(fd) if isfile(join(fd, f)) and f[-3:]=='csv' and f[5:9]!='data' and f[:4]==fd[-4:]]\n",
    "    temp_f = sorted(temp_f)"
   ]
  },
  {
   "cell_type": "markdown",
   "metadata": {
    "colab_type": "text",
    "id": "_KFzSdwixppm"
   },
   "source": [
    "## Retrieve All Timestamp Periods from a File"
   ]
  },
  {
   "cell_type": "code",
   "execution_count": 63,
   "metadata": {
    "colab": {
     "base_uri": "https://localhost:8080/",
     "height": 34
    },
    "colab_type": "code",
    "executionInfo": {
     "elapsed": 23976,
     "status": "ok",
     "timestamp": 1548867461730,
     "user": {
      "displayName": "Korpong Sawataksornchuen",
      "photoUrl": "https://lh4.googleusercontent.com/-Fs38zY4a4Z0/AAAAAAAAAAI/AAAAAAAAEFo/7hYtZAcKXLg/s64/photo.jpg",
      "userId": "00289111090385315496"
     },
     "user_tz": -420
    },
    "id": "P-X1yp3NkW4w",
    "outputId": "34e1ef39-5bb6-4679-979b-7d83428d7c0b"
   },
   "outputs": [
    {
     "name": "stdout",
     "output_type": "stream",
     "text": [
      "['1001', '1002', '1003', '1004', '1005', '1006', '1007', '1008', '2001', '2002']\n"
     ]
    }
   ],
   "source": [
    "all_subjects = []\n",
    "\n",
    "for i in range(1001,1009):\n",
    "    all_subjects.append(str(i))\n",
    "\n",
    "for i in range(2001,2003):\n",
    "    all_subjects.append(str(i))\n",
    "\n",
    "print(all_subjects)"
   ]
  },
  {
   "cell_type": "markdown",
   "metadata": {
    "colab_type": "text",
    "id": "N7ubB3u7fikW"
   },
   "source": [
    "### Identify Subject ID"
   ]
  },
  {
   "cell_type": "code",
   "execution_count": 64,
   "metadata": {
    "colab": {},
    "colab_type": "code",
    "id": "yNd6Kjc08W4t"
   },
   "outputs": [],
   "source": [
    "def identify_subj_id(i):\n",
    "    subject_id = all_subjects[i]\n",
    "\n",
    "    directory = basepath + 'Graphs/' + subject_id\n",
    "\n",
    "    if(not os.path.exists(directory)):\n",
    "        os.makedirs(directory)\n",
    "\n",
    "    return subject_id  "
   ]
  },
  {
   "cell_type": "code",
   "execution_count": 65,
   "metadata": {
    "colab": {},
    "colab_type": "code",
    "id": "Yfy_mwwOLpxE"
   },
   "outputs": [],
   "source": [
    "def load_timer(subject_id):\n",
    "  # Configure starting and ending time values\n",
    "    sid_dir = mypath + '/' + subject_id\n",
    "    sid_files = [f for f in listdir(sid_dir) if f[5:11]=='iphone']\n",
    "\n",
    "    sid_filepath = sid_dir + '/' + sid_files[0]\n",
    "\n",
    "    # Timestamp periods dataframe\n",
    "    timer_df = pd.read_csv(sid_filepath, header=None, names=['sid','label', 'timestamp', 'duration'])\n",
    "\n",
    "    filtered_timer = [i for i in timer_df['sid'] if i==int(subject_id)]\n",
    "\n",
    "    timer_filt = timer_df[timer_df['sid'].isin(filtered_timer)]\n",
    "    timer_filt = timer_filt.reset_index(drop=True)\n",
    "\n",
    "    start_ts = timer_filt.loc[0]['timestamp']\n",
    "    end_ts = timer_filt.loc[len(timer_filt)-1]['timestamp']\n",
    "\n",
    "    rec_date = start_ts[:10]\n",
    "    start_time = start_ts[11:]\n",
    "    end_time = end_ts[11:]\n",
    "\n",
    "    return timer_filt, rec_date, start_time, end_time"
   ]
  },
  {
   "cell_type": "markdown",
   "metadata": {
    "colab_type": "text",
    "id": "ckGgzaG8yQcI"
   },
   "source": [
    "## Create Pandas DataFrame"
   ]
  },
  {
   "cell_type": "code",
   "execution_count": 66,
   "metadata": {
    "colab": {},
    "colab_type": "code",
    "id": "tab99Oq8Hf2f"
   },
   "outputs": [],
   "source": [
    "def load_acc(subject_id):\n",
    "    # Load accelerations\n",
    "    acc_filepath = mypath + '/' + subject_id + '/' + subject_id + '-log_acc.csv'\n",
    "\n",
    "    df = pd.read_csv(acc_filepath, header=None, names=['x','y','z','timestamp'])\n",
    "\n",
    "    filtered = [i for i in df['timestamp'] if i[:10]==rec_date and calc_sec(i[11:])>=calc_sec(start_time) \n",
    "              and calc_sec(i[11:])<=calc_sec(end_time)]\n",
    "\n",
    "    df_filt = df[df['timestamp'].isin(filtered)]\n",
    "    df_filt = df_filt.reset_index(drop=True)\n",
    "\n",
    "    cols = ['timestamp','x','y','z']\n",
    "    df_filt = df_filt[cols]\n",
    "\n",
    "    return df_filt"
   ]
  },
  {
   "cell_type": "code",
   "execution_count": 67,
   "metadata": {
    "colab": {},
    "colab_type": "code",
    "id": "-Y2ftPZIMGyb",
    "scrolled": true
   },
   "outputs": [],
   "source": [
    "def load_hr(subject_id):\n",
    "    # Load heart rate\n",
    "    hr_filepath = mypath + '/' + subject_id + '/' + subject_id + '-log_hr.csv'\n",
    "\n",
    "    df2 = pd.read_csv(hr_filepath, header=None, names=['hr','timestamp'])\n",
    "\n",
    "    filtered = [i for i in df2['timestamp'] if i[:10]==rec_date and calc_sec(i[11:])>=calc_sec(start_time) \n",
    "              and calc_sec(i[11:])<=calc_sec(end_time)]\n",
    "\n",
    "    df_hr = df2[df2['timestamp'].isin(filtered)]\n",
    "    df_hr = df_hr.reset_index(drop=True)\n",
    "\n",
    "    cols = ['timestamp','hr']\n",
    "    df_hr = df_hr[cols]\n",
    "\n",
    "    return df_hr"
   ]
  },
  {
   "cell_type": "code",
   "execution_count": 68,
   "metadata": {
    "colab": {},
    "colab_type": "code",
    "id": "ApcSORO-983r"
   },
   "outputs": [],
   "source": [
    "def preprocess_ai_data(df_filt, df_hr):\n",
    "    # Fill in missing HRs\n",
    "    hr_cnt = 0\n",
    "\n",
    "    for i in range(len(df_filt)):\n",
    "        hr_time = df_hr.loc[hr_cnt,'timestamp'].split(' ')[1]\n",
    "        filt_time = df_filt.loc[i,'timestamp'].split(' ')[1]\n",
    "\n",
    "        if(calc_sec(hr_time)<=calc_sec(filt_time)):\n",
    "            if(hr_cnt<len(df_hr)-1):\n",
    "                hr_cnt += 1\n",
    "        df_filt.loc[i,'HR'] = df_hr.loc[hr_cnt,'hr']\n",
    "\n",
    "    # Normalize by dividing by g (standard gravity)\n",
    "    g = 9.8\n",
    "    df_filt.loc[:,'x'] = df_filt['x'].apply(lambda x: x/g)\n",
    "    df_filt.loc[:,'y'] = df_filt['y'].apply(lambda x: x/g)\n",
    "    df_filt.loc[:,'z'] = df_filt['z'].apply(lambda x: x/g)\n",
    "\n",
    "    return df_filt"
   ]
  },
  {
   "cell_type": "markdown",
   "metadata": {
    "colab_type": "text",
    "id": "wAphRG9sMGyq"
   },
   "source": [
    "# Calculate Activity Index"
   ]
  },
  {
   "cell_type": "code",
   "execution_count": 69,
   "metadata": {
    "colab": {},
    "colab_type": "code",
    "id": "cPWGl1kAMGyr"
   },
   "outputs": [],
   "source": [
    "def calc_ai(df1):\n",
    "    H = 10\n",
    "    ai1 = []\n",
    "\n",
    "    for i in range(len(df1)):\n",
    "        xyz_val = []\n",
    "        if(i-H>=0):\n",
    "            for j in range(H,0,-1):\n",
    "                xyz_val.append([df1.iloc[i-j,1],df1.iloc[i-j,2],df1.iloc[i-j,3]])\n",
    "            ai_val = float(equation_bai(xyz_val))\n",
    "            ai1.append(ai_val)\n",
    "        else:\n",
    "            ai1.append(1)\n",
    "\n",
    "    return ai1"
   ]
  },
  {
   "cell_type": "markdown",
   "metadata": {
    "colab_type": "text",
    "id": "sBf-79SBMGy0"
   },
   "source": [
    "## Colors for Each Acitivity"
   ]
  },
  {
   "cell_type": "code",
   "execution_count": 72,
   "metadata": {
    "colab": {},
    "colab_type": "code",
    "id": "Js5uxjRNzSpn"
   },
   "outputs": [],
   "source": [
    "def prepare_time_periods(timer_filt):\n",
    "    t_ = [calc_sec(t.split(' ')[1]) for t in timer_filt['timestamp']]\n",
    "    duration = [d for d in timer_filt['duration']]\n",
    "    lb_ = [lb for lb in timer_filt['label']]\n",
    "\n",
    "    t_end = [t_[i]+calc_sec(duration[i]) for i in range(len(t_))]\n",
    "\n",
    "    # print(t_)\n",
    "    # print(duration)\n",
    "    # print(t_end)  \n",
    "\n",
    "    ts_ = []\n",
    "    labels = []\n",
    "\n",
    "    for i in range(len(t_)):\n",
    "        ts_.append(calc_sec(duration[i]))\n",
    "        labels.append(lb_[i])\n",
    "        if(i+1<len(t_)-1):\n",
    "            ts_.append(round(t_[i+1]-t_end[i],3))\n",
    "            labels.append('NaN')\n",
    "\n",
    "    # print('-----')\n",
    "    # print(ts_)\n",
    "    # print(labels)\n",
    "    # print(len(t_),len(ts_))\n",
    "\n",
    "    return ts_, labels"
   ]
  },
  {
   "cell_type": "code",
   "execution_count": 73,
   "metadata": {
    "colab": {},
    "colab_type": "code",
    "id": "QQ11n_utMGy1",
    "scrolled": true
   },
   "outputs": [],
   "source": [
    "def prepare_color_labels(ts_, labels):\n",
    "  \n",
    "    accum = 0\n",
    "    ts = []\n",
    "    for x in ts_:\n",
    "        accum += x\n",
    "        ts.append(round(accum,3))\n",
    "\n",
    "    lb_set = set()\n",
    "    for x in labels:\n",
    "        lb_set.add(x)\n",
    "\n",
    "    lb_ = list(lb_set)\n",
    "\n",
    "    set_cnt = []\n",
    "    for i in range(len(lb_)):\n",
    "        set_cnt.append(0)\n",
    "\n",
    "    lb = []\n",
    "    lb.append('NaN')\n",
    "\n",
    "    for x in labels:\n",
    "        for i in range(len(lb_)):\n",
    "            if(lb_[i]==x and set_cnt[i]!=1 and lb_[i]!='NaN'):\n",
    "                set_cnt[i] = 1\n",
    "                lb.append(x)\n",
    "\n",
    "    colors = ['#808080', '#E6194B', '#3CB44B', '#FFE119', '#4363D8', '#F58231',\n",
    "            '#911EB4', '#46F0F0', '#F032E6', '#BCF60C', '#008080', '#E6BEFF', \n",
    "            '#9A6324', '#800000', '#AAFFC3', '#808000', '#000075']\n",
    "\n",
    "    color_dict = {}\n",
    "    for i in range(len(lb)):\n",
    "        color_dict[lb[i]] = colors[i]\n",
    "\n",
    "    #   print(color_dict)\n",
    "\n",
    "    lb_color = []\n",
    "    for x in labels:\n",
    "        lb_color.append(color_dict[x])\n",
    "\n",
    "    # print(lb_color)\n",
    "    # print(ts)\n",
    "\n",
    "    return ts, lb_color"
   ]
  },
  {
   "cell_type": "markdown",
   "metadata": {
    "colab_type": "text",
    "id": "gxyyysW_MGy5"
   },
   "source": [
    "## Plot Acc, AI with Colors"
   ]
  },
  {
   "cell_type": "code",
   "execution_count": 74,
   "metadata": {
    "colab": {},
    "colab_type": "code",
    "id": "OSve2IOgMGy6",
    "scrolled": false
   },
   "outputs": [],
   "source": [
    "def plot_ai(df1, ts, lb_color):\n",
    "    dict1 = df1.to_dict(orient='list')\n",
    "\n",
    "    fig, axes = plt.subplots(nrows=2, ncols=1, figsize=(16,12))\n",
    "    fig.tight_layout()\n",
    "\n",
    "    ts_cnt = 0\n",
    "    x_axis = []\n",
    "    y_ai = []\n",
    "\n",
    "    ax = axes[0]\n",
    "    ax.plot(dict1['x'],color='r',label='X')\n",
    "    ax.plot(dict1['y'],color='g',label='Y')\n",
    "    ax.plot(dict1['z'],color='b',label='Z')\n",
    "    ax.legend(loc='upper right')\n",
    "    ax.set_title('X,Y,Z')\n",
    "\n",
    "    ax = axes[1]\n",
    "    for i in range(len(dict1['timestamp'])):\n",
    "        if(dict1['AI'][i]>0):\n",
    "            if(calc_sec(dict1['timestamp'][i].split(' ')[1])>calc_sec(start_time)+ts[ts_cnt]):\n",
    "                ax.plot(x_axis,y_ai,color=lb_color[ts_cnt])\n",
    "                ts_cnt += 1\n",
    "                x_axis = []\n",
    "                y_ai = []\n",
    "\n",
    "            elif(ts_cnt==len(lb_color)-1):\n",
    "                ax.plot(x_axis,y_ai,color=lb_color[ts_cnt])\n",
    "\n",
    "            x_axis.append(i)\n",
    "            y_ai.append(dict1['AI'][i])\n",
    "\n",
    "    ax.set_title('Activity Index')\n",
    "\n",
    "    # ax = axes[2]\n",
    "    # ax.plot(dict1['HR'],label='HR')\n",
    "    # ax.set_ylim(bottom=30,top=110)\n",
    "    # ax.legend(loc='upper right')\n",
    "    # ax.set_title('Heart Rate')\n",
    "\n",
    "    fig.savefig(basepath + 'Graphs/' + subject_id + '/' + subject_id + '_ddc_run.png', dpi = 300)\n",
    "\n",
    "    #   plt.show()\n",
    "    plt.close(fig)"
   ]
  },
  {
   "cell_type": "markdown",
   "metadata": {
    "colab_type": "text",
    "id": "TLLYn-wvCypg"
   },
   "source": [
    "# AI Function"
   ]
  },
  {
   "cell_type": "code",
   "execution_count": 75,
   "metadata": {
    "colab": {},
    "colab_type": "code",
    "id": "wNB7iUIjBphx"
   },
   "outputs": [],
   "source": [
    "def ai(subject_id):\n",
    "    df_filt = load_acc(subject_id)\n",
    "    df_hr = load_hr(subject_id)\n",
    "\n",
    "    df1 = preprocess_ai_data(df_filt, df_hr)\n",
    "    ai1 = calc_ai(df1)\n",
    "\n",
    "    df1['AI'] = pd.Series(ai1)\n",
    "\n",
    "    ts_, labels = prepare_time_periods(df_timer)\n",
    "    ts, lb_color = prepare_color_labels(ts_, labels)\n",
    "\n",
    "    #   print(ts_, lb_color)\n",
    "\n",
    "    return df1, ai1, ts, lb_color"
   ]
  },
  {
   "cell_type": "markdown",
   "metadata": {
    "colab_type": "text",
    "id": "Eaj78Lu7LCzC"
   },
   "source": [
    "# Separate by Labels of Activity"
   ]
  },
  {
   "cell_type": "code",
   "execution_count": 76,
   "metadata": {
    "colab": {},
    "colab_type": "code",
    "id": "1PWtwNCfO0aJ"
   },
   "outputs": [],
   "source": [
    "class period:\n",
    "    def __init__(self, s, f):\n",
    "        self.s = s\n",
    "        self.f = f"
   ]
  },
  {
   "cell_type": "code",
   "execution_count": 78,
   "metadata": {
    "colab": {},
    "colab_type": "code",
    "id": "aRSUd7F_LB8s"
   },
   "outputs": [],
   "source": [
    "def separate_label(df1, df_timer, df_list, labels):\n",
    "#   print(df_timer)\n",
    "  \n",
    "    df_label = df_timer.groupby('label')\n",
    "    td_col = ['timestamp','duration']\n",
    "\n",
    "    for x in df_label:\n",
    "    # x[0] is a label\n",
    "    # x[1] is a groupby object\n",
    "\n",
    "        df_label_x = df_label.get_group(x[0])\n",
    "        df_label_x = df_label_x.reset_index(drop=True)\n",
    "\n",
    "        temp_ts = [period(df_label_x.loc[a]['timestamp'].split(' ')[1], \n",
    "                    calc_ts( calc_sec(df_label_x.loc[a]['timestamp'].split(' ')[1])+calc_sec(df_label_x.loc[a]['duration']) )) \n",
    "                    for a in range(len(df_label_x))]\n",
    "\n",
    "    for a in temp_ts:\n",
    "        filter_ = [i for i in df1['timestamp'] \n",
    "                if calc_sec(i.split(' ')[1])>=calc_sec(a.s) and calc_sec(i.split(' ')[1])<=calc_sec(a.f)]\n",
    "\n",
    "        df1_new = df1[df1['timestamp'].isin(filter_)]\n",
    "        df1_new = df1_new.reset_index(drop=True)\n",
    "\n",
    "        for i in range(len(labels)):\n",
    "            if(labels[i]==x[0]):\n",
    "                df_list[i] = df_list[i].append(df1_new)\n",
    "\n",
    "    return df_list    "
   ]
  },
  {
   "cell_type": "markdown",
   "metadata": {
    "colab_type": "text",
    "id": "ab4FcgjDeFIw"
   },
   "source": [
    "## Dataframe List Grouped by Label"
   ]
  },
  {
   "cell_type": "code",
   "execution_count": 79,
   "metadata": {
    "colab": {},
    "colab_type": "code",
    "id": "N0yRixQnLqNd"
   },
   "outputs": [],
   "source": [
    "def group_dataframe(df1, df_timer):\n",
    "    df_list = []\n",
    "    cols = ['timestamp','x','y','z','HR','AI']\n",
    "\n",
    "    lbl = set()\n",
    "    for tm in range(len(df_timer)):\n",
    "        lbl.add(df_timer.loc[tm]['label'])\n",
    "\n",
    "    LABELS = sorted(list(lbl))\n",
    "\n",
    "    # dictionary mapped from activity label to index\n",
    "    label_dict = {\n",
    "      'downstairs': 0,\n",
    "      'sit': 1,\n",
    "      'sleep': 2,\n",
    "      'stand': 3,\n",
    "      'upstairs': 4,\n",
    "      'walk': 5\n",
    "    }\n",
    "\n",
    "    for i in range(len(LABELS)):\n",
    "        df_null = pd.DataFrame(columns=cols)\n",
    "        df_null = df_null.fillna(0)\n",
    "\n",
    "        df_list.append(df_null)\n",
    "\n",
    "    df_list = separate_label(df1, df_timer, df_list, LABELS)\n",
    "\n",
    "    for i in range(len(df_list)):\n",
    "        df_list[i] = df_list[i].reset_index(drop=True)\n",
    "\n",
    "    return df_list, label_dict"
   ]
  },
  {
   "cell_type": "markdown",
   "metadata": {
    "colab_type": "text",
    "id": "EcHxUgE1Xpra"
   },
   "source": [
    "## Show Plots of Grouped Dataframe"
   ]
  },
  {
   "cell_type": "code",
   "execution_count": 81,
   "metadata": {
    "colab": {},
    "colab_type": "code",
    "id": "8GBYWBIOVqEF"
   },
   "outputs": [],
   "source": [
    "def plot_grouped_df(df_list, label_dict):\n",
    "    xyz = ['x','y','z']\n",
    "    xyz_color = ['r','g','b']\n",
    "\n",
    "    for x in label_dict:\n",
    "    #     print(label_dict[x])\n",
    "\n",
    "        figure = plt.figure(figsize=(20,6))\n",
    "        figure.tight_layout()\n",
    "\n",
    "        cnt = 1\n",
    "\n",
    "        for i in range(len(xyz)):\n",
    "            ax = plt.subplot(1, len(xyz), cnt)\n",
    "\n",
    "            ax.set_ylim(top=1.5, bottom=-3.0)\n",
    "            ax.plot(df_list[label_dict[x]][xyz[i]], label=xyz[i], color=xyz_color[i])\n",
    "            ax.legend(loc='upper right')\n",
    "            ax.set_title(xyz[i] + '-axis for activity ' + x + ' subject no. ' + subject_id)\n",
    "\n",
    "            cnt += 1\n",
    "\n",
    "        figure.savefig(basepath + 'Graphs/ddc_' + x + '/' + subject_id + '.png', dpi=300)\n",
    "\n",
    "    #     plt.show()\n",
    "\n",
    "    # close the figure\n",
    "    plt.close(figure) "
   ]
  },
  {
   "cell_type": "markdown",
   "metadata": {
    "colab_type": "text",
    "id": "TVZZSnxRBQR-"
   },
   "source": [
    "# Classification by Algorithms"
   ]
  },
  {
   "cell_type": "markdown",
   "metadata": {
    "colab_type": "text",
    "id": "KfxXjfY-MGzE"
   },
   "source": [
    "## Classify Walking"
   ]
  },
  {
   "cell_type": "code",
   "execution_count": 82,
   "metadata": {
    "colab": {},
    "colab_type": "code",
    "id": "CIWZEU12MGzF"
   },
   "outputs": [],
   "source": [
    "def fluc(df1,axis,rs,rf,diff=0.15):\n",
    "    cnt = 0\n",
    "    mult = 0\n",
    "    j = 1\n",
    "\n",
    "    i = rs\n",
    "    while(i<rf):\n",
    "        if(abs(df1[axis][i+j]-df1[axis][i])>diff):\n",
    "            if(cnt==0):\n",
    "                if(df1[axis][i+j]>df1[axis][i]):\n",
    "                    mult = 1\n",
    "                else:\n",
    "                    mult = -1\n",
    "                cnt += 1\n",
    "            else:\n",
    "                if((df1[axis][i+j]>df1[axis][i] and mult==-1) or \n",
    "                   (df1[axis][i+j]<df1[axis][i] and mult==1)):\n",
    "                    mult *= -1\n",
    "                    cnt += 1\n",
    "            i += j-1  \n",
    "        else:\n",
    "            if(cnt==0):\n",
    "                if(df1[axis][i+j]>df1[axis][i]):\n",
    "                    mult = 1\n",
    "                else:\n",
    "                    mult = -1\n",
    "        i += 1\n",
    "\n",
    "    return cnt"
   ]
  },
  {
   "cell_type": "code",
   "execution_count": 84,
   "metadata": {
    "colab": {},
    "colab_type": "code",
    "id": "7TJA5uUvMGzI",
    "scrolled": false
   },
   "outputs": [
    {
     "ename": "IndentationError",
     "evalue": "expected an indented block (<ipython-input-84-5422ba38e42f>, line 27)",
     "output_type": "error",
     "traceback": [
      "\u001b[1;36m  File \u001b[1;32m\"<ipython-input-84-5422ba38e42f>\"\u001b[1;36m, line \u001b[1;32m27\u001b[0m\n\u001b[1;33m    walk[i] = list(walk[i])\u001b[0m\n\u001b[1;37m       ^\u001b[0m\n\u001b[1;31mIndentationError\u001b[0m\u001b[1;31m:\u001b[0m expected an indented block\n"
     ]
    }
   ],
   "source": [
    "def calc_walk(df1, step=10):\n",
    "    s = 0\n",
    "    f = len(df1)\n",
    "\n",
    "    thres = 2\n",
    "\n",
    "    walk = [set(),set(),set()]\n",
    "    arr = [[],[],[]]\n",
    "    ax = ['x','y','z']\n",
    "    diff_arr = [0.15,0.015,0.04]\n",
    "    axes = 3\n",
    "\n",
    "    for i in range(s,f,step):\n",
    "        for j in range(axes):\n",
    "            if(i+step<f):\n",
    "                arr[j].append(fluc(df1,ax[j],i,i+step,diff=diff_arr[j]))\n",
    "            else:\n",
    "                arr[j].append(fluc(df1,ax[j],i,f-1,diff=diff_arr[j]))\n",
    "            if(len(arr[j])>=6 and \n",
    "                arr[j][-6]>=thres and arr[j][-5]>=thres and \n",
    "                arr[j][-4]>=thres and arr[j][-3]>=thres and \n",
    "                arr[j][-2]>=thres and arr[j][-1]>=thres):\n",
    "                for k in range(6):\n",
    "                    walk[j].add(i-k*step)\n",
    "\n",
    "    for i in range(axes):\n",
    "        walk[i] = list(walk[i])\n",
    "        walk[i] = sorted(walk[i])\n",
    "\n",
    "    return walk"
   ]
  },
  {
   "cell_type": "code",
   "execution_count": null,
   "metadata": {
    "colab": {},
    "colab_type": "code",
    "id": "s_DyQoPqDjZo"
   },
   "outputs": [],
   "source": [
    "def intersection(lst1, lst2): \n",
    "    return [value for value in lst1 if value in lst2] "
   ]
  },
  {
   "cell_type": "code",
   "execution_count": null,
   "metadata": {
    "colab": {},
    "colab_type": "code",
    "id": "diuB-SVSMGzL"
   },
   "outputs": [],
   "source": [
    "def intersection_walk(walk):\n",
    "  \n",
    "    walk_its = intersection(walk[0],walk[1])\n",
    "    walk_its = intersection(walk_its,walk[2])\n",
    "\n",
    "    # print(walk[0])\n",
    "    # print(walk[1])\n",
    "    # print(walk[2])\n",
    "    #   print(walk_its)\n",
    "\n",
    "    return walk_its"
   ]
  },
  {
   "cell_type": "code",
   "execution_count": null,
   "metadata": {
    "colab": {},
    "colab_type": "code",
    "id": "8YAdzraIMGzS"
   },
   "outputs": [],
   "source": [
    "def calc_walk_periods(walk_its, step=10):\n",
    "    walk_its_p = []\n",
    "    kp = walk_its[0]\n",
    "\n",
    "    for i in range(len(walk_its)):\n",
    "        if(i+1<=len(walk_its)-1 and walk_its[i+1]-walk_its[i]>step):\n",
    "            walk_its_p.append(period(kp,walk_its[i]))\n",
    "            kp = walk_its[i+1]\n",
    "\n",
    "        if(i==len(walk_its)-1 and walk_its[i]-walk_its[i-1]==step):\n",
    "            walk_its_p.append(period(kp,walk_its[i]))\n",
    "\n",
    "    #   print(len(walk_its_p))\n",
    "\n",
    "    #   for x in walk_its_p:\n",
    "    #       print(x.s,x.f)\n",
    "\n",
    "    return walk_its_p"
   ]
  },
  {
   "cell_type": "code",
   "execution_count": null,
   "metadata": {
    "colab": {},
    "colab_type": "code",
    "id": "5ZBPKNPLFWnG"
   },
   "outputs": [],
   "source": []
  },
  {
   "cell_type": "markdown",
   "metadata": {
    "colab_type": "text",
    "id": "03Z6yDX7MGzU"
   },
   "source": [
    "## Classify Inactive"
   ]
  },
  {
   "cell_type": "code",
   "execution_count": null,
   "metadata": {
    "colab": {},
    "colab_type": "code",
    "id": "wYf-7JvBMGza"
   },
   "outputs": [],
   "source": [
    "def calc_inactive(ai1):\n",
    "    # Slide windows by 1\n",
    "    # Each window length is at least 50\n",
    "    ki = -1\n",
    "    kj = -1\n",
    "    s = []\n",
    "\n",
    "    SD_THRES = 0.002\n",
    "    WINDOW_LEN = 50\n",
    "\n",
    "    for i in tqdm(range(0,len(ai1)-1)):\n",
    "        if(not(len(s)!=0 and s[-1].s==ki and s[-1].f==kj)):\n",
    "        s.append(period(ki,kj))\n",
    "    for j in range(1,len(ai1)):\n",
    "        if(j-i>=WINDOW_LEN):\n",
    "            if(np.std(ai1[i:j])<SD_THRES):\n",
    "                kj = j\n",
    "                ki = i\n",
    "\n",
    "    return s                  "
   ]
  },
  {
   "cell_type": "code",
   "execution_count": null,
   "metadata": {
    "colab": {},
    "colab_type": "code",
    "id": "pqs4zsM2MGze"
   },
   "outputs": [],
   "source": [
    "def get_sequence(s):\n",
    "  \n",
    "    seq = []\n",
    "    for i in range(len(ai1)):\n",
    "        seq.append(i)\n",
    "\n",
    "    sequence = []\n",
    "    for x in s:\n",
    "        if(x.s in seq and x.f in seq):\n",
    "        for i in range(x.s,x.f+1):\n",
    "            seq.remove(i)\n",
    "        sequence.append(x)\n",
    "\n",
    "    #   for x in sequence:\n",
    "    #       print(x.s,x.f)\n",
    "\n",
    "    return sequence"
   ]
  },
  {
   "cell_type": "markdown",
   "metadata": {
    "colab_type": "text",
    "id": "zJFx9DD9MGzm"
   },
   "source": [
    "# Plot the Classified Activity Index"
   ]
  },
  {
   "cell_type": "markdown",
   "metadata": {
    "colab_type": "text",
    "id": "XR3PTQgKDqx5"
   },
   "source": [
    "### Walking"
   ]
  },
  {
   "cell_type": "code",
   "execution_count": null,
   "metadata": {
    "colab": {},
    "colab_type": "code",
    "id": "S5b-s1YiMGzr"
   },
   "outputs": [],
   "source": [
    "def plot_walk(df1, ai1, walk_its_p):\n",
    "    x_axis = []\n",
    "    y_axis = []\n",
    "\n",
    "    p_idx = 0\n",
    "\n",
    "    fig = plt.figure(figsize=(16,6))\n",
    "\n",
    "    # print(len(walk_its_p))\n",
    "    for i in range(len(df1)):\n",
    "        if(p_idx<len(walk_its_p)):\n",
    "            if(i>=walk_its_p[p_idx].s and i<=walk_its_p[p_idx].f):\n",
    "            #         print('r',i)\n",
    "                x_axis.append(i)\n",
    "                y_axis.append(ai1[i])\n",
    "\n",
    "            if(i==walk_its_p[p_idx].f):\n",
    "                plt.plot(x_axis,y_axis,color='r')\n",
    "                x_axis = []\n",
    "                y_axis = []\n",
    "                p_idx += 1\n",
    "\n",
    "        if(p_idx<len(walk_its_p)):\n",
    "            if(i<=walk_its_p[p_idx].s):\n",
    "            #         print('b++',i)\n",
    "                x_axis.append(i)\n",
    "                y_axis.append(ai1[i])\n",
    "\n",
    "            if(i==walk_its_p[p_idx].s):\n",
    "                plt.plot(x_axis,y_axis,color='b')\n",
    "                x_axis = []\n",
    "                y_axis = []\n",
    "\n",
    "        else:\n",
    "            x_axis.append(i)\n",
    "            y_axis.append(ai1[i])\n",
    "            if(i==len(df1)-1):\n",
    "                plt.plot(x_axis,y_axis,color='b')\n",
    "\n",
    "\n",
    "    fig.savefig(basepath + 'Graphs/' + subject_id + '/' + subject_id + '_ddc_walking.png', dpi=300) \n",
    "    #   plt.show()\n",
    "    plt.close(fig)"
   ]
  },
  {
   "cell_type": "markdown",
   "metadata": {
    "colab_type": "text",
    "id": "EAPxr3LnDnQe"
   },
   "source": [
    "### Inactive"
   ]
  },
  {
   "cell_type": "code",
   "execution_count": null,
   "metadata": {
    "colab": {},
    "colab_type": "code",
    "id": "pxAadMkLevKC"
   },
   "outputs": [],
   "source": [
    "def plot_inactive(df1, ai1, sequence):\n",
    "    x_axis = []\n",
    "    y_axis = []\n",
    "    active = set()\n",
    "    seq_idx = 0\n",
    "    idx = 1 + np.std(ai1)\n",
    "\n",
    "    fig = plt.figure(figsize=(16,6))\n",
    "\n",
    "    for i in range(len(ai1)):\n",
    "        if(seq_idx<len(sequence) and i>=sequence[seq_idx].s and i<=sequence[seq_idx].f):\n",
    "        #         print('r',i)\n",
    "            x_axis.append(i)\n",
    "            y_axis.append(ai1[i])\n",
    "            active.add(ai1[i])\n",
    "\n",
    "        if(seq_idx<len(sequence) and i==sequence[seq_idx].f):\n",
    "            plt.plot(x_axis,y_axis,color='r')\n",
    "            x_axis = []\n",
    "            y_axis = []\n",
    "            seq_idx += 1\n",
    "\n",
    "        if(seq_idx<len(sequence) and i<=sequence[seq_idx].s):\n",
    "        #         print('b++',i)\n",
    "            x_axis.append(i)\n",
    "            y_axis.append(ai1[i])\n",
    "\n",
    "        if(seq_idx<len(sequence) and i==sequence[seq_idx].s):\n",
    "            plt.plot(x_axis,y_axis,color='b')\n",
    "            x_axis = []\n",
    "            y_axis = []\n",
    "\n",
    "\n",
    "    x_axis = []\n",
    "    y_axis = []\n",
    "\n",
    "    p_idx = 0\n",
    "    for i in range(len(df1)):\n",
    "        if(p_idx<len(walk_its_p)):\n",
    "            if(i>=walk_its_p[p_idx].s and i<=walk_its_p[p_idx].f):\n",
    "            #         print('r',i)\n",
    "                x_axis.append(i)\n",
    "                y_axis.append(ai1[i])\n",
    "\n",
    "            if(i==walk_its_p[p_idx].f):\n",
    "                plt.plot(x_axis,y_axis,color='b')\n",
    "                x_axis = []\n",
    "                y_axis = []\n",
    "                p_idx += 1\n",
    "\n",
    "        if(p_idx<len(walk_its_p)):\n",
    "            if(i<=walk_its_p[p_idx].s):\n",
    "            #         print('b++',i)\n",
    "                x_axis.append(i)\n",
    "                y_axis.append(ai1[i])\n",
    "\n",
    "            if(i==walk_its_p[p_idx].s):\n",
    "                # color some red?\n",
    "                x_axis = []\n",
    "                y_axis = []\n",
    "\n",
    "        else:\n",
    "            x_axis.append(i)\n",
    "            y_axis.append(ai1[i])\n",
    "            if(i==len(df1)-1):\n",
    "                plt.plot(x_axis,y_axis,color='r')\n",
    "\n",
    "    fig.savefig(basepath + 'Graphs/' + subject_id + '/' + subject_id + '_inactive.png', dpi=300)          \n",
    "    #   plt.show()\n",
    "    plt.close(fig)"
   ]
  },
  {
   "cell_type": "markdown",
   "metadata": {
    "colab_type": "text",
    "id": "pFB4GlKWy8Vu"
   },
   "source": [
    "# Calculate Other Values"
   ]
  },
  {
   "cell_type": "markdown",
   "metadata": {
    "colab_type": "text",
    "id": "K2fKflppoEeF"
   },
   "source": [
    "## Calculate Roll, Pitch, Yaw"
   ]
  },
  {
   "cell_type": "code",
   "execution_count": null,
   "metadata": {
    "colab": {},
    "colab_type": "code",
    "id": "RZuy5Y8LoJhj"
   },
   "outputs": [],
   "source": [
    "import math"
   ]
  },
  {
   "cell_type": "code",
   "execution_count": null,
   "metadata": {
    "colab": {},
    "colab_type": "code",
    "id": "5ybv4RoyoIm7"
   },
   "outputs": [],
   "source": [
    "def calc_rpy(y, subject_id, colors):\n",
    "#   ax = np.array(df1['x'])\n",
    "#   ay = np.array(df1['y'])\n",
    "#   az = np.array(df1['z'])\n",
    "\n",
    "    ax = np.array(y[0])\n",
    "    ay = np.array(y[1])\n",
    "    az = np.array(y[2])\n",
    "\n",
    "    rpy = []\n",
    "    rpy_labels = ['pitch','roll','yaw']\n",
    "\n",
    "    pitch = 180 * np.arctan(ax/np.sqrt(ay*ay + az*az))/math.pi\n",
    "    rpy.append(pitch)\n",
    "\n",
    "    roll = 180 * np.arctan(ay/np.sqrt(ax*ax + az*az))/math.pi\n",
    "    rpy.append(roll)\n",
    "\n",
    "    yaw = 180 * np.arctan(az/np.sqrt(ax*ax + ay*ay))/math.pi\n",
    "    rpy.append(yaw)\n",
    "\n",
    "    figure, axes = plt.subplots(nrows=len(y), ncols=1, figsize=(16,15))\n",
    "\n",
    "    for i in range(len(y)):\n",
    "        ax = axes[i]\n",
    "\n",
    "        ax.plot(rpy[i],color=colors[i] ,label=rpy_labels[i])\n",
    "\n",
    "    ax.legend(loc='upper right')\n",
    "    ax.set_ylim(top=95, bottom=-95)\n",
    "    ax.set_title(rpy_labels[i] + ' for subject id: ' + subject_id)\n",
    "\n",
    "    figure.savefig(basepath + 'Graphs/' + subject_id + '/' + subject_id + '_ddc_rpy.png', dpi=300) \n",
    "\n",
    "    #   plt.show()\n",
    "    plt.close(figure)\n",
    "\n",
    "    return roll, pitch, yaw"
   ]
  },
  {
   "cell_type": "markdown",
   "metadata": {
    "colab_type": "text",
    "id": "-eNN1Hply1gM"
   },
   "source": [
    "## Calculate Single Magnitude Vector"
   ]
  },
  {
   "cell_type": "code",
   "execution_count": null,
   "metadata": {
    "colab": {},
    "colab_type": "code",
    "id": "YFsUlr6Cy0WP"
   },
   "outputs": [],
   "source": [
    "def calc_smv(y):\n",
    "    ax = np.array(y[0])\n",
    "    ay = np.array(y[1])\n",
    "    az = np.array(y[2])\n",
    "\n",
    "    smv = [[math.sqrt(ax[i]**2 + ay[i]**2 + az[i]**2)] for i in range(len(y[0]))]\n",
    "\n",
    "    #   f, ax = plt.subplots()\n",
    "    #   ax.plot(smv)\n",
    "    #   plt.show()\n",
    "    #   plt.close(f)\n",
    "\n",
    "    return smv"
   ]
  },
  {
   "cell_type": "markdown",
   "metadata": {
    "colab_type": "text",
    "id": "wyuXI7owzjG4"
   },
   "source": [
    "# SVM Classification"
   ]
  },
  {
   "cell_type": "code",
   "execution_count": null,
   "metadata": {
    "colab": {},
    "colab_type": "code",
    "id": "XtBjyOV0zoyC"
   },
   "outputs": [],
   "source": [
    "from sklearn.svm import LinearSVC\n",
    "from sklearn.preprocessing import MinMaxScaler, label_binarize, LabelEncoder\n",
    "from sklearn.metrics import accuracy_score, confusion_matrix"
   ]
  },
  {
   "cell_type": "markdown",
   "metadata": {
    "colab_type": "text",
    "id": "rb5E3Psb2BjM"
   },
   "source": [
    "## Data Preprocessing"
   ]
  },
  {
   "cell_type": "code",
   "execution_count": null,
   "metadata": {
    "colab": {},
    "colab_type": "code",
    "id": "3T4jPPaH2_q1"
   },
   "outputs": [],
   "source": [
    "def normalize_data(series):\n",
    "    series = np.array(series)\n",
    "\n",
    "    scaler = MinMaxScaler(feature_range=(0, 1))\n",
    "    scaler = scaler.fit(series)\n",
    "\n",
    "    return scaler.transform(series)"
   ]
  },
  {
   "cell_type": "code",
   "execution_count": null,
   "metadata": {
    "colab": {},
    "colab_type": "code",
    "id": "R_zJO0HzkCp_"
   },
   "outputs": [],
   "source": [
    "def my_concat(a,b):\n",
    "    for x in b:\n",
    "        a.append(x)\n",
    "\n",
    "    return a"
   ]
  },
  {
   "cell_type": "code",
   "execution_count": null,
   "metadata": {
    "colab": {},
    "colab_type": "code",
    "id": "wl3mIPLZzyd1"
   },
   "outputs": [],
   "source": [
    "def get_training_data(df_list, label_dict):\n",
    "    feature_cols = ['x','y','z']\n",
    "    count = 0\n",
    "\n",
    "    X_train_axes = [[],[],[]]\n",
    "    y_train_axes = [[],[],[]]\n",
    "\n",
    "    for x in label_dict:\n",
    "    #     print(x)\n",
    "\n",
    "    for i in range(len(feature_cols)):\n",
    "        X_series = df_list[label_dict[x]][feature_cols[i]]\n",
    "        y_series = [label_dict[x] for i in range(len(df_list[label_dict[x]][feature_cols[i]]))]\n",
    "\n",
    "        X_train = X_series.values.reshape((len(X_series),1))\n",
    "\n",
    "    #       X_train = normalize_data(X_train)\n",
    "    #       le = LabelEncoder()\n",
    "    #       y_train = y_series\n",
    "\n",
    "      # 'downstairs': 0,\n",
    "      # 'sit': 1,\n",
    "      # 'sleep': 2,\n",
    "      # 'stand': 3,\n",
    "      # 'upstairs': 4,\n",
    "      # 'walk': 5\n",
    "\n",
    "        length = len(X_train)\n",
    "\n",
    "        X_train_axes[i] = my_concat(X_train_axes[i], X_train) \n",
    "        y_train_axes[i] = my_concat(y_train_axes[i], y_series)\n",
    "\n",
    "    X_train_axes = np.array(X_train_axes)\n",
    "    y_train_axes = np.array(y_train_axes)\n",
    "    #     print(length)\n",
    "\n",
    "    return X_train_axes, y_train_axes\n"
   ]
  },
  {
   "cell_type": "markdown",
   "metadata": {
    "colab_type": "text",
    "id": "Sr4mwnAwZd3k"
   },
   "source": [
    "## Wavelet Denoising"
   ]
  },
  {
   "cell_type": "code",
   "execution_count": null,
   "metadata": {
    "colab": {},
    "colab_type": "code",
    "id": "SPsMhRdPZoST"
   },
   "outputs": [],
   "source": [
    "import pywt\n",
    "import seaborn\n",
    "\n",
    "from statsmodels.robust import mad"
   ]
  },
  {
   "cell_type": "code",
   "execution_count": null,
   "metadata": {
    "colab": {},
    "colab_type": "code",
    "id": "ajOAWoJuZc9Z"
   },
   "outputs": [],
   "source": [
    "def wavelet_smooth( x, wavelet=\"db4\", level=1, title=None, color='b' ):\n",
    "    # calculate the wavelet coefficients\n",
    "    coeff = pywt.wavedec( x, wavelet, mode=\"per\" )\n",
    "    \n",
    "    # calculate a threshold\n",
    "    sigma = mad( coeff[-level] )\n",
    "    \n",
    "    # changing this threshold also changes the behavior\n",
    "    uthresh = sigma * np.sqrt( 2*np.log( len( x ) ) )   # sqtwolog threshold\n",
    "    coeff[1:] = ( pywt.threshold( i, value=uthresh, mode=\"soft\" ) for i in coeff[1:] )\n",
    "    \n",
    "    # reconstruct the signal using the thresholded coefficients\n",
    "    y = pywt.waverec( coeff, wavelet, mode=\"per\" )\n",
    "    \n",
    "    f, ax = plt.subplots()\n",
    "    plt.plot( x, color=color, alpha=0.5 )\n",
    "    plt.plot( y, color=color )\n",
    "    \n",
    "    if title:\n",
    "        ax.set_title(title)\n",
    "    ax.set_xlim((0,len(y)))\n",
    "    \n",
    "#     plt.show()\n",
    "    plt.close(f)\n",
    "    \n",
    "    return y"
   ]
  },
  {
   "cell_type": "markdown",
   "metadata": {
    "colab_type": "text",
    "id": "swPH4SyfwW-r"
   },
   "source": [
    "## PCA, LDA, and SVD"
   ]
  },
  {
   "cell_type": "code",
   "execution_count": null,
   "metadata": {
    "colab": {},
    "colab_type": "code",
    "id": "1S0C50fXn58k"
   },
   "outputs": [],
   "source": [
    "from sklearn.decomposition import PCA\n",
    "from sklearn.discriminant_analysis import LinearDiscriminantAnalysis"
   ]
  },
  {
   "cell_type": "code",
   "execution_count": null,
   "metadata": {
    "colab": {},
    "colab_type": "code",
    "id": "CPEEEGj61Mnt"
   },
   "outputs": [],
   "source": [
    "def apply_pca(X, y, target_names):\n",
    "    length = len(X)\n",
    "\n",
    "    X = X.reshape((len(X[0]),len(X)))\n",
    "    y = y.reshape((len(y[0]),len(y)))\n",
    "\n",
    "    pca = PCA(n_components=length)\n",
    "    X_r = pca.fit(X).transform(X)\n",
    "    #   print(X_r.shape)\n",
    "\n",
    "    lw = 1\n",
    "\n",
    "    f, ax = plt.subplots()\n",
    "\n",
    "    for color, i, target_name in zip(colors, [0, 1, 2, 3, 4, 5], target_names):  \n",
    "        ax.scatter(X_r[np.where(y==i), 0], X_r[np.where(y==i), 1], color=color, alpha=.8, linewidths=lw,\n",
    "                      label=target_name)\n",
    "        ax.legend(loc='best', shadow=False, scatterpoints=1)\n",
    "\n",
    "    #   plt.show()\n",
    "    plt.close(f)\n",
    "\n",
    "    return np.array(X_r)"
   ]
  },
  {
   "cell_type": "code",
   "execution_count": null,
   "metadata": {
    "colab": {},
    "colab_type": "code",
    "id": "kBk5kRd-iyze"
   },
   "outputs": [],
   "source": [
    "def apply_svd(X, y, target_names):\n",
    "    X = X.reshape((len(X[0]),len(X)))\n",
    "\n",
    "    u, s, vh = np.linalg.svd(X, full_matrices=False)\n",
    "    print(u.shape, s.shape, vh.shape)\n",
    "\n",
    "    return u, s, vh"
   ]
  },
  {
   "cell_type": "code",
   "execution_count": null,
   "metadata": {
    "colab": {},
    "colab_type": "code",
    "id": "8AzNGcV9nfOS"
   },
   "outputs": [],
   "source": [
    "def apply_lda(X, y, target_names):\n",
    "    length = len(X)\n",
    "\n",
    "    X = X.reshape((len(X[0]),len(X)))\n",
    "    y = y[0]\n",
    "\n",
    "    lda = LinearDiscriminantAnalysis(n_components=length)\n",
    "    X_r = lda.fit(X, y).transform(X)\n",
    "    #   print(X_r.shape)\n",
    "\n",
    "    lw = 1\n",
    "\n",
    "    f, ax = plt.subplots()\n",
    "\n",
    "    for color, i, target_name in zip(colors, [0, 1, 2, 3, 4, 5], target_names):  \n",
    "        ax.scatter(X_r[np.where(y==i), 0], X_r[np.where(y==i), 1], color=color, alpha=.8, linewidths=lw,\n",
    "                      label=target_name)\n",
    "        ax.legend(loc='best', shadow=False, scatterpoints=1)\n",
    "\n",
    "    #   plt.show()\n",
    "    plt.close(f)\n",
    "\n",
    "    return np.array(X_r)"
   ]
  },
  {
   "cell_type": "markdown",
   "metadata": {
    "colab_type": "text",
    "id": "K2J4DmXWOH1N"
   },
   "source": [
    "## Support Vector Classification"
   ]
  },
  {
   "cell_type": "code",
   "execution_count": null,
   "metadata": {
    "colab": {},
    "colab_type": "code",
    "id": "Ed3qIYlLn94p"
   },
   "outputs": [],
   "source": [
    "from sklearn.svm import SVC"
   ]
  },
  {
   "cell_type": "code",
   "execution_count": null,
   "metadata": {
    "colab": {},
    "colab_type": "code",
    "id": "CX99gdxYYCXT"
   },
   "outputs": [],
   "source": [
    "def svm_classifier(X, y):\n",
    "#   print(y.shape)\n",
    "    clf = SVC(kernel='rbf', decision_function_shape='ovr')\n",
    "    clf.fit(X, y)\n",
    "\n",
    "    return clf"
   ]
  },
  {
   "cell_type": "markdown",
   "metadata": {
    "colab_type": "text",
    "id": "5ac3q3J-hXiY"
   },
   "source": [
    "# Function Call *"
   ]
  },
  {
   "cell_type": "code",
   "execution_count": null,
   "metadata": {
    "colab": {
     "base_uri": "https://localhost:8080/",
     "height": 2094
    },
    "colab_type": "code",
    "executionInfo": {
     "elapsed": 85190,
     "status": "ok",
     "timestamp": 1548871774086,
     "user": {
      "displayName": "Korpong Sawataksornchuen",
      "photoUrl": "https://lh4.googleusercontent.com/-Fs38zY4a4Z0/AAAAAAAAAAI/AAAAAAAAEFo/7hYtZAcKXLg/s64/photo.jpg",
      "userId": "00289111090385315496"
     },
     "user_tz": -420
    },
    "id": "uww4TjhwH1v2",
    "outputId": "069ac7bd-78d1-4182-942a-dad96f358642",
    "scrolled": false
   },
   "outputs": [],
   "source": [
    "itr = len(all_subjects)\n",
    "# itr = 1\n",
    "\n",
    "roll_list = []\n",
    "pitch_list = []\n",
    "yaw_list = []\n",
    "\n",
    "acc_list = []\n",
    "\n",
    "for idx in range(itr):\n",
    "  \n",
    "    subject_id = identify_subj_id(idx)\n",
    "    print('--------' + subject_id + '--------')\n",
    "\n",
    "    df_timer, rec_date, start_time, end_time = load_timer(subject_id)\n",
    "    df1, ai1, ts, lb_color = ai(subject_id)\n",
    "\n",
    "    # get a list of dataframe in which there are 6 types of activity\n",
    "    df_list, label_dict = group_dataframe(df1, df_timer)\n",
    "    label_list = sorted(list(label_dict.keys()))\n",
    "\n",
    "    #   plot_grouped_df(df_list, label_dict)\n",
    "    #   plot_ai(df1, ts, lb_color)\n",
    "\n",
    "    X_train, y_train = get_training_data(df_list, label_dict)\n",
    "\n",
    "    colors = ['r','g','b','navy','turquoise','darkorange']\n",
    "    X_wavelet = []\n",
    "\n",
    "    # denoise the signal using wavelet transform\n",
    "    for i in range(len(X_train)):\n",
    "        wavelet_output = wavelet_smooth(X_train[i], color=colors[i])\n",
    "        X_wavelet.append(wavelet_output)\n",
    "\n",
    "    X_w = np.array(X_wavelet)\n",
    "\n",
    "    # calculate roll, pitch, yaw and stack them into a list: rpy_list\n",
    "    roll, pitch, yaw = calc_rpy(X_w, subject_id, colors)\n",
    "\n",
    "    roll_list.append(roll)\n",
    "    pitch_list.append(pitch)\n",
    "    yaw_list.append(yaw)\n",
    "\n",
    "    rpy_list = np.array([roll, pitch, yaw])\n",
    "\n",
    "    # normalize X_w so we get X_norm\n",
    "    X_norm = [normalize_data(X_w_i) for X_w_i in X_w]\n",
    "    X_norm = np.array(X_norm)\n",
    "\n",
    "    # apply PCA and LDA to X_norm and rpy_list\n",
    "    X_norm_pca = apply_pca(X_norm, y_train, label_list)\n",
    "    #   X_norm_lda = apply_lda(X_norm, y_train, label_list)\n",
    "\n",
    "    rpy_pca = apply_pca(rpy_list, y_train, label_list)\n",
    "    #   rpy_lda = apply_lda(rpy_list, y_train, label_list)\n",
    "\n",
    "    X_norm_2 = X_norm.reshape((X_norm.shape[1],3))\n",
    "    rpy_list_2 = rpy_list.reshape((rpy_list.shape[1],3))\n",
    "\n",
    "    # reshape data before classification\n",
    "    X_svm = np.vstack((X_norm_pca, rpy_pca))\n",
    "    y_svm = y_train[0]\n",
    "    y_svm = y_svm.reshape((y_svm.shape[-1],1))\n",
    "    y_svm = np.vstack((y_svm, y_svm))\n",
    "\n",
    "    print(X_svm.shape, y_svm.shape)\n",
    "    print(X_svm)\n",
    "\n",
    "    # Using SVM to classify activities\n",
    "    svm_model = svm_classifier(X_svm, y_svm)\n",
    "\n",
    "    test_length = int(len(X_svm))\n",
    "    y_pred = svm_model.predict(X_svm[:test_length])\n",
    "    y_test = y_svm[:test_length]\n",
    "\n",
    "    cm = confusion_matrix(y_test, y_pred)\n",
    "    acc = accuracy_score(y_test, y_pred)\n",
    "\n",
    "    print(acc)\n",
    "    print(cm)\n",
    "\n",
    "#     acc_list.append(acc)\n",
    "\n",
    "#     print(acc_list)\n",
    "    \n",
    "    # classify walking\n",
    "\n",
    "    #   walk = calc_walk(df1)\n",
    "    #   walk_its = intersection_walk(walk)\n",
    "    #   walk_its_p = calc_walk_periods(walk_its)\n",
    "\n",
    "    #   plot_walk(df1, ai1, walk_its_p)\n",
    "\n",
    "    # classify inactive\n",
    "\n",
    "    #   s = calc_inactive(ai1)\n",
    "    #   sequence = get_sequence(s)\n",
    "\n",
    "    #   plot_inactive(df1, ai1, sequence)"
   ]
  },
  {
   "cell_type": "markdown",
   "metadata": {
    "colab_type": "text",
    "id": "DcBJlYGj1lf_"
   },
   "source": [
    "            'downstairs' 'sit' 'sleep' 'stand' 'upstairs' 'walk'\n",
    "\n",
    "'downstairs'\n",
    "\n",
    "'sit'\n",
    "\n",
    "'sleep'\n",
    "\n",
    "'stand'\n",
    "\n",
    "'upstairs'\n",
    "\n",
    "'walk'\n",
    "\n",
    "-------------------------\n",
    "\n",
    "** Accuracy of original data: 0.6356 **\n",
    "\n",
    "** Accuracy of PCA with original data: 0.6041 **\n",
    "\n",
    "** Accuracy of PCA without original data: 0.6400 **"
   ]
  },
  {
   "cell_type": "markdown",
   "metadata": {
    "colab_type": "text",
    "id": "Gum1EHUr8_xY"
   },
   "source": [
    "## Color Note\n",
    "\n",
    "* ** NaN: Grey **\n",
    "* ** Stand: Red **\n",
    "* ** Sit: Green **\n",
    "* ** Sleep: Yellow **\n",
    "* ** Walk: Blue **\n",
    "* ** Walk Downstairs: Orange **\n",
    "* ** Walk Upstairs: Purple **"
   ]
  },
  {
   "cell_type": "markdown",
   "metadata": {
    "colab_type": "text",
    "id": "T4pMNLZtBX5h"
   },
   "source": [
    "# Evaluate the Algorithms"
   ]
  },
  {
   "cell_type": "markdown",
   "metadata": {
    "colab_type": "text",
    "id": "A5GaDAhaoIBV"
   },
   "source": [
    "## Walking"
   ]
  },
  {
   "cell_type": "markdown",
   "metadata": {
    "colab_type": "text",
    "id": "hyiWr7P3KIiG"
   },
   "source": [
    "### Calculate Walking Range"
   ]
  },
  {
   "cell_type": "code",
   "execution_count": null,
   "metadata": {
    "colab": {},
    "colab_type": "code",
    "id": "er3m5QnFBbky"
   },
   "outputs": [],
   "source": [
    "def exact_walk_range(timer_filt):\n",
    "  # Retrieve exact walking time periods from the csv file in timestamp (seconds) form\n",
    "    walk_lbl = ['walk','downstairs','upstairs']\n",
    "\n",
    "    w_times = [t for t in timer_filt['label'] for lb in walk_lbl if t==lb]\n",
    "    walk_times = timer_filt[timer_filt['label'].isin(w_times)]\n",
    "    walk_times = walk_times.reset_index(drop=True)\n",
    "\n",
    "    walks = walk_times[['timestamp','duration']].to_dict()\n",
    "\n",
    "    all_walks = []\n",
    "\n",
    "    for i in range(len(walk_times)):\n",
    "        tmstmp = walk_times.loc[i]['timestamp'].split(' ')[1]\n",
    "        durat = walk_times.loc[i]['duration']\n",
    "        all_walks.append(period(calc_sec(tmstmp), calc_sec(tmstmp) + calc_sec(durat)))\n",
    "\n",
    "    exact_range = []\n",
    "    for x in all_walks:\n",
    "    exact_range.append(range(math.floor(x.s), math.ceil(x.f)))\n",
    "\n",
    "    return exact_range"
   ]
  },
  {
   "cell_type": "code",
   "execution_count": null,
   "metadata": {
    "colab": {},
    "colab_type": "code",
    "id": "3hCdPJs1rN1X"
   },
   "outputs": [],
   "source": [
    "def pred_walk_range(df1, walk_its_p):\n",
    "    # Get predicted walking time periods in timestamp (seconds) form\n",
    "    all_walks_pred = []\n",
    "\n",
    "    for x in walk_its_p:\n",
    "        tsp1 = df1.loc[x.s]['timestamp'].split(' ')[1]\n",
    "        tsp2 = df1.loc[x.f]['timestamp'].split(' ')[1]\n",
    "\n",
    "        all_walks_pred.append(period(calc_sec(tsp1), calc_sec(tsp2)))\n",
    "\n",
    "    pred_range = []\n",
    "    for x in all_walks_pred:\n",
    "    pred_range.append(range(math.floor(x.s), math.ceil(x.f)))\n",
    "\n",
    "    return pred_range"
   ]
  },
  {
   "cell_type": "code",
   "execution_count": null,
   "metadata": {
    "colab": {},
    "colab_type": "code",
    "id": "18s6DM4lyGUl"
   },
   "outputs": [],
   "source": [
    "def overlap_walk(exact_range, pred_range):\n",
    "    # Calculate range of overlap\n",
    "    overlap_sets = []\n",
    "\n",
    "    for e in exact_range:\n",
    "    for p in pred_range:\n",
    "        overlap_sets.append(set(e).intersection(p))\n",
    "\n",
    "    overlap_list = []\n",
    "\n",
    "    for x in overlap_sets:\n",
    "        if(len(x)!=0):\n",
    "            l = list(x)\n",
    "            ll = sorted(l)\n",
    "\n",
    "            overlap_list.append(period(ll[0],ll[-1]))\n",
    "\n",
    "    overlap_dur = 0\n",
    "    for x in overlap_list:\n",
    "    overlap_dur += x.f - x.s\n",
    "\n",
    "    print(overlap_dur)\n",
    "\n",
    "    return overlap_dur"
   ]
  },
  {
   "cell_type": "code",
   "execution_count": null,
   "metadata": {
    "colab": {},
    "colab_type": "code",
    "id": "hxJkt8F5003F"
   },
   "outputs": [],
   "source": [
    "def union_walk(exact_range, pred_range):\n",
    "  # Calculate range of union\n",
    "  union_sets = []\n",
    "\n",
    "    for e in exact_range:\n",
    "    for p in pred_range:\n",
    "        union_sets.append(set(e).union(p))\n",
    "\n",
    "    union_set_2 = set()\n",
    "\n",
    "    for x in union_sets:\n",
    "    union_set_2 = union_set_2.union(x)\n",
    "\n",
    "    # print(union_set_2)\n",
    "\n",
    "    l = list(union_set_2)\n",
    "    ll = sorted(l)\n",
    "\n",
    "    union_list = []\n",
    "    keep = ll[0]\n",
    "\n",
    "    for i in range(len(ll)):\n",
    "        if(i>0 and ll[i]-ll[i-1]>1):\n",
    "            union_list.append(period(keep,ll[i-1]))\n",
    "            keep = ll[i]\n",
    "\n",
    "    union_dur = 0\n",
    "    for x in union_list:\n",
    "    union_dur += x.f - x.s\n",
    "\n",
    "    print(union_dur)\n",
    "\n",
    "    return union_dur"
   ]
  },
  {
   "cell_type": "markdown",
   "metadata": {
    "colab_type": "text",
    "id": "_jfE8mdZKV-w"
   },
   "source": [
    "### Evaluate with IoU *"
   ]
  },
  {
   "cell_type": "code",
   "execution_count": null,
   "metadata": {
    "colab": {},
    "colab_type": "code",
    "id": "Zm1dlbCxKi3z"
   },
   "outputs": [],
   "source": [
    "# exact_range = exact_walk_range(df_timer)\n",
    "# pred_range = pred_walk_range(df1, walk_its_p)\n",
    "\n",
    "# overlap_dur = overlap_walk(exact_range, pred_range)\n",
    "# union_dur = union_walk(exact_range, pred_range)\n",
    "\n",
    "# IoU = overlap_dur/union_dur\n",
    "# print(\"IoU for\", subject_id, \":\", IoU)"
   ]
  },
  {
   "cell_type": "markdown",
   "metadata": {
    "colab_type": "text",
    "id": "KNfXuujDE_3G"
   },
   "source": [
    "### **^ Incomplete (have to remove NaN)**"
   ]
  },
  {
   "cell_type": "markdown",
   "metadata": {
    "colab_type": "text",
    "id": "lrzi4zQWwlmH"
   },
   "source": [
    "# Scraps"
   ]
  },
  {
   "cell_type": "markdown",
   "metadata": {
    "colab_type": "text",
    "id": "21WuwgFaou5f"
   },
   "source": [
    "## P.S."
   ]
  },
  {
   "cell_type": "markdown",
   "metadata": {
    "colab_type": "text",
    "id": "RuPxWYw1pZcA"
   },
   "source": [
    "Headings with [ * ] are the ones where functions are called."
   ]
  },
  {
   "cell_type": "markdown",
   "metadata": {
    "colab_type": "text",
    "id": "JBeoxifT39XC"
   },
   "source": [
    "## ** Note **\n",
    "* **IoU for 1002 : 0.8412698412698413**\n",
    "\n",
    "* **IoU for 1003 : 0.5524861878453039**"
   ]
  }
 ],
 "metadata": {
  "colab": {
   "collapsed_sections": [],
   "name": "DDC_run.ipynb",
   "provenance": [
    {
     "file_id": "1uW9RzCQha3RZ_wzM_gLxhAN7ytclHWHC",
     "timestamp": 1548220076491
    }
   ],
   "toc_visible": true,
   "version": "0.3.2"
  },
  "kernelspec": {
   "display_name": "Python 3",
   "language": "python",
   "name": "python3"
  },
  "language_info": {
   "codemirror_mode": {
    "name": "ipython",
    "version": 3
   },
   "file_extension": ".py",
   "mimetype": "text/x-python",
   "name": "python",
   "nbconvert_exporter": "python",
   "pygments_lexer": "ipython3",
   "version": "3.6.5"
  }
 },
 "nbformat": 4,
 "nbformat_minor": 1
}
