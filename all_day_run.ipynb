{
 "cells": [
  {
   "cell_type": "markdown",
   "metadata": {
    "colab_type": "text",
    "id": "M7KG93zTnlu0"
   },
   "source": [
    "# Import Core Libraries"
   ]
  },
  {
   "cell_type": "code",
   "execution_count": 1,
   "metadata": {
    "colab": {},
    "colab_type": "code",
    "collapsed": true,
    "id": "4AvIBQQQMGyA"
   },
   "outputs": [],
   "source": [
    "import numpy as np\n",
    "import pandas as pd\n",
    "import matplotlib.pyplot as plt\n",
    "import os\n",
    "import math\n",
    "import pickle\n",
    "\n",
    "from os import listdir, walk\n",
    "from os.path import isfile, join"
   ]
  },
  {
   "cell_type": "markdown",
   "metadata": {
    "colab_type": "text",
    "id": "Im12HZ4kMGyQ"
   },
   "source": [
    "# Load Dataset"
   ]
  },
  {
   "cell_type": "code",
   "execution_count": 4,
   "metadata": {
    "collapsed": true
   },
   "outputs": [],
   "source": [
    "sid = '260219'\n",
    "rec_date = '2019-02-26'\n",
    "mypath = 'DDC_Data/'\n",
    "\n",
    "acc_filepath = mypath + sid + '/' + sid + '-log_acc.csv'\n",
    "df_raw = pd.read_csv(acc_filepath, header=None, names=['x','y','z','timestamp'])\n",
    "\n",
    "bool_list = df_raw['timestamp'].str[:10] == rec_date\n",
    "\n",
    "df1 = df_raw[bool_list]\n",
    "df1 = df1.reset_index(drop=True)\n",
    "\n",
    "xyz_cols = ['x','y','z']\n",
    "g = 9.8\n",
    "\n",
    "for c in xyz_cols:\n",
    "    df1[c] = df1[c].apply(lambda x: x/g)\n",
    "\n",
    "X_dict = df1[xyz_cols].to_dict(orient='split')"
   ]
  },
  {
   "cell_type": "code",
   "execution_count": 3,
   "metadata": {},
   "outputs": [
    {
     "name": "stdout",
     "output_type": "stream",
     "text": [
      "Loading 1001's data\n",
      "Loading 1002's data\n",
      "Loading 1003's data\n",
      "Loading 1004's data\n",
      "Loading 1005's data\n",
      "Loading 1006's data\n",
      "Loading 1007's data\n",
      "Loading 1008's data\n",
      "Loading 1009's data\n",
      "Loading 1010's data\n",
      "Loading 1011's data\n",
      "Loading 1012's data\n",
      "Loading 2001's data\n",
      "Loading 2002's data\n",
      "Finished loading\n"
     ]
    }
   ],
   "source": [
    "%run load_dataset.ipynb"
   ]
  },
  {
   "cell_type": "code",
   "execution_count": 5,
   "metadata": {},
   "outputs": [
    {
     "data": {
      "text/plain": [
       "array([[-0.07634571,  0.40628137,  0.87095194],\n",
       "       [-0.07194821,  0.39015716,  0.89831418],\n",
       "       [-0.07732294,  0.40872443,  0.89733694],\n",
       "       ..., \n",
       "       [-0.07158174,  0.32578245,  1.13797867],\n",
       "       [-0.1048074 ,  0.22854854,  0.78129153],\n",
       "       [-0.23184666,  0.26714894,  0.7236352 ]])"
      ]
     },
     "execution_count": 5,
     "metadata": {},
     "output_type": "execute_result"
    }
   ],
   "source": [
    "X_all = np.array(X_dict['data'])\n",
    "X_all"
   ]
  },
  {
   "cell_type": "code",
   "execution_count": 6,
   "metadata": {
    "collapsed": true
   },
   "outputs": [],
   "source": [
    "y_all = np.zeros(X_all.shape[0])"
   ]
  },
  {
   "cell_type": "markdown",
   "metadata": {
    "colab_type": "text",
    "id": "wyuXI7owzjG4"
   },
   "source": [
    "# Data Preprocessing"
   ]
  },
  {
   "cell_type": "code",
   "execution_count": 7,
   "metadata": {
    "collapsed": true
   },
   "outputs": [],
   "source": [
    "%run preprocess_for_SVM.ipynb\n",
    "# includes wavelet denoising, normalization, PCA, LDA, SVD, etc."
   ]
  },
  {
   "cell_type": "code",
   "execution_count": 34,
   "metadata": {},
   "outputs": [
    {
     "name": "stdout",
     "output_type": "stream",
     "text": [
      "(169647, 3) (169647,)\n"
     ]
    }
   ],
   "source": [
    "print(X_all.shape, y_all.shape)"
   ]
  },
  {
   "cell_type": "markdown",
   "metadata": {
    "colab_type": "text",
    "id": "5ac3q3J-hXiY"
   },
   "source": [
    "# Labels"
   ]
  },
  {
   "cell_type": "code",
   "execution_count": 8,
   "metadata": {
    "collapsed": true,
    "scrolled": false
   },
   "outputs": [],
   "source": [
    "new_label_list = [0,1,2,3]\n",
    "new_label_dict = {\n",
    "    0: 'sit',\n",
    "    1: 'sleep',\n",
    "    2: 'stand',\n",
    "    3: 'walk'\n",
    "}\n",
    "\n",
    "colors = ['r','g','b','navy','turquoise','darkorange']"
   ]
  },
  {
   "cell_type": "markdown",
   "metadata": {},
   "source": [
    "# Apply PCA"
   ]
  },
  {
   "cell_type": "code",
   "execution_count": 9,
   "metadata": {
    "collapsed": true
   },
   "outputs": [],
   "source": [
    "from sklearn.decomposition import PCA"
   ]
  },
  {
   "cell_type": "code",
   "execution_count": 10,
   "metadata": {
    "collapsed": true,
    "scrolled": true
   },
   "outputs": [],
   "source": [
    "n_comp = 3\n",
    "\n",
    "pca = PCA(n_components=n_comp)\n",
    "X_pca = pca.fit(X_all).transform(X_all)"
   ]
  },
  {
   "cell_type": "code",
   "execution_count": 11,
   "metadata": {
    "collapsed": true
   },
   "outputs": [],
   "source": [
    "X_svm, y_svm = prepare_impure_label(X_pca, y_all)"
   ]
  },
  {
   "cell_type": "code",
   "execution_count": 12,
   "metadata": {},
   "outputs": [
    {
     "name": "stdout",
     "output_type": "stream",
     "text": [
      "(169588, 180) (169588,)\n"
     ]
    }
   ],
   "source": [
    "print(X_svm.shape, y_svm.shape)"
   ]
  },
  {
   "cell_type": "markdown",
   "metadata": {},
   "source": [
    "# SVM"
   ]
  },
  {
   "cell_type": "code",
   "execution_count": 16,
   "metadata": {},
   "outputs": [
    {
     "name": "stderr",
     "output_type": "stream",
     "text": [
      "C:\\Users\\fifamd\\Anaconda3\\envs\\tf\\lib\\site-packages\\sklearn\\base.py:311: UserWarning: Trying to unpickle estimator SVC from version 0.20.2 when using version 0.19.1. This might lead to breaking code or invalid results. Use at your own risk.\n",
      "  UserWarning)\n"
     ]
    }
   ],
   "source": [
    "filename = 'model/svm_model.pkl'\n",
    "\n",
    "svm_model = pickle.load(open(filename, 'rb'))"
   ]
  },
  {
   "cell_type": "code",
   "execution_count": 21,
   "metadata": {},
   "outputs": [
    {
     "ename": "AttributeError",
     "evalue": "'SVC' object has no attribute '_impl'",
     "output_type": "error",
     "traceback": [
      "\u001b[1;31m---------------------------------------------------------------------------\u001b[0m",
      "\u001b[1;31mAttributeError\u001b[0m                            Traceback (most recent call last)",
      "\u001b[1;32m<ipython-input-21-44d7a1553d09>\u001b[0m in \u001b[0;36m<module>\u001b[1;34m()\u001b[0m\n\u001b[1;32m----> 1\u001b[1;33m \u001b[0my_pred\u001b[0m \u001b[1;33m=\u001b[0m \u001b[0msvm_model\u001b[0m\u001b[1;33m.\u001b[0m\u001b[0mpredict\u001b[0m\u001b[1;33m(\u001b[0m\u001b[0mX_svm\u001b[0m\u001b[1;33m)\u001b[0m\u001b[1;33m\u001b[0m\u001b[0m\n\u001b[0m",
      "\u001b[1;32m~\\Anaconda3\\envs\\tf\\lib\\site-packages\\sklearn\\svm\\base.py\u001b[0m in \u001b[0;36mpredict\u001b[1;34m(self, X)\u001b[0m\n\u001b[0;32m    546\u001b[0m             \u001b[0mClass\u001b[0m \u001b[0mlabels\u001b[0m \u001b[1;32mfor\u001b[0m \u001b[0msamples\u001b[0m \u001b[1;32min\u001b[0m \u001b[0mX\u001b[0m\u001b[1;33m.\u001b[0m\u001b[1;33m\u001b[0m\u001b[0m\n\u001b[0;32m    547\u001b[0m         \"\"\"\n\u001b[1;32m--> 548\u001b[1;33m         \u001b[0my\u001b[0m \u001b[1;33m=\u001b[0m \u001b[0msuper\u001b[0m\u001b[1;33m(\u001b[0m\u001b[0mBaseSVC\u001b[0m\u001b[1;33m,\u001b[0m \u001b[0mself\u001b[0m\u001b[1;33m)\u001b[0m\u001b[1;33m.\u001b[0m\u001b[0mpredict\u001b[0m\u001b[1;33m(\u001b[0m\u001b[0mX\u001b[0m\u001b[1;33m)\u001b[0m\u001b[1;33m\u001b[0m\u001b[0m\n\u001b[0m\u001b[0;32m    549\u001b[0m         \u001b[1;32mreturn\u001b[0m \u001b[0mself\u001b[0m\u001b[1;33m.\u001b[0m\u001b[0mclasses_\u001b[0m\u001b[1;33m.\u001b[0m\u001b[0mtake\u001b[0m\u001b[1;33m(\u001b[0m\u001b[0mnp\u001b[0m\u001b[1;33m.\u001b[0m\u001b[0masarray\u001b[0m\u001b[1;33m(\u001b[0m\u001b[0my\u001b[0m\u001b[1;33m,\u001b[0m \u001b[0mdtype\u001b[0m\u001b[1;33m=\u001b[0m\u001b[0mnp\u001b[0m\u001b[1;33m.\u001b[0m\u001b[0mintp\u001b[0m\u001b[1;33m)\u001b[0m\u001b[1;33m)\u001b[0m\u001b[1;33m\u001b[0m\u001b[0m\n\u001b[0;32m    550\u001b[0m \u001b[1;33m\u001b[0m\u001b[0m\n",
      "\u001b[1;32m~\\Anaconda3\\envs\\tf\\lib\\site-packages\\sklearn\\svm\\base.py\u001b[0m in \u001b[0;36mpredict\u001b[1;34m(self, X)\u001b[0m\n\u001b[0;32m    308\u001b[0m         \u001b[0mX\u001b[0m \u001b[1;33m=\u001b[0m \u001b[0mself\u001b[0m\u001b[1;33m.\u001b[0m\u001b[0m_validate_for_predict\u001b[0m\u001b[1;33m(\u001b[0m\u001b[0mX\u001b[0m\u001b[1;33m)\u001b[0m\u001b[1;33m\u001b[0m\u001b[0m\n\u001b[0;32m    309\u001b[0m         \u001b[0mpredict\u001b[0m \u001b[1;33m=\u001b[0m \u001b[0mself\u001b[0m\u001b[1;33m.\u001b[0m\u001b[0m_sparse_predict\u001b[0m \u001b[1;32mif\u001b[0m \u001b[0mself\u001b[0m\u001b[1;33m.\u001b[0m\u001b[0m_sparse\u001b[0m \u001b[1;32melse\u001b[0m \u001b[0mself\u001b[0m\u001b[1;33m.\u001b[0m\u001b[0m_dense_predict\u001b[0m\u001b[1;33m\u001b[0m\u001b[0m\n\u001b[1;32m--> 310\u001b[1;33m         \u001b[1;32mreturn\u001b[0m \u001b[0mpredict\u001b[0m\u001b[1;33m(\u001b[0m\u001b[0mX\u001b[0m\u001b[1;33m)\u001b[0m\u001b[1;33m\u001b[0m\u001b[0m\n\u001b[0m\u001b[0;32m    311\u001b[0m \u001b[1;33m\u001b[0m\u001b[0m\n\u001b[0;32m    312\u001b[0m     \u001b[1;32mdef\u001b[0m \u001b[0m_dense_predict\u001b[0m\u001b[1;33m(\u001b[0m\u001b[0mself\u001b[0m\u001b[1;33m,\u001b[0m \u001b[0mX\u001b[0m\u001b[1;33m)\u001b[0m\u001b[1;33m:\u001b[0m\u001b[1;33m\u001b[0m\u001b[0m\n",
      "\u001b[1;32m~\\Anaconda3\\envs\\tf\\lib\\site-packages\\sklearn\\svm\\base.py\u001b[0m in \u001b[0;36m_dense_predict\u001b[1;34m(self, X)\u001b[0m\n\u001b[0;32m    324\u001b[0m                                  (X.shape[1], self.shape_fit_[0]))\n\u001b[0;32m    325\u001b[0m \u001b[1;33m\u001b[0m\u001b[0m\n\u001b[1;32m--> 326\u001b[1;33m         \u001b[0msvm_type\u001b[0m \u001b[1;33m=\u001b[0m \u001b[0mLIBSVM_IMPL\u001b[0m\u001b[1;33m.\u001b[0m\u001b[0mindex\u001b[0m\u001b[1;33m(\u001b[0m\u001b[0mself\u001b[0m\u001b[1;33m.\u001b[0m\u001b[0m_impl\u001b[0m\u001b[1;33m)\u001b[0m\u001b[1;33m\u001b[0m\u001b[0m\n\u001b[0m\u001b[0;32m    327\u001b[0m \u001b[1;33m\u001b[0m\u001b[0m\n\u001b[0;32m    328\u001b[0m         return libsvm.predict(\n",
      "\u001b[1;31mAttributeError\u001b[0m: 'SVC' object has no attribute '_impl'"
     ]
    }
   ],
   "source": [
    "y_pred = svm_model.predict(X_svm)"
   ]
  },
  {
   "cell_type": "code",
   "execution_count": null,
   "metadata": {
    "collapsed": true
   },
   "outputs": [],
   "source": [
    "print(y_pred.shape)"
   ]
  },
  {
   "cell_type": "markdown",
   "metadata": {},
   "source": [
    "## SVM Evaluation"
   ]
  },
  {
   "cell_type": "code",
   "execution_count": null,
   "metadata": {
    "collapsed": true
   },
   "outputs": [],
   "source": [
    "%run eval_score.ipynb"
   ]
  },
  {
   "cell_type": "code",
   "execution_count": null,
   "metadata": {
    "collapsed": true
   },
   "outputs": [],
   "source": [
    "LABELS = ['sit','sleep','stand','walk']"
   ]
  },
  {
   "cell_type": "markdown",
   "metadata": {},
   "source": [
    "# Walk Algorithm"
   ]
  },
  {
   "cell_type": "code",
   "execution_count": null,
   "metadata": {
    "collapsed": true
   },
   "outputs": [],
   "source": [
    "%run classifier_alg.ipynb"
   ]
  },
  {
   "cell_type": "code",
   "execution_count": null,
   "metadata": {
    "collapsed": true
   },
   "outputs": [],
   "source": [
    "# classify walking\n",
    "walk = calc_walk(X_all)\n",
    "walk_its = intersection_walk(walk)\n",
    "walk_pred_p = calc_walk_periods(walk_its)\n",
    "\n",
    "# walk_stairs_exact_p = get_exact_walk_stairs(y_all)\n",
    "# walk_exact_p = get_exact_walk(y_all)\n",
    "    \n",
    "# walk_pred = binarize_walk_prd(walk_pred_p, y_all)\n",
    "# walk_stairs_exact = binarize_walk_prd(walk_stairs_exact_p, y_all)\n",
    "# walk_exact = binarize_walk_prd(walk_exact_p, y_all)"
   ]
  },
  {
   "cell_type": "markdown",
   "metadata": {},
   "source": [
    "# Combine SVM and Walk Algorithm"
   ]
  },
  {
   "cell_type": "code",
   "execution_count": 51,
   "metadata": {
    "collapsed": true
   },
   "outputs": [],
   "source": [
    "y_pred_new = combine(X_svm, y_pred)"
   ]
  },
  {
   "cell_type": "code",
   "execution_count": 81,
   "metadata": {
    "collapsed": true
   },
   "outputs": [],
   "source": [
    "y_pred_new = np.array(y_pred_new)\n",
    "\n",
    "df1['y_pred'] = pd.Series(y_pred_new)"
   ]
  },
  {
   "cell_type": "code",
   "execution_count": 83,
   "metadata": {
    "collapsed": true
   },
   "outputs": [],
   "source": [
    "for i in range(len(df1)):\n",
    "    if(not (df1.loc[i, 'y_pred'] in [0.0,1.0,2.0,3.0])):\n",
    "        keep = i\n",
    "        break"
   ]
  },
  {
   "cell_type": "code",
   "execution_count": 85,
   "metadata": {
    "collapsed": true
   },
   "outputs": [],
   "source": [
    "df_no_null = df1[:keep].copy()\n",
    "\n",
    "df_no_null['y_pred'] = df_no_null['y_pred'].astype(int)"
   ]
  },
  {
   "cell_type": "code",
   "execution_count": 86,
   "metadata": {
    "scrolled": true
   },
   "outputs": [
    {
     "data": {
      "text/html": [
       "<div>\n",
       "<style scoped>\n",
       "    .dataframe tbody tr th:only-of-type {\n",
       "        vertical-align: middle;\n",
       "    }\n",
       "\n",
       "    .dataframe tbody tr th {\n",
       "        vertical-align: top;\n",
       "    }\n",
       "\n",
       "    .dataframe thead th {\n",
       "        text-align: right;\n",
       "    }\n",
       "</style>\n",
       "<table border=\"1\" class=\"dataframe\">\n",
       "  <thead>\n",
       "    <tr style=\"text-align: right;\">\n",
       "      <th></th>\n",
       "      <th>x</th>\n",
       "      <th>y</th>\n",
       "      <th>z</th>\n",
       "      <th>timestamp</th>\n",
       "      <th>y_pred</th>\n",
       "    </tr>\n",
       "  </thead>\n",
       "  <tbody>\n",
       "    <tr>\n",
       "      <th>0</th>\n",
       "      <td>-0.076346</td>\n",
       "      <td>0.406281</td>\n",
       "      <td>0.870952</td>\n",
       "      <td>2019-02-26 10:11:22.151</td>\n",
       "      <td>0</td>\n",
       "    </tr>\n",
       "    <tr>\n",
       "      <th>1</th>\n",
       "      <td>-0.071948</td>\n",
       "      <td>0.390157</td>\n",
       "      <td>0.898314</td>\n",
       "      <td>2019-02-26 10:11:22.251</td>\n",
       "      <td>0</td>\n",
       "    </tr>\n",
       "    <tr>\n",
       "      <th>2</th>\n",
       "      <td>-0.077323</td>\n",
       "      <td>0.408724</td>\n",
       "      <td>0.897337</td>\n",
       "      <td>2019-02-26 10:11:22.416</td>\n",
       "      <td>0</td>\n",
       "    </tr>\n",
       "    <tr>\n",
       "      <th>3</th>\n",
       "      <td>-0.073414</td>\n",
       "      <td>0.396021</td>\n",
       "      <td>0.900757</td>\n",
       "      <td>2019-02-26 10:11:22.612</td>\n",
       "      <td>0</td>\n",
       "    </tr>\n",
       "    <tr>\n",
       "      <th>4</th>\n",
       "      <td>-0.094424</td>\n",
       "      <td>0.384782</td>\n",
       "      <td>0.888542</td>\n",
       "      <td>2019-02-26 10:11:22.793</td>\n",
       "      <td>0</td>\n",
       "    </tr>\n",
       "    <tr>\n",
       "      <th>5</th>\n",
       "      <td>-0.094913</td>\n",
       "      <td>0.363283</td>\n",
       "      <td>0.897337</td>\n",
       "      <td>2019-02-26 10:11:22.94</td>\n",
       "      <td>0</td>\n",
       "    </tr>\n",
       "    <tr>\n",
       "      <th>6</th>\n",
       "      <td>-0.073903</td>\n",
       "      <td>0.457586</td>\n",
       "      <td>0.883167</td>\n",
       "      <td>2019-02-26 10:11:23.069</td>\n",
       "      <td>0</td>\n",
       "    </tr>\n",
       "    <tr>\n",
       "      <th>7</th>\n",
       "      <td>-0.097356</td>\n",
       "      <td>0.364749</td>\n",
       "      <td>0.910530</td>\n",
       "      <td>2019-02-26 10:11:23.211</td>\n",
       "      <td>0</td>\n",
       "    </tr>\n",
       "    <tr>\n",
       "      <th>8</th>\n",
       "      <td>-0.079277</td>\n",
       "      <td>0.395043</td>\n",
       "      <td>0.898314</td>\n",
       "      <td>2019-02-26 10:11:23.375</td>\n",
       "      <td>0</td>\n",
       "    </tr>\n",
       "    <tr>\n",
       "      <th>9</th>\n",
       "      <td>-0.099799</td>\n",
       "      <td>0.388691</td>\n",
       "      <td>0.900269</td>\n",
       "      <td>2019-02-26 10:11:23.535</td>\n",
       "      <td>0</td>\n",
       "    </tr>\n",
       "    <tr>\n",
       "      <th>10</th>\n",
       "      <td>-0.091004</td>\n",
       "      <td>0.386737</td>\n",
       "      <td>0.892939</td>\n",
       "      <td>2019-02-26 10:11:23.692</td>\n",
       "      <td>0</td>\n",
       "    </tr>\n",
       "    <tr>\n",
       "      <th>11</th>\n",
       "      <td>-0.091004</td>\n",
       "      <td>0.405304</td>\n",
       "      <td>0.889519</td>\n",
       "      <td>2019-02-26 10:11:23.853</td>\n",
       "      <td>0</td>\n",
       "    </tr>\n",
       "    <tr>\n",
       "      <th>12</th>\n",
       "      <td>-0.108106</td>\n",
       "      <td>0.384782</td>\n",
       "      <td>0.883167</td>\n",
       "      <td>2019-02-26 10:11:24.06</td>\n",
       "      <td>0</td>\n",
       "    </tr>\n",
       "    <tr>\n",
       "      <th>13</th>\n",
       "      <td>-0.091981</td>\n",
       "      <td>0.389180</td>\n",
       "      <td>0.892939</td>\n",
       "      <td>2019-02-26 10:11:24.18</td>\n",
       "      <td>0</td>\n",
       "    </tr>\n",
       "    <tr>\n",
       "      <th>14</th>\n",
       "      <td>-0.084652</td>\n",
       "      <td>0.404327</td>\n",
       "      <td>0.892939</td>\n",
       "      <td>2019-02-26 10:11:24.372</td>\n",
       "      <td>0</td>\n",
       "    </tr>\n",
       "    <tr>\n",
       "      <th>15</th>\n",
       "      <td>-0.079277</td>\n",
       "      <td>0.412633</td>\n",
       "      <td>0.876327</td>\n",
       "      <td>2019-02-26 10:11:24.499</td>\n",
       "      <td>0</td>\n",
       "    </tr>\n",
       "    <tr>\n",
       "      <th>16</th>\n",
       "      <td>-0.078789</td>\n",
       "      <td>0.442439</td>\n",
       "      <td>0.901246</td>\n",
       "      <td>2019-02-26 10:11:24.659</td>\n",
       "      <td>0</td>\n",
       "    </tr>\n",
       "    <tr>\n",
       "      <th>17</th>\n",
       "      <td>-0.072925</td>\n",
       "      <td>0.395532</td>\n",
       "      <td>0.890008</td>\n",
       "      <td>2019-02-26 10:11:24.819</td>\n",
       "      <td>0</td>\n",
       "    </tr>\n",
       "    <tr>\n",
       "      <th>18</th>\n",
       "      <td>-0.069017</td>\n",
       "      <td>0.445859</td>\n",
       "      <td>0.874861</td>\n",
       "      <td>2019-02-26 10:11:24.979</td>\n",
       "      <td>0</td>\n",
       "    </tr>\n",
       "    <tr>\n",
       "      <th>19</th>\n",
       "      <td>-0.067551</td>\n",
       "      <td>0.379408</td>\n",
       "      <td>0.886099</td>\n",
       "      <td>2019-02-26 10:11:25.141</td>\n",
       "      <td>0</td>\n",
       "    </tr>\n",
       "    <tr>\n",
       "      <th>20</th>\n",
       "      <td>-0.109571</td>\n",
       "      <td>0.427780</td>\n",
       "      <td>0.864111</td>\n",
       "      <td>2019-02-26 10:11:25.302</td>\n",
       "      <td>0</td>\n",
       "    </tr>\n",
       "    <tr>\n",
       "      <th>21</th>\n",
       "      <td>-0.164296</td>\n",
       "      <td>0.424849</td>\n",
       "      <td>0.849453</td>\n",
       "      <td>2019-02-26 10:11:25.461</td>\n",
       "      <td>0</td>\n",
       "    </tr>\n",
       "    <tr>\n",
       "      <th>22</th>\n",
       "      <td>-0.211691</td>\n",
       "      <td>0.466381</td>\n",
       "      <td>0.818182</td>\n",
       "      <td>2019-02-26 10:11:25.625</td>\n",
       "      <td>0</td>\n",
       "    </tr>\n",
       "    <tr>\n",
       "      <th>23</th>\n",
       "      <td>-0.281074</td>\n",
       "      <td>0.439507</td>\n",
       "      <td>0.824534</td>\n",
       "      <td>2019-02-26 10:11:25.783</td>\n",
       "      <td>0</td>\n",
       "    </tr>\n",
       "    <tr>\n",
       "      <th>24</th>\n",
       "      <td>-0.318698</td>\n",
       "      <td>0.430223</td>\n",
       "      <td>0.846033</td>\n",
       "      <td>2019-02-26 10:11:25.943</td>\n",
       "      <td>0</td>\n",
       "    </tr>\n",
       "    <tr>\n",
       "      <th>25</th>\n",
       "      <td>-0.395410</td>\n",
       "      <td>0.393577</td>\n",
       "      <td>0.823557</td>\n",
       "      <td>2019-02-26 10:11:26.105</td>\n",
       "      <td>0</td>\n",
       "    </tr>\n",
       "    <tr>\n",
       "      <th>26</th>\n",
       "      <td>-0.337265</td>\n",
       "      <td>0.445859</td>\n",
       "      <td>0.843590</td>\n",
       "      <td>2019-02-26 10:11:26.268</td>\n",
       "      <td>0</td>\n",
       "    </tr>\n",
       "    <tr>\n",
       "      <th>27</th>\n",
       "      <td>-0.318209</td>\n",
       "      <td>0.423871</td>\n",
       "      <td>0.826977</td>\n",
       "      <td>2019-02-26 10:11:26.428</td>\n",
       "      <td>0</td>\n",
       "    </tr>\n",
       "    <tr>\n",
       "      <th>28</th>\n",
       "      <td>-0.293290</td>\n",
       "      <td>0.422406</td>\n",
       "      <td>0.854339</td>\n",
       "      <td>2019-02-26 10:11:26.589</td>\n",
       "      <td>0</td>\n",
       "    </tr>\n",
       "    <tr>\n",
       "      <th>29</th>\n",
       "      <td>-0.289869</td>\n",
       "      <td>0.436087</td>\n",
       "      <td>0.816716</td>\n",
       "      <td>2019-02-26 10:11:26.749</td>\n",
       "      <td>0</td>\n",
       "    </tr>\n",
       "    <tr>\n",
       "      <th>...</th>\n",
       "      <td>...</td>\n",
       "      <td>...</td>\n",
       "      <td>...</td>\n",
       "      <td>...</td>\n",
       "      <td>...</td>\n",
       "    </tr>\n",
       "    <tr>\n",
       "      <th>169558</th>\n",
       "      <td>0.107250</td>\n",
       "      <td>0.239054</td>\n",
       "      <td>0.925432</td>\n",
       "      <td>2019-02-26 17:45:00.019</td>\n",
       "      <td>0</td>\n",
       "    </tr>\n",
       "    <tr>\n",
       "      <th>169559</th>\n",
       "      <td>0.079400</td>\n",
       "      <td>0.245406</td>\n",
       "      <td>0.944977</td>\n",
       "      <td>2019-02-26 17:45:00.179</td>\n",
       "      <td>0</td>\n",
       "    </tr>\n",
       "    <tr>\n",
       "      <th>169560</th>\n",
       "      <td>0.106762</td>\n",
       "      <td>0.297199</td>\n",
       "      <td>0.941556</td>\n",
       "      <td>2019-02-26 17:45:00.352</td>\n",
       "      <td>0</td>\n",
       "    </tr>\n",
       "    <tr>\n",
       "      <th>169561</th>\n",
       "      <td>0.057901</td>\n",
       "      <td>0.237099</td>\n",
       "      <td>0.934716</td>\n",
       "      <td>2019-02-26 17:45:00.514</td>\n",
       "      <td>0</td>\n",
       "    </tr>\n",
       "    <tr>\n",
       "      <th>169562</th>\n",
       "      <td>0.041776</td>\n",
       "      <td>0.179443</td>\n",
       "      <td>0.916637</td>\n",
       "      <td>2019-02-26 17:45:00.676</td>\n",
       "      <td>0</td>\n",
       "    </tr>\n",
       "    <tr>\n",
       "      <th>169563</th>\n",
       "      <td>-0.310880</td>\n",
       "      <td>0.179932</td>\n",
       "      <td>1.287006</td>\n",
       "      <td>2019-02-26 17:45:00.822</td>\n",
       "      <td>0</td>\n",
       "    </tr>\n",
       "    <tr>\n",
       "      <th>169564</th>\n",
       "      <td>-0.556652</td>\n",
       "      <td>0.180909</td>\n",
       "      <td>1.122343</td>\n",
       "      <td>2019-02-26 17:45:00.982</td>\n",
       "      <td>0</td>\n",
       "    </tr>\n",
       "    <tr>\n",
       "      <th>169565</th>\n",
       "      <td>-0.445737</td>\n",
       "      <td>0.059244</td>\n",
       "      <td>0.724612</td>\n",
       "      <td>2019-02-26 17:45:01.141</td>\n",
       "      <td>0</td>\n",
       "    </tr>\n",
       "    <tr>\n",
       "      <th>169566</th>\n",
       "      <td>-0.449157</td>\n",
       "      <td>0.159898</td>\n",
       "      <td>0.552621</td>\n",
       "      <td>2019-02-26 17:45:01.301</td>\n",
       "      <td>0</td>\n",
       "    </tr>\n",
       "    <tr>\n",
       "      <th>169567</th>\n",
       "      <td>-0.581083</td>\n",
       "      <td>0.092959</td>\n",
       "      <td>0.702136</td>\n",
       "      <td>2019-02-26 17:45:01.464</td>\n",
       "      <td>0</td>\n",
       "    </tr>\n",
       "    <tr>\n",
       "      <th>169568</th>\n",
       "      <td>-0.891718</td>\n",
       "      <td>0.290847</td>\n",
       "      <td>0.872662</td>\n",
       "      <td>2019-02-26 17:45:01.622</td>\n",
       "      <td>0</td>\n",
       "    </tr>\n",
       "    <tr>\n",
       "      <th>169569</th>\n",
       "      <td>-0.714840</td>\n",
       "      <td>0.339219</td>\n",
       "      <td>0.895138</td>\n",
       "      <td>2019-02-26 17:45:01.783</td>\n",
       "      <td>0</td>\n",
       "    </tr>\n",
       "    <tr>\n",
       "      <th>169570</th>\n",
       "      <td>-0.431078</td>\n",
       "      <td>0.254689</td>\n",
       "      <td>0.781292</td>\n",
       "      <td>2019-02-26 17:45:01.943</td>\n",
       "      <td>0</td>\n",
       "    </tr>\n",
       "    <tr>\n",
       "      <th>169571</th>\n",
       "      <td>-0.375377</td>\n",
       "      <td>0.571310</td>\n",
       "      <td>0.658161</td>\n",
       "      <td>2019-02-26 17:45:02.106</td>\n",
       "      <td>0</td>\n",
       "    </tr>\n",
       "    <tr>\n",
       "      <th>169572</th>\n",
       "      <td>-0.445737</td>\n",
       "      <td>0.555675</td>\n",
       "      <td>0.595619</td>\n",
       "      <td>2019-02-26 17:45:02.264</td>\n",
       "      <td>0</td>\n",
       "    </tr>\n",
       "    <tr>\n",
       "      <th>169573</th>\n",
       "      <td>-0.370979</td>\n",
       "      <td>0.609911</td>\n",
       "      <td>0.581449</td>\n",
       "      <td>2019-02-26 17:45:02.424</td>\n",
       "      <td>0</td>\n",
       "    </tr>\n",
       "    <tr>\n",
       "      <th>169574</th>\n",
       "      <td>-0.409091</td>\n",
       "      <td>0.657795</td>\n",
       "      <td>0.597085</td>\n",
       "      <td>2019-02-26 17:45:02.585</td>\n",
       "      <td>0</td>\n",
       "    </tr>\n",
       "    <tr>\n",
       "      <th>169575</th>\n",
       "      <td>-0.348992</td>\n",
       "      <td>0.747699</td>\n",
       "      <td>0.496919</td>\n",
       "      <td>2019-02-26 17:45:02.748</td>\n",
       "      <td>0</td>\n",
       "    </tr>\n",
       "    <tr>\n",
       "      <th>169576</th>\n",
       "      <td>-0.320652</td>\n",
       "      <td>0.714474</td>\n",
       "      <td>0.485681</td>\n",
       "      <td>2019-02-26 17:45:02.906</td>\n",
       "      <td>0</td>\n",
       "    </tr>\n",
       "    <tr>\n",
       "      <th>169577</th>\n",
       "      <td>-0.402739</td>\n",
       "      <td>0.706656</td>\n",
       "      <td>0.546269</td>\n",
       "      <td>2019-02-26 17:45:03.066</td>\n",
       "      <td>0</td>\n",
       "    </tr>\n",
       "    <tr>\n",
       "      <th>169578</th>\n",
       "      <td>-0.337265</td>\n",
       "      <td>0.669521</td>\n",
       "      <td>0.478352</td>\n",
       "      <td>2019-02-26 17:45:03.229</td>\n",
       "      <td>0</td>\n",
       "    </tr>\n",
       "    <tr>\n",
       "      <th>169579</th>\n",
       "      <td>-0.276677</td>\n",
       "      <td>0.689066</td>\n",
       "      <td>0.483238</td>\n",
       "      <td>2019-02-26 17:45:03.389</td>\n",
       "      <td>0</td>\n",
       "    </tr>\n",
       "    <tr>\n",
       "      <th>169580</th>\n",
       "      <td>-0.355832</td>\n",
       "      <td>0.735484</td>\n",
       "      <td>0.421673</td>\n",
       "      <td>2019-02-26 17:45:03.548</td>\n",
       "      <td>0</td>\n",
       "    </tr>\n",
       "    <tr>\n",
       "      <th>169581</th>\n",
       "      <td>-0.529778</td>\n",
       "      <td>0.661704</td>\n",
       "      <td>0.345938</td>\n",
       "      <td>2019-02-26 17:45:03.708</td>\n",
       "      <td>0</td>\n",
       "    </tr>\n",
       "    <tr>\n",
       "      <th>169582</th>\n",
       "      <td>-0.519517</td>\n",
       "      <td>0.783368</td>\n",
       "      <td>0.258476</td>\n",
       "      <td>2019-02-26 17:45:03.871</td>\n",
       "      <td>0</td>\n",
       "    </tr>\n",
       "    <tr>\n",
       "      <th>169583</th>\n",
       "      <td>-0.472122</td>\n",
       "      <td>0.758938</td>\n",
       "      <td>0.128016</td>\n",
       "      <td>2019-02-26 17:45:04.03</td>\n",
       "      <td>0</td>\n",
       "    </tr>\n",
       "    <tr>\n",
       "      <th>169584</th>\n",
       "      <td>-0.510234</td>\n",
       "      <td>0.748188</td>\n",
       "      <td>0.130460</td>\n",
       "      <td>2019-02-26 17:45:04.19</td>\n",
       "      <td>0</td>\n",
       "    </tr>\n",
       "    <tr>\n",
       "      <th>169585</th>\n",
       "      <td>-0.499484</td>\n",
       "      <td>0.674408</td>\n",
       "      <td>0.042021</td>\n",
       "      <td>2019-02-26 17:45:04.351</td>\n",
       "      <td>0</td>\n",
       "    </tr>\n",
       "    <tr>\n",
       "      <th>169586</th>\n",
       "      <td>-0.599650</td>\n",
       "      <td>0.684668</td>\n",
       "      <td>0.033714</td>\n",
       "      <td>2019-02-26 17:45:04.514</td>\n",
       "      <td>0</td>\n",
       "    </tr>\n",
       "    <tr>\n",
       "      <th>169587</th>\n",
       "      <td>-0.569356</td>\n",
       "      <td>0.727666</td>\n",
       "      <td>0.093814</td>\n",
       "      <td>2019-02-26 17:45:04.672</td>\n",
       "      <td>0</td>\n",
       "    </tr>\n",
       "  </tbody>\n",
       "</table>\n",
       "<p>169588 rows × 5 columns</p>\n",
       "</div>"
      ],
      "text/plain": [
       "               x         y         z                timestamp  y_pred\n",
       "0      -0.076346  0.406281  0.870952  2019-02-26 10:11:22.151       0\n",
       "1      -0.071948  0.390157  0.898314  2019-02-26 10:11:22.251       0\n",
       "2      -0.077323  0.408724  0.897337  2019-02-26 10:11:22.416       0\n",
       "3      -0.073414  0.396021  0.900757  2019-02-26 10:11:22.612       0\n",
       "4      -0.094424  0.384782  0.888542  2019-02-26 10:11:22.793       0\n",
       "5      -0.094913  0.363283  0.897337   2019-02-26 10:11:22.94       0\n",
       "6      -0.073903  0.457586  0.883167  2019-02-26 10:11:23.069       0\n",
       "7      -0.097356  0.364749  0.910530  2019-02-26 10:11:23.211       0\n",
       "8      -0.079277  0.395043  0.898314  2019-02-26 10:11:23.375       0\n",
       "9      -0.099799  0.388691  0.900269  2019-02-26 10:11:23.535       0\n",
       "10     -0.091004  0.386737  0.892939  2019-02-26 10:11:23.692       0\n",
       "11     -0.091004  0.405304  0.889519  2019-02-26 10:11:23.853       0\n",
       "12     -0.108106  0.384782  0.883167   2019-02-26 10:11:24.06       0\n",
       "13     -0.091981  0.389180  0.892939   2019-02-26 10:11:24.18       0\n",
       "14     -0.084652  0.404327  0.892939  2019-02-26 10:11:24.372       0\n",
       "15     -0.079277  0.412633  0.876327  2019-02-26 10:11:24.499       0\n",
       "16     -0.078789  0.442439  0.901246  2019-02-26 10:11:24.659       0\n",
       "17     -0.072925  0.395532  0.890008  2019-02-26 10:11:24.819       0\n",
       "18     -0.069017  0.445859  0.874861  2019-02-26 10:11:24.979       0\n",
       "19     -0.067551  0.379408  0.886099  2019-02-26 10:11:25.141       0\n",
       "20     -0.109571  0.427780  0.864111  2019-02-26 10:11:25.302       0\n",
       "21     -0.164296  0.424849  0.849453  2019-02-26 10:11:25.461       0\n",
       "22     -0.211691  0.466381  0.818182  2019-02-26 10:11:25.625       0\n",
       "23     -0.281074  0.439507  0.824534  2019-02-26 10:11:25.783       0\n",
       "24     -0.318698  0.430223  0.846033  2019-02-26 10:11:25.943       0\n",
       "25     -0.395410  0.393577  0.823557  2019-02-26 10:11:26.105       0\n",
       "26     -0.337265  0.445859  0.843590  2019-02-26 10:11:26.268       0\n",
       "27     -0.318209  0.423871  0.826977  2019-02-26 10:11:26.428       0\n",
       "28     -0.293290  0.422406  0.854339  2019-02-26 10:11:26.589       0\n",
       "29     -0.289869  0.436087  0.816716  2019-02-26 10:11:26.749       0\n",
       "...          ...       ...       ...                      ...     ...\n",
       "169558  0.107250  0.239054  0.925432  2019-02-26 17:45:00.019       0\n",
       "169559  0.079400  0.245406  0.944977  2019-02-26 17:45:00.179       0\n",
       "169560  0.106762  0.297199  0.941556  2019-02-26 17:45:00.352       0\n",
       "169561  0.057901  0.237099  0.934716  2019-02-26 17:45:00.514       0\n",
       "169562  0.041776  0.179443  0.916637  2019-02-26 17:45:00.676       0\n",
       "169563 -0.310880  0.179932  1.287006  2019-02-26 17:45:00.822       0\n",
       "169564 -0.556652  0.180909  1.122343  2019-02-26 17:45:00.982       0\n",
       "169565 -0.445737  0.059244  0.724612  2019-02-26 17:45:01.141       0\n",
       "169566 -0.449157  0.159898  0.552621  2019-02-26 17:45:01.301       0\n",
       "169567 -0.581083  0.092959  0.702136  2019-02-26 17:45:01.464       0\n",
       "169568 -0.891718  0.290847  0.872662  2019-02-26 17:45:01.622       0\n",
       "169569 -0.714840  0.339219  0.895138  2019-02-26 17:45:01.783       0\n",
       "169570 -0.431078  0.254689  0.781292  2019-02-26 17:45:01.943       0\n",
       "169571 -0.375377  0.571310  0.658161  2019-02-26 17:45:02.106       0\n",
       "169572 -0.445737  0.555675  0.595619  2019-02-26 17:45:02.264       0\n",
       "169573 -0.370979  0.609911  0.581449  2019-02-26 17:45:02.424       0\n",
       "169574 -0.409091  0.657795  0.597085  2019-02-26 17:45:02.585       0\n",
       "169575 -0.348992  0.747699  0.496919  2019-02-26 17:45:02.748       0\n",
       "169576 -0.320652  0.714474  0.485681  2019-02-26 17:45:02.906       0\n",
       "169577 -0.402739  0.706656  0.546269  2019-02-26 17:45:03.066       0\n",
       "169578 -0.337265  0.669521  0.478352  2019-02-26 17:45:03.229       0\n",
       "169579 -0.276677  0.689066  0.483238  2019-02-26 17:45:03.389       0\n",
       "169580 -0.355832  0.735484  0.421673  2019-02-26 17:45:03.548       0\n",
       "169581 -0.529778  0.661704  0.345938  2019-02-26 17:45:03.708       0\n",
       "169582 -0.519517  0.783368  0.258476  2019-02-26 17:45:03.871       0\n",
       "169583 -0.472122  0.758938  0.128016   2019-02-26 17:45:04.03       0\n",
       "169584 -0.510234  0.748188  0.130460   2019-02-26 17:45:04.19       0\n",
       "169585 -0.499484  0.674408  0.042021  2019-02-26 17:45:04.351       0\n",
       "169586 -0.599650  0.684668  0.033714  2019-02-26 17:45:04.514       0\n",
       "169587 -0.569356  0.727666  0.093814  2019-02-26 17:45:04.672       0\n",
       "\n",
       "[169588 rows x 5 columns]"
      ]
     },
     "execution_count": 86,
     "metadata": {},
     "output_type": "execute_result"
    }
   ],
   "source": [
    "df_no_null"
   ]
  },
  {
   "cell_type": "code",
   "execution_count": 25,
   "metadata": {},
   "outputs": [
    {
     "ename": "NameError",
     "evalue": "name 'df_no_null' is not defined",
     "output_type": "error",
     "traceback": [
      "\u001b[1;31m---------------------------------------------------------------------------\u001b[0m",
      "\u001b[1;31mNameError\u001b[0m                                 Traceback (most recent call last)",
      "\u001b[1;32m<ipython-input-25-49bb41f65e15>\u001b[0m in \u001b[0;36m<module>\u001b[1;34m()\u001b[0m\n\u001b[1;32m----> 1\u001b[1;33m \u001b[0mdf_no_null\u001b[0m\u001b[1;33m[\u001b[0m\u001b[1;34m'y_pred'\u001b[0m\u001b[1;33m]\u001b[0m\u001b[1;33m.\u001b[0m\u001b[0mvalue_counts\u001b[0m\u001b[1;33m(\u001b[0m\u001b[1;33m)\u001b[0m\u001b[1;33m\u001b[0m\u001b[0m\n\u001b[0m",
      "\u001b[1;31mNameError\u001b[0m: name 'df_no_null' is not defined"
     ]
    }
   ],
   "source": [
    "df_no_null['y_pred'].value_counts()"
   ]
  },
  {
   "cell_type": "code",
   "execution_count": 23,
   "metadata": {
    "collapsed": true
   },
   "outputs": [],
   "source": [
    "%run test_SVM_model.ipynb"
   ]
  },
  {
   "cell_type": "code",
   "execution_count": 24,
   "metadata": {
    "collapsed": true
   },
   "outputs": [],
   "source": [
    "LABELS = ['sit','sleep','stand','walk']"
   ]
  },
  {
   "cell_type": "code",
   "execution_count": 93,
   "metadata": {},
   "outputs": [
    {
     "data": {
      "image/png": "[encoded data removed]",
      "text/plain": [
       "<Figure size 1080x288 with 1 Axes>"
      ]
     },
     "metadata": {
      "needs_background": "light"
     },
     "output_type": "display_data"
    }
   ],
   "source": [
    "pred_periods = get_predicted_periods(df_no_null)\n",
    "pp_all_run = postprocess_predicted(pred_periods, df_no_null)\n",
    "\n",
    "df_no_null['y_pred'] = pd.Series(pp_all_run)\n",
    "pp_periods = get_predicted_periods(df_no_null)\n",
    "\n",
    "ax1 = df_no_null.plot(y=['x','y','z'], figsize=(15,4), color=['r','g','b'])\n",
    "\n",
    "color_list = ['indianred','khaki','lightgreen','skyblue']   # sit, sleep, stand, walk\n",
    "\n",
    "for i in range(len(pred_periods)):\n",
    "    for item in pred_periods[i]:\n",
    "        ax1.axvspan(item[0], item[1], color=color_list[i])"
   ]
  },
  {
   "cell_type": "code",
   "execution_count": 94,
   "metadata": {
    "collapsed": true
   },
   "outputs": [],
   "source": [
    "fig = ax1.get_figure()\n",
    "fig.savefig('Graphs/all_day_260219.png', dpi=300)"
   ]
  },
  {
   "cell_type": "markdown",
   "metadata": {},
   "source": [
    "# Display Table"
   ]
  },
  {
   "cell_type": "code",
   "execution_count": 18,
   "metadata": {
    "collapsed": true
   },
   "outputs": [],
   "source": [
    "from prettytable import PrettyTable"
   ]
  },
  {
   "cell_type": "code",
   "execution_count": 26,
   "metadata": {},
   "outputs": [
    {
     "ename": "NameError",
     "evalue": "name 'df_y' is not defined",
     "output_type": "error",
     "traceback": [
      "\u001b[1;31m---------------------------------------------------------------------------\u001b[0m",
      "\u001b[1;31mNameError\u001b[0m                                 Traceback (most recent call last)",
      "\u001b[1;32m<ipython-input-26-7a5e3ec4c444>\u001b[0m in \u001b[0;36m<module>\u001b[1;34m()\u001b[0m\n\u001b[0;32m      5\u001b[0m \u001b[0mkeep\u001b[0m \u001b[1;33m=\u001b[0m \u001b[1;36m0\u001b[0m\u001b[1;33m\u001b[0m\u001b[0m\n\u001b[0;32m      6\u001b[0m \u001b[1;33m\u001b[0m\u001b[0m\n\u001b[1;32m----> 7\u001b[1;33m \u001b[1;32mfor\u001b[0m \u001b[0mi\u001b[0m \u001b[1;32min\u001b[0m \u001b[0mrange\u001b[0m\u001b[1;33m(\u001b[0m\u001b[0mlen\u001b[0m\u001b[1;33m(\u001b[0m\u001b[0mdf_y\u001b[0m\u001b[1;33m)\u001b[0m\u001b[1;33m)\u001b[0m\u001b[1;33m:\u001b[0m\u001b[1;33m\u001b[0m\u001b[0m\n\u001b[0m\u001b[0;32m      8\u001b[0m     if(calc_sec(df_y.loc[i]['timestamp'].split(' ')[1])>=calc_sec(df_sid.loc[0]['timestamp'].split(' ')[1]) and\n\u001b[0;32m      9\u001b[0m        calc_sec(df_y.loc[i]['timestamp'].split(' ')[1])<=calc_sec(df_sid.loc[len(df_sid)-1]['timestamp'].split(' ')[1])):\n",
      "\u001b[1;31mNameError\u001b[0m: name 'df_y' is not defined"
     ]
    }
   ],
   "source": [
    "label_period = []\n",
    "period_list = [[] for i in range(len(LABELS))]\n",
    "\n",
    "first = 0\n",
    "keep = 0\n",
    "\n",
    "for i in range(len(df_y)):\n",
    "    if(calc_sec(df_y.loc[i]['timestamp'].split(' ')[1])>=calc_sec(df_sid.loc[0]['timestamp'].split(' ')[1]) and\n",
    "       calc_sec(df_y.loc[i]['timestamp'].split(' ')[1])<=calc_sec(df_sid.loc[len(df_sid)-1]['timestamp'].split(' ')[1])):\n",
    "        \n",
    "        keep_lb = df_y.loc[keep]['y_pred']\n",
    "\n",
    "        if(keep_lb!=df_y.loc[i]['y_pred']):\n",
    "            label_period.append([df_y.loc[keep]['timestamp'], df_y.loc[i-1]['timestamp'], \n",
    "                                 df_y.loc[i-1]['y_pred']])\n",
    "\n",
    "            period_list[df_y.loc[i-1]['y_pred']].append([df_y.loc[keep]['timestamp'], df_y.loc[i-1]['timestamp']])\n",
    "\n",
    "            keep = i"
   ]
  },
  {
   "cell_type": "code",
   "execution_count": 40,
   "metadata": {
    "collapsed": true
   },
   "outputs": [],
   "source": [
    "labels_list = ['sit', 'sleep', 'stand', 'walk']\n",
    "headers = ['start', 'end', 'pred']\n",
    "\n",
    "t = PrettyTable(headers)\n",
    "\n",
    "for row in  \n",
    "#     if(calc_sec(row[1].split(' ')[1])-calc_sec(row[0].split(' ')[1])>1):\n",
    "    t.add_row([row[0], row[1], labels_list[row[2]]])"
   ]
  },
  {
   "cell_type": "code",
   "execution_count": 41,
   "metadata": {
    "scrolled": true
   },
   "outputs": [
    {
     "name": "stdout",
     "output_type": "stream",
     "text": [
      "+-------------------------+-------------------------+-------+\n",
      "|          start          |           end           |  pred |\n",
      "+-------------------------+-------------------------+-------+\n",
      "| 2019-01-16 14:22:22.075 |  2019-01-16 14:22:55.19 | stand |\n",
      "| 2019-01-16 14:22:55.351 | 2019-01-16 14:23:21.075 |  sit  |\n",
      "| 2019-01-16 14:23:21.231 | 2019-01-16 14:24:03.667 | stand |\n",
      "| 2019-01-16 14:24:03.828 | 2019-01-16 14:24:03.828 |  walk |\n",
      "| 2019-01-16 14:24:03.989 | 2019-01-16 14:24:04.149 | stand |\n",
      "| 2019-01-16 14:24:04.312 | 2019-01-16 14:24:04.631 |  walk |\n",
      "| 2019-01-16 14:24:04.793 | 2019-01-16 14:24:05.436 | stand |\n",
      "| 2019-01-16 14:24:05.596 | 2019-01-16 14:24:09.617 |  walk |\n",
      "| 2019-01-16 14:24:09.775 | 2019-01-16 14:24:10.257 |  sit  |\n",
      "|  2019-01-16 14:24:10.42 | 2019-01-16 14:24:43.204 | sleep |\n",
      "| 2019-01-16 14:24:43.375 | 2019-01-16 14:24:47.543 |  walk |\n",
      "| 2019-01-16 14:24:47.701 | 2019-01-16 14:25:27.073 |  sit  |\n",
      "| 2019-01-16 14:25:27.234 | 2019-01-16 14:25:57.121 | sleep |\n",
      "| 2019-01-16 14:25:57.284 | 2019-01-16 14:25:57.603 |  sit  |\n",
      "| 2019-01-16 14:25:57.765 | 2019-01-16 14:26:04.675 |  walk |\n",
      "| 2019-01-16 14:26:04.837 | 2019-01-16 14:26:39.391 | stand |\n",
      "| 2019-01-16 14:26:39.551 | 2019-01-16 14:26:39.712 |  walk |\n",
      "| 2019-01-16 14:26:39.873 | 2019-01-16 14:26:40.034 | stand |\n",
      "| 2019-01-16 14:26:40.194 | 2019-01-16 14:26:40.194 |  walk |\n",
      "| 2019-01-16 14:26:40.367 | 2019-01-16 14:26:50.317 | stand |\n",
      "| 2019-01-16 14:26:50.479 | 2019-01-16 14:27:16.033 |  walk |\n",
      "| 2019-01-16 14:27:16.192 | 2019-01-16 14:27:16.835 | stand |\n",
      "| 2019-01-16 14:27:16.996 | 2019-01-16 14:27:17.638 |  walk |\n",
      "| 2019-01-16 14:27:17.799 | 2019-01-16 14:27:18.444 | stand |\n",
      "| 2019-01-16 14:27:18.603 | 2019-01-16 14:27:20.852 |  walk |\n",
      "| 2019-01-16 14:27:21.013 | 2019-01-16 14:27:21.013 | stand |\n",
      "| 2019-01-16 14:27:21.174 | 2019-01-16 14:27:21.495 |  walk |\n",
      "| 2019-01-16 14:27:21.656 | 2019-01-16 14:27:21.656 | stand |\n",
      "| 2019-01-16 14:27:21.817 | 2019-01-16 14:27:45.125 |  walk |\n",
      "| 2019-01-16 14:27:45.283 | 2019-01-16 14:27:45.604 | stand |\n",
      "| 2019-01-16 14:27:45.765 | 2019-01-16 14:27:46.735 |  walk |\n",
      "| 2019-01-16 14:27:46.893 | 2019-01-16 14:27:47.213 | stand |\n",
      "| 2019-01-16 14:27:47.372 | 2019-01-16 14:27:48.176 |  walk |\n",
      "| 2019-01-16 14:27:48.337 | 2019-01-16 14:27:48.981 | stand |\n",
      "| 2019-01-16 14:27:49.142 | 2019-01-16 14:27:49.783 |  walk |\n",
      "| 2019-01-16 14:27:49.944 | 2019-01-16 14:27:50.587 | stand |\n",
      "| 2019-01-16 14:27:50.747 | 2019-01-16 14:27:51.393 |  walk |\n",
      "| 2019-01-16 14:27:51.553 | 2019-01-16 14:27:52.355 | stand |\n",
      "| 2019-01-16 14:27:52.516 | 2019-01-16 14:27:52.998 |  walk |\n",
      "| 2019-01-16 14:27:53.159 | 2019-01-16 14:27:53.964 | stand |\n",
      "| 2019-01-16 14:27:54.126 | 2019-01-16 14:27:54.605 |  walk |\n",
      "| 2019-01-16 14:27:54.766 |  2019-01-16 14:27:55.57 | stand |\n",
      "| 2019-01-16 14:27:55.733 | 2019-01-16 14:27:56.213 |  walk |\n",
      "| 2019-01-16 14:27:56.373 | 2019-01-16 14:27:57.177 | stand |\n",
      "| 2019-01-16 14:27:57.338 | 2019-01-16 14:27:57.981 |  walk |\n",
      "| 2019-01-16 14:27:58.142 | 2019-01-16 14:27:58.142 | stand |\n",
      "| 2019-01-16 14:27:58.304 | 2019-01-16 14:27:59.588 |  walk |\n",
      "| 2019-01-16 14:27:59.748 | 2019-01-16 14:27:59.748 | stand |\n",
      "|  2019-01-16 14:27:59.91 |  2019-01-16 14:28:02.48 |  walk |\n",
      "| 2019-01-16 14:28:02.643 | 2019-01-16 14:28:02.643 | stand |\n",
      "| 2019-01-16 14:28:02.803 | 2019-01-16 14:28:03.927 |  walk |\n",
      "| 2019-01-16 14:28:04.088 | 2019-01-16 14:28:04.248 | stand |\n",
      "| 2019-01-16 14:28:04.409 | 2019-01-16 14:28:05.536 |  walk |\n",
      "| 2019-01-16 14:28:05.695 | 2019-01-16 14:28:05.856 |  sit  |\n",
      "| 2019-01-16 14:28:06.016 | 2019-01-16 14:28:07.141 |  walk |\n",
      "| 2019-01-16 14:28:07.315 | 2019-01-16 14:28:07.465 |  sit  |\n",
      "| 2019-01-16 14:28:07.626 | 2019-01-16 14:28:17.748 |  walk |\n",
      "| 2019-01-16 14:28:17.908 | 2019-01-16 14:28:18.714 | stand |\n",
      "| 2019-01-16 14:28:18.875 | 2019-01-16 14:28:19.194 |  walk |\n",
      "| 2019-01-16 14:28:19.357 | 2019-01-16 14:28:29.961 | stand |\n",
      "| 2019-01-16 14:28:30.123 | 2019-01-16 14:28:31.407 |  walk |\n",
      "| 2019-01-16 14:28:31.568 | 2019-01-16 14:28:33.657 | stand |\n",
      "| 2019-01-16 14:28:33.818 | 2019-01-16 14:28:33.978 |  walk |\n",
      "| 2019-01-16 14:28:34.139 |  2019-01-16 14:28:34.46 | stand |\n",
      "| 2019-01-16 14:28:34.623 | 2019-01-16 14:28:35.426 |  walk |\n",
      "| 2019-01-16 14:28:35.587 |  2019-01-16 14:28:36.71 | stand |\n",
      "|  2019-01-16 14:28:36.87 |  2019-01-16 14:28:36.87 |  walk |\n",
      "| 2019-01-16 14:28:37.032 | 2019-01-16 14:28:41.047 | stand |\n",
      "| 2019-01-16 14:28:41.208 | 2019-01-16 14:28:41.208 |  walk |\n",
      "| 2019-01-16 14:28:41.368 | 2019-01-16 14:28:41.368 | stand |\n",
      "|  2019-01-16 14:28:41.53 | 2019-01-16 14:28:42.335 |  walk |\n",
      "| 2019-01-16 14:28:42.493 | 2019-01-16 14:28:42.493 | stand |\n",
      "| 2019-01-16 14:28:42.654 | 2019-01-16 14:28:48.922 |  walk |\n",
      "| 2019-01-16 14:28:49.081 | 2019-01-16 14:28:49.081 | stand |\n",
      "| 2019-01-16 14:28:49.242 | 2019-01-16 14:28:52.616 |  walk |\n",
      "| 2019-01-16 14:28:52.778 | 2019-01-16 14:28:55.828 |  sit  |\n",
      "| 2019-01-16 14:28:55.989 | 2019-01-16 14:28:56.151 |  walk |\n",
      "|  2019-01-16 14:28:56.31 | 2019-01-16 14:28:57.435 |  sit  |\n",
      "| 2019-01-16 14:28:57.595 | 2019-01-16 14:28:57.756 |  walk |\n",
      "| 2019-01-16 14:28:57.917 | 2019-01-16 14:28:58.077 |  sit  |\n",
      "| 2019-01-16 14:28:58.245 | 2019-01-16 14:28:58.245 |  walk |\n",
      "| 2019-01-16 14:28:58.401 | 2019-01-16 14:28:59.043 |  sit  |\n",
      "| 2019-01-16 14:28:59.204 | 2019-01-16 14:28:59.365 |  walk |\n",
      "| 2019-01-16 14:28:59.523 | 2019-01-16 14:28:59.686 |  sit  |\n",
      "| 2019-01-16 14:28:59.845 | 2019-01-16 14:28:59.845 |  walk |\n",
      "| 2019-01-16 14:29:00.005 |  2019-01-16 14:29:00.49 |  sit  |\n",
      "| 2019-01-16 14:29:00.648 | 2019-01-16 14:29:01.453 |  walk |\n",
      "| 2019-01-16 14:29:01.613 | 2019-01-16 14:29:02.094 |  sit  |\n",
      "| 2019-01-16 14:29:02.255 | 2019-01-16 14:29:03.057 |  walk |\n",
      "| 2019-01-16 14:29:03.218 |  2019-01-16 14:29:03.7  |  sit  |\n",
      "| 2019-01-16 14:29:03.861 | 2019-01-16 14:29:04.664 |  walk |\n",
      "| 2019-01-16 14:29:04.825 | 2019-01-16 14:29:05.307 |  sit  |\n",
      "| 2019-01-16 14:29:05.468 | 2019-01-16 14:29:06.273 |  walk |\n",
      "| 2019-01-16 14:29:06.432 | 2019-01-16 14:29:06.914 |  sit  |\n",
      "| 2019-01-16 14:29:07.075 |  2019-01-16 14:29:08.2  |  walk |\n",
      "| 2019-01-16 14:29:08.361 | 2019-01-16 14:29:08.361 |  sit  |\n",
      "| 2019-01-16 14:29:08.525 | 2019-01-16 14:29:09.323 |  walk |\n",
      "| 2019-01-16 14:29:09.487 | 2019-01-16 14:29:09.487 |  sit  |\n",
      "| 2019-01-16 14:29:09.645 | 2019-01-16 14:29:09.805 |  walk |\n",
      "| 2019-01-16 14:29:09.966 | 2019-01-16 14:29:09.966 |  sit  |\n",
      "| 2019-01-16 14:29:10.127 |  2019-01-16 14:29:10.93 |  walk |\n",
      "| 2019-01-16 14:29:11.106 | 2019-01-16 14:29:11.106 |  sit  |\n",
      "| 2019-01-16 14:29:11.253 | 2019-01-16 14:29:12.537 |  walk |\n",
      "| 2019-01-16 14:29:12.697 | 2019-01-16 14:29:12.697 |  sit  |\n",
      "| 2019-01-16 14:29:12.858 | 2019-01-16 14:29:13.986 |  walk |\n",
      "| 2019-01-16 14:29:14.145 | 2019-01-16 14:29:14.787 |  sit  |\n",
      "| 2019-01-16 14:29:14.947 | 2019-01-16 14:29:15.591 |  walk |\n",
      "| 2019-01-16 14:29:15.751 | 2019-01-16 14:29:16.395 |  sit  |\n",
      "| 2019-01-16 14:29:16.554 | 2019-01-16 14:29:17.196 |  walk |\n",
      "| 2019-01-16 14:29:17.357 | 2019-01-16 14:29:18.001 |  sit  |\n",
      "| 2019-01-16 14:29:18.162 | 2019-01-16 14:29:18.483 |  walk |\n",
      "| 2019-01-16 14:29:18.642 | 2019-01-16 14:29:18.642 | stand |\n",
      "| 2019-01-16 14:29:18.815 | 2019-01-16 14:29:18.815 |  walk |\n",
      "| 2019-01-16 14:29:18.966 | 2019-01-16 14:29:19.607 | stand |\n",
      "| 2019-01-16 14:29:19.768 | 2019-01-16 14:29:20.089 |  walk |\n",
      "| 2019-01-16 14:29:20.249 | 2019-01-16 14:29:20.249 | stand |\n",
      "| 2019-01-16 14:29:20.411 | 2019-01-16 14:29:20.411 |  walk |\n",
      "| 2019-01-16 14:29:20.572 | 2019-01-16 14:29:21.534 | stand |\n",
      "| 2019-01-16 14:29:21.695 | 2019-01-16 14:29:21.695 |  walk |\n",
      "| 2019-01-16 14:29:21.856 | 2019-01-16 14:29:21.856 | stand |\n",
      "| 2019-01-16 14:29:22.016 | 2019-01-16 14:29:22.016 |  walk |\n",
      "| 2019-01-16 14:29:22.177 | 2019-01-16 14:29:23.143 | stand |\n",
      "| 2019-01-16 14:29:23.303 | 2019-01-16 14:29:23.303 |  walk |\n",
      "| 2019-01-16 14:29:23.462 | 2019-01-16 14:29:23.462 | stand |\n",
      "| 2019-01-16 14:29:23.622 | 2019-01-16 14:29:24.265 |  walk |\n",
      "| 2019-01-16 14:29:24.426 | 2019-01-16 14:29:34.708 | stand |\n",
      "| 2019-01-16 14:29:34.869 |  2019-01-16 14:29:35.03 |  walk |\n",
      "|  2019-01-16 14:29:35.19 | 2019-01-16 14:29:35.672 | stand |\n",
      "| 2019-01-16 14:29:35.834 | 2019-01-16 14:29:35.993 |  walk |\n",
      "| 2019-01-16 14:29:36.156 | 2019-01-16 14:29:36.156 | stand |\n",
      "| 2019-01-16 14:29:36.315 | 2019-01-16 14:29:36.637 |  walk |\n",
      "| 2019-01-16 14:29:36.797 | 2019-01-16 14:29:37.279 | stand |\n",
      "| 2019-01-16 14:29:37.441 | 2019-01-16 14:29:38.245 |  walk |\n",
      "| 2019-01-16 14:29:38.403 | 2019-01-16 14:29:38.403 |  sit  |\n",
      "| 2019-01-16 14:29:38.566 | 2019-01-16 14:29:38.566 | stand |\n",
      "| 2019-01-16 14:29:38.725 | 2019-01-16 14:29:38.725 |  walk |\n",
      "| 2019-01-16 14:29:38.886 | 2019-01-16 14:29:38.886 | stand |\n",
      "+-------------------------+-------------------------+-------+\n"
     ]
    }
   ],
   "source": [
    "print(t)"
   ]
  },
  {
   "cell_type": "code",
   "execution_count": 61,
   "metadata": {},
   "outputs": [
    {
     "name": "stdout",
     "output_type": "stream",
     "text": [
      "136\n",
      "[['sit', 25], ['sleep', 2], ['stand', 45], ['walk', 65]]\n"
     ]
    }
   ],
   "source": [
    "print(len(label_period)-1)\n",
    "\n",
    "label_cnt_list = [0 for i in range(len(labels_list))]\n",
    "for lb_p in label_period:\n",
    "    label_i = lb_p[2]\n",
    "    \n",
    "    label_cnt_list[label_i] += 1\n",
    "\n",
    "activity_changes = []\n",
    "for i in range(len(labels_list)):\n",
    "    activity_changes.append([labels_list[i], label_cnt_list[i]])\n",
    "    \n",
    "print(activity_changes)"
   ]
  },
  {
   "cell_type": "code",
   "execution_count": 66,
   "metadata": {
    "collapsed": true
   },
   "outputs": [],
   "source": [
    "headers = ['Label', 'Activities Count']\n",
    "tabl_act_chng = PrettyTable(headers)\n",
    "\n",
    "for ac in activity_changes:\n",
    "    tabl_act_chng.add_row([ac[0], ac[1]])\n",
    "    \n",
    "tabl_act_chng.add_row(['', ''])\n",
    "tabl_act_chng.add_row(['total changes', len(label_period)-1])"
   ]
  },
  {
   "cell_type": "code",
   "execution_count": 67,
   "metadata": {},
   "outputs": [
    {
     "name": "stdout",
     "output_type": "stream",
     "text": [
      "+---------------+------------------+\n",
      "|     Label     | Activities Count |\n",
      "+---------------+------------------+\n",
      "|      sit      |        25        |\n",
      "|     sleep     |        2         |\n",
      "|     stand     |        45        |\n",
      "|      walk     |        65        |\n",
      "|               |                  |\n",
      "| total changes |       136        |\n",
      "+---------------+------------------+\n"
     ]
    }
   ],
   "source": [
    "print(tabl_act_chng)"
   ]
  },
  {
   "cell_type": "markdown",
   "metadata": {},
   "source": [
    "## Frequency Active <-> Inactive"
   ]
  },
  {
   "cell_type": "code",
   "execution_count": null,
   "metadata": {
    "collapsed": true
   },
   "outputs": [],
   "source": [
    "headers = ['Frequency', 'Activities Count']\n",
    "tabl_Feq = PrettyTable(headers)\n",
    "Fq1 = 0\n",
    "isActive = None\n",
    "if(labels_list[label_period[2]] == 'stand' or labels_list[label_period[2]] == 'walk') :\n",
    "    isActive = True\n",
    "else :\n",
    "    isActive = False\n",
    "    \n",
    "for fq in label_period :\n",
    "    if((labels_list[fq[2]] == 'stand' or labels_list[fq[2]] == 'walk') and isActive == False):\n",
    "        Fq1 += 1\n",
    "        isActive = True\n",
    "    else if((labels_list[fq[2]] == 'sleep' or labels_list[fq[2]] == 'sit') and isActive == True) :\n",
    "        Fq1 += 1\n",
    "        isActive = False\n",
    "    else :\n",
    "        waste = 0\n",
    "\n",
    "tabl_Feq.add_row(['Frequency Active <-> Inactive', Fq1])"
   ]
  },
  {
   "cell_type": "code",
   "execution_count": null,
   "metadata": {
    "collapsed": true
   },
   "outputs": [],
   "source": [
    "print(tabl.Freq)"
   ]
  },
  {
   "cell_type": "markdown",
   "metadata": {},
   "source": [
    "## Active Inactive AC (ALL)"
   ]
  },
  {
   "cell_type": "code",
   "execution_count": 20,
   "metadata": {},
   "outputs": [
    {
     "ename": "NameError",
     "evalue": "name 'activity_change' is not defined",
     "output_type": "error",
     "traceback": [
      "\u001b[1;31m---------------------------------------------------------------------------\u001b[0m",
      "\u001b[1;31mNameError\u001b[0m                                 Traceback (most recent call last)",
      "\u001b[1;32m<ipython-input-20-07581d7dee01>\u001b[0m in \u001b[0;36m<module>\u001b[1;34m()\u001b[0m\n\u001b[0;32m      3\u001b[0m \u001b[0minactive_table\u001b[0m \u001b[1;33m=\u001b[0m \u001b[1;33m[\u001b[0m\u001b[1;33m]\u001b[0m\u001b[1;33m\u001b[0m\u001b[0m\n\u001b[0;32m      4\u001b[0m \u001b[0mactive_table\u001b[0m \u001b[1;33m=\u001b[0m \u001b[1;33m[\u001b[0m\u001b[1;33m]\u001b[0m\u001b[1;33m\u001b[0m\u001b[0m\n\u001b[1;32m----> 5\u001b[1;33m \u001b[1;32mfor\u001b[0m \u001b[0mac\u001b[0m \u001b[1;32min\u001b[0m \u001b[0mactivity_change\u001b[0m \u001b[1;33m:\u001b[0m\u001b[1;33m\u001b[0m\u001b[0m\n\u001b[0m\u001b[0;32m      6\u001b[0m     \u001b[1;32mif\u001b[0m\u001b[1;33m(\u001b[0m\u001b[0mac\u001b[0m\u001b[1;33m[\u001b[0m\u001b[1;36m0\u001b[0m\u001b[1;33m]\u001b[0m \u001b[1;33m==\u001b[0m \u001b[1;34m'sit'\u001b[0m \u001b[1;32mor\u001b[0m \u001b[0mac\u001b[0m\u001b[1;33m[\u001b[0m\u001b[1;36m0\u001b[0m\u001b[1;33m]\u001b[0m \u001b[1;33m==\u001b[0m \u001b[1;34m'sleep'\u001b[0m\u001b[1;33m)\u001b[0m\u001b[1;33m:\u001b[0m\u001b[1;33m\u001b[0m\u001b[0m\n\u001b[0;32m      7\u001b[0m         \u001b[0msum\u001b[0m \u001b[1;33m+=\u001b[0m \u001b[0mac\u001b[0m\u001b[1;33m[\u001b[0m\u001b[1;36m1\u001b[0m\u001b[1;33m]\u001b[0m\u001b[1;33m\u001b[0m\u001b[0m\n",
      "\u001b[1;31mNameError\u001b[0m: name 'activity_change' is not defined"
     ]
    }
   ],
   "source": [
    "headers = ['Label', 'Activities Count']\n",
    "tabl_act = PrettyTable(headers)\n",
    "inactive_table = []\n",
    "active_table = []\n",
    "for ac in activity_change :\n",
    "    if(ac[0] == 'sit' or ac[0] == 'sleep'):\n",
    "        sum += ac[1]\n",
    "    else :\n",
    "        sum_2 += ac[1]\n",
    "inactive_table.append(['Inactive', sum])\n",
    "active_table.append(['Active', sum_2])\n",
    "tabl_act.add_row([inactive_table[0],inactive_table[1]])\n",
    "tabl_act.add_row([active_table[0],active_table[1]])"
   ]
  },
  {
   "cell_type": "code",
   "execution_count": null,
   "metadata": {
    "collapsed": true
   },
   "outputs": [],
   "source": [
    "print(tabl.act)"
   ]
  },
  {
   "cell_type": "markdown",
   "metadata": {},
   "source": [
    "# Predicted Duration"
   ]
  },
  {
   "cell_type": "code",
   "execution_count": 43,
   "metadata": {
    "collapsed": true
   },
   "outputs": [],
   "source": [
    "total_secs = []\n",
    "for i in range(len(period_list)):    \n",
    "    secs = 0\n",
    "    for p_i in period_list[i]:\n",
    "        sec = calc_sec(p_i[1].split(' ')[1]) - calc_sec(p_i[0].split(' ')[1])\n",
    "        secs += sec\n",
    "    \n",
    "    secs = round(secs, 3)\n",
    "    total_secs.append(secs)\n",
    "    \n",
    "percent_secs = [round(t/np.sum(total_secs)*100, 3) for t in total_secs]\n",
    "\n",
    "tb = PrettyTable(['Label', 'Seconds', 'Percentage'])\n",
    "\n",
    "for i in range(len(LABELS)):\n",
    "    tb.add_row([labels_list[i], total_secs[i], percent_secs[i]])\n",
    "\n",
    "tb.add_row(['', '', ''])\n",
    "tb.add_row(['total', round(np.sum(total_secs), 3), round(np.sum(percent_secs), 3)])"
   ]
  },
  {
   "cell_type": "markdown",
   "metadata": {},
   "source": [
    "# Actual Duration"
   ]
  },
  {
   "cell_type": "code",
   "execution_count": 44,
   "metadata": {
    "collapsed": true
   },
   "outputs": [],
   "source": [
    "df_lb = df_sid.groupby('label')\n",
    "old_labels_list = ['sit', 'sleep', 'stand', 'walk']\n",
    "\n",
    "dura_dict = {}\n",
    "for lb in labels_list:\n",
    "    dura_dict[lb] = 0\n",
    "\n",
    "idx = list(df_sid.index)\n",
    "for i in range(len(old_labels_list)):\n",
    "    lb = old_labels_list[i]\n",
    "    df_temp = df_lb.get_group(lb)\n",
    "    df_temp = df_temp.reset_index(drop=True)\n",
    "        \n",
    "    if(lb=='downstairs' or lb=='upstairs'):\n",
    "        lb = 'walk'\n",
    "    \n",
    "    for j in range(len(df_temp)):\n",
    "        dura_dict[lb] += calc_sec(df_temp.loc[j]['duration'])\n",
    "        \n",
    "for i in range(len(dura_dict)):\n",
    "    if(dura_dict[i] >= 60):\n",
    "        min = round(dura_dicr[i]/60)\n",
    "        sec = (dura_dict[i]%60)/100\n",
    "        min = min+sec\n",
    "        dura_dict[i] = min\n",
    "\n",
    "total_dura = np.sum([dura_dict[lb] for lb in labels_list])\n",
    "min = total_dura%60\n",
    "sec_to_min = min /60\n",
    "sec_to_sec = (min%60)/100\n",
    "toal_dura = sec + sec_to_min + sec_to_sec\n",
    "\n",
    "percent_list = []\n",
    "        \n",
    "tabl = PrettyTable(['Label', 'Minutes', 'Percentage'])\n",
    "for lb in labels_list:\n",
    "    percent = round(dura_dict[lb]/total_dura*100, 3)\n",
    "    tabl.add_row([lb, dura_dict[lb], round(dura_dict[lb]/total_dura*100, 3)])\n",
    "    \n",
    "    percent_list.append(percent)\n",
    "    \n",
    "tabl.add_row(['', '', ''])    \n",
    "tabl.add_row(['total', total_dura, np.sum(percent_list)])"
   ]
  },
  {
   "cell_type": "markdown",
   "metadata": {},
   "source": [
    "# Activity Durations Table"
   ]
  },
  {
   "cell_type": "code",
   "execution_count": 45,
   "metadata": {
    "scrolled": true
   },
   "outputs": [
    {
     "name": "stdout",
     "output_type": "stream",
     "text": [
      "Prediction\n",
      "+-------+---------+------------+\n",
      "| Label | Seconds | Percentage |\n",
      "+-------+---------+------------+\n",
      "|  sit  |  75.69  |   18.242   |\n",
      "| sleep |  62.671 |   15.104   |\n",
      "| stand | 160.383 |   38.654   |\n",
      "|  walk | 116.177 |    28.0    |\n",
      "|       |         |            |\n",
      "| total | 414.921 |   100.0    |\n",
      "+-------+---------+------------+\n",
      "Actual\n",
      "+-------+---------+------------+\n",
      "| Label | Seconds | Percentage |\n",
      "+-------+---------+------------+\n",
      "|  sit  |   60.0  |   16.901   |\n",
      "| sleep |   60.0  |   16.901   |\n",
      "| stand |   90.0  |   25.352   |\n",
      "|  walk |  145.0  |   40.845   |\n",
      "|       |         |            |\n",
      "| total |  355.0  |   99.999   |\n",
      "+-------+---------+------------+\n"
     ]
    }
   ],
   "source": [
    "print('Prediction')\n",
    "print(tb)\n",
    "\n",
    "print('Actual')\n",
    "print(tabl)"
   ]
  },
  {
   "cell_type": "markdown",
   "metadata": {},
   "source": [
    "# Bar Chart for Every 5 Minutes"
   ]
  },
  {
   "cell_type": "code",
   "execution_count": 46,
   "metadata": {
    "collapsed": true
   },
   "outputs": [],
   "source": [
    "s_idx = 0\n",
    "f_idx = 1\n",
    "lb_idx = 2"
   ]
  },
  {
   "cell_type": "markdown",
   "metadata": {},
   "source": [
    "## Separate Each 5 Minutes"
   ]
  },
  {
   "cell_type": "code",
   "execution_count": 47,
   "metadata": {},
   "outputs": [
    {
     "name": "stdout",
     "output_type": "stream",
     "text": [
      "14:20:0.0 14:30:0.0\n"
     ]
    }
   ],
   "source": [
    "fivemin = 60*5\n",
    "new_label_period = []\n",
    "\n",
    "start_time = calc_sec(label_period[0][s_idx].split(' ')[1])\n",
    "finish_time = calc_sec(label_period[-1][f_idx].split(' ')[1])\n",
    "\n",
    "floor_start = start_time - (start_time%fivemin)\n",
    "ceil_finish = finish_time - (finish_time%fivemin) + fivemin\n",
    "\n",
    "print(calc_ts(floor_start), calc_ts(ceil_finish))\n",
    "\n",
    "tm_s = floor_start\n",
    "tm_f = floor_start + fivemin\n",
    "date = label_period[0][s_idx].split(' ')[0]\n",
    "\n",
    "for prd in label_period:\n",
    "    if(calc_sec(prd[f_idx].split(' ')[1])>=tm_f):\n",
    "        new_prd = [prd[s_idx], date + ' ' + calc_ts(tm_f), prd[lb_idx]]\n",
    "        new_label_period.append(new_prd)\n",
    "        \n",
    "        tm_s += fivemin\n",
    "        tm_f += fivemin\n",
    "    else:\n",
    "        new_label_period.append(prd)\n",
    "                \n",
    "    if(calc_sec(prd[s_idx].split(' ')[1])<tm_s):\n",
    "        new_prd = [date + ' ' + calc_ts(tm_s), prd[f_idx], prd[lb_idx]]\n",
    "        new_label_period.append(new_prd)"
   ]
  },
  {
   "cell_type": "code",
   "execution_count": 48,
   "metadata": {
    "collapsed": true
   },
   "outputs": [],
   "source": [
    "all_periods_label = []\n",
    "\n",
    "for t_i in range(int(floor_start), int(ceil_finish), fivemin):\n",
    "    period_lb = [0 for i in range(len(LABELS))]\n",
    "    for prd in new_label_period:\n",
    "        if(calc_sec(prd[s_idx].split(' ')[1])>=t_i and calc_sec(prd[f_idx].split(' ')[1])<=t_i+fivemin):\n",
    "            period_lb[prd[lb_idx]] += calc_sec(prd[f_idx].split(' ')[1])-calc_sec(prd[s_idx].split(' ')[1])\n",
    "            period_lb[prd[lb_idx]] = round(period_lb[prd[lb_idx]], 3)\n",
    "            \n",
    "    all_periods_label.append(period_lb)"
   ]
  },
  {
   "cell_type": "markdown",
   "metadata": {},
   "source": [
    "## Active inactive frequency"
   ]
  },
  {
   "cell_type": "code",
   "execution_count": null,
   "metadata": {
    "collapsed": true
   },
   "outputs": [],
   "source": [
    "label_period = []\n",
    "period_list = [[] for i in range(len(LABELS))]\n",
    "\n",
    "first = 0\n",
    "keep = 0\n",
    "\n",
    "for i in range(len(df_y)):\n",
    "    if(calc_sec(df_y.loc[i]['timestamp'].split(' ')[1])>=calc_sec(df_sid.loc[0]['timestamp'].split(' ')[1]) and\n",
    "       calc_sec(df_y.loc[i]['timestamp'].split(' ')[1])<=calc_sec(df_sid.loc[len(df_sid)-1]['timestamp'].split(' ')[1])):\n",
    "        \n",
    "        keep_lb = df_y.loc[keep]['y_pred']\n",
    "\n",
    "        if(keep_lb!=df_y.loc[i]['y_pred']):\n",
    "            label_period.append([df_y.loc[keep]['timestamp'], df_y.loc[i-1]['timestamp'], \n",
    "                                 df_y.loc[i-1]['y_pred']])\n",
    "\n",
    "            period_list[df_y.loc[i-1]['y_pred']].append([df_y.loc[keep]['timestamp'], df_y.loc[i-1]['timestamp']])\n",
    "\n",
    "            keep = i"
   ]
  },
  {
   "cell_type": "code",
   "execution_count": null,
   "metadata": {
    "collapsed": true
   },
   "outputs": [],
   "source": [
    "labels_list = ['sit', 'sleep', 'stand', 'walk']\n",
    "headers = ['start', 'end', 'pred']\n",
    "\n",
    "t = PrettyTable(headers)\n",
    "\n",
    "for row in label_period:\n",
    "#     if(calc_sec(row[1].split(' ')[1])-calc_sec(row[0].split(' ')[1])>1):\n",
    "    t.add_row([row[0], row[1], labels_list[row[2]]])"
   ]
  },
  {
   "cell_type": "code",
   "execution_count": null,
   "metadata": {
    "collapsed": true
   },
   "outputs": [],
   "source": [
    "strat = calc_sec(label_period[0][s_idx].split(' ')[1])\n",
    "finish = calc_sec(label_period[-1][s_idx].split(' ')[1])\n",
    "for i in label_period:\n",
    "    if(row[0] >= )"
   ]
  },
  {
   "cell_type": "markdown",
   "metadata": {},
   "source": [
    "## Plot Bar Graph"
   ]
  },
  {
   "cell_type": "code",
   "execution_count": 50,
   "metadata": {},
   "outputs": [
    {
     "ename": "NameError",
     "evalue": "name 'test_subj' is not defined",
     "output_type": "error",
     "traceback": [
      "\u001b[1;31m---------------------------------------------------------------------------\u001b[0m",
      "\u001b[1;31mNameError\u001b[0m                                 Traceback (most recent call last)",
      "\u001b[1;32m<ipython-input-50-d222cd82bd79>\u001b[0m in \u001b[0;36m<module>\u001b[1;34m()\u001b[0m\n\u001b[0;32m     23\u001b[0m \u001b[0mplt\u001b[0m\u001b[1;33m.\u001b[0m\u001b[0mxlim\u001b[0m\u001b[1;33m(\u001b[0m\u001b[0mmin\u001b[0m\u001b[1;33m(\u001b[0m\u001b[0mpos\u001b[0m\u001b[1;33m)\u001b[0m\u001b[1;33m-\u001b[0m\u001b[0mwidth\u001b[0m\u001b[1;33m,\u001b[0m \u001b[0mmax\u001b[0m\u001b[1;33m(\u001b[0m\u001b[0mpos\u001b[0m\u001b[1;33m)\u001b[0m\u001b[1;33m+\u001b[0m\u001b[0mwidth\u001b[0m\u001b[1;33m*\u001b[0m\u001b[1;36m4\u001b[0m\u001b[1;33m)\u001b[0m\u001b[1;33m\u001b[0m\u001b[0m\n\u001b[0;32m     24\u001b[0m \u001b[0mplt\u001b[0m\u001b[1;33m.\u001b[0m\u001b[0mlegend\u001b[0m\u001b[1;33m(\u001b[0m\u001b[0mloc\u001b[0m\u001b[1;33m=\u001b[0m\u001b[1;34m'upper left'\u001b[0m\u001b[1;33m)\u001b[0m\u001b[1;33m\u001b[0m\u001b[0m\n\u001b[1;32m---> 25\u001b[1;33m \u001b[0mplt\u001b[0m\u001b[1;33m.\u001b[0m\u001b[0mtitle\u001b[0m\u001b[1;33m(\u001b[0m\u001b[1;34m'Activity Summary for Subject ID: '\u001b[0m \u001b[1;33m+\u001b[0m \u001b[0mtest_subj\u001b[0m\u001b[1;33m)\u001b[0m\u001b[1;33m\u001b[0m\u001b[0m\n\u001b[0m\u001b[0;32m     26\u001b[0m \u001b[1;33m\u001b[0m\u001b[0m\n\u001b[0;32m     27\u001b[0m \u001b[0mplt\u001b[0m\u001b[1;33m.\u001b[0m\u001b[0mshow\u001b[0m\u001b[1;33m(\u001b[0m\u001b[1;33m)\u001b[0m\u001b[1;33m\u001b[0m\u001b[0m\n",
      "\u001b[1;31mNameError\u001b[0m: name 'test_subj' is not defined"
     ]
    },
    {
     "data": {
      "image/png": "[encoded data removed]",
      "text/plain": [
       "<Figure size 720x360 with 1 Axes>"
      ]
     },
     "metadata": {},
     "output_type": "display_data"
    }
   ],
   "source": [
    "pos = list(range(len(df_all['sit'])))\n",
    "width = 0.2\n",
    "colors = ['crimson','gold','lime','dodgerblue']\n",
    "\n",
    "fig, ax = plt.subplots(figsize=(10,5))\n",
    "\n",
    "for i in range(len(LABELS)):\n",
    "    plt.bar([p + i*width for p in pos],\n",
    "            df_all[labels_list[i]],\n",
    "            width,\n",
    "            alpha=0.5,\n",
    "            color=colors[i],\n",
    "            label=labels_list[i])\n",
    "    \n",
    "ax.set_xticks([p + 1.5 * width for p in pos])\n",
    "\n",
    "xtick_labels = [calc_ts(floor_start + i*fivemin) + '-' + calc_ts(floor_start + (i+1)*fivemin)\n",
    "                for i in range(len(df_all))]\n",
    "ax.set_xticklabels(xtick_labels)\n",
    "\n",
    "ax.set_ylabel('Time (sec)')\n",
    "\n",
    "plt.xlim(min(pos)-width, max(pos)+width*4)\n",
    "plt.legend(loc='upper left')\n",
    "plt.title('Activity Summary for Subject ID: ' + test_subj)\n",
    "\n",
    "plt.show()"
   ]
  }
 ],
 "metadata": {
  "colab": {
   "collapsed_sections": [],
   "name": "DDC_run.ipynb",
   "provenance": [
    {
     "file_id": "1uW9RzCQha3RZ_wzM_gLxhAN7ytclHWHC",
     "timestamp": 1548220076491
    }
   ],
   "toc_visible": true,
   "version": "0.3.2"
  },
  "kernelspec": {
   "display_name": "Python (tf)",
   "language": "python",
   "name": "tf"
  },
  "language_info": {
   "codemirror_mode": {
    "name": "ipython",
    "version": 3
   },
   "file_extension": ".py",
   "mimetype": "text/x-python",
   "name": "python",
   "nbconvert_exporter": "python",
   "pygments_lexer": "ipython3",
   "version": "3.6.3"
  }
 },
 "nbformat": 4,
 "nbformat_minor": 2
}
