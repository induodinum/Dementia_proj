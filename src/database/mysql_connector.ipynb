{
 "cells": [
  {
   "cell_type": "code",
   "execution_count": 1,
   "metadata": {},
   "outputs": [],
   "source": [
    "import mysql.connector"
   ]
  },
  {
   "cell_type": "code",
   "execution_count": 2,
   "metadata": {},
   "outputs": [],
   "source": [
    "mydb = mysql.connector.connect(\n",
    "    host='localhost',\n",
    "    user='root',\n",
    "    passwd='slow675',\n",
    "    database='amd_project'\n",
    "    )"
   ]
  },
  {
   "cell_type": "code",
   "execution_count": 3,
   "metadata": {},
   "outputs": [
    {
     "name": "stdout",
     "output_type": "stream",
     "text": [
      "<mysql.connector.connection.MySQLConnection object at 0x10b8d0b00>\n"
     ]
    }
   ],
   "source": [
    "print(mydb)"
   ]
  },
  {
   "cell_type": "code",
   "execution_count": 5,
   "metadata": {},
   "outputs": [],
   "source": [
    "mycursor = mydb.cursor()"
   ]
  },
  {
   "cell_type": "code",
   "execution_count": 7,
   "metadata": {},
   "outputs": [],
   "source": [
    "sql = \"INSERT INTO Patient (ID, Dateandtime, X, Y, Z, HR, Label) VALUES (%s, %s, %s, %s, %s, %s, %s)\"\n",
    "val = [\n",
    "    (3001, '2019-03-14 14:58:00', 1.35, 3.87, 9.46, 89.0123, None),\n",
    "    (3001, '2019-03-14 14:58:01', 1.49, 3.65, 9.33, 88.9777, None),\n",
    "    (3001, '2019-03-14 14:58:02', 1.38, 3.42, 9.55, 86.3654, None)\n",
    "      ]\n",
    "\n",
    "mycursor.executemany(sql, val)\n",
    "\n",
    "mydb.commit()"
   ]
  },
  {
   "cell_type": "code",
   "execution_count": 8,
   "metadata": {},
   "outputs": [
    {
     "name": "stdout",
     "output_type": "stream",
     "text": [
      "(3001, datetime.datetime(2019, 3, 14, 14, 58), 1.35, 3.87, 9.46, 89.0123)\n",
      "(3001, datetime.datetime(2019, 3, 14, 14, 58, 1), 1.49, 3.65, 9.33, 88.9777)\n",
      "(3001, datetime.datetime(2019, 3, 14, 14, 58, 2), 1.38, 3.42, 9.55, 86.3654)\n"
     ]
    }
   ],
   "source": [
    "mycursor.execute(\"SELECT * FROM Patient\")\n",
    "\n",
    "myresult = mycursor.fetchall()\n",
    "\n",
    "for x in myresult:\n",
    "    print(x)"
   ]
  },
  {
   "cell_type": "code",
   "execution_count": 14,
   "metadata": {},
   "outputs": [],
   "source": [
    "sql = \"DELETE FROM Patient WHERE ID = 3001\"\n",
    "\n",
    "mycursor.execute(sql)\n",
    "\n",
    "mydb.commit()"
   ]
  }
 ],
 "metadata": {
  "kernelspec": {
   "display_name": "Python 3",
   "language": "python",
   "name": "python3"
  },
  "language_info": {
   "codemirror_mode": {
    "name": "ipython",
    "version": 3
   },
   "file_extension": ".py",
   "mimetype": "text/x-python",
   "name": "python",
   "nbconvert_exporter": "python",
   "pygments_lexer": "ipython3",
   "version": "3.6.6"
  }
 },
 "nbformat": 4,
 "nbformat_minor": 2
}
