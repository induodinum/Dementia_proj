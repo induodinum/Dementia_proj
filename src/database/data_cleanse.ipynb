{
 "cells": [
  {
   "cell_type": "markdown",
   "metadata": {},
   "source": [
    "# Import Libraries"
   ]
  },
  {
   "cell_type": "code",
   "execution_count": 1,
   "metadata": {},
   "outputs": [],
   "source": [
    "import numpy as np\n",
    "import pandas as pd\n",
    "import matplotlib.pyplot as plt\n",
    "import os\n",
    "import math\n",
    "\n",
    "from os import listdir, walk\n",
    "from os.path import isfile, join\n",
    "from sklearn.preprocessing import MinMaxScaler"
   ]
  },
  {
   "cell_type": "markdown",
   "metadata": {},
   "source": [
    "# Load Raw Data"
   ]
  },
  {
   "cell_type": "code",
   "execution_count": 2,
   "metadata": {},
   "outputs": [],
   "source": [
    "%run ../ddc/load_dataset.ipynb"
   ]
  },
  {
   "cell_type": "code",
   "execution_count": 3,
   "metadata": {},
   "outputs": [],
   "source": [
    "subj_range = np.hstack((np.arange(2001,2002),np.arange(3001,3006)))\n",
    "\n",
    "all_patients = [str(i) for i in subj_range]"
   ]
  },
  {
   "cell_type": "code",
   "execution_count": 4,
   "metadata": {},
   "outputs": [
    {
     "name": "stdout",
     "output_type": "stream",
     "text": [
      "Loading 2001's data\n",
      "Loading 3001's data\n",
      "Loading 3002's data\n",
      "Loading 3003's data\n",
      "Loading 3004's data\n",
      "Loading 3005's data\n",
      "Finished Loading\n"
     ]
    }
   ],
   "source": [
    "datapath = '../../DDC_Data/'\n",
    "basepath = '../../'\n",
    "\n",
    "df_all_p = pd.DataFrame()\n",
    "\n",
    "for subject_id in all_patients:\n",
    "    print(\"Loading {0}'s data\".format(subject_id))\n",
    "    \n",
    "    acc_filepath = mypath + subject_id + '/' + subject_id + '-log_acc.csv'\n",
    "    df_raw = pd.read_csv(acc_filepath, header=None, names=['x','y','z','timestamp'])\n",
    "\n",
    "    df_timer, rec_date, start_time, end_time = load_timer(subject_id)\n",
    "    df_filt = load_acc(subject_id, rec_date, start_time, end_time)\n",
    "    df_hr = load_hr(subject_id, rec_date, start_time, end_time)\n",
    "\n",
    "    df1 = merge_acc_and_hr(df_filt, df_hr)\n",
    "    \n",
    "    cols = ['x','y','z']\n",
    "    xyz_ = df1[cols].to_dict('split')['data']\n",
    "    xyz_new = MinMaxScaler().fit_transform(xyz_)\n",
    "    \n",
    "    for i in range(len(cols)):\n",
    "        df1[cols[i]] = pd.Series(xyz_new.transpose()[i])\n",
    "\n",
    "    X_i_p = np.array(df1[cols].to_dict(orient='split')['data'])\n",
    "    subj_i_p = np.array([subject_id for i in range(X_i_p.shape[0])])\n",
    "    \n",
    "    df_all_p = df_all_p.append(df1, sort=False)\n",
    "    \n",
    "print('Finished Loading')"
   ]
  },
  {
   "cell_type": "code",
   "execution_count": 5,
   "metadata": {},
   "outputs": [],
   "source": [
    "df_all_p_sorted = df_all_p.copy()\n",
    "df_all_p_sorted = df_all_p_sorted.reset_index(drop=True)"
   ]
  },
  {
   "cell_type": "markdown",
   "metadata": {},
   "source": [
    "# Label List"
   ]
  },
  {
   "cell_type": "code",
   "execution_count": 8,
   "metadata": {},
   "outputs": [],
   "source": [
    "%run ../ddc/preprocessing.ipynb"
   ]
  },
  {
   "cell_type": "code",
   "execution_count": 18,
   "metadata": {},
   "outputs": [],
   "source": [
    "df_label = pd.DataFrame({\n",
    "    'label': [i for i in range(len(label_list))],\n",
    "    'activity name': label_list\n",
    "})"
   ]
  },
  {
   "cell_type": "markdown",
   "metadata": {},
   "source": [
    "# Store Cleaned Data in CSV"
   ]
  },
  {
   "cell_type": "code",
   "execution_count": 16,
   "metadata": {},
   "outputs": [],
   "source": [
    "csv_path = datapath + 'cleaned/cleaned_data_' + all_patients[0] + '_to_' + all_patients[-1] + '.csv'\n",
    "df_all_p_sorted.to_csv(csv_path)"
   ]
  },
  {
   "cell_type": "code",
   "execution_count": 19,
   "metadata": {},
   "outputs": [],
   "source": [
    "csv_path = datapath + 'cleaned/label_names.csv'\n",
    "df_label.to_csv(csv_path)"
   ]
  }
 ],
 "metadata": {
  "kernelspec": {
   "display_name": "Python 3",
   "language": "python",
   "name": "python3"
  },
  "language_info": {
   "codemirror_mode": {
    "name": "ipython",
    "version": 3
   },
   "file_extension": ".py",
   "mimetype": "text/x-python",
   "name": "python",
   "nbconvert_exporter": "python",
   "pygments_lexer": "ipython3",
   "version": "3.6.6"
  }
 },
 "nbformat": 4,
 "nbformat_minor": 2
}
