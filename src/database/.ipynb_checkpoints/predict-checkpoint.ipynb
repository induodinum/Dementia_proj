{
 "cells": [
  {
   "cell_type": "markdown",
   "metadata": {},
   "source": [
    "# Import Libraries"
   ]
  },
  {
   "cell_type": "code",
   "execution_count": 8,
   "metadata": {},
   "outputs": [],
   "source": [
    "import numpy as np\n",
    "import pandas as pd\n",
    "import matplotlib.pyplot as plt\n",
    "import os\n",
    "import math\n",
    "import pickle\n",
    "\n",
    "from os import listdir, walk\n",
    "from os.path import isfile, join"
   ]
  },
  {
   "cell_type": "code",
   "execution_count": 1,
   "metadata": {},
   "outputs": [],
   "source": [
    "from tqdm import tqdm"
   ]
  },
  {
   "cell_type": "markdown",
   "metadata": {},
   "source": [
    "# Load Cleaned Data"
   ]
  },
  {
   "cell_type": "code",
   "execution_count": 46,
   "metadata": {},
   "outputs": [],
   "source": [
    "%run ../ddc/preprocessing.ipynb\n",
    "%run ../ddc/classifier_alg.ipynb"
   ]
  },
  {
   "cell_type": "code",
   "execution_count": 34,
   "metadata": {},
   "outputs": [],
   "source": [
    "datapath = '../../DDC_Data/'\n",
    "basepath = '../../'"
   ]
  },
  {
   "cell_type": "code",
   "execution_count": 35,
   "metadata": {},
   "outputs": [],
   "source": [
    "filename = basepath + 'model/knn_model_patients.pkl'\n",
    "\n",
    "model = pickle.load(open(filename,'rb'))"
   ]
  },
  {
   "cell_type": "code",
   "execution_count": 36,
   "metadata": {},
   "outputs": [],
   "source": [
    "subj_range = np.hstack((np.arange(2001,2002),np.arange(3001,3006)))\n",
    "all_patients = [str(i) for i in subj_range]"
   ]
  },
  {
   "cell_type": "code",
   "execution_count": 37,
   "metadata": {},
   "outputs": [],
   "source": [
    "df_all_p_sorted = pd.read_csv(cleaned_data_path, index_col=0)"
   ]
  },
  {
   "cell_type": "markdown",
   "metadata": {},
   "source": [
    "# Predict Labels"
   ]
  },
  {
   "cell_type": "code",
   "execution_count": 68,
   "metadata": {},
   "outputs": [],
   "source": [
    "cols = ['x','y','z']\n",
    "\n",
    "X_all = np.array(df_all_p_sorted[cols].to_dict('split')['data'])\n",
    "y_all = np.zeros(X_all.shape[0])"
   ]
  },
  {
   "cell_type": "code",
   "execution_count": 51,
   "metadata": {},
   "outputs": [],
   "source": [
    "y_pred_all = []\n",
    "grouped = df_all_p_sorted.groupby('ID')\n",
    "\n",
    "T = 0.16\n",
    "freq = 1/T\n",
    "n_onehour = int(60*60*freq)\n",
    "\n",
    "for x in grouped:\n",
    "    label_grp = x[0]\n",
    "    \n",
    "    df_grp = grouped.get_group(label_grp)\n",
    "#     print(df_grp.shape[0])\n",
    "\n",
    "    y_pred_fill = []\n",
    "\n",
    "    for i in tqdm(range(n_onehour, df_grp.shape[0], n_onehour)):\n",
    "        df_onehour = df_grp[i-n_onehour:i]\n",
    "    \n",
    "        cols = ['x','y','z']\n",
    "\n",
    "        X_all_p = np.array(df_onehour[cols].to_dict('split')['data'])\n",
    "        y_all_p = np.zeros(X_all_p.shape[0])\n",
    "\n",
    "        X_impure, y_impure = prepare_impure_label(X_all_p, y_all_p)\n",
    "        y_pred = model.predict(X_impure)\n",
    "\n",
    "        window_length = 60\n",
    "        y_pred_fill = np.hstack(([y_pred[0] for i in range(window_length-1)], y_pred))\n",
    "    \n",
    "        y_pred_all.append(y_pred_fill)\n",
    "    \n",
    "    if(len(y_pred_fill)>0):\n",
    "        y_pred_temp = np.hstack(y_pred_all)\n",
    "    else:\n",
    "        y_pred_temp = np.array(y_pred_all)\n",
    "\n",
    "    if(y_pred_temp.shape[0]<df_grp.shape[0]):\n",
    "        df_onehour = df_grp[len(y_pred_fill):]\n",
    "\n",
    "        X_all_p = np.array(df_onehour[cols].to_dict('split')['data'])\n",
    "        y_all_p = np.zeros(X_all_p.shape[0])\n",
    "\n",
    "        X_impure, y_impure = prepare_impure_label(X_all_p, y_all_p)\n",
    "        y_pred = model.predict(X_impure)\n",
    "\n",
    "        window_length = 60\n",
    "        y_pred_fill = np.hstack(([y_pred[0] for i in range(window_length-1)], y_pred))\n",
    "\n",
    "        y_pred_all.append(y_pred_fill)\n",
    "        \n",
    "#     print(y_pred_temp.shape, len(y_pred_all), len(y_pred_fill), df_grp.shape)"
   ]
  },
  {
   "cell_type": "code",
   "execution_count": 72,
   "metadata": {},
   "outputs": [],
   "source": [
    "y_pred_all = np.hstack(y_pred_all)\n",
    "\n",
    "y_pred_walk = np.array(combine_2(X_all, y_pred_all))\n",
    "\n",
    "df_all_p_sorted['y_pred'] = pd.Series(y_pred_walk)"
   ]
  },
  {
   "cell_type": "code",
   "execution_count": 74,
   "metadata": {},
   "outputs": [],
   "source": [
    "df_all_p_sorted.to_csv(predicted_data_path)"
   ]
  }
 ],
 "metadata": {
  "kernelspec": {
   "display_name": "Python 3",
   "language": "python",
   "name": "python3"
  },
  "language_info": {
   "codemirror_mode": {
    "name": "ipython",
    "version": 3
   },
   "file_extension": ".py",
   "mimetype": "text/x-python",
   "name": "python",
   "nbconvert_exporter": "python",
   "pygments_lexer": "ipython3",
   "version": "3.6.6"
  }
 },
 "nbformat": 4,
 "nbformat_minor": 2
}
