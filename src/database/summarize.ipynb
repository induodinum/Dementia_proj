{
 "cells": [
  {
   "cell_type": "markdown",
   "metadata": {},
   "source": [
    "# Import Libraries"
   ]
  },
  {
   "cell_type": "code",
   "execution_count": 23,
   "metadata": {},
   "outputs": [],
   "source": [
    "import numpy as np\n",
    "import pandas as pd\n",
    "import matplotlib.pyplot as plt\n",
    "import os\n",
    "import math\n",
    "\n",
    "from os import listdir, walk\n",
    "from os.path import isfile, join"
   ]
  },
  {
   "cell_type": "markdown",
   "metadata": {},
   "source": [
    "# Load Predicted Data"
   ]
  },
  {
   "cell_type": "code",
   "execution_count": 24,
   "metadata": {},
   "outputs": [],
   "source": [
    "%run activity_summary.ipynb\n",
    "%run ../ddc/preprocessing.ipynb\n",
    "%run ../ddc/load_dataset.ipynb"
   ]
  },
  {
   "cell_type": "code",
   "execution_count": 4,
   "metadata": {},
   "outputs": [],
   "source": [
    "subj_range = np.hstack((np.arange(2001,2002),np.arange(3001,3006)))\n",
    "all_patients = [str(i) for i in subj_range]"
   ]
  },
  {
   "cell_type": "code",
   "execution_count": 5,
   "metadata": {},
   "outputs": [],
   "source": [
    "datapath = '../../DDC_Data/'\n",
    "basepath = '../../'"
   ]
  },
  {
   "cell_type": "code",
   "execution_count": 6,
   "metadata": {},
   "outputs": [],
   "source": [
    "csv_path = datapath + 'prediction/predicted_data_' + all_patients[0] + '_to_' + all_patients[-1] + '.csv'\n",
    "df_all_p_sorted = pd.read_csv(csv_path)"
   ]
  },
  {
   "cell_type": "code",
   "execution_count": 7,
   "metadata": {},
   "outputs": [],
   "source": [
    "df_date = df_all_p_sorted.copy()\n",
    "df_date['date'] = df_date['timestamp'].apply(lambda x: x.split(' ')[0])\n",
    "df_date['time'] = df_date['timestamp'].apply(lambda x: x.split(' ')[1])\n",
    "\n",
    "cols = ['ID','date','time','x','y','z','HR','y_pred']\n",
    "df_date = df_date[cols]"
   ]
  },
  {
   "cell_type": "markdown",
   "metadata": {},
   "source": [
    "# Summarize Data"
   ]
  },
  {
   "cell_type": "code",
   "execution_count": 25,
   "metadata": {},
   "outputs": [
    {
     "name": "stderr",
     "output_type": "stream",
     "text": [
      "/Users/admin/anaconda3/lib/python3.6/site-packages/ipykernel_launcher.py:18: FutureWarning: arrays to stack must be passed as a \"sequence\" type such as list or tuple. Support for non-sequence iterables such as generators is deprecated as of NumPy 1.16 and will raise an error in the future.\n"
     ]
    }
   ],
   "source": [
    "df_summary_all, df_act_period = get_df_summary_all(all_patients, df_date)"
   ]
  },
  {
   "cell_type": "code",
   "execution_count": 26,
   "metadata": {},
   "outputs": [],
   "source": [
    "cols = ['ID', 'date', 'from', 'to', 'y_pred']\n",
    "df_act_period = df_act_period[cols]\n",
    "df_act_period = df_act_period.reset_index(drop=True)\n",
    "\n",
    "df_summary_all = df_summary_all.reset_index(drop=True)"
   ]
  },
  {
   "cell_type": "code",
   "execution_count": 28,
   "metadata": {},
   "outputs": [],
   "source": [
    "actual_from_all = []\n",
    "for i in range(len(df_summary_all)):\n",
    "    keep_start = -1\n",
    "    \n",
    "    for j in range(len(df_act_period)):\n",
    "        floor_start = get_floor_start(df_act_period.loc[j, 'from'])\n",
    "        \n",
    "        if(df_act_period.loc[j, 'date']==df_summary_all.loc[i, 'date'] and \n",
    "           df_act_period.loc[j, 'ID']==df_summary_all.loc[i, 'ID']):\n",
    "\n",
    "            if(floor_start>keep_start and \n",
    "               floor_start==calc_sec(df_summary_all.loc[i, 'from'])):\n",
    "                \n",
    "                actual_from_all.append(df_act_period.loc[j, 'from'])\n",
    "                keep_start = calc_sec(df_act_period.loc[j, 'from'])\n",
    "\n",
    "            elif(floor_start<=keep_start):\n",
    "                break"
   ]
  },
  {
   "cell_type": "code",
   "execution_count": 50,
   "metadata": {
    "scrolled": true
   },
   "outputs": [],
   "source": [
    "actual_to_all = []\n",
    "for i in range(len(df_summary_all)-1, -1, -1):\n",
    "    keep_finish = calc_sec(df_summary_all.loc[i, 'to'])\n",
    "    \n",
    "    for j in range(len(df_act_period)-1, -1, -1):\n",
    "        \n",
    "        ceil_finish = get_ceil_finish(df_act_period.loc[j, 'to'])\n",
    "        \n",
    "        \n",
    "        if(df_act_period.loc[j, 'date']==df_summary_all.loc[i, 'date'] and \n",
    "           df_act_period.loc[j, 'ID']==df_summary_all.loc[i, 'ID']):\n",
    "\n",
    "            if(keep_finish==ceil_finish):\n",
    "                \n",
    "                actual_to_all.append(df_act_period.loc[j, 'to'])\n",
    "                break"
   ]
  },
  {
   "cell_type": "code",
   "execution_count": 56,
   "metadata": {
    "scrolled": true
   },
   "outputs": [],
   "source": [
    "df_summary_all['from actual'] = pd.Series(actual_from_all)\n",
    "df_summary_all['to actual'] = pd.Series(actual_to_all[::-1])"
   ]
  },
  {
   "cell_type": "code",
   "execution_count": 57,
   "metadata": {},
   "outputs": [],
   "source": [
    "cols = ['ID', 'date', 'from', 'to', 'from actual', 'to actual', \n",
    "        'sit', 'sleep', 'stand', 'walk', 'total', \n",
    "        'sit count', 'sleep count', 'stand count', 'walk count', \n",
    "        'inactive count', 'active count', 'total count', 'transition count', 'duration per action']\n",
    "df_summary_all = df_summary_all[cols]"
   ]
  },
  {
   "cell_type": "code",
   "execution_count": 52,
   "metadata": {},
   "outputs": [],
   "source": [
    "csv_path = datapath + 'summary/all_day_summary_' + all_patients[0] + '_to_' + all_patients[-1] + '.csv'\n",
    "df_summary_all.to_csv(csv_path)"
   ]
  },
  {
   "cell_type": "code",
   "execution_count": 53,
   "metadata": {},
   "outputs": [],
   "source": [
    "csv_path = datapath + 'summary/activity_period_' + all_patients[0] + '_to_' + all_patients[-1] + '.csv'\n",
    "df_act_period.to_csv(csv_path)"
   ]
  }
 ],
 "metadata": {
  "kernelspec": {
   "display_name": "Python 3",
   "language": "python",
   "name": "python3"
  },
  "language_info": {
   "codemirror_mode": {
    "name": "ipython",
    "version": 3
   },
   "file_extension": ".py",
   "mimetype": "text/x-python",
   "name": "python",
   "nbconvert_exporter": "python",
   "pygments_lexer": "ipython3",
   "version": "3.6.6"
  }
 },
 "nbformat": 4,
 "nbformat_minor": 2
}
