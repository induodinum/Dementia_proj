{
 "cells": [
  {
   "cell_type": "code",
<<<<<<< HEAD
   "execution_count": 2,
=======
   "execution_count": 6,
>>>>>>> 4f005e4c5cf269697cc069d6fce340ed6fe8d3d3
   "metadata": {},
   "outputs": [],
   "source": [
    "import math\n",
    "import os\n",
    "\n",
    "import pandas as pd\n",
    "import numpy as np\n",
    "import matplotlib.pyplot as plt\n",
    "\n",
    "from prettytable import PrettyTable\n",
    "from os import listdir\n",
    "from sklearn.metrics import f1_score\n",
    "from datetime import datetime\n",
    "\n",
    "from sklearn.preprocessing import MinMaxScaler\n",
    "from sklearn.cluster import KMeans"
   ]
  },
  {
   "cell_type": "code",
<<<<<<< HEAD
   "execution_count": 3,
   "metadata": {},
   "outputs": [],
   "source": [
    "ddc_path = 'E:/coding/Dementia_proj/src/ddc/'\n",
    "os.chdir(ddc_path)"
   ]
  },
  {
   "cell_type": "code",
   "execution_count": 4,
   "metadata": {},
   "outputs": [],
=======
   "execution_count": 7,
   "metadata": {},
   "outputs": [],
   "source": [
    "os.chdir('/Users/Indy/Desktop/coding/Dementia_proj/src/ddc')"
   ]
  },
  {
   "cell_type": "code",
   "execution_count": 8,
   "metadata": {},
   "outputs": [],
>>>>>>> 4f005e4c5cf269697cc069d6fce340ed6fe8d3d3
   "source": [
    "%run preprocessing.ipynb"
   ]
  },
  {
   "cell_type": "code",
   "execution_count": 9,
   "metadata": {},
   "outputs": [],
   "source": [
    "mypath = '../../DDC_Data/raw/'\n",
    "basepath = '../../'"
   ]
  },
  {
   "cell_type": "markdown",
   "metadata": {},
   "source": [
    "# Get the Actual Timestamp Labels"
   ]
  },
  {
   "cell_type": "code",
   "execution_count": 10,
   "metadata": {},
   "outputs": [],
   "source": [
    "def load_timer(subject_id):\n",
    "    \n",
    "    sid_dir = mypath + subject_id\n",
    "    sid_files = [f for f in listdir(sid_dir) if 'history_amdtimer' in f]\n",
    "\n",
    "    sid_filepath = sid_dir + '/' + sid_files[0]\n",
    "\n",
    "    timer_df = pd.read_csv(sid_filepath, header=None, names=['sid','raw_label', 'timestamp', 'duration','label'])\n",
    "\n",
    "    filtered_timer = [i for i in timer_df['sid'] if i==int(subject_id)]\n",
    "\n",
    "    timer_filt = timer_df[timer_df['sid'].isin(filtered_timer)]\n",
    "    timer_filt = timer_filt.reset_index(drop=True)\n",
    "    \n",
    "    timer_label = []\n",
    "    \n",
    "    for i in range(len(timer_filt)):\n",
    "        if(timer_filt.loc[i]['raw_label']=='upstairs' or \n",
    "          timer_filt.loc[i]['raw_label']=='downstairs'):\n",
    "            timer_label.append('walk')\n",
    "        else:\n",
    "            timer_label.append(timer_filt.loc[i]['raw_label'])\n",
    "\n",
    "    timer_filt['label'] = pd.Series(timer_label)\n",
    "    \n",
    "    datetime_format = '%Y-%m-%d %H:%M:%S.%f'\n",
    "    timer_filt['time_start'] = timer_filt['timestamp'].apply(lambda x: datetime.strptime(x, datetime_format))\n",
    "    \n",
    "    time_format = '%H:%M:%S'\n",
    "    zero_date = datetime(1900, 1, 1)\n",
    "    \n",
    "    timer_filt['duration'] = timer_filt['duration'].apply(lambda x: datetime.strptime(x, time_format)-zero_date)\n",
    "    \n",
    "    for i in range(timer_filt.shape[0]):\n",
    "        timer_filt.loc[i, 'time_end'] = timer_filt.loc[i, 'time_start'] + timer_filt.loc[i, 'duration']\n",
    "\n",
    "#     print(timer_filt)\n",
    "    \n",
    "    return timer_filt"
   ]
  },
  {
   "cell_type": "markdown",
   "metadata": {},
   "source": [
    "# Load Data of the Subject"
   ]
  },
  {
   "cell_type": "code",
   "execution_count": 11,
   "metadata": {},
   "outputs": [],
   "source": [
    "def load_acc(subject_id, start_time, end_time):\n",
    "    # Load accelerations\n",
    "    acc_path = mypath + '/' + subject_id + '/' + subject_id + '-log_acc.csv'\n",
    "\n",
    "    df = pd.read_csv(acc_path, header=None, names=['x','y','z','timestamp'])\n",
    "    \n",
    "    datetime_format = '%Y-%m-%d %H:%M:%S.%f'\n",
    "    df['timestamp'] = df['timestamp'].apply(lambda x: datetime.strptime(x, datetime_format))\n",
    "\n",
    "    filtered = [r for r in df['timestamp'] if r>=start_time and r<=end_time]\n",
    "\n",
    "    df_filt = df[df['timestamp'].isin(filtered)]\n",
    "    df_filt = df_filt.reset_index(drop=True)\n",
    "\n",
    "    df_filt['ID'] = pd.Series([subject_id for i in range(len(df_filt))])\n",
    "    \n",
    "    cols = ['ID','timestamp','x','y','z']\n",
    "    df_filt = df_filt[cols]\n",
    "\n",
    "    return df_filt"
   ]
  },
  {
   "cell_type": "code",
   "execution_count": 12,
   "metadata": {},
   "outputs": [],
   "source": [
    "def load_hr(subject_id, start_time, end_time):\n",
    "    # Load heart rate\n",
    "    hr_filepath = mypath + '/' + subject_id + '/' + subject_id + '-log_hr.csv'\n",
    "\n",
    "    df2 = pd.read_csv(hr_filepath, header=None, names=['hr','timestamp'])\n",
    "    \n",
    "    datetime_format = '%Y-%m-%d %H:%M:%S.%f'\n",
    "    df2['timestamp'] = df2['timestamp'].apply(lambda x: datetime.strptime(x, datetime_format))\n",
    "\n",
    "    filtered = [r for r in df2['timestamp'] if r>=start_time and r<=end_time]\n",
    "\n",
    "    df_hr = df2[df2['timestamp'].isin(filtered)]\n",
    "    df_hr = df_hr.reset_index(drop=True)\n",
    "\n",
    "    cols = ['timestamp','hr']\n",
    "    df_hr = df_hr[cols]\n",
    "\n",
    "    return df_hr"
   ]
  },
  {
   "cell_type": "code",
   "execution_count": 13,
   "metadata": {},
   "outputs": [],
   "source": [
    "def merge_acc_and_hr(df_filt, df_hr):\n",
    "    # Fill in missing HRs\n",
    "    hr_cnt = 0\n",
    "\n",
    "    for i in range(len(df_filt)):\n",
    "        hr_time = df_hr.loc[hr_cnt,'timestamp']\n",
    "        filt_time = df_filt.loc[i,'timestamp']\n",
    "\n",
    "        if(hr_time<=filt_time):\n",
    "            if(hr_cnt<len(df_hr)-1):\n",
    "                hr_cnt += 1\n",
    "        df_filt.loc[i,'HR'] = df_hr.loc[hr_cnt,'hr']\n",
    "\n",
    "    # Normalize by dividing by g (standard gravity)\n",
    "    g = 9.8\n",
    "    df_filt.loc[:,'x'] = df_filt['x'].apply(lambda x: x/g)\n",
    "    df_filt.loc[:,'y'] = df_filt['y'].apply(lambda x: x/g)\n",
    "    df_filt.loc[:,'z'] = df_filt['z'].apply(lambda x: x/g)\n",
    "    \n",
    "    cols = ['x','y','z']\n",
    "    xyz_ = df_filt[cols].to_dict('split')['data']\n",
    "    xyz_new = MinMaxScaler().fit_transform(xyz_)\n",
    "\n",
    "    for i in range(len(cols)):\n",
    "        df_filt[cols[i]] = pd.Series(xyz_new.transpose()[i])\n",
    "        \n",
    "#     print(df_filt['x'])\n",
    "\n",
    "    return df_filt"
   ]
  },
  {
   "cell_type": "markdown",
   "metadata": {},
   "source": [
    "# Calculate Activity Index"
   ]
  },
  {
   "cell_type": "code",
   "execution_count": 14,
   "metadata": {},
   "outputs": [],
   "source": [
    "std_i_bar = [0.00349329,0.00465817,0.00543154]\n",
    "std_i_bar = np.array(std_i_bar)"
   ]
  },
  {
   "cell_type": "code",
   "execution_count": 15,
   "metadata": {},
   "outputs": [],
   "source": [
    "def equation_bai(X_i):\n",
    "    all_std = []\n",
    "    \n",
    "    std_i = np.std(X_i,axis=0)\n",
    "    diff_std = std_i**2 - std_i_bar**2\n",
    "    diff_std = (diff_std + 1) / (std_i_bar**2 + 1)\n",
    "    \n",
    "    diff_std_ = std_i**2\n",
    "\n",
    "    all_std.append(diff_std)\n",
    "    \n",
    "    all_std = np.array(all_std)\n",
    "    \n",
    "    ai = np.sum(all_std**2,axis=1)/3\n",
    "    ai[ai<0] = 0\n",
    "    ai = np.sqrt(ai)\n",
    "    \n",
    "    return ai"
   ]
  },
  {
   "cell_type": "code",
   "execution_count": 16,
   "metadata": {},
   "outputs": [],
   "source": [
    "def calc_ai(df1):\n",
    "    H = 10\n",
    "    ai1 = []\n",
    "\n",
    "    for i in range(len(df1)):\n",
    "        xyz_val = []\n",
    "        if(i-H>=0):\n",
    "            for j in range(H,0,-1):\n",
    "                xyz_val.append([df1.loc[i-j,'x'],df1.loc[i-j,'y'],df1.loc[i-j,'z']])\n",
    "            ai_val = float(equation_bai(xyz_val))\n",
    "            ai1.append(ai_val)\n",
    "        else:\n",
    "            ai1.append(1)\n",
    "\n",
    "    return ai1"
   ]
  },
  {
   "cell_type": "markdown",
   "metadata": {},
   "source": [
    "# Preprocess (PCA + impure)"
   ]
  },
  {
   "cell_type": "code",
   "execution_count": 17,
   "metadata": {},
   "outputs": [],
   "source": [
    "def preprocess_data(df_test, pca):\n",
    "    ts_list = []\n",
    "    g = 9.8\n",
    "\n",
    "    X_list = []\n",
    "    \n",
    "    for i in range(len(df_test)):\n",
    "        X_i = [df_test.loc[i]['x']/g, df_test.loc[i]['y']/g, df_test.loc[i]['z']/g]\n",
    "        X_list.append(X_i)\n",
    "        \n",
    "    X_stack = np.vstack(X_list)\n",
    "    X_norm = MinMaxScaler().fit_transform(X_stack)\n",
    "    X_pca = pca.transform(X_norm)\n",
    "\n",
    "    y_imp = [-1 for i in range(X_pca.shape[0])]\n",
    "    X_imp, y_imp = prepare_impure_label(X_pca, y_imp)\n",
    "    \n",
    "    return X_imp, y_imp"
   ]
  },
  {
   "cell_type": "markdown",
   "metadata": {},
   "source": [
    "# Predict"
   ]
  },
  {
   "cell_type": "code",
   "execution_count": 18,
   "metadata": {},
   "outputs": [],
   "source": [
    "%run classifier_algo.ipynb"
   ]
  },
  {
   "cell_type": "code",
   "execution_count": 19,
   "metadata": {},
   "outputs": [],
   "source": [
    "def predict_combine(X_imp, model, window_length=60):\n",
    "    \n",
    "    y_pred = model.predict(X_imp)\n",
    "    print(\"Finished prediction\")\n",
    "    \n",
    "#     y_pred = combine_2(X_imp, y_pred)\n",
    "#     y_pred_fill = np.hstack(([y_pred[0] for i in range(window_length-1)], y_pred))\n",
    "    \n",
    "#     print(X_imp.shape, y_pred_fill.shape)\n",
    "    \n",
    "    return y_pred"
   ]
  },
  {
   "cell_type": "markdown",
   "metadata": {},
   "source": [
    "# Group dataframe by label"
   ]
  },
  {
   "cell_type": "code",
   "execution_count": 20,
   "metadata": {},
   "outputs": [],
   "source": [
    "def group_dataframe_by_label(df1, df_timer, subject_id, label_list):\n",
    "    df_list = {}\n",
    "    period = {}\n",
    "    \n",
    "    for label in label_list:\n",
    "        df_list[label] = pd.DataFrame()\n",
    "        period[label] = []\n",
    "    \n",
    "    for label in label_list:\n",
    "#         print(label)\n",
    "        for i in range(df_timer.shape[0]):\n",
    "            start = 0\n",
    "            end = 0\n",
    "            \n",
    "            if(df_timer.loc[i, 'label']==label):\n",
    "                t_a = df_timer.loc[i, 'time_start']\n",
    "                t_b = df_timer.loc[i, 'time_end']\n",
    "\n",
    "                for j in range(df1.shape[0]):    \n",
    "                    if(df1.loc[j, 'ID']==subject_id):\n",
    "                        if(j>0 and df1.loc[j, 'timestamp']<=t_b and df1.loc[j-1, 'timestamp']<t_b):\n",
    "                            end = j\n",
    "\n",
    "                for j in reversed(range(df1.shape[0])):\n",
    "                    if(df1.loc[j, 'ID']==subject_id):\n",
    "                        if(j<df1.shape[0]-1 and df1.loc[j, 'timestamp']>=t_a and df1.loc[j+1, 'timestamp']>t_a):\n",
    "                            start = j\n",
    "\n",
    "                period[label].append([start, end])\n",
    "                \n",
    "                if(df_list[label].empty):\n",
    "#                     print('intiate')\n",
    "                    df_list[label] = df1.loc[start:end+1]\n",
    "                else:\n",
    "#                     print('append')\n",
    "                    df_list[label] = df_list[label].append(df1.loc[start:end+1], ignore_index=True)\n",
    "                    \n",
    "    for label in label_list:\n",
    "        df_list[label] = df_list[label].reset_index(drop=True)\n",
    "\n",
    "    return df_list, period"
   ]
  },
  {
   "cell_type": "markdown",
   "metadata": {},
   "source": [
    "# Prepare Predicted Labels"
   ]
  },
  {
   "cell_type": "code",
   "execution_count": 21,
   "metadata": {},
   "outputs": [],
   "source": [
    "def get_periods_from_list(y_pred, label_list):\n",
    "    \n",
    "    pred_periods = [[] for i in range(len(label_list))]\n",
    "\n",
    "    keep = 0\n",
    "\n",
    "    for i in range(len(y_pred)):\n",
    "        keep_lb = y_pred[keep]\n",
    "\n",
    "        if(keep_lb!=y_pred[i]):\n",
    "            \n",
    "            if(y_pred[i]!=None):\n",
    "                pred_periods[y_pred[i-1]].append([keep, i-1])               \n",
    "\n",
    "            keep = i\n",
    "\n",
    "        elif(i==len(y_pred)-1):\n",
    "\n",
    "            if(y_pred[i]!=None):\n",
    "                pred_periods[y_pred[i-1]].append([keep, i]) \n",
    "\n",
    "    pred_periods = np.array(pred_periods)\n",
    "    \n",
    "    return pred_periods"
   ]
  },
  {
   "cell_type": "markdown",
   "metadata": {},
   "source": [
<<<<<<< HEAD
    "## Unused"
=======
    "### Unused"
>>>>>>> 4f005e4c5cf269697cc069d6fce340ed6fe8d3d3
   ]
  },
  {
   "cell_type": "code",
   "execution_count": 22,
   "metadata": {},
   "outputs": [],
   "source": [
    "def postprocess_predicted(pred_periods, y_length):\n",
    "    onesec = 1  # 1 sec.\n",
    "    T = 0.16    # T = 1/f\n",
    "\n",
    "    pp_periods = []\n",
    "    \n",
    "    for pp in pred_periods:\n",
    "        pp_i = pred_periods[pp]\n",
    "        \n",
    "        temp = []\n",
    "        for p in pp_i:\n",
    "            if(p[1]-p[0]>int(onesec*2*(1/T))):\n",
    "                temp.append([p[0],p[1]])\n",
    "                \n",
    "        pp_periods.append(temp)\n",
    "\n",
    "    pp_periods = np.array(pp_periods)\n",
    "    \n",
    "    other_label = -1\n",
    "    all_run = [other_label for i in range(y_length)]\n",
    "\n",
    "    for i in range(len(pp_periods)):\n",
    "        for p in pp_periods[i]:\n",
    "            for j in range(p[0],p[1]+1):\n",
    "                all_run[j] = i\n",
    "\n",
    "    for i in range(len(all_run)-1,0,-1):\n",
    "        if(all_run[i-1]==other_label):\n",
    "            all_run[i-1] = all_run[i]\n",
    "\n",
    "    return all_run"
   ]
  },
  {
   "cell_type": "markdown",
   "metadata": {},
   "source": [
    "# Get sequence from periods"
   ]
  },
  {
   "cell_type": "code",
   "execution_count": 23,
   "metadata": {},
   "outputs": [],
   "source": [
    "def sequence_from_periods(periods, label_list):\n",
    "    \n",
    "    max_length = 0\n",
    "    \n",
    "    for label in label_list:\n",
    "        if(len(periods[label])>0):\n",
    "            periods_i = np.hstack(periods[label])\n",
    "        \n",
    "            if(max_length<max(periods_i)):\n",
    "                max_length = max(periods_i)\n",
    "    \n",
    "    seq = ['' for i in range(max_length+1)]\n",
    "    \n",
    "    for label in label_list:\n",
    "        for element in periods[label]:\n",
    "            for i in range(element[0], element[1]+1):\n",
    "                seq[i] = label\n",
    "    \n",
    "    return seq, max_length"
   ]
  },
  {
   "cell_type": "markdown",
   "metadata": {},
   "source": [
    "# Evaluation"
   ]
  },
  {
   "cell_type": "code",
   "execution_count": 24,
   "metadata": {},
   "outputs": [],
   "source": [
    "def evaluate_period(p1, p2, max_length, label_list):\n",
    "    iou_all = []\n",
    "    \n",
    "    for lb in label_list:\n",
    "        p1_onehot = []\n",
    "        for i in range(max_length):\n",
    "            if(p1[i]==lb):\n",
    "                p1_onehot.append(1)\n",
    "            else:\n",
    "                p1_onehot.append(0)\n",
    "                \n",
    "        p2_onehot = []\n",
    "        for i in range(max_length):\n",
    "            if(p2[i]==lb):\n",
    "                p2_onehot.append(1)\n",
    "            else:\n",
    "                p2_onehot.append(0)\n",
    "                \n",
    "        intersection = 0\n",
    "        union = 0\n",
    "        \n",
    "        for i in range(max_length):\n",
    "            if(p1_onehot[i]==1 and p2_onehot[i]==1):\n",
    "                intersection += 1\n",
    "            if(p1_onehot[i]==1 or p2_onehot[i]==1):\n",
    "                union += 1\n",
    "                \n",
    "        iou_lb = intersection/union\n",
    "        \n",
    "        iou_all.append(iou_lb)\n",
    "        \n",
    "    return iou_all"
   ]
  },
  {
   "cell_type": "markdown",
   "metadata": {},
   "source": [
    "# Load all data"
   ]
  },
  {
   "cell_type": "code",
<<<<<<< HEAD
   "execution_count": 21,
=======
   "execution_count": 25,
>>>>>>> 4f005e4c5cf269697cc069d6fce340ed6fe8d3d3
   "metadata": {},
   "outputs": [],
   "source": [
    "def load_all_data(subject_id, label_list):\n",
    "    \n",
    "    print(\"Loading {0}'s data\".format(subject_id))\n",
    "\n",
    "    df_timer = load_timer(subject_id)\n",
    "    \n",
    "    start_time = df_timer.loc[0, 'time_start']\n",
    "    end_time = df_timer.loc[df_timer.shape[0]-1, 'time_end']\n",
    "\n",
    "    df_acc = load_acc(subject_id, start_time, end_time)\n",
    "    df_hr = load_hr(subject_id, start_time, end_time)\n",
    "\n",
    "    df1 = merge_acc_and_hr(df_acc, df_hr)\n",
    "    ai1 = calc_ai(df1)\n",
    "\n",
    "    df1['AI'] = pd.Series(ai1)\n",
    "    \n",
    "    df_acc_label, true_periods = group_dataframe_by_label(df1, df_timer, subject_id, label_list)\n",
    "    \n",
    "    return df_acc_label, true_periods"
   ]
  },
  {
   "cell_type": "code",
<<<<<<< HEAD
   "execution_count": 22,
   "metadata": {},
=======
   "execution_count": 27,
   "metadata": {
    "scrolled": true
   },
>>>>>>> 4f005e4c5cf269697cc069d6fce340ed6fe8d3d3
   "outputs": [
    {
     "name": "stdout",
     "output_type": "stream",
     "text": [
<<<<<<< HEAD
      "['1001', '1002', '1003', '1004', '1005', '1006', '1007', '1008', '1009', '1010', '1011', '1012', '1013', '1014', '1015', '1016', '1017', '1018', '3001', '3002', '3003', '3004', '3005', '3006']\n",
      "Loading 1001's data\n",
      "(188, 7)\n",
      "(188, 7)\n",
      "(188, 7)\n",
      "(375, 7)\n",
      "Loading 1002's data\n",
      "(375, 7)\n",
      "(376, 7)\n",
      "(376, 7)\n",
      "(563, 7)\n",
      "Loading 1003's data\n",
      "(569, 7)\n",
      "(563, 7)\n",
      "(564, 7)\n",
      "(937, 7)\n",
      "Loading 1004's data\n",
      "(757, 7)\n",
      "(750, 7)\n",
      "(752, 7)\n",
      "(1311, 7)\n",
      "Loading 1005's data\n",
      "(945, 7)\n",
      "(938, 7)\n",
      "(940, 7)\n",
      "(1686, 7)\n",
      "Loading 1006's data\n",
      "(1133, 7)\n",
      "(1125, 7)\n",
      "(1128, 7)\n",
      "(2060, 7)\n",
      "Loading 1007's data\n",
      "(1320, 7)\n",
      "(1313, 7)\n",
      "(1316, 7)\n",
      "(2441, 7)\n",
      "Loading 1008's data\n",
      "(1507, 7)\n",
      "(1501, 7)\n",
      "(1504, 7)\n",
      "(2816, 7)\n",
      "Loading 1009's data\n",
      "(1702, 7)\n",
      "(1689, 7)\n",
      "(1692, 7)\n",
      "(3029, 7)\n",
      "Loading 1010's data\n",
      "(1890, 7)\n",
      "(1884, 7)\n",
      "(1880, 7)\n",
      "(3217, 7)\n",
      "Loading 1011's data\n",
      "(2078, 7)\n",
      "(2072, 7)\n",
      "(2068, 7)\n",
      "(3405, 7)\n",
      "Loading 1012's data\n",
      "(2266, 7)\n",
      "(2260, 7)\n",
      "(2255, 7)\n",
      "(3593, 7)\n",
      "Loading 1013's data\n",
      "(2454, 7)\n",
      "(2448, 7)\n",
      "(2442, 7)\n",
      "(3781, 7)\n",
      "Loading 1014's data\n",
      "(2641, 7)\n",
      "(2641, 7)\n",
      "(2629, 7)\n",
      "(3974, 7)\n",
      "Loading 1015's data\n",
      "(2741, 7)\n",
      "(2816, 7)\n",
      "(2723, 7)\n",
      "(4075, 7)\n",
      "Loading 1016's data\n",
      "(2928, 7)\n",
      "(3010, 7)\n",
      "(2910, 7)\n",
      "(4386, 7)\n",
      "Loading 1017's data\n",
      "(3028, 7)\n",
      "(3198, 7)\n",
      "(3035, 7)\n",
      "(4698, 7)\n",
      "Loading 1018's data\n",
      "(3153, 7)\n",
      "(3322, 7)\n",
      "(3142, 7)\n",
      "(4917, 7)\n",
      "Loading 3001's data\n",
      "(3341, 7)\n",
      "(3510, 7)\n",
      "(3336, 7)\n",
      "(5111, 7)\n",
      "Loading 3002's data\n",
      "(3529, 7)\n",
      "(3698, 7)\n",
      "(3524, 7)\n",
      "(5299, 7)\n",
      "Loading 3003's data\n",
      "(3717, 7)\n",
      "(3885, 7)\n",
      "(3711, 7)\n",
      "(5678, 7)\n",
      "Loading 3004's data\n",
      "(3905, 7)\n",
      "(4079, 7)\n",
      "(3899, 7)\n",
      "(6051, 7)\n",
      "Loading 3005's data\n",
      "(4093, 7)\n",
      "(4273, 7)\n",
      "(4087, 7)\n",
      "(6418, 7)\n",
      "Loading 3006's data\n",
      "(4281, 7)\n",
      "(4460, 7)\n",
      "(4274, 7)\n",
      "(6612, 7)\n",
=======
      "['1001', '1002', '1003', '1004', '1005', '1006', '1007', '1008', '1009', '1010', '1011', '1012', '1013', '1014', '1015', '1016', '3001', '3002', '3003', '3004', '3005']\n",
      "{'sit': Empty DataFrame\n",
      "Columns: []\n",
      "Index: [], 'sleep': Empty DataFrame\n",
      "Columns: []\n",
      "Index: [], 'stand': Empty DataFrame\n",
      "Columns: []\n",
      "Index: [], 'walk': Empty DataFrame\n",
      "Columns: []\n",
      "Index: []}\n",
      "Loading 1001's data\n",
      "(376, 7)\n",
      "(381, 7)\n",
      "(556, 7)\n",
      "(863, 7)\n",
      "Loading 1002's data\n",
      "(750, 7)\n",
      "(751, 7)\n",
      "(1119, 7)\n",
      "(1577, 7)\n",
      "Loading 1003's data\n",
      "(1131, 7)\n",
      "(1120, 7)\n",
      "(1683, 7)\n",
      "(2297, 7)\n",
      "Loading 1004's data\n",
      "(1513, 7)\n",
      "(1307, 7)\n",
      "(2203, 7)\n",
      "(3042, 7)\n",
      "Loading 1005's data\n",
      "(1876, 7)\n",
      "(1695, 7)\n",
      "(2784, 7)\n",
      "(3710, 7)\n",
      "Loading 1006's data\n",
      "(2264, 7)\n",
      "(2088, 7)\n",
      "(3353, 7)\n",
      "(4437, 7)\n",
      "Loading 1007's data\n",
      "(2639, 7)\n",
      "(2464, 7)\n",
      "(3917, 7)\n",
      "(5151, 7)\n",
      "Loading 1008's data\n",
      "(3014, 7)\n",
      "(2840, 7)\n",
      "(4480, 7)\n",
      "(5902, 7)\n",
      "Loading 1009's data\n",
      "(3397, 7)\n",
      "(3216, 7)\n",
      "(5044, 7)\n",
      "(6798, 7)\n",
      "Loading 1010's data\n",
      "(3773, 7)\n",
      "(3599, 7)\n",
      "(5608, 7)\n",
      "(7506, 7)\n",
      "Loading 1011's data\n",
      "(4149, 7)\n",
      "(3975, 7)\n",
      "(6171, 7)\n",
      "(8370, 7)\n",
      "Loading 1012's data\n",
      "(4525, 7)\n",
      "(4351, 7)\n",
      "(6746, 7)\n",
      "(9048, 7)\n",
      "Loading 1013's data\n",
      "(4901, 7)\n",
      "(4727, 7)\n",
      "(7308, 7)\n",
      "(9955, 7)\n",
      "Loading 1014's data\n",
      "(5275, 7)\n",
      "(5107, 7)\n",
      "(7869, 7)\n",
      "(10807, 7)\n",
      "Loading 1015's data\n",
      "(5468, 7)\n",
      "(5282, 7)\n",
      "(7963, 7)\n",
      "(11009, 7)\n",
      "Loading 1016's data\n",
      "(5843, 7)\n",
      "(5663, 7)\n",
      "(8526, 7)\n",
      "(11320, 7)\n",
      "Loading 3001's data\n",
      "(6219, 7)\n",
      "(6039, 7)\n",
      "(9102, 7)\n",
      "(11707, 7)\n",
      "Loading 3002's data\n",
      "(6595, 7)\n",
      "(6415, 7)\n",
      "(9666, 7)\n",
      "(12082, 7)\n",
      "Loading 3003's data\n",
      "(6971, 7)\n",
      "(6789, 7)\n",
      "(10227, 7)\n",
      "(12461, 7)\n",
      "Loading 3004's data\n",
      "(7347, 7)\n",
      "(7171, 7)\n",
      "(10791, 7)\n",
      "(12834, 7)\n",
      "Loading 3005's data\n",
      "(7723, 7)\n",
      "(7553, 7)\n",
      "(11355, 7)\n",
      "(13201, 7)\n",
>>>>>>> 4f005e4c5cf269697cc069d6fce340ed6fe8d3d3
      "finished loading\n"
     ]
    }
   ],
   "source": [
<<<<<<< HEAD
    "all_subjects = [range(1001, 1019), range(3001, 3007)]\n",
=======
    "all_subjects = [range(1001, 1017), range(3001, 3006)]\n",
>>>>>>> 4f005e4c5cf269697cc069d6fce340ed6fe8d3d3
    "all_subjects = np.hstack(all_subjects)\n",
    "all_subjects = [str(i) for i in all_subjects]\n",
    "print(all_subjects)\n",
    "\n",
    "label_list = ['sit', 'sleep', 'stand', 'walk']\n",
    "\n",
    "df_all_label = {}\n",
    "for label in label_list:\n",
    "    df_all_label[label] = pd.DataFrame()\n",
    "# print(df_all_label)\n",
    "\n",
    "for subject_id in all_subjects:\n",
    "    df_label, true_periods = load_all_data(subject_id, label_list)\n",
    "    \n",
    "    for label in label_list:\n",
    "        \n",
    "        if(df_all_label[label].empty):\n",
    "            df_all_label[label] = df_label[label]\n",
    "        else:\n",
    "            df_all_label[label] = df_all_label[label].append(df_label[label], ignore_index=True)\n",
    "            \n",
    "        print(df_all_label[label].shape)\n",
    "            \n",
    "print('finished loading')"
   ]
  },
  {
   "cell_type": "code",
   "execution_count": 72,
   "metadata": {},
   "outputs": [
    {
     "name": "stdout",
     "output_type": "stream",
     "text": [
      "[list([[0.3466692322774086, 0.5320958938206864, 0.4279946209424647], [0.34573337956407535, 0.531775872890226, 0.4293725610619559], [0.34632892106918095, 0.5325226032465159, 0.42885983917757253], [0.3452867234352462, 0.5270821583173951, 0.4287316586596311], [0.34503149136162947, 0.5279355771690539, 0.4268409966289876], [0.34486133664588503, 0.5263354279611052, 0.4268409966289876], [0.3440105595136853, 0.5281489318819687, 0.42594373329785556], [0.34486133664588503, 0.5281489318819687, 0.4242773872338398], [0.34486133664588503, 0.5269754698220261, 0.4244055676179366], [0.34460610457226837, 0.5269754698220261, 0.4250464700737993], [0.34452102721439615, 0.5268688036044804, 0.4264564553696215], [0.34503149136162947, 0.5268688036044804, 0.4250464700737993], [0.3453718007931184, 0.5281489318819687, 0.42453374800203336], [0.34545687815099063, 0.5255886976048154, 0.42299558232211437], [0.34418071422942975, 0.5267621151091115, 0.4220983190980581], [0.34409563687155753, 0.5323092485336012, 0.4238928460815494], [0.3443508724986517, 0.5266554488915657, 0.4263282747178353], [0.3437553274400686, 0.5290023284558043, 0.42414920658205363], [0.34460610457226837, 0.5260154070306448, 0.42197013871396133], [0.34239408971411295, 0.5279355771690539, 0.42722553810250524], [0.3453718007931184, 0.5267621151091115, 0.42466192838613015], [0.3437553274400686, 0.5267621151091115, 0.42620009419989385], [0.34494641400375725, 0.5260154070306448, 0.42312376297390053], [0.34452102721439615, 0.5280422433865998, 0.4292443805975523], [0.34613749701396845, 0.5268688036044804, 0.42414920658205363]])\n",
      " list([[0.34573337956407535, 0.531775872890226, 0.4293725610619559], [0.34632892106918095, 0.5325226032465159, 0.42885983917757253], [0.3452867234352462, 0.5270821583173951, 0.4287316586596311], [0.34503149136162947, 0.5279355771690539, 0.4268409966289876], [0.34486133664588503, 0.5263354279611052, 0.4268409966289876], [0.3440105595136853, 0.5281489318819687, 0.42594373329785556], [0.34486133664588503, 0.5281489318819687, 0.4242773872338398], [0.34486133664588503, 0.5269754698220261, 0.4244055676179366], [0.34460610457226837, 0.5269754698220261, 0.4250464700737993], [0.34452102721439615, 0.5268688036044804, 0.4264564553696215], [0.34503149136162947, 0.5268688036044804, 0.4250464700737993], [0.3453718007931184, 0.5281489318819687, 0.42453374800203336], [0.34545687815099063, 0.5255886976048154, 0.42299558232211437], [0.34418071422942975, 0.5267621151091115, 0.4220983190980581], [0.34409563687155753, 0.5323092485336012, 0.4238928460815494], [0.3443508724986517, 0.5266554488915657, 0.4263282747178353], [0.3437553274400686, 0.5290023284558043, 0.42414920658205363], [0.34460610457226837, 0.5260154070306448, 0.42197013871396133], [0.34239408971411295, 0.5279355771690539, 0.42722553810250524], [0.3453718007931184, 0.5267621151091115, 0.42466192838613015], [0.3437553274400686, 0.5267621151091115, 0.42620009419989385], [0.34494641400375725, 0.5260154070306448, 0.42312376297390053], [0.34452102721439615, 0.5280422433865998, 0.4292443805975523], [0.34613749701396845, 0.5268688036044804, 0.42414920658205363], [0.34503149136162947, 0.5272955130303099, 0.42414920658205363]])\n",
      " list([[0.34632892106918095, 0.5325226032465159, 0.42885983917757253], [0.3452867234352462, 0.5270821583173951, 0.4287316586596311], [0.34503149136162947, 0.5279355771690539, 0.4268409966289876], [0.34486133664588503, 0.5263354279611052, 0.4268409966289876], [0.3440105595136853, 0.5281489318819687, 0.42594373329785556], [0.34486133664588503, 0.5281489318819687, 0.4242773872338398], [0.34486133664588503, 0.5269754698220261, 0.4244055676179366], [0.34460610457226837, 0.5269754698220261, 0.4250464700737993], [0.34452102721439615, 0.5268688036044804, 0.4264564553696215], [0.34503149136162947, 0.5268688036044804, 0.4250464700737993], [0.3453718007931184, 0.5281489318819687, 0.42453374800203336], [0.34545687815099063, 0.5255886976048154, 0.42299558232211437], [0.34418071422942975, 0.5267621151091115, 0.4220983190980581], [0.34409563687155753, 0.5323092485336012, 0.4238928460815494], [0.3443508724986517, 0.5266554488915657, 0.4263282747178353], [0.3437553274400686, 0.5290023284558043, 0.42414920658205363], [0.34460610457226837, 0.5260154070306448, 0.42197013871396133], [0.34239408971411295, 0.5279355771690539, 0.42722553810250524], [0.3453718007931184, 0.5267621151091115, 0.42466192838613015], [0.3437553274400686, 0.5267621151091115, 0.42620009419989385], [0.34494641400375725, 0.5260154070306448, 0.42312376297390053], [0.34452102721439615, 0.5280422433865998, 0.4292443805975523], [0.34613749701396845, 0.5268688036044804, 0.42414920658205363], [0.34503149136162947, 0.5272955130303099, 0.42414920658205363], [0.34452102721439615, 0.5277222224561393, 0.42299558232211437]])\n",
      " ...\n",
      " list([[0.47405603346615527, 0.23232421105171003, 0.6189948815773525], [0.47522533835805914, 0.231935457394231, 0.6185027862263247], [0.4758099908040111, 0.23096359354674617, 0.6160423043327751], [0.47600487495266175, 0.23290732124171581, 0.6182567385508109], [0.47483557006075783, 0.23251856758423678, 0.6214553583324911], [0.4728867285742514, 0.23251856758423678, 0.6157962566572612], [0.4721071919796488, 0.23251856758423678, 0.6207172153059495], [0.4728867285742514, 0.23387918508920064, 0.6204711676304356], [0.4744458017634566, 0.23174110086170413, 0.617764638061372], [0.4721071919796488, 0.232712964709189, 0.6192409292528663], [0.4715225395336968, 0.23232421105171003, 0.6187488339018385], [0.4715225395336968, 0.23251856758423678, 0.6187488339018385], [0.4742509176148059, 0.2311579906716983, 0.6194869769283802], [0.4732764968715527, 0.233101718366668, 0.6207172153059495], [0.4750304542094085, 0.23251856758423678, 0.6187488339018385], [0.47269184442560075, 0.233101718366668, 0.6231776920610881], [0.47308161272290206, 0.232712964709189, 0.6217014060080049], [0.47308161272290206, 0.23290732124171581, 0.6224395490345466], [0.4744458017634566, 0.2321298545191831, 0.6212093106569773], [0.47405603346615527, 0.232712964709189, 0.6214553583324911], [0.4746406859121072, 0.23251856758423678, 0.6217014060080049], [0.4750304542094085, 0.2332960748991949, 0.6212093106569773], [0.47405603346615527, 0.23290732124171581, 0.6187488339018385], [0.47405603346615527, 0.23426793874667962, 0.619733024603894], [0.47561510665536044, 0.2321298545191831, 0.619733024603894]])\n",
      " list([[0.47522533835805914, 0.231935457394231, 0.6185027862263247], [0.4758099908040111, 0.23096359354674617, 0.6160423043327751], [0.47600487495266175, 0.23290732124171581, 0.6182567385508109], [0.47483557006075783, 0.23251856758423678, 0.6214553583324911], [0.4728867285742514, 0.23251856758423678, 0.6157962566572612], [0.4721071919796488, 0.23251856758423678, 0.6207172153059495], [0.4728867285742514, 0.23387918508920064, 0.6204711676304356], [0.4744458017634566, 0.23174110086170413, 0.617764638061372], [0.4721071919796488, 0.232712964709189, 0.6192409292528663], [0.4715225395336968, 0.23232421105171003, 0.6187488339018385], [0.4715225395336968, 0.23251856758423678, 0.6187488339018385], [0.4742509176148059, 0.2311579906716983, 0.6194869769283802], [0.4732764968715527, 0.233101718366668, 0.6207172153059495], [0.4750304542094085, 0.23251856758423678, 0.6187488339018385], [0.47269184442560075, 0.233101718366668, 0.6231776920610881], [0.47308161272290206, 0.232712964709189, 0.6217014060080049], [0.47308161272290206, 0.23290732124171581, 0.6224395490345466], [0.4744458017634566, 0.2321298545191831, 0.6212093106569773], [0.47405603346615527, 0.232712964709189, 0.6214553583324911], [0.4746406859121072, 0.23251856758423678, 0.6217014060080049], [0.4750304542094085, 0.2332960748991949, 0.6212093106569773], [0.47405603346615527, 0.23290732124171581, 0.6187488339018385], [0.47405603346615527, 0.23426793874667962, 0.619733024603894], [0.47561510665536044, 0.2321298545191831, 0.619733024603894], [0.47191230783099813, 0.22727053528175895, 0.6209632629814633]])\n"
     ]
    },
    {
     "name": "stdout",
     "output_type": "stream",
     "text": [
      " list([[0.4758099908040111, 0.23096359354674617, 0.6160423043327751], [0.47600487495266175, 0.23290732124171581, 0.6182567385508109], [0.47483557006075783, 0.23251856758423678, 0.6214553583324911], [0.4728867285742514, 0.23251856758423678, 0.6157962566572612], [0.4721071919796488, 0.23251856758423678, 0.6207172153059495], [0.4728867285742514, 0.23387918508920064, 0.6204711676304356], [0.4744458017634566, 0.23174110086170413, 0.617764638061372], [0.4721071919796488, 0.232712964709189, 0.6192409292528663], [0.4715225395336968, 0.23232421105171003, 0.6187488339018385], [0.4715225395336968, 0.23251856758423678, 0.6187488339018385], [0.4742509176148059, 0.2311579906716983, 0.6194869769283802], [0.4732764968715527, 0.233101718366668, 0.6207172153059495], [0.4750304542094085, 0.23251856758423678, 0.6187488339018385], [0.47269184442560075, 0.233101718366668, 0.6231776920610881], [0.47308161272290206, 0.232712964709189, 0.6217014060080049], [0.47308161272290206, 0.23290732124171581, 0.6224395490345466], [0.4744458017634566, 0.2321298545191831, 0.6212093106569773], [0.47405603346615527, 0.232712964709189, 0.6214553583324911], [0.4746406859121072, 0.23251856758423678, 0.6217014060080049], [0.4750304542094085, 0.2332960748991949, 0.6212093106569773], [0.47405603346615527, 0.23290732124171581, 0.6187488339018385], [0.47405603346615527, 0.23426793874667962, 0.619733024603894], [0.47561510665536044, 0.2321298545191831, 0.619733024603894], [0.47191230783099813, 0.22727053528175895, 0.6209632629814633]])]\n"
     ]
    }
   ],
   "source": [
    "slices = slice_dataframe(df_all_label['sit'])\n",
    "print(slices)"
   ]
  },
  {
   "cell_type": "markdown",
   "metadata": {},
   "source": [
    "# Slice dataframe to get all sequences"
   ]
  },
  {
   "cell_type": "code",
<<<<<<< HEAD
   "execution_count": 95,
   "metadata": {},
   "outputs": [],
   "source": [
    "def slice_dataframe(df, col, segment_length=24):\n",
    "    df_list = []\n",
    "    \n",
    "    for i in range(df.shape[0]-segment_length):\n",
    "        df_segment = df.loc[i:i+segment_length-1][col]\n",
    "        df_list.append(list(df_segment))\n",
=======
   "execution_count": 28,
   "metadata": {},
   "outputs": [],
   "source": [
    "def slice_dataframe(df, sequence_length=60):\n",
    "    df_list = []\n",
    "    \n",
    "    cols = ['x', 'y', 'z']\n",
    "    for i in range(0, df.shape[0]-sequence_length, sequence_length):\n",
    "        df_sequence = df.loc[i:i+sequence_length-1][cols]\n",
    "        \n",
    "        df_list.append(df_sequence.to_dict(orient='split')['data'])\n",
>>>>>>> 4f005e4c5cf269697cc069d6fce340ed6fe8d3d3
    "        \n",
    "    return np.array(df_list)"
   ]
  },
  {
   "cell_type": "code",
<<<<<<< HEAD
   "execution_count": 99,
=======
   "execution_count": 29,
>>>>>>> 4f005e4c5cf269697cc069d6fce340ed6fe8d3d3
   "metadata": {},
   "outputs": [],
   "source": [
    "def get_df_sliced(df_all_label, label_list):\n",
    "    df_sliced = {}\n",
<<<<<<< HEAD
    "    slice_labels = []\n",
    "    \n",
    "    cols = ['x', 'y', 'z']\n",
    "    \n",
    "    for i, c in enumerate(cols):\n",
    "        df_sliced[c] = []\n",
    "        \n",
    "        for lb in label_list:\n",
    "            df_slice_lb_c = slice_dataframe(df_all_label[lb], c)\n",
    "            print(df_slice_lb_c.shape)\n",
    "            \n",
    "            df_sliced[c].append(df_slice_lb_c)    # append every label to an array of axis c\n",
    "    \n",
    "        df_sliced[c] = [item for sublist in df_sliced[c] for item in sublist]\n",
    "    \n",
    "    return df_sliced\n",
    "                        \n",
    "#     for label in label_list:\n",
    "#         df_slice_i = slice_dataframe(df_all_label[label], slice_length)\n",
    "#         slice_labels.append([label for i in range(df_slice_i.shape[0])])\n",
    "        \n",
    "#         df_slice_list.append(df_slice_i)\n",
    "        \n",
    "#     slice_list = [item for sublist in df_slice_list for item in sublist]\n",
    "#     slice_list = [np.hstack(x) for x in slice_list]\n",
    "    \n",
    "#     slice_labels = np.hstack(slice_labels)\n",
    "        \n",
    "#     return np.array(slice_list), np.array(slice_labels)"
=======
    "    slice_label = []\n",
    "\n",
    "    for label in label_list:\n",
    "        df_sliced[label] = slice_dataframe(df_all_label[label])\n",
    "        slice_label.append([label for i in range(df_sliced[label].shape[0])])\n",
    "    \n",
    "    slice_label = np.hstack(slice_label)\n",
    "        \n",
    "    return df_sliced, np.array(slice_label)"
>>>>>>> 4f005e4c5cf269697cc069d6fce340ed6fe8d3d3
   ]
  },
  {
   "cell_type": "markdown",
   "metadata": {},
   "source": [
    "# Get subsequences from all sequences"
   ]
  },
  {
   "cell_type": "code",
<<<<<<< HEAD
   "execution_count": 49,
=======
   "execution_count": 32,
   "metadata": {},
   "outputs": [],
   "source": [
    "def get_subseq_for_each_axis(df_sliced, label_list, w=24):\n",
    "    all_subseq = []\n",
    "    for label in label_list:\n",
    "        for slice_lbl in df_sliced[label]:\n",
    "            for i in range(slice_lbl.shape[0]-w+1):\n",
    "                all_subseq.append(slice_lbl[i:i+w])\n",
    "            \n",
    "    all_subseq = np.array(all_subseq)\n",
    "\n",
    "    subseq_axes = {}\n",
    "    axes = ['x', 'y', 'z']\n",
    "    for ax in axes:\n",
    "        subseq_axes[ax] = []\n",
    "\n",
    "    for subseq_i in all_subseq:\n",
    "        for i, ax in enumerate(axes):\n",
    "            subseq_axes[ax].append(np.transpose(subseq_i)[i])\n",
    "    \n",
    "    for ax in axes:\n",
    "        subseq_axes[ax] = np.array(subseq_axes[ax])\n",
    "    \n",
    "    return subseq_axes"
   ]
  },
  {
   "cell_type": "markdown",
   "metadata": {},
   "source": [
    "# Create histogram for each sequence"
   ]
  },
  {
   "cell_type": "code",
   "execution_count": 35,
   "metadata": {},
   "outputs": [],
   "source": [
    "def get_cluster_centers(subsequence_i):\n",
    "    kmeans = KMeans(n_clusters=128, random_state=42).fit(subsequence_i)\n",
    "    cluster_centers = kmeans.cluster_centers_\n",
    "    \n",
    "    return cluster_centers"
   ]
  },
  {
   "cell_type": "code",
   "execution_count": 37,
>>>>>>> 4f005e4c5cf269697cc069d6fce340ed6fe8d3d3
   "metadata": {},
   "outputs": [],
   "source": [
    "def normalize(v):\n",
    "    return v / np.linalg.norm(v) if np.linalg.norm(v)!=0 else v"
   ]
  },
  {
   "cell_type": "code",
<<<<<<< HEAD
   "execution_count": 50,
=======
   "execution_count": 38,
>>>>>>> 4f005e4c5cf269697cc069d6fce340ed6fe8d3d3
   "metadata": {},
   "outputs": [],
   "source": [
    "def most_similar_codeword_idx(segment_i, all_codewords):\n",
    "    min_dist = math.inf\n",
    "    codeword_idx = 0\n",
    "    for i, codeword_i in enumerate(all_codewords):\n",
    "        dist_i = np.linalg.norm(codeword_i-segment_i)\n",
    "        if(dist_i<min_dist):\n",
    "            min_dist = dist_i\n",
    "            codeword_idx = i\n",
    "            \n",
    "    return codeword_idx"
   ]
  },
  {
   "cell_type": "code",
<<<<<<< HEAD
   "execution_count": 102,
   "metadata": {},
   "outputs": [],
   "source": [
    "def histogram_for_all_slices(df_sliced_c):\n",
    "    kmeans = KMeans(n_clusters=128, random_state=42).fit(df_sliced_c)\n",
    "    cluster_centers = kmeans.cluster_centers_\n",
=======
   "execution_count": 44,
   "metadata": {},
   "outputs": [],
   "source": [
    "def get_histogram(all_sequences, all_codewords, w=24):\n",
    "    axes = ['x', 'y', 'z']\n",
>>>>>>> 4f005e4c5cf269697cc069d6fce340ed6fe8d3d3
    "    \n",
    "    blank_histogram = [0 for i in range(len(all_codewords['x']))]\n",
    "    all_histograms = {}\n",
    "    for ax in axes:\n",
    "        all_histograms[ax] = []\n",
    "    \n",
<<<<<<< HEAD
    "    for slice_i in df_sliced_c:\n",
    "        histogram_idx = most_similar_cluster_center_idx(slice_i, cluster_centers)\n",
    "        \n",
    "        histogram[histogram_idx] += 1\n",
=======
    "    for a, ax in enumerate(axes):\n",
    "        print(ax)\n",
    "        for sequence_i in all_sequences:\n",
    "            temp_histogram = blank_histogram\n",
    "\n",
    "            for i in range(sequence_i.shape[0]-w+1):\n",
    "                sequence_ax = np.transpose(sequence_i)[a]\n",
    "                histogram_idx = most_similar_codeword_idx(sequence_ax[i:i+w], all_codewords[ax])\n",
    "                temp_histogram[histogram_idx] += 1\n",
>>>>>>> 4f005e4c5cf269697cc069d6fce340ed6fe8d3d3
    "        \n",
    "            normalized_hist = normalize(temp_histogram)\n",
    "            all_histograms[ax].append(normalized_hist)\n",
    "    \n",
    "    return all_histograms"
   ]
  },
  {
   "cell_type": "code",
<<<<<<< HEAD
   "execution_count": 103,
   "metadata": {
    "scrolled": true
   },
   "outputs": [
    {
     "name": "stdout",
     "output_type": "stream",
     "text": [
      "(4257, 24)\n",
      "(4436, 24)\n",
      "(4250, 24)\n",
      "(6588, 24)\n",
      "(4257, 24)\n",
      "(4436, 24)\n",
      "(4250, 24)\n",
      "(6588, 24)\n",
      "(4257, 24)\n",
      "(4436, 24)\n",
      "(4250, 24)\n",
      "(6588, 24)\n"
     ]
    }
   ],
   "source": [
    "df_sliced = get_df_sliced(df_all_label, label_list)"
   ]
  },
  {
   "cell_type": "code",
   "execution_count": null,
   "metadata": {},
   "outputs": [],
   "source": [
    "cols = ['x', 'y', 'z']\n",
    "for c in cols:\n",
    "    normalized_hist = histogram_for_all_slices(df_sliced[c])"
=======
   "execution_count": 48,
   "metadata": {},
   "outputs": [],
   "source": [
    "def get_features(df_all_label, label_list):\n",
    "    axes = ['x', 'y', 'z']\n",
    "\n",
    "    df_sliced, all_labels = get_df_sliced(df_all_label, label_list)\n",
    "\n",
    "    all_sequences = np.vstack([df_sliced[label] for label in label_list])\n",
    "    all_subseq = get_subseq_for_each_axis(df_sliced, label_list)\n",
    "\n",
    "    all_codewords = {}\n",
    "\n",
    "    for ax in axes:\n",
    "        print(ax)\n",
    "        all_codewords[ax] = get_cluster_centers(all_subseq[ax])\n",
    "\n",
    "    all_histograms = get_histogram(all_sequences, all_codewords)\n",
    "\n",
    "    all_features = [[] for i in range(len(all_histograms['x']))]\n",
    "\n",
    "    for ax in axes:\n",
    "        for i, hist in enumerate(all_histograms[ax]):\n",
    "            all_features[i].append(hist)\n",
    "\n",
    "    for i in range(len(all_features)):\n",
    "        all_features[i] = [item for sublist in all_features[i] for item in sublist]\n",
    "\n",
    "    print(len(all_labels))\n",
    "    print(len(all_features))\n",
    "    print(len(all_features[0]))\n",
    "    \n",
    "    return all_features, all_labels, all_codewords"
>>>>>>> 4f005e4c5cf269697cc069d6fce340ed6fe8d3d3
   ]
  },
  {
   "cell_type": "code",
<<<<<<< HEAD
   "execution_count": 47,
   "metadata": {
    "scrolled": true
   },
=======
   "execution_count": 49,
   "metadata": {},
>>>>>>> 4f005e4c5cf269697cc069d6fce340ed6fe8d3d3
   "outputs": [
    {
     "name": "stdout",
     "output_type": "stream",
     "text": [
<<<<<<< HEAD
      "[array([0.34666923, 0.53209589, 0.42799462, 0.34573338, 0.53177587,\n",
      "       0.42937256, 0.34632892, 0.5325226 , 0.42885984, 0.34528672,\n",
      "       0.52708216, 0.42873166, 0.34503149, 0.52793558, 0.426841  ,\n",
      "       0.34486134, 0.52633543, 0.426841  , 0.34401056, 0.52814893,\n",
      "       0.42594373, 0.34486134, 0.52814893, 0.42427739, 0.34486134,\n",
      "       0.52697547, 0.42440557, 0.3446061 , 0.52697547, 0.42504647,\n",
      "       0.34452103, 0.5268688 , 0.42645646, 0.34503149, 0.5268688 ,\n",
      "       0.42504647, 0.3453718 , 0.52814893, 0.42453375, 0.34545688,\n",
      "       0.5255887 , 0.42299558, 0.34418071, 0.52676212, 0.42209832,\n",
      "       0.34409564, 0.53230925, 0.42389285, 0.34435087, 0.52665545,\n",
      "       0.42632827, 0.34375533, 0.52900233, 0.42414921, 0.3446061 ,\n",
      "       0.52601541, 0.42197014, 0.34239409, 0.52793558, 0.42722554,\n",
      "       0.3453718 , 0.52676212, 0.42466193, 0.34375533, 0.52676212,\n",
      "       0.42620009, 0.34494641, 0.52601541, 0.42312376, 0.34452103,\n",
      "       0.52804224, 0.42924438, 0.3461375 , 0.5268688 , 0.42414921])\n",
      " array([0.34573338, 0.53177587, 0.42937256, 0.34632892, 0.5325226 ,\n",
      "       0.42885984, 0.34528672, 0.52708216, 0.42873166, 0.34503149,\n",
      "       0.52793558, 0.426841  , 0.34486134, 0.52633543, 0.426841  ,\n",
      "       0.34401056, 0.52814893, 0.42594373, 0.34486134, 0.52814893,\n",
      "       0.42427739, 0.34486134, 0.52697547, 0.42440557, 0.3446061 ,\n",
      "       0.52697547, 0.42504647, 0.34452103, 0.5268688 , 0.42645646,\n",
      "       0.34503149, 0.5268688 , 0.42504647, 0.3453718 , 0.52814893,\n",
      "       0.42453375, 0.34545688, 0.5255887 , 0.42299558, 0.34418071,\n",
      "       0.52676212, 0.42209832, 0.34409564, 0.53230925, 0.42389285,\n",
      "       0.34435087, 0.52665545, 0.42632827, 0.34375533, 0.52900233,\n",
      "       0.42414921, 0.3446061 , 0.52601541, 0.42197014, 0.34239409,\n",
      "       0.52793558, 0.42722554, 0.3453718 , 0.52676212, 0.42466193,\n",
      "       0.34375533, 0.52676212, 0.42620009, 0.34494641, 0.52601541,\n",
      "       0.42312376, 0.34452103, 0.52804224, 0.42924438, 0.3461375 ,\n",
      "       0.5268688 , 0.42414921, 0.34503149, 0.52729551, 0.42414921])\n",
      " array([0.34632892, 0.5325226 , 0.42885984, 0.34528672, 0.52708216,\n",
      "       0.42873166, 0.34503149, 0.52793558, 0.426841  , 0.34486134,\n",
      "       0.52633543, 0.426841  , 0.34401056, 0.52814893, 0.42594373,\n",
      "       0.34486134, 0.52814893, 0.42427739, 0.34486134, 0.52697547,\n",
      "       0.42440557, 0.3446061 , 0.52697547, 0.42504647, 0.34452103,\n",
      "       0.5268688 , 0.42645646, 0.34503149, 0.5268688 , 0.42504647,\n",
      "       0.3453718 , 0.52814893, 0.42453375, 0.34545688, 0.5255887 ,\n",
      "       0.42299558, 0.34418071, 0.52676212, 0.42209832, 0.34409564,\n",
      "       0.53230925, 0.42389285, 0.34435087, 0.52665545, 0.42632827,\n",
      "       0.34375533, 0.52900233, 0.42414921, 0.3446061 , 0.52601541,\n",
      "       0.42197014, 0.34239409, 0.52793558, 0.42722554, 0.3453718 ,\n",
      "       0.52676212, 0.42466193, 0.34375533, 0.52676212, 0.42620009,\n",
      "       0.34494641, 0.52601541, 0.42312376, 0.34452103, 0.52804224,\n",
      "       0.42924438, 0.3461375 , 0.5268688 , 0.42414921, 0.34503149,\n",
      "       0.52729551, 0.42414921, 0.34452103, 0.52772222, 0.42299558])\n",
      " ...\n",
      " array([0.29222899, 0.48748724, 0.581042  , 0.2612424 , 0.46999368,\n",
      "       0.60589284, 0.15132764, 0.44783516, 0.581042  , 0.21193667,\n",
      "       0.47601924, 0.5522544 , 0.27878197, 0.49370718, 0.54019806,\n",
      "       0.22246043, 0.4820448 , 0.54069015, 0.21758833, 0.45075077,\n",
      "       0.59260625, 0.26085262, 0.46299625, 0.59063787, 0.29788065,\n",
      "       0.48690412, 0.59949559, 0.1447016 , 0.47329802, 0.57021589,\n",
      "       0.29768576, 0.48670975, 0.54979392, 0.27254567, 0.49934399,\n",
      "       0.53650734, 0.25422658, 0.49642839, 0.51959155, 0.15132764,\n",
      "       0.46921619, 0.54782554, 0.30470159, 0.4799067 , 0.5805499 ,\n",
      "       0.27254567, 0.48807037, 0.5635726 , 0.29300855, 0.47815735,\n",
      "       0.60564678, 0.24818515, 0.47154866, 0.55446883, 0.22031668,\n",
      "       0.50828515, 0.52451251, 0.21232645, 0.47815735, 0.534785  ,\n",
      "       0.2489647 , 0.48981972, 0.53921387, 0.1867966 , 0.4769911 ,\n",
      "       0.53263209, 0.27878197, 0.5049808 , 0.58301038, 0.29690623,\n",
      "       0.42917536, 0.60712308, 0.15756394, 0.45755381, 0.56012793])\n",
      " array([0.2612424 , 0.46999368, 0.60589284, 0.15132764, 0.44783516,\n",
      "       0.581042  , 0.21193667, 0.47601924, 0.5522544 , 0.27878197,\n",
      "       0.49370718, 0.54019806, 0.22246043, 0.4820448 , 0.54069015,\n",
      "       0.21758833, 0.45075077, 0.59260625, 0.26085262, 0.46299625,\n",
      "       0.59063787, 0.29788065, 0.48690412, 0.59949559, 0.1447016 ,\n",
      "       0.47329802, 0.57021589, 0.29768576, 0.48670975, 0.54979392,\n",
      "       0.27254567, 0.49934399, 0.53650734, 0.25422658, 0.49642839,\n",
      "       0.51959155, 0.15132764, 0.46921619, 0.54782554, 0.30470159,\n",
      "       0.4799067 , 0.5805499 , 0.27254567, 0.48807037, 0.5635726 ,\n",
      "       0.29300855, 0.47815735, 0.60564678, 0.24818515, 0.47154866,\n",
      "       0.55446883, 0.22031668, 0.50828515, 0.52451251, 0.21232645,\n",
      "       0.47815735, 0.534785  , 0.2489647 , 0.48981972, 0.53921387,\n",
      "       0.1867966 , 0.4769911 , 0.53263209, 0.27878197, 0.5049808 ,\n",
      "       0.58301038, 0.29690623, 0.42917536, 0.60712308, 0.15756394,\n",
      "       0.45755381, 0.56012793, 0.2756638 , 0.48476602, 0.56111212])\n",
      " array([0.15132764, 0.44783516, 0.581042  , 0.21193667, 0.47601924,\n",
      "       0.5522544 , 0.27878197, 0.49370718, 0.54019806, 0.22246043,\n",
      "       0.4820448 , 0.54069015, 0.21758833, 0.45075077, 0.59260625,\n",
      "       0.26085262, 0.46299625, 0.59063787, 0.29788065, 0.48690412,\n",
      "       0.59949559, 0.1447016 , 0.47329802, 0.57021589, 0.29768576,\n",
      "       0.48670975, 0.54979392, 0.27254567, 0.49934399, 0.53650734,\n",
      "       0.25422658, 0.49642839, 0.51959155, 0.15132764, 0.46921619,\n",
      "       0.54782554, 0.30470159, 0.4799067 , 0.5805499 , 0.27254567,\n",
      "       0.48807037, 0.5635726 , 0.29300855, 0.47815735, 0.60564678,\n",
      "       0.24818515, 0.47154866, 0.55446883, 0.22031668, 0.50828515,\n",
      "       0.52451251, 0.21232645, 0.47815735, 0.534785  , 0.2489647 ,\n",
      "       0.48981972, 0.53921387, 0.1867966 , 0.4769911 , 0.53263209,\n",
      "       0.27878197, 0.5049808 , 0.58301038, 0.29690623, 0.42917536,\n",
      "       0.60712308, 0.15756394, 0.45755381, 0.56012793, 0.2756638 ,\n",
      "       0.48476602, 0.56111212])]\n",
      "(19535,)\n",
      "(19531,)\n"
=======
      "x\n",
      "y\n",
      "z\n",
      "x\n",
      "y\n",
      "z\n",
      "662\n",
      "662\n",
      "384\n"
>>>>>>> 4f005e4c5cf269697cc069d6fce340ed6fe8d3d3
     ]
    }
   ],
   "source": [
<<<<<<< HEAD
    "print(df_sliced)\n",
    "print(slice_list.shape)\n",
    "print(slice_labels.shape)"
=======
    "all_features, all_labels, all_codewords = get_features(df_all_label, label_list)"
>>>>>>> 4f005e4c5cf269697cc069d6fce340ed6fe8d3d3
   ]
  },
  {
   "cell_type": "markdown",
   "metadata": {},
   "source": [
    "# Create a model using SVM"
   ]
  },
  {
   "cell_type": "code",
   "execution_count": 56,
   "metadata": {},
   "outputs": [],
   "source": [
    "X_train, X_test, y_train, y_test = train_test_split(all_features, all_labels, test_size=0.1, random_state=42)"
   ]
  },
  {
   "cell_type": "code",
   "execution_count": 57,
   "metadata": {},
   "outputs": [
    {
     "name": "stdout",
     "output_type": "stream",
     "text": [
      "595 67\n",
      "595 67\n"
     ]
    }
   ],
   "source": [
    "print(len(X_train), len(X_test))\n",
    "print(len(y_train), len(y_test))"
   ]
  },
  {
   "cell_type": "code",
   "execution_count": 58,
   "metadata": {},
   "outputs": [
    {
     "name": "stdout",
     "output_type": "stream",
     "text": [
      "Finished training\n"
     ]
    }
   ],
   "source": [
    "svm_model = svm_classifier(X_train, y_train)\n",
    "print(\"Finished training\")"
   ]
  },
  {
   "cell_type": "code",
   "execution_count": 59,
   "metadata": {},
   "outputs": [],
   "source": [
    "y_pred = svm_model.predict(X_test)"
   ]
  },
  {
   "cell_type": "code",
   "execution_count": 60,
   "metadata": {},
   "outputs": [],
   "source": [
    "%run eval_score.ipynb"
   ]
  },
  {
   "cell_type": "code",
   "execution_count": 61,
   "metadata": {
    "scrolled": true
   },
   "outputs": [
    {
     "name": "stdout",
     "output_type": "stream",
     "text": [
      "0.9850746268656716\n"
     ]
    },
    {
     "data": {
      "image/png": "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\n",
      "text/plain": [
       "<Figure size 432x288 with 2 Axes>"
      ]
     },
     "metadata": {
      "needs_background": "light"
     },
     "output_type": "display_data"
    },
    {
     "data": {
      "image/png": "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\n",
      "text/plain": [
       "<Figure size 432x288 with 2 Axes>"
      ]
     },
     "metadata": {
      "needs_background": "light"
     },
     "output_type": "display_data"
    },
    {
     "name": "stdout",
     "output_type": "stream",
     "text": [
      "              precision    recall  f1-score   support\n",
      "\n",
      "         sit       1.00      1.00      1.00        16\n",
      "       sleep       1.00      0.88      0.93         8\n",
      "       stand       0.95      1.00      0.97        18\n",
      "        walk       1.00      1.00      1.00        25\n",
      "\n",
      "   micro avg       0.99      0.99      0.99        67\n",
      "   macro avg       0.99      0.97      0.98        67\n",
      "weighted avg       0.99      0.99      0.98        67\n",
      "\n"
     ]
    }
   ],
   "source": [
    "acc = accuracy_score(y_test, y_pred)\n",
    "print(acc)\n",
    "\n",
    "show_conf_matrix(y_test, y_pred, label_list)\n",
    "show_clf_report(y_test, y_pred, label_list)"
   ]
  },
  {
   "cell_type": "code",
   "execution_count": 64,
   "metadata": {},
   "outputs": [
    {
     "name": "stdout",
     "output_type": "stream",
     "text": [
      "Loading 1017's data\n",
      "(400, 7)\n",
      "(376, 7)\n",
      "(510, 7)\n",
      "(624, 7)\n",
      "Loading 1018's data\n",
      "(712, 7)\n",
      "(500, 7)\n",
      "(711, 7)\n",
      "(843, 7)\n",
      "Loading 3006's data\n",
      "(1088, 7)\n",
      "(875, 7)\n",
      "(1274, 7)\n",
      "(2096, 7)\n",
      "finished loading\n"
     ]
    }
   ],
   "source": [
    "unseen_subjects = ['1017', '1018', '3006']\n",
    "for subject_i in unseen_subjects:\n",
    "    df_unseen_i, periods_unseen = load_all_data(subject_i, label_list)\n",
    "    \n",
    "    for label in label_list:\n",
    "        \n",
    "        if(df_all_unseen[label].empty):\n",
    "            df_all_unseen[label] = df_unseen_i[label]\n",
    "        else:\n",
    "            df_all_unseen[label] = df_all_unseen[label].append(df_unseen_i[label], ignore_index=True)\n",
    "            \n",
    "        print(df_all_unseen[label].shape)\n",
    "            \n",
    "print('finished loading')"
   ]
  },
  {
   "cell_type": "code",
   "execution_count": null,
   "metadata": {},
   "outputs": [],
   "source": [
    "def get_features_unseen(df_all_label, label_list, all_codewords):\n",
    "    axes = ['x', 'y', 'z']\n",
    "\n",
    "    df_sliced, all_labels = get_df_sliced(df_all_label, label_list)\n",
    "\n",
    "    all_sequences = np.vstack([df_sliced[label] for label in label_list])\n",
    "#     all_subseq = get_subseq_for_each_axis(df_sliced, label_list)\n",
    "\n",
    "#     all_codewords = {}\n",
    "\n",
    "#     for ax in axes:\n",
    "#         print(ax)\n",
    "#         all_codewords[ax] = get_cluster_centers(all_subseq[ax])\n",
    "\n",
    "    all_histograms = get_histogram(all_sequences, all_codewords)\n",
    "\n",
    "    all_features = [[] for i in range(len(all_histograms['x']))]\n",
    "\n",
    "    for ax in axes:\n",
    "        for i, hist in enumerate(all_histograms[ax]):\n",
    "            all_features[i].append(hist)\n",
    "\n",
    "    for i in range(len(all_features)):\n",
    "        all_features[i] = [item for sublist in all_features[i] for item in sublist]\n",
    "\n",
    "    print(len(all_labels))\n",
    "    print(len(all_features))\n",
    "    print(len(all_features[0]))\n",
    "    \n",
    "    return all_features, all_labels, all_codewords"
   ]
  },
  {
   "cell_type": "markdown",
   "metadata": {},
   "source": [
    "# To be deleted"
   ]
  },
  {
   "cell_type": "code",
   "execution_count": null,
   "metadata": {},
   "outputs": [],
   "source": [
    "#     X_impure, y_impure = preprocess_data(df_acc, pca)\n",
    "#     y_pred = predict_combine(X_impure, model)\n",
    "#     p_periods = get_periods_from_list(y_pred, label_list)\n",
    "#     pred_periods = {}\n",
    "\n",
    "#     for i in range(len(label_list)):\n",
    "#         pred_periods[label_list[i]] = p_periods[i]\n",
    "    \n",
    "#     pp_all = postprocess_predicted(pred_periods, len(y_pred))\n",
    "    \n",
    "#     p_true, len_true = sequence_from_periods(true_periods, label_list)\n",
    "#     p_pred, len_pred = sequence_from_periods(pred_periods, label_list)\n",
    "    \n",
    "#     iou = evaluate_period(p_true, p_pred, len_pred, label_list)\n",
    "    \n",
    "#     print('label:', label_list)\n",
    "#     print('iou:', iou)"
   ]
  }
 ],
 "metadata": {
  "kernelspec": {
   "display_name": "Python 3",
   "language": "python",
   "name": "python3"
  },
  "language_info": {
   "codemirror_mode": {
    "name": "ipython",
    "version": 3
   },
   "file_extension": ".py",
   "mimetype": "text/x-python",
   "name": "python",
   "nbconvert_exporter": "python",
   "pygments_lexer": "ipython3",
   "version": "3.6.5"
  }
 },
 "nbformat": 4,
 "nbformat_minor": 2
}
