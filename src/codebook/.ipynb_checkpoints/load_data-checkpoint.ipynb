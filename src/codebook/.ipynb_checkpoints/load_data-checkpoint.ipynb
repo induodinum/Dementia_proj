{
 "cells": [
  {
   "cell_type": "code",
   "execution_count": null,
   "metadata": {},
   "outputs": [],
   "source": [
    "def load_all_data(all_subjects):\n",
    "    itr = len(all_subjects)\n",
    "\n",
    "    TRIAXIAL = 3\n",
    "    itr_count = 0\n",
    "\n",
    "    y_all = []\n",
    "    subj_all = []\n",
    "    ts_all = []\n",
    "    hr_all = []    \n",
    "\n",
    "    for idx in range(itr):\n",
    "\n",
    "        subject_id = identify_subj_id(idx, all_subjects)\n",
    "        print(\"Loading {0}'s data\".format(subject_id))\n",
    "\n",
    "        df_timer, rec_date, start_time, end_time = load_timer(subject_id)\n",
    "        df1, ai1, ts, lb_color = ai(subject_id, rec_date, start_time, end_time, df_timer)\n",
    "        \n",
    "#         print(start_time, end_time)\n",
    "\n",
    "        # get a list of dataframe in which there are 4 types of activity\n",
    "        df_list, label_dict = group_dataframe(df1, df_timer)\n",
    "        label_list = sorted(list(label_dict.keys()))"
   ]
  }
 ],
 "metadata": {
  "kernelspec": {
   "display_name": "Python 3",
   "language": "python",
   "name": "python3"
  },
  "language_info": {
   "codemirror_mode": {
    "name": "ipython",
    "version": 3
   },
   "file_extension": ".py",
   "mimetype": "text/x-python",
   "name": "python",
   "nbconvert_exporter": "python",
   "pygments_lexer": "ipython3",
   "version": "3.7.3"
  }
 },
 "nbformat": 4,
 "nbformat_minor": 2
}
