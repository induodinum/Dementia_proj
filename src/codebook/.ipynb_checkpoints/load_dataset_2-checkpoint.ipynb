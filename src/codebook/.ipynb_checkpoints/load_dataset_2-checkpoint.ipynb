{
 "cells": [
  {
   "cell_type": "code",
   "execution_count": 82,
   "metadata": {},
   "outputs": [],
   "source": [
    "import numpy as np\n",
    "import pandas as pd\n",
    "import matplotlib.pyplot as plt\n",
    "import os\n",
    "import math\n",
    "\n",
    "from os import listdir, walk\n",
    "from os.path import isfile, join\n",
    "\n",
    "from datetime import datetime, timedelta"
   ]
  },
  {
   "cell_type": "code",
   "execution_count": 3,
   "metadata": {},
   "outputs": [],
   "source": [
    "from sklearn.preprocessing import MinMaxScaler"
   ]
  },
  {
   "cell_type": "markdown",
   "metadata": {},
   "source": [
    "# Define Timestamp Methods"
   ]
  },
  {
   "cell_type": "code",
   "execution_count": 4,
   "metadata": {},
   "outputs": [],
   "source": [
    "def calc_sec(time):\n",
    "    hms = time.split(':')\n",
    "    hms = [float(x) for x in hms]\n",
    "    sec = hms[2] + hms[1]*60 + hms[0]*3600\n",
    "    sec = round(sec,3)\n",
    "    return sec"
   ]
  },
  {
   "cell_type": "code",
   "execution_count": 5,
   "metadata": {},
   "outputs": [],
   "source": [
    "def calc_ts(sec):\n",
    "    ts = ''\n",
    "    hr = int(sec/3600)\n",
    "    mn = int((sec - (hr*3600))/60)\n",
    "    sc = sec - (hr*3600) - (mn*60)\n",
    "    sc = round(sc,3)\n",
    "    ts += str(hr) + ':' + str(mn) + ':' + str(sc)\n",
    "    # print(ts)\n",
    "    return ts"
   ]
  },
  {
   "cell_type": "code",
   "execution_count": 6,
   "metadata": {},
   "outputs": [],
   "source": [
    "def calc_t_period(dates,secs):\n",
    "    t_period = []\n",
    "    \n",
    "    start_sec = secs[0]\n",
    "    prev_sec = secs[0]\n",
    "    prev_date = dates[0]\n",
    "\n",
    "    for i in range(len(secs)):\n",
    "        curr_sec = secs[i]\n",
    "        diff_sec = curr_sec - prev_sec\n",
    "        curr_date = dates[i]\n",
    "        \n",
    "        if((diff_sec>3.0) and (curr_date==prev_date)):\n",
    "            t_period.append([curr_date,start_sec,prev_sec])\n",
    "            start_sec = curr_sec\n",
    "        elif(curr_date!=prev_date):\n",
    "            t_period.append([prev_date,start_sec,prev_sec])\n",
    "            start_sec = curr_sec\n",
    "            prev_date = curr_date\n",
    "        elif(i==len(secs)-1):\n",
    "            t_period.append([curr_date,start_sec,curr_sec])\n",
    "\n",
    "        prev_sec = curr_sec\n",
    "    \n",
    "    return t_period"
   ]
  },
  {
   "cell_type": "markdown",
   "metadata": {},
   "source": [
    "# Load Dataset"
   ]
  },
  {
   "cell_type": "code",
   "execution_count": 7,
   "metadata": {},
   "outputs": [],
   "source": [
    "# Retrieve file directories from Google Drive\n",
    "mypath = '../../DDC_Data/raw/'\n",
    "basepath = '../../'\n",
    "\n",
    "dir_ = [f for f in walk(mypath)]\n",
    "# print(dir_)\n",
    "\n",
    "dir = list(dir_[0])\n",
    "dir[1] = sorted(dir[1])\n",
    "\n",
    "outer_path = dir[0]\n",
    "sub_path = dir[1]\n",
    "\n",
    "folders = [join(outer_path,d) for d in sub_path]\n",
    "\n",
    "files = []\n",
    "for fd in folders:\n",
    "    temp_f = [f for f in listdir(fd) if isfile(join(fd, f)) and f[-3:]=='csv' and f[5:9]!='data' and f[:4]==fd[-4:]]\n",
    "    temp_f = sorted(temp_f)"
   ]
  },
  {
   "cell_type": "markdown",
   "metadata": {},
   "source": [
    "## Retrieve All Timestamp Periods from a File"
   ]
  },
  {
   "cell_type": "code",
   "execution_count": 8,
   "metadata": {},
   "outputs": [],
   "source": [
    "all_subjects = []\n",
    "\n",
    "for i in range(1001,1015):\n",
    "    all_subjects.append(str(i))\n",
    "\n",
    "for i in range(3001,3007):\n",
    "    all_subjects.append(str(i))"
   ]
  },
  {
   "cell_type": "code",
   "execution_count": 67,
   "metadata": {},
   "outputs": [],
   "source": [
    "def load_timer(subject_id):\n",
    "  # Configure starting and ending time values\n",
    "    sid_dir = mypath + subject_id\n",
    "    sid_files = [f for f in listdir(sid_dir) if 'history_amdtimer' in f]\n",
    "\n",
    "    sid_filepath = sid_dir + '/' + sid_files[0]\n",
    "\n",
    "    # Timestamp periods dataframe\n",
    "    timer_df = pd.read_csv(sid_filepath, header=None, names=['sid','raw_label', 'timestamp', 'duration','label'])\n",
    "\n",
    "    filtered_timer = [i for i in timer_df['sid'] if i==int(subject_id)]\n",
    "\n",
    "    timer_filt = timer_df[timer_df['sid'].isin(filtered_timer)]\n",
    "    timer_filt = timer_filt.reset_index(drop=True)\n",
    "    \n",
    "    timer_label = []\n",
    "    \n",
    "    for i in range(len(timer_filt)):\n",
    "        if(timer_filt.loc[i]['raw_label']=='upstairs' or \n",
    "          timer_filt.loc[i]['raw_label']=='downstairs'):\n",
    "            timer_label.append('walk')\n",
    "        else:\n",
    "            timer_label.append(timer_filt.loc[i]['raw_label'])\n",
    "\n",
    "    timer_filt['label'] = pd.Series(timer_label)\n",
    "    \n",
    "    datetime_format = '%Y-%m-%d %H:%M:%S.%f'\n",
    "    timer_filt['time_start'] = timer_filt['timestamp'].apply(lambda x: datetime.strptime(x, datetime_format))\n",
    "    \n",
    "    time_format = '%H:%M:%S'\n",
    "    zero_date = datetime(1900, 1, 1)\n",
    "    \n",
    "    timer_filt['duration'] = timer_filt['duration'].apply(lambda x: datetime.strptime(x, time_format)-zero_date)\n",
    "    \n",
    "    for i in range(timer_filt.shape[0]):\n",
    "        timer_filt.loc[i, 'time_end'] = timer_filt.loc[i, 'time_start'] + timer_filt.loc[i, 'duration']\n",
    "\n",
    "#     print(timer_filt)\n",
    "    \n",
    "    return timer_filt"
   ]
  },
  {
   "cell_type": "markdown",
   "metadata": {},
   "source": [
    "## Create Dataframe of ACC and HR"
   ]
  },
  {
   "cell_type": "code",
   "execution_count": 52,
   "metadata": {},
   "outputs": [],
   "source": [
    "def load_acc(subject_id, start_time, end_time):\n",
    "    # Load accelerations\n",
    "    acc_filepath = mypath + '/' + subject_id + '/' + subject_id + '-log_acc.csv'\n",
    "\n",
    "    df = pd.read_csv(acc_filepath, header=None, names=['x','y','z','timestamp'])\n",
    "    \n",
    "    datetime_format = '%Y-%m-%d %H:%M:%S.%f'\n",
    "    df['timestamp'] = df['timestamp'].apply(lambda x: datetime.strptime(x, datetime_format))\n",
    "\n",
    "    filtered = [r for r in df['timestamp'] if r>=start_time and r<=end_time]\n",
    "\n",
    "    df_filt = df[df['timestamp'].isin(filtered)]\n",
    "    df_filt = df_filt.reset_index(drop=True)\n",
    "\n",
    "    df_filt['ID'] = pd.Series([subject_id for i in range(len(df_filt))])\n",
    "    \n",
    "    cols = ['ID','timestamp','x','y','z']\n",
    "    df_filt = df_filt[cols]\n",
    "\n",
    "    return df_filt"
   ]
  },
  {
   "cell_type": "code",
   "execution_count": 56,
   "metadata": {},
   "outputs": [],
   "source": [
    "def load_hr(subject_id, start_time, end_time):\n",
    "    # Load heart rate\n",
    "    hr_filepath = mypath + '/' + subject_id + '/' + subject_id + '-log_hr.csv'\n",
    "\n",
    "    df2 = pd.read_csv(hr_filepath, header=None, names=['hr','timestamp'])\n",
    "    \n",
    "    datetime_format = '%Y-%m-%d %H:%M:%S.%f'\n",
    "    df2['timestamp'] = df2['timestamp'].apply(lambda x: datetime.strptime(x, datetime_format))\n",
    "\n",
    "    filtered = [r for r in df2['timestamp'] if r>=start_time and r<=end_time]\n",
    "\n",
    "    df_hr = df2[df2['timestamp'].isin(filtered)]\n",
    "    df_hr = df_hr.reset_index(drop=True)\n",
    "\n",
    "    cols = ['timestamp','hr']\n",
    "    df_hr = df_hr[cols]\n",
    "\n",
    "    return df_hr"
   ]
  },
  {
   "cell_type": "code",
   "execution_count": 59,
   "metadata": {},
   "outputs": [],
   "source": [
    "def merge_acc_and_hr(df_filt, df_hr):\n",
    "    # Fill in missing HRs\n",
    "    hr_cnt = 0\n",
    "\n",
    "    for i in range(len(df_filt)):\n",
    "        hr_time = df_hr.loc[hr_cnt,'timestamp']\n",
    "        filt_time = df_filt.loc[i,'timestamp']\n",
    "\n",
    "        if(hr_time<=filt_time):\n",
    "            if(hr_cnt<len(df_hr)-1):\n",
    "                hr_cnt += 1\n",
    "        df_filt.loc[i,'HR'] = df_hr.loc[hr_cnt,'hr']\n",
    "\n",
    "    # Normalize by dividing by g (standard gravity)\n",
    "    g = 9.8\n",
    "    df_filt.loc[:,'x'] = df_filt['x'].apply(lambda x: x/g)\n",
    "    df_filt.loc[:,'y'] = df_filt['y'].apply(lambda x: x/g)\n",
    "    df_filt.loc[:,'z'] = df_filt['z'].apply(lambda x: x/g)\n",
    "    \n",
    "    cols = ['x','y','z']\n",
    "    xyz_ = df_filt[cols].to_dict('split')['data']\n",
    "    xyz_new = MinMaxScaler().fit_transform(xyz_)\n",
    "#     print(np.array(xyz_new).shape)\n",
    "\n",
    "    for i in range(len(cols)):\n",
    "        df_filt[cols[i]] = pd.Series(xyz_new.transpose()[i])\n",
    "        \n",
    "#     print(df_filt['x'])\n",
    "\n",
    "    return df_filt"
   ]
  },
  {
   "cell_type": "markdown",
   "metadata": {},
   "source": [
    "# Calculate Activity Index"
   ]
  },
  {
   "cell_type": "code",
   "execution_count": 13,
   "metadata": {},
   "outputs": [],
   "source": [
    "std_i_bar = [0.00349329,0.00465817,0.00543154]\n",
    "std_i_bar = np.array(std_i_bar)"
   ]
  },
  {
   "cell_type": "code",
   "execution_count": 14,
   "metadata": {},
   "outputs": [],
   "source": [
    "def equation_bai(X_i):\n",
    "    all_std = []\n",
    "    \n",
    "    std_i = np.std(X_i,axis=0)\n",
    "    diff_std = std_i**2 - std_i_bar**2\n",
    "    diff_std = (diff_std + 1) / (std_i_bar**2 + 1)\n",
    "    \n",
    "    diff_std_ = std_i**2\n",
    "\n",
    "    all_std.append(diff_std)\n",
    "    \n",
    "    all_std = np.array(all_std)\n",
    "    \n",
    "    ai = np.sum(all_std**2,axis=1)/3\n",
    "    ai[ai<0] = 0\n",
    "    ai = np.sqrt(ai)\n",
    "    \n",
    "    return ai"
   ]
  },
  {
   "cell_type": "code",
   "execution_count": 15,
   "metadata": {},
   "outputs": [],
   "source": [
    "def calc_ai(df1):\n",
    "    H = 10\n",
    "    ai1 = []\n",
    "\n",
    "    for i in range(len(df1)):\n",
    "        xyz_val = []\n",
    "        if(i-H>=0):\n",
    "            for j in range(H,0,-1):\n",
    "                xyz_val.append([df1.loc[i-j,'x'],df1.loc[i-j,'y'],df1.loc[i-j,'z']])\n",
    "            ai_val = float(equation_bai(xyz_val))\n",
    "            ai1.append(ai_val)\n",
    "        else:\n",
    "            ai1.append(1)\n",
    "\n",
    "    return ai1"
   ]
  },
  {
   "cell_type": "markdown",
   "metadata": {},
   "source": [
    "# Colors for Each Acitivity"
   ]
  },
  {
   "cell_type": "code",
   "execution_count": 17,
   "metadata": {},
   "outputs": [],
   "source": [
    "def prepare_color_labels(ts_, labels):\n",
    "  \n",
    "    accum = 0\n",
    "    ts = []\n",
    "    for x in ts_:\n",
    "        accum += x\n",
    "        ts.append(round(accum,3))\n",
    "\n",
    "    lb_set = set()\n",
    "    for x in labels:\n",
    "        lb_set.add(x)\n",
    "\n",
    "    lb_ = list(lb_set)\n",
    "\n",
    "    set_cnt = []\n",
    "    for i in range(len(lb_)):\n",
    "        set_cnt.append(0)\n",
    "\n",
    "    lb = []\n",
    "    lb.append('NaN')\n",
    "\n",
    "    for x in labels:\n",
    "        for i in range(len(lb_)):\n",
    "            if(lb_[i]==x and set_cnt[i]!=1 and lb_[i]!='NaN'):\n",
    "                set_cnt[i] = 1\n",
    "                lb.append(x)\n",
    "\n",
    "    colors = ['#808080', '#E6194B', '#3CB44B', '#FFE119', '#4363D8', '#F58231',\n",
    "            '#911EB4', '#46F0F0', '#F032E6', '#BCF60C', '#008080', '#E6BEFF', \n",
    "            '#9A6324', '#800000', '#AAFFC3', '#808000', '#000075']\n",
    "\n",
    "    color_dict = {}\n",
    "    for i in range(len(lb)):\n",
    "        color_dict[lb[i]] = colors[i]\n",
    "\n",
    "    #   print(color_dict)\n",
    "\n",
    "    lb_color = []\n",
    "    for x in labels:\n",
    "        lb_color.append(color_dict[x])\n",
    "\n",
    "    return ts, lb_color"
   ]
  },
  {
   "cell_type": "markdown",
   "metadata": {},
   "source": [
    "# Dataframe List Grouped by Label"
   ]
  },
  {
   "cell_type": "code",
   "execution_count": 136,
   "metadata": {},
   "outputs": [],
   "source": [
    "def group_dataframe_by_label(df1, df_timer, subject_id, label_list):\n",
    "    df_list = [pd.DataFrame() for i in range(len(label_list))]\n",
    "    period = [[] for i in range(len(label_list))]\n",
    "    \n",
    "    for lb in range(len(label_list)):\n",
    "        print(label_list[lb])\n",
    "        for i in range(df_timer.shape[0]):\n",
    "            start = 0\n",
    "            end = 0\n",
    "            \n",
    "            if(df_timer.loc[i, 'label']==label_list[lb]):\n",
    "                t_a = df_timer.loc[i, 'time_start']\n",
    "                t_b = df_timer.loc[i, 'time_end']\n",
    "\n",
    "                for j in range(df1.shape[0]):    \n",
    "                    if(df1.loc[j, 'ID']==subject_id):\n",
    "                        if(j>0 and df1.loc[j, 'timestamp']<=t_b and df1.loc[j-1, 'timestamp']<t_b):\n",
    "                            end = j\n",
    "\n",
    "                for j in reversed(range(df1.shape[0])):\n",
    "                    if(df1.loc[j, 'ID']==subject_id):\n",
    "                        if(j<df1.shape[0]-1 and df1.loc[j, 'timestamp']>=t_a and df1.loc[j+1, 'timestamp']>t_a):\n",
    "                            start = j\n",
    "                            \n",
    "#                 print(df1[start:end].head())\n",
    "\n",
    "                period[lb].append([start, end])\n",
    "                df_list[lb].append(df1.loc[start:end+1], ignore_index=True)\n",
    "\n",
    "#     for label in label_list:\n",
    "#         df_list[label] = df_list[label].reset_index(drop=True)\n",
    "\n",
    "    return df_list, period"
   ]
  },
  {
   "cell_type": "markdown",
   "metadata": {},
   "source": [
    "# Get X and y from Dataset for Each Subject"
   ]
  },
  {
   "cell_type": "code",
   "execution_count": 23,
   "metadata": {},
   "outputs": [],
   "source": [
    "def get_data(df_list, label_dict):\n",
    "    feature_cols = ['x','y','z']\n",
    "    count = 0\n",
    "    \n",
    "    y_all = []\n",
    "    ts_all = []\n",
    "    hr_all = []\n",
    "    \n",
    "    for x in label_dict:\n",
    "#         print(x)\n",
    "    \n",
    "        X_series = df_list[label_dict[x]][feature_cols]\n",
    "\n",
    "        X_ = X_series.values.reshape((len(X_series),3))\n",
    "        y_ = np.array([label_dict[x] for i in range(len(df_list[label_dict[x]]))])\n",
    "        ts_ = np.array(df_list[label_dict[x]]['timestamp'])\n",
    "        hr_ = np.array(df_list[label_dict[x]]['HR'])\n",
    "\n",
    "          # 'downstairs': 0,\n",
    "          # 'sit': 1,\n",
    "          # 'sleep': 2,\n",
    "          # 'stand': 3,\n",
    "            \n",
    "        y_all.append(y_)\n",
    "        ts_all.append(ts_)\n",
    "        hr_all.append(hr_)\n",
    "        \n",
    "        if(count==0):\n",
    "            X_all = X_\n",
    "            count += 1\n",
    "\n",
    "        else:\n",
    "            X_all = np.vstack((X_all, X_))\n",
    "\n",
    "    y_all = np.hstack(y_all)\n",
    "    ts_all = np.hstack(ts_all)\n",
    "    hr_all = np.hstack(hr_all)\n",
    "    \n",
    "    return np.array(X_all), np.array(y_all), np.array(ts_all), np.array(hr_all)"
   ]
  },
  {
   "cell_type": "code",
   "execution_count": 24,
   "metadata": {},
   "outputs": [],
   "source": [
    "def get_sorted_data(X_i, y_i, ts_i, hr_i, subj_i):\n",
    "    df_ = pd.DataFrame({\n",
    "        'ID': subj_i,\n",
    "        'timestamp': ts_i,\n",
    "        'x': [x[0] for x in X_i],\n",
    "        'y': [x[1] for x in X_i],\n",
    "        'z': [x[2] for x in X_i],\n",
    "        'HR': hr_i,\n",
    "        'label': y_i\n",
    "    })\n",
    "    \n",
    "    df_sorted = df_.sort_values(by=['timestamp'])\n",
    "    \n",
    "    cols = ['x','y','z']\n",
    "    X_i = df_sorted[cols].values.tolist()\n",
    "    y_i = df_sorted['label'].values.tolist()\n",
    "    ts_i = df_sorted['timestamp'].values.tolist()\n",
    "    hr_i = df_sorted['HR'].values.tolist()\n",
    "    subj_i = df_sorted['ID'].values.tolist()\n",
    "    \n",
    "    return X_i, y_i, ts_i, hr_i, subj_i"
   ]
  },
  {
   "cell_type": "markdown",
   "metadata": {},
   "source": [
    "# Function Call *"
   ]
  },
  {
   "cell_type": "code",
   "execution_count": 120,
   "metadata": {},
   "outputs": [],
   "source": [
    "def load_all_data(all_subjects):\n",
    "    \n",
    "    for subject_id in all_subjects:\n",
    "        print(\"Loading {0}'s data\".format(subject_id))\n",
    "\n",
    "        df_timer = load_timer(subject_id)\n",
    "        \n",
    "        start_time = df_timer.loc[0, 'time_start']\n",
    "        end_time = df_timer.loc[df_timer.shape[0]-1, 'time_end']\n",
    "        \n",
    "        df_filt = load_acc(subject_id, start_time, end_time)\n",
    "        df_hr = load_hr(subject_id, start_time, end_time)\n",
    "\n",
    "        df1 = merge_acc_and_hr(df_filt, df_hr)\n",
    "        ai1 = calc_ai(df1)\n",
    "\n",
    "        df1['AI'] = pd.Series(ai1)\n",
    "#         print(df1)\n",
    "\n",
    "        label_list = ['sit', 'sleep', 'stand', 'walk']\n",
    "        \n",
    "        # get a list of dataframe in which there are 4 types of activity\n",
    "        df_list = group_dataframe_by_label(df1, df_timer, subject_id, label_list)\n",
    "\n",
    "        print(df_list)"
   ]
  },
  {
   "cell_type": "code",
   "execution_count": null,
   "metadata": {},
   "outputs": [
    {
     "name": "stdout",
     "output_type": "stream",
     "text": [
      "Loading 1001's data\n",
      "sit\n",
      "sleep\n"
     ]
    }
   ],
   "source": [
    "load_all_data(all_subjects)"
   ]
  },
  {
   "cell_type": "code",
   "execution_count": null,
   "metadata": {},
   "outputs": [],
   "source": []
  }
 ],
 "metadata": {
  "kernelspec": {
   "display_name": "Python 3",
   "language": "python",
   "name": "python3"
  },
  "language_info": {
   "codemirror_mode": {
    "name": "ipython",
    "version": 3
   },
   "file_extension": ".py",
   "mimetype": "text/x-python",
   "name": "python",
   "nbconvert_exporter": "python",
   "pygments_lexer": "ipython3",
   "version": "3.7.3"
  }
 },
 "nbformat": 4,
 "nbformat_minor": 2
}
