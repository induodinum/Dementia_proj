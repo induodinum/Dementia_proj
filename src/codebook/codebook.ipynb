{
 "cells": [
  {
   "cell_type": "code",
   "execution_count": 6,
   "metadata": {},
   "outputs": [],
   "source": [
    "import math\n",
    "import os\n",
    "\n",
    "import pandas as pd\n",
    "import numpy as np\n",
    "import matplotlib.pyplot as plt\n",
    "\n",
    "from prettytable import PrettyTable\n",
    "from os import listdir\n",
    "from sklearn.metrics import f1_score\n",
    "from datetime import datetime\n",
    "\n",
    "from sklearn.preprocessing import MinMaxScaler\n",
    "from sklearn.cluster import KMeans"
   ]
  },
  {
   "cell_type": "code",
   "execution_count": 7,
   "metadata": {},
   "outputs": [],
   "source": [
    "os.chdir('/Users/Indy/Desktop/coding/Dementia_proj/src/ddc')"
   ]
  },
  {
   "cell_type": "code",
   "execution_count": 8,
   "metadata": {},
   "outputs": [],
   "source": [
    "%run preprocessing.ipynb"
   ]
  },
  {
   "cell_type": "code",
   "execution_count": 9,
   "metadata": {},
   "outputs": [],
   "source": [
    "mypath = '../../DDC_Data/raw/'\n",
    "basepath = '../../'"
   ]
  },
  {
   "cell_type": "markdown",
   "metadata": {},
   "source": [
    "# Get the Actual Timestamp Labels"
   ]
  },
  {
   "cell_type": "code",
   "execution_count": 10,
   "metadata": {},
   "outputs": [],
   "source": [
    "def load_timer(subject_id):\n",
    "    \n",
    "    sid_dir = mypath + subject_id\n",
    "    sid_files = [f for f in listdir(sid_dir) if 'history_amdtimer' in f]\n",
    "\n",
    "    sid_filepath = sid_dir + '/' + sid_files[0]\n",
    "\n",
    "    timer_df = pd.read_csv(sid_filepath, header=None, names=['sid','raw_label', 'timestamp', 'duration','label'])\n",
    "\n",
    "    filtered_timer = [i for i in timer_df['sid'] if i==int(subject_id)]\n",
    "\n",
    "    timer_filt = timer_df[timer_df['sid'].isin(filtered_timer)]\n",
    "    timer_filt = timer_filt.reset_index(drop=True)\n",
    "    \n",
    "    timer_label = []\n",
    "    \n",
    "    for i in range(len(timer_filt)):\n",
    "        if(timer_filt.loc[i]['raw_label']=='upstairs' or \n",
    "          timer_filt.loc[i]['raw_label']=='downstairs'):\n",
    "            timer_label.append('walk')\n",
    "        else:\n",
    "            timer_label.append(timer_filt.loc[i]['raw_label'])\n",
    "\n",
    "    timer_filt['label'] = pd.Series(timer_label)\n",
    "    \n",
    "    datetime_format = '%Y-%m-%d %H:%M:%S.%f'\n",
    "    timer_filt['time_start'] = timer_filt['timestamp'].apply(lambda x: datetime.strptime(x, datetime_format))\n",
    "    \n",
    "    time_format = '%H:%M:%S'\n",
    "    zero_date = datetime(1900, 1, 1)\n",
    "    \n",
    "    timer_filt['duration'] = timer_filt['duration'].apply(lambda x: datetime.strptime(x, time_format)-zero_date)\n",
    "    \n",
    "    for i in range(timer_filt.shape[0]):\n",
    "        timer_filt.loc[i, 'time_end'] = timer_filt.loc[i, 'time_start'] + timer_filt.loc[i, 'duration']\n",
    "\n",
    "#     print(timer_filt)\n",
    "    \n",
    "    return timer_filt"
   ]
  },
  {
   "cell_type": "markdown",
   "metadata": {},
   "source": [
    "# Load Data of the Subject"
   ]
  },
  {
   "cell_type": "code",
   "execution_count": 11,
   "metadata": {},
   "outputs": [],
   "source": [
    "def load_acc(subject_id, start_time, end_time):\n",
    "    # Load accelerations\n",
    "    acc_path = mypath + '/' + subject_id + '/' + subject_id + '-log_acc.csv'\n",
    "\n",
    "    df = pd.read_csv(acc_path, header=None, names=['x','y','z','timestamp'])\n",
    "    \n",
    "    datetime_format = '%Y-%m-%d %H:%M:%S.%f'\n",
    "    df['timestamp'] = df['timestamp'].apply(lambda x: datetime.strptime(x, datetime_format))\n",
    "\n",
    "    filtered = [r for r in df['timestamp'] if r>=start_time and r<=end_time]\n",
    "\n",
    "    df_filt = df[df['timestamp'].isin(filtered)]\n",
    "    df_filt = df_filt.reset_index(drop=True)\n",
    "\n",
    "    df_filt['ID'] = pd.Series([subject_id for i in range(len(df_filt))])\n",
    "    \n",
    "    cols = ['ID','timestamp','x','y','z']\n",
    "    df_filt = df_filt[cols]\n",
    "\n",
    "    return df_filt"
   ]
  },
  {
   "cell_type": "code",
   "execution_count": 12,
   "metadata": {},
   "outputs": [],
   "source": [
    "def load_hr(subject_id, start_time, end_time):\n",
    "    # Load heart rate\n",
    "    hr_filepath = mypath + '/' + subject_id + '/' + subject_id + '-log_hr.csv'\n",
    "\n",
    "    df2 = pd.read_csv(hr_filepath, header=None, names=['hr','timestamp'])\n",
    "    \n",
    "    datetime_format = '%Y-%m-%d %H:%M:%S.%f'\n",
    "    df2['timestamp'] = df2['timestamp'].apply(lambda x: datetime.strptime(x, datetime_format))\n",
    "\n",
    "    filtered = [r for r in df2['timestamp'] if r>=start_time and r<=end_time]\n",
    "\n",
    "    df_hr = df2[df2['timestamp'].isin(filtered)]\n",
    "    df_hr = df_hr.reset_index(drop=True)\n",
    "\n",
    "    cols = ['timestamp','hr']\n",
    "    df_hr = df_hr[cols]\n",
    "\n",
    "    return df_hr"
   ]
  },
  {
   "cell_type": "code",
   "execution_count": 13,
   "metadata": {},
   "outputs": [],
   "source": [
    "def merge_acc_and_hr(df_filt, df_hr):\n",
    "    # Fill in missing HRs\n",
    "    hr_cnt = 0\n",
    "\n",
    "    for i in range(len(df_filt)):\n",
    "        hr_time = df_hr.loc[hr_cnt,'timestamp']\n",
    "        filt_time = df_filt.loc[i,'timestamp']\n",
    "\n",
    "        if(hr_time<=filt_time):\n",
    "            if(hr_cnt<len(df_hr)-1):\n",
    "                hr_cnt += 1\n",
    "        df_filt.loc[i,'HR'] = df_hr.loc[hr_cnt,'hr']\n",
    "\n",
    "    # Normalize by dividing by g (standard gravity)\n",
    "    g = 9.8\n",
    "    df_filt.loc[:,'x'] = df_filt['x'].apply(lambda x: x/g)\n",
    "    df_filt.loc[:,'y'] = df_filt['y'].apply(lambda x: x/g)\n",
    "    df_filt.loc[:,'z'] = df_filt['z'].apply(lambda x: x/g)\n",
    "    \n",
    "    cols = ['x','y','z']\n",
    "    xyz_ = df_filt[cols].to_dict('split')['data']\n",
    "    xyz_new = MinMaxScaler().fit_transform(xyz_)\n",
    "\n",
    "    for i in range(len(cols)):\n",
    "        df_filt[cols[i]] = pd.Series(xyz_new.transpose()[i])\n",
    "        \n",
    "#     print(df_filt['x'])\n",
    "\n",
    "    return df_filt"
   ]
  },
  {
   "cell_type": "markdown",
   "metadata": {},
   "source": [
    "# Calculate Activity Index"
   ]
  },
  {
   "cell_type": "code",
   "execution_count": 14,
   "metadata": {},
   "outputs": [],
   "source": [
    "std_i_bar = [0.00349329,0.00465817,0.00543154]\n",
    "std_i_bar = np.array(std_i_bar)"
   ]
  },
  {
   "cell_type": "code",
   "execution_count": 15,
   "metadata": {},
   "outputs": [],
   "source": [
    "def equation_bai(X_i):\n",
    "    all_std = []\n",
    "    \n",
    "    std_i = np.std(X_i,axis=0)\n",
    "    diff_std = std_i**2 - std_i_bar**2\n",
    "    diff_std = (diff_std + 1) / (std_i_bar**2 + 1)\n",
    "    \n",
    "    diff_std_ = std_i**2\n",
    "\n",
    "    all_std.append(diff_std)\n",
    "    \n",
    "    all_std = np.array(all_std)\n",
    "    \n",
    "    ai = np.sum(all_std**2,axis=1)/3\n",
    "    ai[ai<0] = 0\n",
    "    ai = np.sqrt(ai)\n",
    "    \n",
    "    return ai"
   ]
  },
  {
   "cell_type": "code",
   "execution_count": 16,
   "metadata": {},
   "outputs": [],
   "source": [
    "def calc_ai(df1):\n",
    "    H = 10\n",
    "    ai1 = []\n",
    "\n",
    "    for i in range(len(df1)):\n",
    "        xyz_val = []\n",
    "        if(i-H>=0):\n",
    "            for j in range(H,0,-1):\n",
    "                xyz_val.append([df1.loc[i-j,'x'],df1.loc[i-j,'y'],df1.loc[i-j,'z']])\n",
    "            ai_val = float(equation_bai(xyz_val))\n",
    "            ai1.append(ai_val)\n",
    "        else:\n",
    "            ai1.append(1)\n",
    "\n",
    "    return ai1"
   ]
  },
  {
   "cell_type": "markdown",
   "metadata": {},
   "source": [
    "# Preprocess (PCA + impure)"
   ]
  },
  {
   "cell_type": "code",
   "execution_count": 17,
   "metadata": {},
   "outputs": [],
   "source": [
    "def preprocess_data(df_test, pca):\n",
    "    ts_list = []\n",
    "    g = 9.8\n",
    "\n",
    "    X_list = []\n",
    "    \n",
    "    for i in range(len(df_test)):\n",
    "        X_i = [df_test.loc[i]['x']/g, df_test.loc[i]['y']/g, df_test.loc[i]['z']/g]\n",
    "        X_list.append(X_i)\n",
    "        \n",
    "    X_stack = np.vstack(X_list)\n",
    "    X_norm = MinMaxScaler().fit_transform(X_stack)\n",
    "    X_pca = pca.transform(X_norm)\n",
    "\n",
    "    y_imp = [-1 for i in range(X_pca.shape[0])]\n",
    "    X_imp, y_imp = prepare_impure_label(X_pca, y_imp)\n",
    "    \n",
    "    return X_imp, y_imp"
   ]
  },
  {
   "cell_type": "markdown",
   "metadata": {},
   "source": [
    "# Predict"
   ]
  },
  {
   "cell_type": "code",
   "execution_count": 18,
   "metadata": {},
   "outputs": [],
   "source": [
    "%run classifier_algo.ipynb"
   ]
  },
  {
   "cell_type": "code",
   "execution_count": 19,
   "metadata": {},
   "outputs": [],
   "source": [
    "def predict_combine(X_imp, model, window_length=60):\n",
    "    \n",
    "    y_pred = model.predict(X_imp)\n",
    "    print(\"Finished prediction\")\n",
    "    \n",
    "#     y_pred = combine_2(X_imp, y_pred)\n",
    "#     y_pred_fill = np.hstack(([y_pred[0] for i in range(window_length-1)], y_pred))\n",
    "    \n",
    "#     print(X_imp.shape, y_pred_fill.shape)\n",
    "    \n",
    "    return y_pred"
   ]
  },
  {
   "cell_type": "markdown",
   "metadata": {},
   "source": [
    "# Group dataframe by label"
   ]
  },
  {
   "cell_type": "code",
   "execution_count": 20,
   "metadata": {},
   "outputs": [],
   "source": [
    "def group_dataframe_by_label(df1, df_timer, subject_id, label_list):\n",
    "    df_list = {}\n",
    "    period = {}\n",
    "    \n",
    "    for label in label_list:\n",
    "        df_list[label] = pd.DataFrame()\n",
    "        period[label] = []\n",
    "    \n",
    "    for label in label_list:\n",
    "#         print(label)\n",
    "        for i in range(df_timer.shape[0]):\n",
    "            start = 0\n",
    "            end = 0\n",
    "            \n",
    "            if(df_timer.loc[i, 'label']==label):\n",
    "                t_a = df_timer.loc[i, 'time_start']\n",
    "                t_b = df_timer.loc[i, 'time_end']\n",
    "\n",
    "                for j in range(df1.shape[0]):    \n",
    "                    if(df1.loc[j, 'ID']==subject_id):\n",
    "                        if(j>0 and df1.loc[j, 'timestamp']<=t_b and df1.loc[j-1, 'timestamp']<t_b):\n",
    "                            end = j\n",
    "\n",
    "                for j in reversed(range(df1.shape[0])):\n",
    "                    if(df1.loc[j, 'ID']==subject_id):\n",
    "                        if(j<df1.shape[0]-1 and df1.loc[j, 'timestamp']>=t_a and df1.loc[j+1, 'timestamp']>t_a):\n",
    "                            start = j\n",
    "\n",
    "                period[label].append([start, end])\n",
    "                \n",
    "                if(df_list[label].empty):\n",
    "#                     print('intiate')\n",
    "                    df_list[label] = df1.loc[start:end+1]\n",
    "                else:\n",
    "#                     print('append')\n",
    "                    df_list[label] = df_list[label].append(df1.loc[start:end+1], ignore_index=True)\n",
    "                    \n",
    "    for label in label_list:\n",
    "        df_list[label] = df_list[label].reset_index(drop=True)\n",
    "\n",
    "    return df_list, period"
   ]
  },
  {
   "cell_type": "markdown",
   "metadata": {},
   "source": [
    "# Prepare Predicted Labels"
   ]
  },
  {
   "cell_type": "code",
   "execution_count": 21,
   "metadata": {},
   "outputs": [],
   "source": [
    "def get_periods_from_list(y_pred, label_list):\n",
    "    \n",
    "    pred_periods = [[] for i in range(len(label_list))]\n",
    "\n",
    "    keep = 0\n",
    "\n",
    "    for i in range(len(y_pred)):\n",
    "        keep_lb = y_pred[keep]\n",
    "\n",
    "        if(keep_lb!=y_pred[i]):\n",
    "            \n",
    "            if(y_pred[i]!=None):\n",
    "                pred_periods[y_pred[i-1]].append([keep, i-1])               \n",
    "\n",
    "            keep = i\n",
    "\n",
    "        elif(i==len(y_pred)-1):\n",
    "\n",
    "            if(y_pred[i]!=None):\n",
    "                pred_periods[y_pred[i-1]].append([keep, i]) \n",
    "\n",
    "    pred_periods = np.array(pred_periods)\n",
    "    \n",
    "    return pred_periods"
   ]
  },
  {
   "cell_type": "markdown",
   "metadata": {},
   "source": [
    "### Unused"
   ]
  },
  {
   "cell_type": "code",
   "execution_count": 22,
   "metadata": {},
   "outputs": [],
   "source": [
    "def postprocess_predicted(pred_periods, y_length):\n",
    "    onesec = 1  # 1 sec.\n",
    "    T = 0.16    # T = 1/f\n",
    "\n",
    "    pp_periods = []\n",
    "    \n",
    "    for pp in pred_periods:\n",
    "        pp_i = pred_periods[pp]\n",
    "        \n",
    "        temp = []\n",
    "        for p in pp_i:\n",
    "            if(p[1]-p[0]>int(onesec*2*(1/T))):\n",
    "                temp.append([p[0],p[1]])\n",
    "                \n",
    "        pp_periods.append(temp)\n",
    "\n",
    "    pp_periods = np.array(pp_periods)\n",
    "    \n",
    "    other_label = -1\n",
    "    all_run = [other_label for i in range(y_length)]\n",
    "\n",
    "    for i in range(len(pp_periods)):\n",
    "        for p in pp_periods[i]:\n",
    "            for j in range(p[0],p[1]+1):\n",
    "                all_run[j] = i\n",
    "\n",
    "    for i in range(len(all_run)-1,0,-1):\n",
    "        if(all_run[i-1]==other_label):\n",
    "            all_run[i-1] = all_run[i]\n",
    "\n",
    "    return all_run"
   ]
  },
  {
   "cell_type": "markdown",
   "metadata": {},
   "source": [
    "# Get sequence from periods"
   ]
  },
  {
   "cell_type": "code",
   "execution_count": 23,
   "metadata": {},
   "outputs": [],
   "source": [
    "def sequence_from_periods(periods, label_list):\n",
    "    \n",
    "    max_length = 0\n",
    "    \n",
    "    for label in label_list:\n",
    "        if(len(periods[label])>0):\n",
    "            periods_i = np.hstack(periods[label])\n",
    "        \n",
    "            if(max_length<max(periods_i)):\n",
    "                max_length = max(periods_i)\n",
    "    \n",
    "    seq = ['' for i in range(max_length+1)]\n",
    "    \n",
    "    for label in label_list:\n",
    "        for element in periods[label]:\n",
    "            for i in range(element[0], element[1]+1):\n",
    "                seq[i] = label\n",
    "    \n",
    "    return seq, max_length"
   ]
  },
  {
   "cell_type": "markdown",
   "metadata": {},
   "source": [
    "# Evaluation"
   ]
  },
  {
   "cell_type": "code",
   "execution_count": 24,
   "metadata": {},
   "outputs": [],
   "source": [
    "def evaluate_period(p1, p2, max_length, label_list):\n",
    "    iou_all = []\n",
    "    \n",
    "    for lb in label_list:\n",
    "        p1_onehot = []\n",
    "        for i in range(max_length):\n",
    "            if(p1[i]==lb):\n",
    "                p1_onehot.append(1)\n",
    "            else:\n",
    "                p1_onehot.append(0)\n",
    "                \n",
    "        p2_onehot = []\n",
    "        for i in range(max_length):\n",
    "            if(p2[i]==lb):\n",
    "                p2_onehot.append(1)\n",
    "            else:\n",
    "                p2_onehot.append(0)\n",
    "                \n",
    "        intersection = 0\n",
    "        union = 0\n",
    "        \n",
    "        for i in range(max_length):\n",
    "            if(p1_onehot[i]==1 and p2_onehot[i]==1):\n",
    "                intersection += 1\n",
    "            if(p1_onehot[i]==1 or p2_onehot[i]==1):\n",
    "                union += 1\n",
    "                \n",
    "        iou_lb = intersection/union\n",
    "        \n",
    "        iou_all.append(iou_lb)\n",
    "        \n",
    "    return iou_all"
   ]
  },
  {
   "cell_type": "markdown",
   "metadata": {},
   "source": [
    "# Load all data"
   ]
  },
  {
   "cell_type": "code",
   "execution_count": 25,
   "metadata": {},
   "outputs": [],
   "source": [
    "def load_all_data(subject_id, label_list):\n",
    "    \n",
    "    print(\"Loading {0}'s data\".format(subject_id))\n",
    "\n",
    "    df_timer = load_timer(subject_id)\n",
    "    \n",
    "    start_time = df_timer.loc[0, 'time_start']\n",
    "    end_time = df_timer.loc[df_timer.shape[0]-1, 'time_end']\n",
    "\n",
    "    df_acc = load_acc(subject_id, start_time, end_time)\n",
    "    df_hr = load_hr(subject_id, start_time, end_time)\n",
    "\n",
    "    df1 = merge_acc_and_hr(df_acc, df_hr)\n",
    "    ai1 = calc_ai(df1)\n",
    "\n",
    "    df1['AI'] = pd.Series(ai1)\n",
    "    \n",
    "    df_acc_label, true_periods = group_dataframe_by_label(df1, df_timer, subject_id, label_list)\n",
    "    \n",
    "    return df_acc_label, true_periods"
   ]
  },
  {
   "cell_type": "code",
   "execution_count": 76,
   "metadata": {
    "scrolled": true
   },
   "outputs": [
    {
     "name": "stdout",
     "output_type": "stream",
     "text": [
      "['1001', '1002', '1003', '1004', '1005', '1006', '1007', '1008', '1009', '1010', '1011', '1012', '1013', '1014', '1015', '1016']\n",
      "{'sit': Empty DataFrame\n",
      "Columns: []\n",
      "Index: [], 'sleep': Empty DataFrame\n",
      "Columns: []\n",
      "Index: [], 'stand': Empty DataFrame\n",
      "Columns: []\n",
      "Index: [], 'walk': Empty DataFrame\n",
      "Columns: []\n",
      "Index: []}\n",
      "Loading 1001's data\n",
      "(376, 7)\n",
      "(381, 7)\n",
      "(556, 7)\n",
      "(863, 7)\n",
      "Loading 1002's data\n",
      "(750, 7)\n",
      "(751, 7)\n",
      "(1119, 7)\n",
      "(1577, 7)\n",
      "Loading 1003's data\n",
      "(1131, 7)\n",
      "(1120, 7)\n",
      "(1683, 7)\n",
      "(2297, 7)\n",
      "Loading 1004's data\n",
      "(1513, 7)\n",
      "(1307, 7)\n",
      "(2203, 7)\n",
      "(3042, 7)\n",
      "Loading 1005's data\n",
      "(1876, 7)\n",
      "(1695, 7)\n",
      "(2784, 7)\n",
      "(3710, 7)\n",
      "Loading 1006's data\n",
      "(2264, 7)\n",
      "(2088, 7)\n",
      "(3353, 7)\n",
      "(4437, 7)\n",
      "Loading 1007's data\n",
      "(2639, 7)\n",
      "(2464, 7)\n",
      "(3917, 7)\n",
      "(5151, 7)\n",
      "Loading 1008's data\n",
      "(3014, 7)\n",
      "(2840, 7)\n",
      "(4480, 7)\n",
      "(5902, 7)\n",
      "Loading 1009's data\n",
      "(3397, 7)\n",
      "(3216, 7)\n",
      "(5044, 7)\n",
      "(6798, 7)\n",
      "Loading 1010's data\n",
      "(3773, 7)\n",
      "(3599, 7)\n",
      "(5608, 7)\n",
      "(7506, 7)\n",
      "Loading 1011's data\n",
      "(4149, 7)\n",
      "(3975, 7)\n",
      "(6171, 7)\n",
      "(8370, 7)\n",
      "Loading 1012's data\n",
      "(4525, 7)\n",
      "(4351, 7)\n",
      "(6746, 7)\n",
      "(9048, 7)\n",
      "Loading 1013's data\n",
      "(4901, 7)\n",
      "(4727, 7)\n",
      "(7308, 7)\n",
      "(9955, 7)\n",
      "Loading 1014's data\n",
      "(5275, 7)\n",
      "(5107, 7)\n",
      "(7869, 7)\n",
      "(10807, 7)\n",
      "Loading 1015's data\n",
      "(5468, 7)\n",
      "(5282, 7)\n",
      "(7963, 7)\n",
      "(11009, 7)\n",
      "Loading 1016's data\n",
      "(5843, 7)\n",
      "(5663, 7)\n",
      "(8526, 7)\n",
      "(11320, 7)\n",
      "finished loading\n"
     ]
    }
   ],
   "source": [
    "all_subjects = [range(1001, 1017)]  # , range(3001, 3006)]\n",
    "all_subjects = np.hstack(all_subjects)\n",
    "all_subjects = [str(i) for i in all_subjects]\n",
    "print(all_subjects)\n",
    "\n",
    "label_list = ['sit', 'sleep', 'stand', 'walk']\n",
    "\n",
    "df_all_label = {}\n",
    "for label in label_list:\n",
    "    df_all_label[label] = pd.DataFrame()\n",
    "# print(df_all_label)\n",
    "\n",
    "for subject_id in all_subjects:\n",
    "    df_label, true_periods = load_all_data(subject_id, label_list)\n",
    "    \n",
    "    for label in label_list:\n",
    "        \n",
    "        if(df_all_label[label].empty):\n",
    "            df_all_label[label] = df_label[label]\n",
    "        else:\n",
    "            df_all_label[label] = df_all_label[label].append(df_label[label], ignore_index=True)\n",
    "            \n",
    "        print(df_all_label[label].shape)\n",
    "            \n",
    "print('finished loading')"
   ]
  },
  {
   "cell_type": "markdown",
   "metadata": {},
   "source": [
    "# Slice dataframe to get all sequences"
   ]
  },
  {
   "cell_type": "code",
   "execution_count": 28,
   "metadata": {},
   "outputs": [],
   "source": [
    "def slice_dataframe(df, sequence_length=60):\n",
    "    df_list = []\n",
    "    \n",
    "    cols = ['x', 'y', 'z']\n",
    "    for i in range(0, df.shape[0]-sequence_length, sequence_length):\n",
    "        df_sequence = df.loc[i:i+sequence_length-1][cols]\n",
    "        \n",
    "        df_list.append(df_sequence.to_dict(orient='split')['data'])\n",
    "        \n",
    "    return np.array(df_list)"
   ]
  },
  {
   "cell_type": "code",
   "execution_count": 29,
   "metadata": {},
   "outputs": [],
   "source": [
    "def get_df_sliced(df_all_label, label_list):\n",
    "    df_sliced = {}\n",
    "    slice_label = []\n",
    "\n",
    "    for label in label_list:\n",
    "        df_sliced[label] = slice_dataframe(df_all_label[label])\n",
    "        slice_label.append([label for i in range(df_sliced[label].shape[0])])\n",
    "    \n",
    "    slice_label = np.hstack(slice_label)\n",
    "        \n",
    "    return df_sliced, np.array(slice_label)"
   ]
  },
  {
   "cell_type": "markdown",
   "metadata": {},
   "source": [
    "# Get subsequences from all sequences"
   ]
  },
  {
   "cell_type": "code",
   "execution_count": 32,
   "metadata": {},
   "outputs": [],
   "source": [
    "def get_subseq_for_each_axis(df_sliced, label_list, w=24):\n",
    "    all_subseq = []\n",
    "    for label in label_list:\n",
    "        for slice_lbl in df_sliced[label]:\n",
    "            for i in range(slice_lbl.shape[0]-w+1):\n",
    "                all_subseq.append(slice_lbl[i:i+w])\n",
    "            \n",
    "    all_subseq = np.array(all_subseq)\n",
    "\n",
    "    subseq_axes = {}\n",
    "    axes = ['x', 'y', 'z']\n",
    "    for ax in axes:\n",
    "        subseq_axes[ax] = []\n",
    "\n",
    "    for subseq_i in all_subseq:\n",
    "        for i, ax in enumerate(axes):\n",
    "            subseq_axes[ax].append(np.transpose(subseq_i)[i])\n",
    "    \n",
    "    for ax in axes:\n",
    "        subseq_axes[ax] = np.array(subseq_axes[ax])\n",
    "    \n",
    "    return subseq_axes"
   ]
  },
  {
   "cell_type": "markdown",
   "metadata": {},
   "source": [
    "# Create histogram for each sequence"
   ]
  },
  {
   "cell_type": "code",
   "execution_count": 35,
   "metadata": {},
   "outputs": [],
   "source": [
    "def get_cluster_centers(subsequence_i):\n",
    "    kmeans = KMeans(n_clusters=128, random_state=42).fit(subsequence_i)\n",
    "    cluster_centers = kmeans.cluster_centers_\n",
    "    \n",
    "    return cluster_centers"
   ]
  },
  {
   "cell_type": "code",
   "execution_count": 37,
   "metadata": {},
   "outputs": [],
   "source": [
    "def normalize(v):\n",
    "    return v / np.linalg.norm(v) if np.linalg.norm(v)!=0 else v"
   ]
  },
  {
   "cell_type": "code",
   "execution_count": 38,
   "metadata": {},
   "outputs": [],
   "source": [
    "def most_similar_codeword_idx(segment_i, all_codewords):\n",
    "    min_dist = math.inf\n",
    "    codeword_idx = 0\n",
    "    for i, codeword_i in enumerate(all_codewords):\n",
    "        dist_i = np.linalg.norm(codeword_i-segment_i)\n",
    "        if(dist_i<min_dist):\n",
    "            min_dist = dist_i\n",
    "            codeword_idx = i\n",
    "            \n",
    "    return codeword_idx"
   ]
  },
  {
   "cell_type": "code",
   "execution_count": 44,
   "metadata": {},
   "outputs": [],
   "source": [
    "def get_histogram(all_sequences, all_codewords, w=24):\n",
    "    axes = ['x', 'y', 'z']\n",
    "    \n",
    "    blank_histogram = [0 for i in range(len(all_codewords['x']))]\n",
    "    all_histograms = {}\n",
    "    for ax in axes:\n",
    "        all_histograms[ax] = []\n",
    "    \n",
    "    for a, ax in enumerate(axes):\n",
    "        print(ax)\n",
    "        for sequence_i in all_sequences:\n",
    "            temp_histogram = blank_histogram\n",
    "\n",
    "            for i in range(sequence_i.shape[0]-w+1):\n",
    "                sequence_ax = np.transpose(sequence_i)[a]\n",
    "                histogram_idx = most_similar_codeword_idx(sequence_ax[i:i+w], all_codewords[ax])\n",
    "                temp_histogram[histogram_idx] += 1\n",
    "        \n",
    "            normalized_hist = normalize(temp_histogram)\n",
    "            all_histograms[ax].append(normalized_hist)\n",
    "    \n",
    "    return all_histograms"
   ]
  },
  {
   "cell_type": "code",
   "execution_count": 48,
   "metadata": {},
   "outputs": [],
   "source": [
    "def get_features(df_all_label, label_list):\n",
    "    axes = ['x', 'y', 'z']\n",
    "\n",
    "    df_sliced, all_labels = get_df_sliced(df_all_label, label_list)\n",
    "\n",
    "    all_sequences = np.vstack([df_sliced[label] for label in label_list])\n",
    "    all_subseq = get_subseq_for_each_axis(df_sliced, label_list)\n",
    "\n",
    "    all_codewords = {}\n",
    "\n",
    "    for ax in axes:\n",
    "        print(ax)\n",
    "        all_codewords[ax] = get_cluster_centers(all_subseq[ax])\n",
    "\n",
    "    all_histograms = get_histogram(all_sequences, all_codewords)\n",
    "\n",
    "    all_features = [[] for i in range(len(all_histograms['x']))]\n",
    "\n",
    "    for ax in axes:\n",
    "        for i, hist in enumerate(all_histograms[ax]):\n",
    "            all_features[i].append(hist)\n",
    "\n",
    "    for i in range(len(all_features)):\n",
    "        all_features[i] = [item for sublist in all_features[i] for item in sublist]\n",
    "\n",
    "    print(len(all_labels))\n",
    "    print(len(all_features))\n",
    "    print(len(all_features[0]))\n",
    "    \n",
    "    return all_features, all_labels, all_codewords"
   ]
  },
  {
   "cell_type": "code",
   "execution_count": 77,
   "metadata": {},
   "outputs": [
    {
     "name": "stdout",
     "output_type": "stream",
     "text": [
      "x\n",
      "y\n",
      "z\n",
      "x\n",
      "y\n",
      "z\n",
      "521\n",
      "521\n",
      "384\n"
     ]
    }
   ],
   "source": [
    "all_features, all_labels, all_codewords = get_features(df_all_label, label_list)"
   ]
  },
  {
   "cell_type": "markdown",
   "metadata": {},
   "source": [
    "# Create a model using SVM"
   ]
  },
  {
   "cell_type": "code",
   "execution_count": 78,
   "metadata": {},
   "outputs": [],
   "source": [
    "X_train, X_test, y_train, y_test = train_test_split(all_features, all_labels, test_size=0.1, random_state=42)"
   ]
  },
  {
   "cell_type": "code",
   "execution_count": 79,
   "metadata": {},
   "outputs": [
    {
     "name": "stdout",
     "output_type": "stream",
     "text": [
      "468 53\n",
      "468 53\n"
     ]
    }
   ],
   "source": [
    "print(len(X_train), len(X_test))\n",
    "print(len(y_train), len(y_test))"
   ]
  },
  {
   "cell_type": "code",
   "execution_count": 80,
   "metadata": {},
   "outputs": [
    {
     "name": "stdout",
     "output_type": "stream",
     "text": [
      "Finished training\n"
     ]
    }
   ],
   "source": [
    "svm_model = svm_classifier(X_train, y_train)\n",
    "print(\"Finished training\")"
   ]
  },
  {
   "cell_type": "code",
   "execution_count": 81,
   "metadata": {},
   "outputs": [],
   "source": [
    "y_pred = svm_model.predict(X_test)"
   ]
  },
  {
   "cell_type": "code",
   "execution_count": 82,
   "metadata": {},
   "outputs": [],
   "source": [
    "%run eval_score.ipynb"
   ]
  },
  {
   "cell_type": "code",
   "execution_count": 83,
   "metadata": {
    "scrolled": true
   },
   "outputs": [
    {
     "name": "stdout",
     "output_type": "stream",
     "text": [
      "0.9245283018867925\n"
     ]
    },
    {
     "data": {
      "image/png": "[encoded data removed]",
      "text/plain": [
       "<Figure size 432x288 with 2 Axes>"
      ]
     },
     "metadata": {
      "needs_background": "light"
     },
     "output_type": "display_data"
    },
    {
     "data": {
      "image/png": "[encoded data removed]",
      "text/plain": [
       "<Figure size 432x288 with 2 Axes>"
      ]
     },
     "metadata": {
      "needs_background": "light"
     },
     "output_type": "display_data"
    },
    {
     "name": "stdout",
     "output_type": "stream",
     "text": [
      "              precision    recall  f1-score   support\n",
      "\n",
      "         sit       1.00      0.75      0.86        12\n",
      "       sleep       0.81      1.00      0.90        13\n",
      "       stand       1.00      0.91      0.95        11\n",
      "        walk       0.94      1.00      0.97        17\n",
      "\n",
      "   micro avg       0.92      0.92      0.92        53\n",
      "   macro avg       0.94      0.91      0.92        53\n",
      "weighted avg       0.94      0.92      0.92        53\n",
      "\n"
     ]
    }
   ],
   "source": [
    "acc = accuracy_score(y_test, y_pred)\n",
    "print(acc)\n",
    "\n",
    "show_conf_matrix(y_test, y_pred, label_list)\n",
    "show_clf_report(y_test, y_pred, label_list)"
   ]
  },
  {
   "cell_type": "markdown",
   "metadata": {},
   "source": [
    "# Test with unseen data"
   ]
  },
  {
   "cell_type": "code",
   "execution_count": 84,
   "metadata": {},
   "outputs": [
    {
     "name": "stdout",
     "output_type": "stream",
     "text": [
      "Loading 1017's data\n",
      "(1800, 7)\n",
      "(1375, 7)\n",
      "(1985, 7)\n",
      "(2939, 7)\n",
      "Loading 1018's data\n",
      "(2112, 7)\n",
      "(1499, 7)\n",
      "(2186, 7)\n",
      "(3158, 7)\n",
      "finished loading\n"
     ]
    }
   ],
   "source": [
    "unseen_subjects = ['1017', '1018']\n",
    "for subject_i in unseen_subjects:\n",
    "    df_unseen_i, periods_unseen = load_all_data(subject_i, label_list)\n",
    "    \n",
    "    for label in label_list:\n",
    "        \n",
    "        if(df_all_unseen[label].empty):\n",
    "            df_all_unseen[label] = df_unseen_i[label]\n",
    "        else:\n",
    "            df_all_unseen[label] = df_all_unseen[label].append(df_unseen_i[label], ignore_index=True)\n",
    "            \n",
    "        print(df_all_unseen[label].shape)\n",
    "            \n",
    "print('finished loading')"
   ]
  },
  {
   "cell_type": "code",
   "execution_count": 85,
   "metadata": {},
   "outputs": [],
   "source": [
    "def get_features_unseen(df_all_label, label_list, all_codewords):\n",
    "    axes = ['x', 'y', 'z']\n",
    "\n",
    "    df_sliced, all_labels = get_df_sliced(df_all_label, label_list)\n",
    "\n",
    "    all_sequences = np.vstack([df_sliced[label] for label in label_list])\n",
    "#     all_subseq = get_subseq_for_each_axis(df_sliced, label_list)\n",
    "\n",
    "#     all_codewords = {}\n",
    "\n",
    "#     for ax in axes:\n",
    "#         print(ax)\n",
    "#         all_codewords[ax] = get_cluster_centers(all_subseq[ax])\n",
    "\n",
    "    all_histograms = get_histogram(all_sequences, all_codewords)\n",
    "\n",
    "    all_features = [[] for i in range(len(all_histograms['x']))]\n",
    "\n",
    "    for ax in axes:\n",
    "        for i, hist in enumerate(all_histograms[ax]):\n",
    "            all_features[i].append(hist)\n",
    "\n",
    "    for i in range(len(all_features)):\n",
    "        all_features[i] = [item for sublist in all_features[i] for item in sublist]\n",
    "\n",
    "    print(len(all_labels))\n",
    "    print(len(all_features))\n",
    "    print(len(all_features[0]))\n",
    "    \n",
    "    return all_features, all_labels, all_codewords"
   ]
  },
  {
   "cell_type": "code",
   "execution_count": 86,
   "metadata": {},
   "outputs": [
    {
     "name": "stdout",
     "output_type": "stream",
     "text": [
      "x\n",
      "y\n",
      "z\n",
      "147\n",
      "147\n",
      "384\n"
     ]
    }
   ],
   "source": [
    "all_features_unseen, all_labels_unseen, all_codewords = get_features_unseen(df_all_unseen, label_list, all_codewords)"
   ]
  },
  {
   "cell_type": "code",
   "execution_count": 87,
   "metadata": {},
   "outputs": [],
   "source": [
    "y_pred_unseen = svm_model.predict(all_features_unseen)"
   ]
  },
  {
   "cell_type": "code",
   "execution_count": 88,
   "metadata": {},
   "outputs": [
    {
     "name": "stdout",
     "output_type": "stream",
     "text": [
      "0.673469387755102\n"
     ]
    },
    {
     "data": {
      "image/png": "[encoded data removed]",
      "text/plain": [
       "<Figure size 432x288 with 2 Axes>"
      ]
     },
     "metadata": {
      "needs_background": "light"
     },
     "output_type": "display_data"
    },
    {
     "data": {
      "image/png": "[encoded data removed]",
      "text/plain": [
       "<Figure size 432x288 with 2 Axes>"
      ]
     },
     "metadata": {
      "needs_background": "light"
     },
     "output_type": "display_data"
    },
    {
     "name": "stdout",
     "output_type": "stream",
     "text": [
      "              precision    recall  f1-score   support\n",
      "\n",
      "         sit       0.70      1.00      0.82        35\n",
      "       sleep       0.00      0.00      0.00        24\n",
      "       stand       0.57      0.33      0.42        36\n",
      "        walk       0.87      1.00      0.93        52\n",
      "\n",
      "   micro avg       0.67      0.67      0.67       147\n",
      "   macro avg       0.53      0.58      0.54       147\n",
      "weighted avg       0.61      0.67      0.63       147\n",
      "\n"
     ]
    }
   ],
   "source": [
    "acc = accuracy_score(all_labels_unseen, y_pred_unseen)\n",
    "print(acc)\n",
    "\n",
    "show_conf_matrix(all_labels_unseen, y_pred_unseen, label_list)\n",
    "show_clf_report(all_labels_unseen, y_pred_unseen, label_list)"
   ]
  },
  {
   "cell_type": "markdown",
   "metadata": {},
   "source": [
    "# To be deleted"
   ]
  },
  {
   "cell_type": "code",
   "execution_count": null,
   "metadata": {},
   "outputs": [],
   "source": [
    "#     X_impure, y_impure = preprocess_data(df_acc, pca)\n",
    "#     y_pred = predict_combine(X_impure, model)\n",
    "#     p_periods = get_periods_from_list(y_pred, label_list)\n",
    "#     pred_periods = {}\n",
    "\n",
    "#     for i in range(len(label_list)):\n",
    "#         pred_periods[label_list[i]] = p_periods[i]\n",
    "    \n",
    "#     pp_all = postprocess_predicted(pred_periods, len(y_pred))\n",
    "    \n",
    "#     p_true, len_true = sequence_from_periods(true_periods, label_list)\n",
    "#     p_pred, len_pred = sequence_from_periods(pred_periods, label_list)\n",
    "    \n",
    "#     iou = evaluate_period(p_true, p_pred, len_pred, label_list)\n",
    "    \n",
    "#     print('label:', label_list)\n",
    "#     print('iou:', iou)"
   ]
  }
 ],
 "metadata": {
  "kernelspec": {
   "display_name": "Python 3",
   "language": "python",
   "name": "python3"
  },
  "language_info": {
   "codemirror_mode": {
    "name": "ipython",
    "version": 3
   },
   "file_extension": ".py",
   "mimetype": "text/x-python",
   "name": "python",
   "nbconvert_exporter": "python",
   "pygments_lexer": "ipython3",
   "version": "3.7.3"
  }
 },
 "nbformat": 4,
 "nbformat_minor": 2
}
