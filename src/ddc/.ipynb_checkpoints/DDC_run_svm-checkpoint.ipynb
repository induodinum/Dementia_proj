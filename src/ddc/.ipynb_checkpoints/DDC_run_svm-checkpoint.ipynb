{
 "cells": [
  {
   "cell_type": "markdown",
   "metadata": {
    "colab_type": "text",
    "id": "M7KG93zTnlu0"
   },
   "source": [
    "# Import Core Libraries"
   ]
  },
  {
   "cell_type": "code",
   "execution_count": 1,
   "metadata": {
    "colab": {},
    "colab_type": "code",
    "id": "4AvIBQQQMGyA"
   },
   "outputs": [],
   "source": [
    "import numpy as np\n",
    "import pandas as pd\n",
    "import matplotlib.pyplot as plt\n",
    "import os\n",
    "import math\n",
    "import pickle\n",
    "\n",
    "from os import listdir, walk\n",
    "from os.path import isfile, join"
   ]
  },
  {
   "cell_type": "markdown",
   "metadata": {
    "colab_type": "text",
    "id": "Im12HZ4kMGyQ"
   },
   "source": [
    "# Load Dataset"
   ]
  },
  {
   "cell_type": "code",
   "execution_count": null,
   "metadata": {
    "scrolled": true
   },
   "outputs": [],
   "source": [
    "%run load_dataset.ipynb"
   ]
  },
  {
   "cell_type": "code",
   "execution_count": null,
   "metadata": {},
   "outputs": [],
   "source": [
    "all_subjects = ['1001','1002','1003','1004','1005','1006','1007','1008','1009','1010','1011','1012','1013','1014',]"
   ]
  },
  {
   "cell_type": "code",
   "execution_count": null,
   "metadata": {
    "scrolled": true
   },
   "outputs": [],
   "source": [
    "X_all, y_all, subj_all, ts_all, hr_all = load_all_data(all_subjects)"
   ]
  },
  {
   "cell_type": "markdown",
   "metadata": {
    "colab_type": "text",
    "id": "wyuXI7owzjG4"
   },
   "source": [
    "# Data Preprocessing"
   ]
  },
  {
   "cell_type": "code",
   "execution_count": null,
   "metadata": {},
   "outputs": [],
   "source": [
    "%run preprocessing.ipynb\n",
    "# includes wavelet denoising, normalization, PCA, LDA, SVD, etc."
   ]
  },
  {
   "cell_type": "code",
   "execution_count": null,
   "metadata": {},
   "outputs": [],
   "source": [
    "print(X_all.shape, y_all.shape)"
   ]
  },
  {
   "cell_type": "code",
   "execution_count": null,
   "metadata": {},
   "outputs": [],
   "source": [
    "X_all"
   ]
  },
  {
   "cell_type": "markdown",
   "metadata": {
    "colab_type": "text",
    "id": "5ac3q3J-hXiY"
   },
   "source": [
    "# Group Data by Label and Normalize Data"
   ]
  },
  {
   "cell_type": "code",
   "execution_count": null,
   "metadata": {},
   "outputs": [],
   "source": [
    "print(label_list)\n",
    "print(label_dict)"
   ]
  },
  {
   "cell_type": "code",
   "execution_count": null,
   "metadata": {
    "scrolled": false
   },
   "outputs": [],
   "source": [
    "new_label_list = [0,1,2,3]\n",
    "new_label_dict = {\n",
    "    0: 'sit',\n",
    "    1: 'sleep',\n",
    "    2: 'stand',\n",
    "    3: 'walk'\n",
    "}\n",
    "\n",
    "colors = ['r','g','b','navy','turquoise','darkorange']"
   ]
  },
  {
   "cell_type": "markdown",
   "metadata": {},
   "source": [
    "## Show Plot for each Activity and Subject"
   ]
  },
  {
   "cell_type": "code",
   "execution_count": null,
   "metadata": {},
   "outputs": [],
   "source": [
    "# group X_all and y_all from load_dataset.ipynb by labels\n",
    "#X_label, y_label = label_grouping(X_all, y_all, subj_all, new_label_list)\n",
    "\n",
    "# normalize X_label\n",
    "#X_norm = normalize_data(X_label)"
   ]
  },
  {
   "cell_type": "code",
   "execution_count": null,
   "metadata": {
    "scrolled": true
   },
   "outputs": [],
   "source": [
    "#plot_all_label(X_label, y_all, new_label_list, new_label_dict)"
   ]
  },
  {
   "cell_type": "markdown",
   "metadata": {},
   "source": [
    "# Calculate Roll, Pitch, Yaw"
   ]
  },
  {
   "cell_type": "code",
   "execution_count": null,
   "metadata": {},
   "outputs": [],
   "source": [
    "# roll, pitch, yaw = calc_rpy(X_all, colors)\n",
    "# rpy = np.array([roll, pitch, yaw]).transpose()\n",
    "\n",
    "# print(rpy.shape)"
   ]
  },
  {
   "cell_type": "markdown",
   "metadata": {},
   "source": [
    "# Apply PCA"
   ]
  },
  {
   "cell_type": "code",
   "execution_count": null,
   "metadata": {
    "scrolled": true
   },
   "outputs": [],
   "source": [
    "# apply PCA and LDA to X_norm and rpy\n",
    "# X_pca, pca = apply_pca(X_all, y_all, label_list)\n",
    "# rpy_pca, pca_rpy = apply_pca(rpy, y_all, label_list)"
   ]
  },
  {
   "cell_type": "markdown",
   "metadata": {},
   "source": [
    "# Reshape Data (Pure Label)"
   ]
  },
  {
   "cell_type": "code",
   "execution_count": null,
   "metadata": {},
   "outputs": [],
   "source": [
    "# get label-separated X and y\n",
    "X_svm, y_svm = prepare_pure_label(X_all, y_all, subj_all, all_subjects, new_label_list)\n",
    "y_svm = y_svm.reshape((y_svm.shape[0],))"
   ]
  },
  {
   "cell_type": "code",
   "execution_count": null,
   "metadata": {},
   "outputs": [],
   "source": [
    "print(X_svm.shape, y_svm.shape)"
   ]
  },
  {
   "cell_type": "markdown",
   "metadata": {},
   "source": [
    "# Reshape Data (Impure Label)"
   ]
  },
  {
   "cell_type": "code",
   "execution_count": null,
   "metadata": {},
   "outputs": [],
   "source": [
    "X_impure, y_impure = prepare_impure_label(X_all, y_all)\n",
    "y_impure = y_impure.reshape((y_impure.shape[0],))"
   ]
  },
  {
   "cell_type": "code",
   "execution_count": null,
   "metadata": {},
   "outputs": [],
   "source": [
    "print(X_impure.shape, y_impure.shape)"
   ]
  },
  {
   "cell_type": "markdown",
   "metadata": {},
   "source": [
    "# Split Train and Test Set"
   ]
  },
  {
   "cell_type": "code",
   "execution_count": null,
   "metadata": {},
   "outputs": [],
   "source": [
    "# Split training data and testing data\n",
    "X_train, X_test, y_train, y_test = train_test_split(X_svm, y_svm, test_size=0.2, random_state=42)\n",
    "\n",
    "X_tr, X_te, y_tr, y_te = train_test_split(X_impure, y_impure, test_size=0.2, random_state=42)\n",
    "\n",
    "print(X_tr.shape)\n",
    "print(X_te.shape)"
   ]
  },
  {
   "cell_type": "code",
   "execution_count": 38,
   "metadata": {},
   "outputs": [
    {
     "name": "stdout",
     "output_type": "stream",
     "text": [
      "(22926, 180)\n",
      "(5732, 180)\n"
     ]
    }
   ],
   "source": [
    "print(X_train.shape)\n",
    "print(X_test.shape)"
   ]
  },
  {
   "cell_type": "markdown",
   "metadata": {},
   "source": [
    "# SVM"
   ]
  },
  {
   "cell_type": "code",
   "execution_count": null,
   "metadata": {
    "scrolled": true
   },
   "outputs": [],
   "source": [
    "svm_model = svm_classifier(X_train, y_train)\n",
    "print(\"Finished training\")"
   ]
  },
  {
   "cell_type": "code",
   "execution_count": 21,
   "metadata": {},
   "outputs": [],
   "source": [
    "filename = '../../model/svm_model.pkl'\n",
    "pickle.dump(svm_model, open(filename, 'wb'))"
   ]
  },
  {
   "cell_type": "code",
   "execution_count": 22,
   "metadata": {},
   "outputs": [],
   "source": [
    "y_pred_svm = svm_model.predict(X_test)"
   ]
  },
  {
   "cell_type": "code",
   "execution_count": null,
   "metadata": {},
   "outputs": [],
   "source": [
    "print(X_train.shape, X_tr.shape)\n",
    "print(y_train.shape, y_tr.shape)"
   ]
  },
  {
   "cell_type": "code",
   "execution_count": 35,
   "metadata": {},
   "outputs": [
    {
     "ename": "ValueError",
     "evalue": "bad input shape (23070, 60)",
     "output_type": "error",
     "traceback": [
      "\u001b[0;31m---------------------------------------------------------------------------\u001b[0m",
      "\u001b[0;31mValueError\u001b[0m                                Traceback (most recent call last)",
      "\u001b[0;32m<ipython-input-35-85446df1f24a>\u001b[0m in \u001b[0;36m<module>\u001b[0;34m\u001b[0m\n\u001b[0;32m----> 1\u001b[0;31m \u001b[0msvm_model_2\u001b[0m \u001b[0;34m=\u001b[0m \u001b[0msvm_classifier\u001b[0m\u001b[0;34m(\u001b[0m\u001b[0mX_tr\u001b[0m\u001b[0;34m,\u001b[0m \u001b[0my_tr\u001b[0m\u001b[0;34m)\u001b[0m\u001b[0;34m\u001b[0m\u001b[0;34m\u001b[0m\u001b[0m\n\u001b[0m\u001b[1;32m      2\u001b[0m \u001b[0mprint\u001b[0m\u001b[0;34m(\u001b[0m\u001b[0;34m\"Finished training\"\u001b[0m\u001b[0;34m)\u001b[0m\u001b[0;34m\u001b[0m\u001b[0;34m\u001b[0m\u001b[0m\n",
      "\u001b[0;32m<ipython-input-29-c641e40c2981>\u001b[0m in \u001b[0;36msvm_classifier\u001b[0;34m(X, y)\u001b[0m\n\u001b[1;32m      1\u001b[0m \u001b[0;32mdef\u001b[0m \u001b[0msvm_classifier\u001b[0m\u001b[0;34m(\u001b[0m\u001b[0mX\u001b[0m\u001b[0;34m,\u001b[0m \u001b[0my\u001b[0m\u001b[0;34m)\u001b[0m\u001b[0;34m:\u001b[0m\u001b[0;34m\u001b[0m\u001b[0;34m\u001b[0m\u001b[0m\n\u001b[1;32m      2\u001b[0m     \u001b[0mclf\u001b[0m \u001b[0;34m=\u001b[0m \u001b[0mSVC\u001b[0m\u001b[0;34m(\u001b[0m\u001b[0mkernel\u001b[0m\u001b[0;34m=\u001b[0m\u001b[0;34m'rbf'\u001b[0m\u001b[0;34m,\u001b[0m \u001b[0mdecision_function_shape\u001b[0m\u001b[0;34m=\u001b[0m\u001b[0;34m'ovr'\u001b[0m\u001b[0;34m,\u001b[0m \u001b[0mgamma\u001b[0m\u001b[0;34m=\u001b[0m\u001b[0;34m'auto'\u001b[0m\u001b[0;34m)\u001b[0m\u001b[0;34m\u001b[0m\u001b[0;34m\u001b[0m\u001b[0m\n\u001b[0;32m----> 3\u001b[0;31m     \u001b[0mclf\u001b[0m\u001b[0;34m.\u001b[0m\u001b[0mfit\u001b[0m\u001b[0;34m(\u001b[0m\u001b[0mX\u001b[0m\u001b[0;34m,\u001b[0m \u001b[0my\u001b[0m\u001b[0;34m)\u001b[0m\u001b[0;34m\u001b[0m\u001b[0;34m\u001b[0m\u001b[0m\n\u001b[0m\u001b[1;32m      4\u001b[0m \u001b[0;34m\u001b[0m\u001b[0m\n\u001b[1;32m      5\u001b[0m     \u001b[0;32mreturn\u001b[0m \u001b[0mclf\u001b[0m\u001b[0;34m\u001b[0m\u001b[0;34m\u001b[0m\u001b[0m\n",
      "\u001b[0;32m/anaconda3/lib/python3.7/site-packages/sklearn/svm/base.py\u001b[0m in \u001b[0;36mfit\u001b[0;34m(self, X, y, sample_weight)\u001b[0m\n\u001b[1;32m    147\u001b[0m         X, y = check_X_y(X, y, dtype=np.float64,\n\u001b[1;32m    148\u001b[0m                          \u001b[0morder\u001b[0m\u001b[0;34m=\u001b[0m\u001b[0;34m'C'\u001b[0m\u001b[0;34m,\u001b[0m \u001b[0maccept_sparse\u001b[0m\u001b[0;34m=\u001b[0m\u001b[0;34m'csr'\u001b[0m\u001b[0;34m,\u001b[0m\u001b[0;34m\u001b[0m\u001b[0;34m\u001b[0m\u001b[0m\n\u001b[0;32m--> 149\u001b[0;31m                          accept_large_sparse=False)\n\u001b[0m\u001b[1;32m    150\u001b[0m         \u001b[0my\u001b[0m \u001b[0;34m=\u001b[0m \u001b[0mself\u001b[0m\u001b[0;34m.\u001b[0m\u001b[0m_validate_targets\u001b[0m\u001b[0;34m(\u001b[0m\u001b[0my\u001b[0m\u001b[0;34m)\u001b[0m\u001b[0;34m\u001b[0m\u001b[0;34m\u001b[0m\u001b[0m\n\u001b[1;32m    151\u001b[0m \u001b[0;34m\u001b[0m\u001b[0m\n",
      "\u001b[0;32m/anaconda3/lib/python3.7/site-packages/sklearn/utils/validation.py\u001b[0m in \u001b[0;36mcheck_X_y\u001b[0;34m(X, y, accept_sparse, accept_large_sparse, dtype, order, copy, force_all_finite, ensure_2d, allow_nd, multi_output, ensure_min_samples, ensure_min_features, y_numeric, warn_on_dtype, estimator)\u001b[0m\n\u001b[1;32m    759\u001b[0m                         dtype=None)\n\u001b[1;32m    760\u001b[0m     \u001b[0;32melse\u001b[0m\u001b[0;34m:\u001b[0m\u001b[0;34m\u001b[0m\u001b[0;34m\u001b[0m\u001b[0m\n\u001b[0;32m--> 761\u001b[0;31m         \u001b[0my\u001b[0m \u001b[0;34m=\u001b[0m \u001b[0mcolumn_or_1d\u001b[0m\u001b[0;34m(\u001b[0m\u001b[0my\u001b[0m\u001b[0;34m,\u001b[0m \u001b[0mwarn\u001b[0m\u001b[0;34m=\u001b[0m\u001b[0;32mTrue\u001b[0m\u001b[0;34m)\u001b[0m\u001b[0;34m\u001b[0m\u001b[0;34m\u001b[0m\u001b[0m\n\u001b[0m\u001b[1;32m    762\u001b[0m         \u001b[0m_assert_all_finite\u001b[0m\u001b[0;34m(\u001b[0m\u001b[0my\u001b[0m\u001b[0;34m)\u001b[0m\u001b[0;34m\u001b[0m\u001b[0;34m\u001b[0m\u001b[0m\n\u001b[1;32m    763\u001b[0m     \u001b[0;32mif\u001b[0m \u001b[0my_numeric\u001b[0m \u001b[0;32mand\u001b[0m \u001b[0my\u001b[0m\u001b[0;34m.\u001b[0m\u001b[0mdtype\u001b[0m\u001b[0;34m.\u001b[0m\u001b[0mkind\u001b[0m \u001b[0;34m==\u001b[0m \u001b[0;34m'O'\u001b[0m\u001b[0;34m:\u001b[0m\u001b[0;34m\u001b[0m\u001b[0;34m\u001b[0m\u001b[0m\n",
      "\u001b[0;32m/anaconda3/lib/python3.7/site-packages/sklearn/utils/validation.py\u001b[0m in \u001b[0;36mcolumn_or_1d\u001b[0;34m(y, warn)\u001b[0m\n\u001b[1;32m    795\u001b[0m         \u001b[0;32mreturn\u001b[0m \u001b[0mnp\u001b[0m\u001b[0;34m.\u001b[0m\u001b[0mravel\u001b[0m\u001b[0;34m(\u001b[0m\u001b[0my\u001b[0m\u001b[0;34m)\u001b[0m\u001b[0;34m\u001b[0m\u001b[0;34m\u001b[0m\u001b[0m\n\u001b[1;32m    796\u001b[0m \u001b[0;34m\u001b[0m\u001b[0m\n\u001b[0;32m--> 797\u001b[0;31m     \u001b[0;32mraise\u001b[0m \u001b[0mValueError\u001b[0m\u001b[0;34m(\u001b[0m\u001b[0;34m\"bad input shape {0}\"\u001b[0m\u001b[0;34m.\u001b[0m\u001b[0mformat\u001b[0m\u001b[0;34m(\u001b[0m\u001b[0mshape\u001b[0m\u001b[0;34m)\u001b[0m\u001b[0;34m)\u001b[0m\u001b[0;34m\u001b[0m\u001b[0;34m\u001b[0m\u001b[0m\n\u001b[0m\u001b[1;32m    798\u001b[0m \u001b[0;34m\u001b[0m\u001b[0m\n\u001b[1;32m    799\u001b[0m \u001b[0;34m\u001b[0m\u001b[0m\n",
      "\u001b[0;31mValueError\u001b[0m: bad input shape (23070, 60)"
     ]
    }
   ],
   "source": [
    "svm_model_2 = svm_classifier(X_tr, y_tr)\n",
    "print(\"Finished training\")"
   ]
  },
  {
   "cell_type": "code",
   "execution_count": null,
   "metadata": {},
   "outputs": [],
   "source": [
    "y_pred_svm_2 = svm_model_2.predict(X_te)"
   ]
  },
  {
   "cell_type": "markdown",
   "metadata": {},
   "source": [
    "## SVM Evaluation"
   ]
  },
  {
   "cell_type": "code",
   "execution_count": null,
   "metadata": {},
   "outputs": [],
   "source": [
    "%run eval_score.ipynb"
   ]
  },
  {
   "cell_type": "code",
   "execution_count": null,
   "metadata": {},
   "outputs": [],
   "source": [
    "LABELS = ['sit','sleep','stand','walk']"
   ]
  },
  {
   "cell_type": "code",
   "execution_count": null,
   "metadata": {
    "scrolled": true
   },
   "outputs": [],
   "source": [
    "acc = accuracy_score(y_test, y_pred_svm)\n",
    "print(acc)\n",
    "\n",
    "show_conf_matrix(y_test, y_pred_svm, LABELS)\n",
    "show_clf_report(y_test, y_pred_svm, LABELS)"
   ]
  },
  {
   "cell_type": "code",
   "execution_count": null,
   "metadata": {
    "scrolled": true
   },
   "outputs": [],
   "source": [
    "acc = accuracy_score(y_te, y_pred_svm_2)\n",
    "print(acc)\n",
    "\n",
    "show_conf_matrix(y_te, y_pred_svm_2, LABELS)\n",
    "show_clf_report(y_te, y_pred_svm_2, LABELS)"
   ]
  },
  {
   "cell_type": "markdown",
   "metadata": {},
   "source": [
    "# Walk Algorithm"
   ]
  },
  {
   "cell_type": "code",
   "execution_count": 29,
   "metadata": {},
   "outputs": [],
   "source": [
    "%run classifier_alg.ipynb"
   ]
  },
  {
   "cell_type": "code",
   "execution_count": 30,
   "metadata": {},
   "outputs": [],
   "source": [
    "walk_exact = []\n",
    "walk_label = 3\n",
    "window_length = 60\n",
    "\n",
    "for i in range(window_length, len(y_all)):\n",
    "    if(y_all[i]==walk_label):\n",
    "        walk_exact.append(walk_label)\n",
    "    else:\n",
    "        walk_exact.append(0)"
   ]
  },
  {
   "cell_type": "code",
   "execution_count": 32,
   "metadata": {},
   "outputs": [],
   "source": [
    "walk_pred = classify_walk_2(X_pca, exceed_threshold=9)"
   ]
  },
  {
   "cell_type": "markdown",
   "metadata": {},
   "source": [
    "## Walk Algorithm Evaluation"
   ]
  },
  {
   "cell_type": "code",
   "execution_count": 33,
   "metadata": {},
   "outputs": [
    {
     "name": "stdout",
     "output_type": "stream",
     "text": [
      "0.9223940633885845\n"
     ]
    },
    {
     "data": {
      "image/png": "[encoded data removed]",
      "text/plain": [
       "<Figure size 432x288 with 2 Axes>"
      ]
     },
     "metadata": {
      "needs_background": "light"
     },
     "output_type": "display_data"
    },
    {
     "data": {
      "image/png": "[encoded data removed]",
      "text/plain": [
       "<Figure size 432x288 with 2 Axes>"
      ]
     },
     "metadata": {
      "needs_background": "light"
     },
     "output_type": "display_data"
    },
    {
     "name": "stdout",
     "output_type": "stream",
     "text": [
      "              precision    recall  f1-score   support\n",
      "\n",
      "         NaN       0.94      0.94      0.94     18093\n",
      "        walk       0.90      0.90      0.90     10745\n",
      "\n",
      "   micro avg       0.92      0.92      0.92     28838\n",
      "   macro avg       0.92      0.92      0.92     28838\n",
      "weighted avg       0.92      0.92      0.92     28838\n",
      "\n"
     ]
    }
   ],
   "source": [
    "walk_lbl = ['NaN','walk']\n",
    "\n",
    "acc = accuracy_score(walk_exact, walk_pred)\n",
    "print(acc)\n",
    "\n",
    "show_conf_matrix(walk_exact, walk_pred, walk_lbl)\n",
    "show_clf_report(walk_exact, walk_pred, walk_lbl)"
   ]
  },
  {
   "cell_type": "markdown",
   "metadata": {},
   "source": [
    "# Combine SVM and Walk Algorithm\n",
    "#### Before Post Process"
   ]
  },
  {
   "cell_type": "code",
   "execution_count": 36,
   "metadata": {},
   "outputs": [],
   "source": [
    "y_pred_new = combine(X_test, y_pred_svm)"
   ]
  },
  {
   "cell_type": "code",
   "execution_count": 37,
   "metadata": {
    "scrolled": false
   },
   "outputs": [
    {
     "name": "stdout",
     "output_type": "stream",
     "text": [
      "0.5463957804258645\n"
     ]
    },
    {
     "data": {
      "image/png": "[encoded data removed]",
      "text/plain": [
       "<Figure size 432x288 with 2 Axes>"
      ]
     },
     "metadata": {
      "needs_background": "light"
     },
     "output_type": "display_data"
    },
    {
     "data": {
      "image/png": "[encoded data removed]",
      "text/plain": [
       "<Figure size 432x288 with 2 Axes>"
      ]
     },
     "metadata": {
      "needs_background": "light"
     },
     "output_type": "display_data"
    },
    {
     "name": "stdout",
     "output_type": "stream",
     "text": [
      "              precision    recall  f1-score   support\n",
      "\n",
      "         sit       0.70      0.48      0.57       902\n",
      "       sleep       0.84      0.55      0.66       856\n",
      "       stand       0.00      0.00      0.00      1413\n",
      "        walk       0.48      0.97      0.64      1948\n",
      "\n",
      "   micro avg       0.55      0.55      0.55      5119\n",
      "   macro avg       0.50      0.50      0.47      5119\n",
      "weighted avg       0.45      0.55      0.46      5119\n",
      "\n"
     ]
    },
    {
     "name": "stderr",
     "output_type": "stream",
     "text": [
      "/anaconda3/lib/python3.7/site-packages/sklearn/metrics/classification.py:1143: UndefinedMetricWarning: Precision and F-score are ill-defined and being set to 0.0 in labels with no predicted samples.\n",
      "  'precision', 'predicted', average, warn_for)\n",
      "/anaconda3/lib/python3.7/site-packages/sklearn/metrics/classification.py:1143: UndefinedMetricWarning: Precision and F-score are ill-defined and being set to 0.0 in labels with no predicted samples.\n",
      "  'precision', 'predicted', average, warn_for)\n",
      "/anaconda3/lib/python3.7/site-packages/sklearn/metrics/classification.py:1143: UndefinedMetricWarning: Precision and F-score are ill-defined and being set to 0.0 in labels with no predicted samples.\n",
      "  'precision', 'predicted', average, warn_for)\n"
     ]
    }
   ],
   "source": [
    "acc = accuracy_score(y_test, y_pred_new)\n",
    "print(acc)\n",
    "\n",
    "show_conf_matrix(y_test, y_pred_new, LABELS)\n",
    "show_clf_report(y_test, y_pred_new, LABELS)"
   ]
  },
  {
   "cell_type": "markdown",
   "metadata": {},
   "source": [
    "# Test Model with Some Subjects"
   ]
  },
  {
   "cell_type": "code",
   "execution_count": 34,
   "metadata": {},
   "outputs": [],
   "source": [
    "filename = '../../model/svm_model.pkl'\n",
    "\n",
    "model = pickle.load(open(filename,'rb'))"
   ]
  },
  {
   "cell_type": "code",
   "execution_count": 35,
   "metadata": {},
   "outputs": [],
   "source": [
    "label_list = ['sit', 'sleep', 'stand', 'walk']"
   ]
  },
  {
   "cell_type": "code",
   "execution_count": 41,
   "metadata": {
    "scrolled": true
   },
   "outputs": [],
   "source": [
    "%run test_model.ipynb"
   ]
  },
  {
   "cell_type": "markdown",
   "metadata": {},
   "source": [
    "#### After Post-process"
   ]
  },
  {
   "cell_type": "code",
   "execution_count": 42,
   "metadata": {
    "scrolled": false
   },
   "outputs": [
    {
     "name": "stdout",
     "output_type": "stream",
     "text": [
      "Loading 3001's data\n",
      "Finished prediction\n",
      "label: ['sit', 'sleep', 'stand', 'walk']\n",
      "iou: [0.3185689948892675, 0.0, 0.0, 0.226546212647672]\n",
      "Loading 3002's data\n",
      "Finished prediction\n",
      "label: ['sit', 'sleep', 'stand', 'walk']\n",
      "iou: [0.08036739380022963, 0.004705882352941176, 0.0, 0.038696537678207736]\n",
      "Loading 3003's data\n",
      "Finished prediction\n",
      "label: ['sit', 'sleep', 'stand', 'walk']\n",
      "iou: [0.0, 0.5692821368948247, 0.0, 0.13148049171566006]\n",
      "Loading 3004's data\n",
      "Finished prediction\n",
      "label: ['sit', 'sleep', 'stand', 'walk']\n",
      "iou: [0.0, 0.0015313935681470138, 0.0, 0.01171303074670571]\n",
      "Loading 3005's data\n",
      "Finished prediction\n",
      "label: ['sit', 'sleep', 'stand', 'walk']\n",
      "iou: [0.046, 0.0039177277179236044, 0.0, 0.0]\n"
     ]
    }
   ],
   "source": [
    "unseen_patients = [str(i) for i in range(3001,3006)]\n",
    "\n",
    "for subject_id in unseen_patients:\n",
    "    df_acc_label, true_periods, pred_periods, iou = call_functions(subject_id, pca, model, label_list)"
   ]
  },
  {
   "cell_type": "code",
   "execution_count": null,
   "metadata": {
    "scrolled": true
   },
   "outputs": [],
   "source": [
    "unseen_patients = [str(i) for i in range(3001,3006)]\n",
    "\n",
    "call_functions(all_subjects,pca)"
   ]
  },
  {
   "cell_type": "code",
   "execution_count": null,
   "metadata": {
    "scrolled": true
   },
   "outputs": [],
   "source": [
    "s = '3004'\n",
    "df_sid = load_actual_timer(s)\n",
    "df_test = load_data(s, df_sid)\n",
    "\n",
    "X_vis_imp, ts_list_imp = preprocess_data(df_test, pca)\n",
    "df_y = predict(X_vis_imp, ts_list_imp)\n",
    "\n",
    "df_test, df_y = prepare_actual_lb(df_test, df_y, df_sid)\n",
    "\n",
    "actual_periods = get_actual_periods(df_test)\n",
    "pred_periods = get_predicted_periods(df_y)\n",
    "pp_all_run = postprocess_predicted(pred_periods, df_y)\n",
    "\n",
    "df_y['y_pred'] = pd.Series(pp_all_run)\n",
    "pp_periods = get_predicted_periods(df_y)\n",
    "plot_highlighted(s, df_test, pp_periods, actual_periods)"
   ]
  },
  {
   "cell_type": "code",
   "execution_count": 103,
   "metadata": {},
   "outputs": [
    {
     "name": "stdout",
     "output_type": "stream",
     "text": [
      "(2583, 3) (2642, 5)\n"
     ]
    }
   ],
   "source": [
    "print(df_y.shape, df_test.shape)"
   ]
  },
  {
   "cell_type": "code",
   "execution_count": null,
   "metadata": {},
   "outputs": [],
   "source": []
  },
  {
   "cell_type": "markdown",
   "metadata": {},
   "source": [
    "# Display Table"
   ]
  },
  {
   "cell_type": "code",
   "execution_count": null,
   "metadata": {},
   "outputs": [],
   "source": [
    "from prettytable import PrettyTable"
   ]
  },
  {
   "cell_type": "code",
   "execution_count": null,
   "metadata": {
    "scrolled": true
   },
   "outputs": [],
   "source": [
    "print(s)\n",
    "print(df_y)"
   ]
  },
  {
   "cell_type": "code",
   "execution_count": null,
   "metadata": {},
   "outputs": [],
   "source": [
    "label_period = []\n",
    "period_list = [[] for i in range(len(LABELS))]\n",
    "\n",
    "first = 0\n",
    "keep = 0\n",
    "\n",
    "for i in range(len(df_y)):\n",
    "    if(calc_sec(df_y.loc[i]['timestamp'].split(' ')[1])>=calc_sec(df_sid.loc[0]['timestamp'].split(' ')[1]) and\n",
    "       calc_sec(df_y.loc[i]['timestamp'].split(' ')[1])<=calc_sec(df_sid.loc[len(df_sid)-1]['timestamp'].split(' ')[1])):\n",
    "        \n",
    "        keep_lb = df_y.loc[keep]['y_pred']\n",
    "\n",
    "        if(keep_lb!=df_y.loc[i]['y_pred']):\n",
    "            label_period.append([df_y.loc[keep]['timestamp'], df_y.loc[i-1]['timestamp'], \n",
    "                                 df_y.loc[i-1]['y_pred']])\n",
    "\n",
    "            period_list[df_y.loc[i-1]['y_pred']].append([df_y.loc[keep]['timestamp'], df_y.loc[i-1]['timestamp']])\n",
    "\n",
    "            keep = i"
   ]
  },
  {
   "cell_type": "code",
   "execution_count": null,
   "metadata": {},
   "outputs": [],
   "source": [
    "labels_list = ['sit', 'sleep', 'stand', 'walk']\n",
    "headers = ['start', 'end', 'pred']\n",
    "\n",
    "t = PrettyTable(headers)\n",
    "\n",
    "for row in label_period:\n",
    "#     if(calc_sec(row[1].split(' ')[1])-calc_sec(row[0].split(' ')[1])>1):\n",
    "    t.add_row([row[0], row[1], labels_list[row[2]]])"
   ]
  },
  {
   "cell_type": "code",
   "execution_count": null,
   "metadata": {
    "scrolled": true
   },
   "outputs": [],
   "source": [
    "print(t)"
   ]
  },
  {
   "cell_type": "code",
   "execution_count": null,
   "metadata": {},
   "outputs": [],
   "source": [
    "print(len(label_period))\n",
    "\n",
    "label_cnt_list = [0 for i in range(len(labels_list))]\n",
    "for lb_p in label_period:\n",
    "    label_i = lb_p[2]\n",
    "    \n",
    "    label_cnt_list[label_i] += 1\n",
    "\n",
    "activity_changes = []\n",
    "for i in range(len(labels_list)):\n",
    "    activity_changes.append([labels_list[i], label_cnt_list[i]])\n",
    "    \n",
    "print(activity_changes)"
   ]
  },
  {
   "cell_type": "code",
   "execution_count": null,
   "metadata": {},
   "outputs": [],
   "source": [
    "headers = ['Label', 'Activities Count']\n",
    "tabl_act_chng = PrettyTable(headers)\n",
    "\n",
    "for ac in activity_changes:\n",
    "    tabl_act_chng.add_row([ac[0], ac[1]])\n",
    "    \n",
    "tabl_act_chng.add_row(['', ''])\n",
    "tabl_act_chng.add_row(['total changes', len(label_period)])"
   ]
  },
  {
   "cell_type": "code",
   "execution_count": null,
   "metadata": {
    "scrolled": false
   },
   "outputs": [],
   "source": [
    "print(tabl_act_chng)"
   ]
  },
  {
   "cell_type": "markdown",
   "metadata": {},
   "source": [
    "## Active Inactive AC (ALL)"
   ]
  },
  {
   "cell_type": "code",
   "execution_count": null,
   "metadata": {},
   "outputs": [],
   "source": [
    "headers = ['Label', 'Activities Count']\n",
    "tabl_act = PrettyTable(headers)\n",
    "inactive_table = []\n",
    "active_table = []\n",
    "\n",
    "sum = 0\n",
    "sum_2 = 0\n",
    "for ac in activity_changes:\n",
    "    if(ac[0] == 'sit' or ac[0] == 'sleep'):\n",
    "        sum += ac[1]\n",
    "    else :\n",
    "        sum_2 += ac[1]\n",
    "\n",
    "tabl_act.add_row(['Inactive', sum])\n",
    "tabl_act.add_row(['Active', sum_2])"
   ]
  },
  {
   "cell_type": "code",
   "execution_count": null,
   "metadata": {},
   "outputs": [],
   "source": [
    "print(tabl_act)"
   ]
  },
  {
   "cell_type": "markdown",
   "metadata": {},
   "source": [
    "# Convert Time to String Method"
   ]
  },
  {
   "cell_type": "code",
   "execution_count": null,
   "metadata": {},
   "outputs": [],
   "source": [
    "def convert_time_to_string(sec):\n",
    "    minute = math.floor(sec/60)\n",
    "    sec = int(sec%60)\n",
    "\n",
    "    time_string = str(minute) + ':' + str(sec)\n",
    "    if(sec<10):\n",
    "        time_string = str(minute) + ':0' + str(sec)\n",
    "    \n",
    "    return time_string"
   ]
  },
  {
   "cell_type": "markdown",
   "metadata": {},
   "source": [
    "# Predicted Duration"
   ]
  },
  {
   "cell_type": "code",
   "execution_count": null,
   "metadata": {},
   "outputs": [],
   "source": [
    "total_secs = []\n",
    "for i in range(len(period_list)):    \n",
    "    secs = 0\n",
    "    for p_i in period_list[i]:\n",
    "        sec = calc_sec(p_i[1].split(' ')[1]) - calc_sec(p_i[0].split(' ')[1])\n",
    "        secs += sec\n",
    "    \n",
    "    secs = round(secs, 3)\n",
    "    total_secs.append(secs)\n",
    "    \n",
    "percent_secs = [round(t/np.sum(total_secs)*100, 3) for t in total_secs]\n",
    "\n",
    "tb = PrettyTable(['Label', 'Minutes', 'Percentage', 'Activity Count'])\n",
    "\n",
    "for i in range(len(LABELS)):\n",
    "    tb.add_row([labels_list[i], convert_time_to_string(total_secs[i]), percent_secs[i], label_cnt_list[i]])\n",
    "\n",
    "tb.add_row(['', '', '',''])\n",
    "tb.add_row(['total', convert_time_to_string(round(np.sum(total_secs), 3)), \n",
    "            round(np.sum(percent_secs), 3), len(label_period)])"
   ]
  },
  {
   "cell_type": "markdown",
   "metadata": {},
   "source": [
    "# Actual Duration"
   ]
  },
  {
   "cell_type": "code",
   "execution_count": null,
   "metadata": {},
   "outputs": [],
   "source": [
    "df_lb = df_sid.groupby('label')\n",
    "\n",
    "dura_dict = {}\n",
    "for lb in labels_list:\n",
    "    dura_dict[lb] = 0\n",
    "\n",
    "idx = list(df_sid.index)\n",
    "for i in range(len(labels_list)):\n",
    "    lb = labels_list[i]\n",
    "    df_temp = df_lb.get_group(lb)\n",
    "    df_temp = df_temp.reset_index(drop=True)\n",
    "        \n",
    "    if(lb=='downstairs' or lb=='upstairs'):\n",
    "        lb = 'walk'\n",
    "    \n",
    "    for j in range(len(df_temp)):\n",
    "        dura_dict[lb] += calc_sec(df_temp.loc[j]['duration'])\n",
    "        \n",
    "total_dura = np.sum([dura_dict[lb] for lb in labels_list])\n",
    "\n",
    "percent_list = []\n",
    "        \n",
    "tabl = PrettyTable(['Label', 'Minutes', 'Percentage'])\n",
    "for lb in labels_list:\n",
    "    percent = round(dura_dict[lb]/total_dura*100, 3)\n",
    "    tabl.add_row([lb, convert_time_to_string(dura_dict[lb]), round(dura_dict[lb]/total_dura*100, 3)])\n",
    "    \n",
    "    percent_list.append(percent)\n",
    "    \n",
    "tabl.add_row(['', '', ''])    \n",
    "tabl.add_row(['total', convert_time_to_string(total_dura), round(np.sum(percent_list), 3)])"
   ]
  },
  {
   "cell_type": "markdown",
   "metadata": {},
   "source": [
    "# Activity Durations Table"
   ]
  },
  {
   "cell_type": "code",
   "execution_count": null,
   "metadata": {},
   "outputs": [],
   "source": [
    "print('Prediction')\n",
    "print(tb)\n",
    "\n",
    "print('Actual')\n",
    "print(tabl)"
   ]
  },
  {
   "cell_type": "markdown",
   "metadata": {},
   "source": [
    "# Bar Chart for Every 5 Minutes"
   ]
  },
  {
   "cell_type": "code",
   "execution_count": null,
   "metadata": {},
   "outputs": [],
   "source": [
    "s_idx = 0\n",
    "f_idx = 1\n",
    "lb_idx = 2"
   ]
  },
  {
   "cell_type": "markdown",
   "metadata": {},
   "source": [
    "## Separate Each 5 Minutes"
   ]
  },
  {
   "cell_type": "code",
   "execution_count": null,
   "metadata": {},
   "outputs": [],
   "source": [
    "fivemin = 60*5\n",
    "new_label_period = []\n",
    "\n",
    "start_time = calc_sec(label_period[0][s_idx].split(' ')[1])\n",
    "finish_time = calc_sec(label_period[-1][f_idx].split(' ')[1])\n",
    "\n",
    "floor_start = start_time - (start_time%fivemin)\n",
    "ceil_finish = finish_time - (finish_time%fivemin) + fivemin\n",
    "\n",
    "print(calc_ts(floor_start), calc_ts(ceil_finish))\n",
    "\n",
    "tm_s = floor_start\n",
    "tm_f = floor_start + fivemin\n",
    "date = label_period[0][s_idx].split(' ')[0]\n",
    "\n",
    "for prd in label_period:\n",
    "    if(calc_sec(prd[f_idx].split(' ')[1])>=tm_f):\n",
    "        new_prd = [prd[s_idx], date + ' ' + calc_ts(tm_f), prd[lb_idx]]\n",
    "        new_label_period.append(new_prd)\n",
    "        \n",
    "        tm_s += fivemin\n",
    "        tm_f += fivemin\n",
    "    else:\n",
    "        new_label_period.append(prd)\n",
    "                \n",
    "    if(calc_sec(prd[s_idx].split(' ')[1])<tm_s):\n",
    "        new_prd = [date + ' ' + calc_ts(tm_s), prd[f_idx], prd[lb_idx]]\n",
    "        new_label_period.append(new_prd)"
   ]
  },
  {
   "cell_type": "code",
   "execution_count": null,
   "metadata": {},
   "outputs": [],
   "source": [
    "all_periods_label = []\n",
    "\n",
    "for t_i in range(int(floor_start), int(ceil_finish), fivemin):\n",
    "    period_lb = [0 for i in range(len(LABELS))]\n",
    "    for prd in new_label_period:\n",
    "        if(calc_sec(prd[s_idx].split(' ')[1])>=t_i and calc_sec(prd[f_idx].split(' ')[1])<=t_i+fivemin):\n",
    "            period_lb[prd[lb_idx]] += calc_sec(prd[f_idx].split(' ')[1])-calc_sec(prd[s_idx].split(' ')[1])\n",
    "            period_lb[prd[lb_idx]] = round(period_lb[prd[lb_idx]], 3)\n",
    "            \n",
    "    all_periods_label.append(period_lb)"
   ]
  },
  {
   "cell_type": "code",
   "execution_count": null,
   "metadata": {},
   "outputs": [],
   "source": [
    "df_all = pd.DataFrame(all_periods_label, columns=labels_list)"
   ]
  },
  {
   "cell_type": "markdown",
   "metadata": {},
   "source": [
    "## Plot Bar Graph"
   ]
  },
  {
   "cell_type": "code",
   "execution_count": null,
   "metadata": {},
   "outputs": [],
   "source": [
    "pos = list(range(len(df_all['sit'])))\n",
    "width = 0.2\n",
    "colors = ['crimson','gold','lime','dodgerblue']\n",
    "\n",
    "fig, ax = plt.subplots(figsize=(10,5))\n",
    "\n",
    "for i in range(len(LABELS)):\n",
    "    plt.bar([p + i*width for p in pos],\n",
    "            df_all[labels_list[i]],\n",
    "            width,\n",
    "            alpha=0.5,\n",
    "            color=colors[i],\n",
    "            label=labels_list[i])\n",
    "    \n",
    "ax.set_xticks([p + 1.5 * width for p in pos])\n",
    "\n",
    "xtick_labels = [calc_ts(floor_start + i*fivemin) + '-' + calc_ts(floor_start + (i+1)*fivemin)\n",
    "                for i in range(len(df_all))]\n",
    "ax.set_xticklabels(xtick_labels)\n",
    "\n",
    "ax.set_ylabel('Time (sec)')\n",
    "\n",
    "plt.xlim(min(pos)-width, max(pos)+width*4)\n",
    "plt.legend(loc='upper left')\n",
    "plt.title('Activity Summary for Subject ID: ' + s)\n",
    "\n",
    "plt.show()"
   ]
  },
  {
   "cell_type": "code",
   "execution_count": null,
   "metadata": {},
   "outputs": [],
   "source": []
  }
 ],
 "metadata": {
  "colab": {
   "collapsed_sections": [],
   "name": "DDC_run.ipynb",
   "provenance": [
    {
     "file_id": "1uW9RzCQha3RZ_wzM_gLxhAN7ytclHWHC",
     "timestamp": 1548220076491
    }
   ],
   "toc_visible": true,
   "version": "0.3.2"
  },
  "kernelspec": {
   "display_name": "Python 3",
   "language": "python",
   "name": "python3"
  },
  "language_info": {
   "codemirror_mode": {
    "name": "ipython",
    "version": 3
   },
   "file_extension": ".py",
   "mimetype": "text/x-python",
   "name": "python",
   "nbconvert_exporter": "python",
   "pygments_lexer": "ipython3",
   "version": "3.7.3"
  }
 },
 "nbformat": 4,
 "nbformat_minor": 2
}
