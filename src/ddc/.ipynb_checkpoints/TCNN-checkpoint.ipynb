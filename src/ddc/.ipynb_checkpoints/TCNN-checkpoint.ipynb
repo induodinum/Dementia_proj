{
 "cells": [
  {
   "cell_type": "code",
   "execution_count": 110,
   "metadata": {},
   "outputs": [],
   "source": [
    "import tensorflow as tf\n",
    "from keras.layers import GlobalAveragePooling2D, Dense, Dropout, Flatten\n",
    "from keras.layers.convolutional import Conv2D\n",
    "from keras.layers.pooling import MaxPooling2D\n",
    "from keras.models import Model\n",
    "from keras.layers import Input, Dense,LSTM\n",
    "from keras.layers.convolutional import Conv1D\n",
    "from keras.layers.pooling import MaxPooling1D\n",
    "from keras import optimizers \n",
    "from keras import regularizers\n",
    "from keras.callbacks import ModelCheckpoint,EarlyStopping,ReduceLROnPlateau\n",
    "from time import time\n",
    "from keras.models import load_model\n",
    "from sklearn.metrics import confusion_matrix\n",
    "from keras.models import Sequential\n",
    "from keras.layers import Activation, Dense\n",
    "\n",
    "from keras.utils import np_utils\n",
    "\n",
    "import matplotlib.pyplot as plt\n",
    "import numpy as np\n",
    "np.random.seed(12)\n",
    "from scipy import stats\n",
    "from sklearn import metrics\n",
    "from sklearn.model_selection import train_test_split\n",
    "import matplotlib.pyplot as plt\n",
    "\n",
    "\n",
    "from sklearn.metrics import classification_report, f1_score, accuracy_score\n",
    "import glob\n",
    "import warnings\n",
    "import pandas as pd\n",
    "import numpy as np\n",
    "\n",
    "import os"
   ]
  },
  {
   "cell_type": "markdown",
   "metadata": {},
   "source": [
    "## Dataset"
   ]
  },
  {
   "cell_type": "code",
   "execution_count": 111,
   "metadata": {},
   "outputs": [
    {
     "name": "stdout",
     "output_type": "stream",
     "text": [
      "Loading 1001's data\n",
      "Loading 1002's data\n",
      "Loading 1003's data\n",
      "Loading 1004's data\n",
      "Loading 1005's data\n",
      "Loading 1006's data\n",
      "Loading 1007's data\n",
      "Loading 1008's data\n",
      "Loading 1009's data\n",
      "Loading 1010's data\n",
      "Loading 1011's data\n",
      "Loading 1012's data\n",
      "Loading 2001's data\n",
      "Loading 2002's data\n",
      "Finished loading\n"
     ]
    }
   ],
   "source": [
    "%run load_dataset.ipynb"
   ]
  },
  {
   "cell_type": "markdown",
   "metadata": {},
   "source": [
    "## Data preprocessing"
   ]
  },
  {
   "cell_type": "code",
   "execution_count": 112,
   "metadata": {
    "collapsed": true
   },
   "outputs": [],
   "source": [
    "%run preprocess_for_SVM.ipynb"
   ]
  },
  {
   "cell_type": "code",
   "execution_count": 113,
   "metadata": {
    "collapsed": true
   },
   "outputs": [],
   "source": [
    "subj_train = ['1001','1002','1003','1004','2001']\n",
    "subj_val = ['1005','1006','2002']\n",
    "subj_test = ['1007','1008','1009']"
   ]
  },
  {
   "cell_type": "code",
   "execution_count": 114,
   "metadata": {
    "collapsed": true
   },
   "outputs": [],
   "source": [
    "def get_X_y(subj_ids, X, y, s):\n",
    "    X_get = []\n",
    "    y_get = []\n",
    "    s_get = []\n",
    "    for i in range(len(s)):\n",
    "        for j in range(len(subj_ids)):\n",
    "            if(s[i]==subj_ids[j]):\n",
    "                X_get.append(X[i])\n",
    "                y_get.append(y[i])\n",
    "                s_get.append(s[i])\n",
    "                \n",
    "    return np.array(X_get), np.array(y_get), np.array(s_get)"
   ]
  },
  {
   "cell_type": "code",
   "execution_count": 115,
   "metadata": {
    "collapsed": true
   },
   "outputs": [],
   "source": [
    "X_train2, y_train2, s_train = get_X_y(subj_train, X_all, y_all, subj_all)\n",
    "X_val, y_val, s_val = get_X_y(subj_val, X_all, y_all, subj_all)\n",
    "X_test2, y_test2, s_test = get_X_y(subj_test, X_all, y_all, subj_all)"
   ]
  },
  {
   "cell_type": "code",
   "execution_count": 116,
   "metadata": {
    "collapsed": true
   },
   "outputs": [],
   "source": [
    "def prepare_pure(X, y, subj_all, new_label_list):\n",
    "    X_label, y_label = label_grouping(X, y, subj_all, new_label_list)\n",
    "    \n",
    "    X_concat = []\n",
    "    y_concat = []\n",
    "    for i in range(len(X_label)):\n",
    "        for j in range(len(X_label[i])):\n",
    "            X_ol, y_ol = make_overlapping(np.array(X_label[i][j]), y_label[i][j])\n",
    "#             print(i, j, X_ol.shape)\n",
    "            \n",
    "            if(len(X_concat)==0):\n",
    "                X_concat = X_ol\n",
    "            else:\n",
    "                X_concat = np.vstack((X_concat, X_ol))\n",
    "\n",
    "            if(len(y_concat)==0):\n",
    "                y_concat = y_ol\n",
    "            else:\n",
    "                y_concat = np.hstack((y_concat, y_ol))\n",
    "                \n",
    "#     X_concat_xyz = concat_xyz(X_concat)\n",
    "    \n",
    "    return X_concat, y_concat    "
   ]
  },
  {
   "cell_type": "code",
   "execution_count": 117,
   "metadata": {
    "collapsed": true
   },
   "outputs": [],
   "source": [
    "X_label, y_label = label_grouping(X_train2, y_train2, s_train, label_list)"
   ]
  },
  {
   "cell_type": "code",
   "execution_count": 118,
   "metadata": {},
   "outputs": [
    {
     "name": "stdout",
     "output_type": "stream",
     "text": [
      "(10035, 3) (10035,) (10035,)\n"
     ]
    }
   ],
   "source": [
    "print(X_train2.shape,y_train2.shape,s_train.shape)"
   ]
  },
  {
   "cell_type": "code",
   "execution_count": 119,
   "metadata": {
    "collapsed": true
   },
   "outputs": [],
   "source": [
    "label_list = [0,1,2,3]\n",
    "label_dict = {\n",
    "    0: 'sit',\n",
    "    1: 'sleep',\n",
    "    2: 'stand',\n",
    "    3: 'walk'\n",
    "}\n",
    "\n",
    "all_subjects = subj_train\n",
    "X_train_pure, y_train_pure = prepare_pure(X_train2, y_train2, s_train, label_list)\n",
    "\n",
    "all_subjects = subj_val\n",
    "X_val_pure, y_val_pure = prepare_pure(X_val, y_val, s_val, label_list)\n",
    "\n",
    "\n",
    "all_subjects = subj_test\n",
    "X_test_pure, y_test_pure = prepare_pure(X_test2, y_test2, s_test, label_list)"
   ]
  },
  {
   "cell_type": "code",
   "execution_count": 120,
   "metadata": {},
   "outputs": [
    {
     "name": "stdout",
     "output_type": "stream",
     "text": [
      "5275\n",
      "5275\n"
     ]
    }
   ],
   "source": [
    "VAL_LEN = X_val_pure.shape[0]\n",
    "X_train_pure = X_train_pure[:VAL_LEN]\n",
    "y_train_pure = y_train_pure[:VAL_LEN]\n",
    "\n",
    "print(VAL_LEN)\n",
    "print(y_train_pure.shape[0])"
   ]
  },
  {
   "cell_type": "code",
   "execution_count": 121,
   "metadata": {
    "collapsed": true
   },
   "outputs": [],
   "source": [
    "LABEL_COUNT = 4"
   ]
  },
  {
   "cell_type": "code",
   "execution_count": 122,
   "metadata": {
    "collapsed": true
   },
   "outputs": [],
   "source": [
    "def reshape_y(y):\n",
    "    \n",
    "    y_rs_ = label_binarize(y, classes=[0,1,2,3])\n",
    "    \n",
    "    y_rs = []\n",
    "    #for i in range(len(y_rs_)):\n",
    "     #   y_temp = []\n",
    "      #  for j in range(window_length):\n",
    "       #     y_temp.append(y_rs_[i])\n",
    "            \n",
    "       # y_rs.append(np.array(y_temp))\n",
    "        \n",
    "    y_rs = np.array(y_rs_)\n",
    "    y_rs = y_rs.reshape((y_rs.shape[0],LABEL_COUNT))\n",
    "        \n",
    "    return np.array(y_rs)"
   ]
  },
  {
   "cell_type": "code",
   "execution_count": 123,
   "metadata": {
    "collapsed": true
   },
   "outputs": [],
   "source": [
    "def reshape_X(X):\n",
    "    X_rs = X.reshape((X.shape[0],1,X.shape[1]))\n",
    "    return X_rs"
   ]
  },
  {
   "cell_type": "code",
   "execution_count": 124,
   "metadata": {
    "collapsed": true
   },
   "outputs": [],
   "source": [
    "y_train_rs = reshape_y(y_train_pure)\n",
    "y_val_rs = reshape_y(y_val_pure)\n",
    "y_test_rs = reshape_y(y_test_pure)"
   ]
  },
  {
   "cell_type": "code",
   "execution_count": 125,
   "metadata": {},
   "outputs": [
    {
     "name": "stdout",
     "output_type": "stream",
     "text": [
      "(5275, 60, 3)\n",
      "60\n",
      "3\n",
      "(5275, 4)\n",
      "(5275,)\n"
     ]
    }
   ],
   "source": [
    "print(X_train_pure.shape)\n",
    "print(X_train_pure.shape[1])\n",
    "print(X_train_pure.shape[2])\n",
    "print(y_train_rs.shape)\n",
    "print(y_train_pure.shape)"
   ]
  },
  {
   "cell_type": "markdown",
   "metadata": {},
   "source": [
    "## Load model"
   ]
  },
  {
   "cell_type": "code",
   "execution_count": 126,
   "metadata": {
    "collapsed": true
   },
   "outputs": [],
   "source": [
    "numOfRows = X_train_pure.shape[1]\n",
    "numOfColumns = X_train_pure.shape[2]\n",
    "filters = 32\n",
    "Epochs = 100\n",
    "batchSize = 10\n",
    "num_class = 4"
   ]
  },
  {
   "cell_type": "code",
   "execution_count": 127,
   "metadata": {
    "collapsed": true
   },
   "outputs": [],
   "source": [
    "def TCNN():\n",
    "    base_model1 = Input(shape=(numOfRows,numOfColumns))\n",
    "    base_model = Conv1D(filters,(11),activation = 'elu')(base_model1)\n",
    "    base_model = Conv1D(filters,(11), activation = 'elu', padding='same')(base_model)\n",
    "    base_model = Conv1D(filters,(11), activation = 'elu', padding='same')(base_model)\n",
    "    base_model = MaxPooling1D(pool_size=2)(base_model)\n",
    "    base_model = Conv1D(filters,(11), activation = 'elu')(base_model)\n",
    "    base_model = Conv1D(filters,(11), activation = 'elu', padding='same')(base_model)\n",
    "    base_model = Conv1D(filters,(11), activation = 'elu', padding='same')(base_model)\n",
    "    base_model = MaxPooling1D(pool_size=2)(base_model)\n",
    "    base_model = Conv1D(filters,(11),activation = 'elu')(base_model1)\n",
    "    base_model = Conv1D(filters,(11), activation = 'elu', padding='same')(base_model)\n",
    "    base_model = Conv1D(filters,(11), activation = 'elu', padding='same')(base_model)\n",
    "    base_model = MaxPooling1D(pool_size=2)(base_model)\n",
    "    base_model = Conv1D(filters,(11), activation = 'elu')(base_model)\n",
    "    base_model = Conv1D(filters,(11), activation = 'elu', padding='same')(base_model)\n",
    "    base_model = Conv1D(filters,(11), activation = 'elu', padding='same')(base_model)\n",
    "    base_model = MaxPooling1D(pool_size=2)(base_model)\n",
    " \n",
    "    base_model = LSTM(256)(base_model)\n",
    " \n",
    "    base_model = Dense(512)(base_model)\n",
    "    base_model = Dense(512)(base_model)\n",
    "    base_model = Dropout(0.2)(base_model)\n",
    "    base_model = Dense(4,activation=\"softmax\")(base_model)\n",
    "    model = Model(inputs=[base_model1], outputs=base_model)\n",
    "    #adam = optimizers.Adam(lr = 0.001, decay=1e-6)\n",
    "    sgd = optimizers.SGD(lr=0.001, clipnorm=1.)\n",
    "    model.compile(loss='categorical_crossentropy', optimizer=sgd, metrics=['accuracy'])\n",
    "    return model"
   ]
  },
  {
   "cell_type": "code",
   "execution_count": 128,
   "metadata": {
    "scrolled": false
   },
   "outputs": [
    {
     "name": "stdout",
     "output_type": "stream",
     "text": [
      "_________________________________________________________________\n",
      "Layer (type)                 Output Shape              Param #   \n",
      "=================================================================\n",
      "input_5 (InputLayer)         (None, 60, 3)             0         \n",
      "_________________________________________________________________\n",
      "conv1d_13 (Conv1D)           (None, 50, 32)            1088      \n",
      "_________________________________________________________________\n",
      "max_pooling1d_13 (MaxPooling (None, 25, 32)            0         \n",
      "_________________________________________________________________\n",
      "conv1d_14 (Conv1D)           (None, 15, 32)            11296     \n",
      "_________________________________________________________________\n",
      "max_pooling1d_14 (MaxPooling (None, 7, 32)             0         \n",
      "_________________________________________________________________\n",
      "lstm_5 (LSTM)                (None, 128)               82432     \n",
      "_________________________________________________________________\n",
      "dense_10 (Dense)             (None, 512)               66048     \n",
      "_________________________________________________________________\n",
      "dense_11 (Dense)             (None, 512)               262656    \n",
      "_________________________________________________________________\n",
      "dropout_5 (Dropout)          (None, 512)               0         \n",
      "_________________________________________________________________\n",
      "dense_12 (Dense)             (None, 4)                 2052      \n",
      "=================================================================\n",
      "Total params: 425,572\n",
      "Trainable params: 425,572\n",
      "Non-trainable params: 0\n",
      "_________________________________________________________________\n",
      "Train on 5275 samples, validate on 5275 samples\n",
      "Epoch 1/100\n",
      "5184/5275 [============================>.] - ETA: 0s - loss: 1.2620 - acc: 0.7514\n",
      "Epoch 00001: val_acc improved from -inf to 0.45536, saving model to ./model/model_1/model_1.h5\n",
      "5275/5275 [==============================] - 6s 1ms/step - loss: 1.2604 - acc: 0.7507 - val_loss: 1.3462 - val_acc: 0.4554\n",
      "Epoch 2/100\n",
      "5216/5275 [============================>.] - ETA: 0s - loss: 1.0779 - acc: 0.7435\n",
      "Epoch 00002: val_acc improved from 0.45536 to 0.47810, saving model to ./model/model_1/model_1.h5\n",
      "5275/5275 [==============================] - 4s 813us/step - loss: 1.0768 - acc: 0.7429 - val_loss: 1.3394 - val_acc: 0.4781\n",
      "Epoch 3/100\n",
      "5248/5275 [============================>.] - ETA: 0s - loss: 0.8913 - acc: 0.7264\n",
      "Epoch 00003: val_acc did not improve\n",
      "5275/5275 [==============================] - 4s 836us/step - loss: 0.8906 - acc: 0.7268 - val_loss: 1.3783 - val_acc: 0.4542\n",
      "Epoch 4/100\n",
      "5216/5275 [============================>.] - ETA: 0s - loss: 0.7269 - acc: 0.7370\n",
      "Epoch 00004: val_acc improved from 0.47810 to 0.48246, saving model to ./model/model_1/model_1.h5\n",
      "5275/5275 [==============================] - 4s 851us/step - loss: 0.7259 - acc: 0.7373 - val_loss: 1.4650 - val_acc: 0.4825\n",
      "Epoch 5/100\n",
      "5216/5275 [============================>.] - ETA: 0s - loss: 0.6056 - acc: 0.7945\n",
      "Epoch 00005: val_acc improved from 0.48246 to 0.50863, saving model to ./model/model_1/model_1.h5\n",
      "5275/5275 [==============================] - 4s 846us/step - loss: 0.6050 - acc: 0.7947 - val_loss: 1.5633 - val_acc: 0.5086\n",
      "Epoch 6/100\n",
      "5248/5275 [============================>.] - ETA: 0s - loss: 0.5271 - acc: 0.8308\n",
      "Epoch 00006: val_acc improved from 0.50863 to 0.51299, saving model to ./model/model_1/model_1.h5\n",
      "5275/5275 [==============================] - 4s 830us/step - loss: 0.5273 - acc: 0.8305 - val_loss: 1.6540 - val_acc: 0.5130\n",
      "Epoch 7/100\n",
      "5184/5275 [============================>.] - ETA: 0s - loss: 0.4779 - acc: 0.8364\n",
      "Epoch 00007: val_acc improved from 0.51299 to 0.51526, saving model to ./model/model_1/model_1.h5\n",
      "5275/5275 [==============================] - 4s 830us/step - loss: 0.4777 - acc: 0.8360 - val_loss: 1.7325 - val_acc: 0.5153\n",
      "Epoch 8/100\n",
      "5184/5275 [============================>.] - ETA: 0s - loss: 0.4414 - acc: 0.8463\n",
      "Epoch 00008: val_acc improved from 0.51526 to 0.51754, saving model to ./model/model_1/model_1.h5\n",
      "5275/5275 [==============================] - 4s 825us/step - loss: 0.4427 - acc: 0.8457 - val_loss: 1.8000 - val_acc: 0.5175\n",
      "Epoch 9/100\n",
      "5184/5275 [============================>.] - ETA: 0s - loss: 0.4211 - acc: 0.8569\n",
      "Epoch 00009: val_acc improved from 0.51754 to 0.51867, saving model to ./model/model_1/model_1.h5\n",
      "5275/5275 [==============================] - 4s 825us/step - loss: 0.4198 - acc: 0.8569 - val_loss: 1.8617 - val_acc: 0.5187\n",
      "Epoch 10/100\n",
      "5184/5275 [============================>.] - ETA: 0s - loss: 0.4033 - acc: 0.8611\n",
      "Epoch 00010: val_acc improved from 0.51867 to 0.53592, saving model to ./model/model_1/model_1.h5\n",
      "5275/5275 [==============================] - 5s 913us/step - loss: 0.4026 - acc: 0.8616 - val_loss: 1.9101 - val_acc: 0.5359\n",
      "Epoch 11/100\n",
      "5216/5275 [============================>.] - ETA: 0s - loss: 0.3925 - acc: 0.8694\n",
      "Epoch 00011: val_acc improved from 0.53592 to 0.54635, saving model to ./model/model_1/model_1.h5\n",
      "5275/5275 [==============================] - 4s 841us/step - loss: 0.3924 - acc: 0.8698 - val_loss: 1.9558 - val_acc: 0.5464\n",
      "Epoch 12/100\n",
      "5216/5275 [============================>.] - ETA: 0s - loss: 0.3848 - acc: 0.8683\n",
      "Epoch 00012: val_acc improved from 0.54635 to 0.57251, saving model to ./model/model_1/model_1.h5\n",
      "5275/5275 [==============================] - 4s 826us/step - loss: 0.3840 - acc: 0.8688 - val_loss: 1.9925 - val_acc: 0.5725\n",
      "Epoch 13/100\n",
      "5216/5275 [============================>.] - ETA: 0s - loss: 0.3780 - acc: 0.8725\n",
      "Epoch 00013: val_acc improved from 0.57251 to 0.58180, saving model to ./model/model_1/model_1.h5\n",
      "5275/5275 [==============================] - 4s 825us/step - loss: 0.3773 - acc: 0.8728 - val_loss: 2.0255 - val_acc: 0.5818\n",
      "Epoch 14/100\n",
      "5248/5275 [============================>.] - ETA: 0s - loss: 0.3724 - acc: 0.8716\n",
      "Epoch 00014: val_acc did not improve\n",
      "5275/5275 [==============================] - 4s 831us/step - loss: 0.3721 - acc: 0.8718 - val_loss: 2.0513 - val_acc: 0.5812\n",
      "Epoch 15/100\n",
      "5216/5275 [============================>.] - ETA: 0s - loss: 0.3705 - acc: 0.8725\n",
      "Epoch 00015: val_acc did not improve\n",
      "5275/5275 [==============================] - 4s 807us/step - loss: 0.3692 - acc: 0.8730 - val_loss: 2.0818 - val_acc: 0.5816\n",
      "Epoch 16/100\n",
      "5216/5275 [============================>.] - ETA: 0s - loss: 0.3653 - acc: 0.8742\n",
      "Epoch 00016: val_acc did not improve\n",
      "5275/5275 [==============================] - 4s 834us/step - loss: 0.3643 - acc: 0.8751 - val_loss: 2.1142 - val_acc: 0.5812\n",
      "Epoch 17/100\n",
      "5184/5275 [============================>.] - ETA: 0s - loss: 0.3619 - acc: 0.8735\n",
      "Epoch 00017: val_acc did not improve\n",
      "5275/5275 [==============================] - 4s 818us/step - loss: 0.3612 - acc: 0.8737 - val_loss: 2.1338 - val_acc: 0.5805\n",
      "Epoch 18/100\n",
      "5216/5275 [============================>.] - ETA: 0s - loss: 0.3600 - acc: 0.8717\n",
      "Epoch 00018: val_acc did not improve\n",
      "5275/5275 [==============================] - 4s 809us/step - loss: 0.3597 - acc: 0.8720 - val_loss: 2.1569 - val_acc: 0.5803\n",
      "Epoch 19/100\n",
      "5248/5275 [============================>.] - ETA: 0s - loss: 0.3563 - acc: 0.8714\n",
      "Epoch 00019: val_acc did not improve\n",
      "5275/5275 [==============================] - 4s 827us/step - loss: 0.3563 - acc: 0.8713 - val_loss: 2.1785 - val_acc: 0.5799\n",
      "Epoch 20/100\n",
      "5216/5275 [============================>.] - ETA: 0s - loss: 0.3531 - acc: 0.8708\n",
      "Epoch 00020: val_acc did not improve\n",
      "5275/5275 [==============================] - 4s 816us/step - loss: 0.3543 - acc: 0.8705 - val_loss: 2.1987 - val_acc: 0.5795\n",
      "Epoch 21/100\n",
      "5184/5275 [============================>.] - ETA: 0s - loss: 0.3530 - acc: 0.8719\n",
      "Epoch 00021: val_acc did not improve\n",
      "5275/5275 [==============================] - 4s 803us/step - loss: 0.3536 - acc: 0.8715 - val_loss: 2.2167 - val_acc: 0.5799\n",
      "Epoch 22/100\n",
      "5184/5275 [============================>.] - ETA: 0s - loss: 0.3526 - acc: 0.8665\n",
      "Epoch 00022: val_acc did not improve\n",
      "5275/5275 [==============================] - 4s 803us/step - loss: 0.3512 - acc: 0.8673 - val_loss: 2.2357 - val_acc: 0.5799\n",
      "Epoch 23/100\n",
      "5216/5275 [============================>.] - ETA: 0s - loss: 0.3499 - acc: 0.8675\n",
      "Epoch 00023: val_acc did not improve\n",
      "5275/5275 [==============================] - 4s 808us/step - loss: 0.3503 - acc: 0.8675 - val_loss: 2.2514 - val_acc: 0.5807\n"
     ]
    },
    {
     "name": "stdout",
     "output_type": "stream",
     "text": [
      "Epoch 24/100\n",
      "5216/5275 [============================>.] - ETA: 0s - loss: 0.3467 - acc: 0.8689\n",
      "Epoch 00024: val_acc did not improve\n",
      "\n",
      "Epoch 00024: ReduceLROnPlateau reducing learning rate to 0.00010000000474974513.\n",
      "5275/5275 [==============================] - 5s 911us/step - loss: 0.3478 - acc: 0.8682 - val_loss: 2.2703 - val_acc: 0.5809\n",
      "Epoch 25/100\n",
      "5184/5275 [============================>.] - ETA: 0s - loss: 0.3471 - acc: 0.8675- ETA: 0s - loss: 0.3483 - acc: 0.86\n",
      "Epoch 00025: val_acc did not improve\n",
      "5275/5275 [==============================] - 5s 888us/step - loss: 0.3483 - acc: 0.8673 - val_loss: 2.2721 - val_acc: 0.5810\n",
      "Epoch 26/100\n",
      "5248/5275 [============================>.] - ETA: 0s - loss: 0.3474 - acc: 0.8674\n",
      "Epoch 00026: val_acc did not improve\n",
      "5275/5275 [==============================] - 5s 977us/step - loss: 0.3478 - acc: 0.8673 - val_loss: 2.2731 - val_acc: 0.5812\n",
      "Epoch 27/100\n",
      "5216/5275 [============================>.] - ETA: 0s - loss: 0.3436 - acc: 0.8692\n",
      "Epoch 00027: val_acc did not improve\n",
      "5275/5275 [==============================] - 5s 1ms/step - loss: 0.3464 - acc: 0.8679 - val_loss: 2.2745 - val_acc: 0.5814\n",
      "Epoch 28/100\n",
      "5216/5275 [============================>.] - ETA: 0s - loss: 0.3481 - acc: 0.8681\n",
      "Epoch 00028: val_acc did not improve\n",
      "5275/5275 [==============================] - 5s 853us/step - loss: 0.3470 - acc: 0.8686 - val_loss: 2.2755 - val_acc: 0.5814\n",
      "Epoch 29/100\n",
      "5248/5275 [============================>.] - ETA: 0s - loss: 0.3486 - acc: 0.8674\n",
      "Epoch 00029: val_acc did not improve\n",
      "5275/5275 [==============================] - 5s 883us/step - loss: 0.3479 - acc: 0.8677 - val_loss: 2.2780 - val_acc: 0.5814\n",
      "Epoch 30/100\n",
      "5216/5275 [============================>.] - ETA: 0s - loss: 0.3489 - acc: 0.8675\n",
      "Epoch 00030: val_acc did not improve\n",
      "5275/5275 [==============================] - 4s 825us/step - loss: 0.3489 - acc: 0.8675 - val_loss: 2.2794 - val_acc: 0.5812\n",
      "Epoch 31/100\n",
      "5216/5275 [============================>.] - ETA: 0s - loss: 0.3453 - acc: 0.8696\n",
      "Epoch 00031: val_acc did not improve\n",
      "5275/5275 [==============================] - 4s 851us/step - loss: 0.3457 - acc: 0.8696 - val_loss: 2.2805 - val_acc: 0.5816\n",
      "Epoch 32/100\n",
      "5248/5275 [============================>.] - ETA: 0s - loss: 0.3455 - acc: 0.8687\n",
      "Epoch 00032: val_acc did not improve\n",
      "5275/5275 [==============================] - 5s 930us/step - loss: 0.3464 - acc: 0.8684 - val_loss: 2.2821 - val_acc: 0.5816\n",
      "Epoch 33/100\n",
      "5184/5275 [============================>.] - ETA: 0s - loss: 0.3463 - acc: 0.8679\n",
      "Epoch 00033: val_acc did not improve\n",
      "5275/5275 [==============================] - 6s 1ms/step - loss: 0.3465 - acc: 0.8677 - val_loss: 2.2834 - val_acc: 0.5816\n"
     ]
    }
   ],
   "source": [
    "m = TCNN()\n",
    "m.summary()\n",
    "\n",
    "# Callbacks\n",
    "reduce_lr = ReduceLROnPlateau(monitor='val_acc', mode='max', factor=0.1, patience=10,\n",
    "                                verbose=1, cooldown=5, min_lr=0)\n",
    "early_stopper = EarlyStopping(monitor='val_acc', min_delta=0, \n",
    "                           patience=20, verbose=0, mode='max')\n",
    "\n",
    "model_1_path = \"./model/model_1/{}.h5\".format(\"model_1\")\n",
    "checkpoint = ModelCheckpoint(model_1_path, monitor='val_acc', verbose=1,save_best_only=True,save_weights_only=False, mode='max',period=1)\n",
    "callbacks_list = [checkpoint,early_stopper,reduce_lr]\n",
    "\n",
    "history1 = m.fit(X_train_pure, y_train_rs, epochs = 100,  callbacks=callbacks_list, verbose =1 , validation_data=(X_val_pure, y_val_rs))"
   ]
  },
  {
   "cell_type": "markdown",
   "metadata": {},
   "source": [
    "## Plot acc and loss"
   ]
  },
  {
   "cell_type": "code",
   "execution_count": 129,
   "metadata": {},
   "outputs": [
    {
     "data": {
      "image/png": "[encoded data removed]",
      "text/plain": [
       "<Figure size 432x288 with 1 Axes>"
      ]
     },
     "metadata": {},
     "output_type": "display_data"
    }
   ],
   "source": [
    "plt.plot(history1.history['acc'])\n",
    "plt.plot(history1.history['val_acc'])\n",
    "plt.title('model accuracy')\n",
    "plt.ylabel('accuracy')\n",
    "plt.xlabel('epoch')\n",
    "plt.legend(['train', 'test'], loc='upper left')\n",
    "plt.show()"
   ]
  },
  {
   "cell_type": "code",
   "execution_count": 130,
   "metadata": {},
   "outputs": [
    {
     "data": {
      "image/png": "[encoded data removed]",
      "text/plain": [
       "<Figure size 432x288 with 1 Axes>"
      ]
     },
     "metadata": {},
     "output_type": "display_data"
    }
   ],
   "source": [
    "plt.plot(history1.history['loss'])\n",
    "plt.plot(history1.history['val_loss'])\n",
    "plt.title('model loss')\n",
    "plt.ylabel('loss')\n",
    "plt.xlabel('epoch')\n",
    "plt.legend(['train', 'test'], loc='upper left')\n",
    "plt.show()"
   ]
  },
  {
   "cell_type": "markdown",
   "metadata": {},
   "source": [
    "## Predict"
   ]
  },
  {
   "cell_type": "code",
   "execution_count": 131,
   "metadata": {
    "collapsed": true
   },
   "outputs": [],
   "source": [
    "num_classes = 4"
   ]
  },
  {
   "cell_type": "code",
   "execution_count": 132,
   "metadata": {},
   "outputs": [
    {
     "name": "stdout",
     "output_type": "stream",
     "text": [
      "(5274, 4)\n",
      "(5274, 4)\n"
     ]
    }
   ],
   "source": [
    "y_pred2 = m.predict(X_test_pure)\n",
    "print(y_pred2.shape)\n",
    "print(y_test_rs.shape)"
   ]
  },
  {
   "cell_type": "code",
   "execution_count": 133,
   "metadata": {},
   "outputs": [],
   "source": [
    "y_pred2 = np.argmax(y_pred2, axis=1)"
   ]
  },
  {
   "cell_type": "code",
   "execution_count": 134,
   "metadata": {},
   "outputs": [
    {
     "name": "stdout",
     "output_type": "stream",
     "text": [
      "(5274,)\n",
      "(5274, 4)\n"
     ]
    }
   ],
   "source": [
    "print(y_pred2.shape)\n",
    "print(y_test_rs.shape)"
   ]
  },
  {
   "cell_type": "code",
   "execution_count": 135,
   "metadata": {},
   "outputs": [],
   "source": [
    "y_pred2 = np_utils.to_categorical(y_pred2, num_classes)"
   ]
  },
  {
   "cell_type": "code",
   "execution_count": 136,
   "metadata": {},
   "outputs": [
    {
     "name": "stdout",
     "output_type": "stream",
     "text": [
      "(5274, 4)\n",
      "(5274, 4)\n"
     ]
    }
   ],
   "source": [
    "print(y_pred2.shape)\n",
    "print(y_test_rs.shape)"
   ]
  },
  {
   "cell_type": "code",
   "execution_count": 137,
   "metadata": {},
   "outputs": [],
   "source": [
    "y_pred2 = np.array(y_pred2)\n",
    "y_test_rs = np.array(y_test_rs)"
   ]
  },
  {
   "cell_type": "code",
   "execution_count": 138,
   "metadata": {},
   "outputs": [
    {
     "name": "stdout",
     "output_type": "stream",
     "text": [
      "[[ 1.  0.  0.  0.]\n",
      " [ 1.  0.  0.  0.]\n",
      " [ 1.  0.  0.  0.]\n",
      " ..., \n",
      " [ 0.  0.  1.  0.]\n",
      " [ 0.  0.  1.  0.]\n",
      " [ 0.  0.  1.  0.]]\n",
      "[[1 0 0 0]\n",
      " [1 0 0 0]\n",
      " [1 0 0 0]\n",
      " ..., \n",
      " [0 0 0 1]\n",
      " [0 0 0 1]\n",
      " [0 0 0 1]]\n"
     ]
    }
   ],
   "source": [
    "print(y_pred2)\n",
    "print(y_test_rs)"
   ]
  },
  {
   "cell_type": "code",
   "execution_count": 139,
   "metadata": {
    "collapsed": true
   },
   "outputs": [],
   "source": [
    "LABELS = list(label_dict.values())"
   ]
  },
  {
   "cell_type": "markdown",
   "metadata": {},
   "source": [
    "## Visualization"
   ]
  },
  {
   "cell_type": "code",
   "execution_count": 140,
   "metadata": {
    "collapsed": true
   },
   "outputs": [],
   "source": [
    "%run eval_score.ipynb"
   ]
  },
  {
   "cell_type": "code",
   "execution_count": 141,
   "metadata": {},
   "outputs": [
    {
     "data": {
      "image/png": "[encoded data removed]",
      "text/plain": [
       "<Figure size 432x288 with 2 Axes>"
      ]
     },
     "metadata": {},
     "output_type": "display_data"
    },
    {
     "data": {
      "image/png": "[encoded data removed]",
      "text/plain": [
       "<Figure size 432x288 with 2 Axes>"
      ]
     },
     "metadata": {},
     "output_type": "display_data"
    }
   ],
   "source": [
    "show_conf_matrix(y_test_rs.argmax(axis=1), y_pred2.argmax(axis=1), LABELS)"
   ]
  },
  {
   "cell_type": "code",
   "execution_count": 142,
   "metadata": {
    "scrolled": true
   },
   "outputs": [
    {
     "name": "stdout",
     "output_type": "stream",
     "text": [
      "             precision    recall  f1-score   support\n",
      "\n",
      "        sit       0.89      0.85      0.87       983\n",
      "      sleep       0.98      0.63      0.76       950\n",
      "      stand       0.39      1.00      0.56      1449\n",
      "       walk       0.00      0.00      0.00      1892\n",
      "\n",
      "avg / total       0.45      0.55      0.45      5274\n",
      "\n"
     ]
    },
    {
     "name": "stderr",
     "output_type": "stream",
     "text": [
      "C:\\Users\\fifamd\\Anaconda3\\envs\\tf\\lib\\site-packages\\sklearn\\metrics\\classification.py:1135: UndefinedMetricWarning: Precision and F-score are ill-defined and being set to 0.0 in labels with no predicted samples.\n",
      "  'precision', 'predicted', average, warn_for)\n"
     ]
    }
   ],
   "source": [
    "show_clf_report(y_test_rs, y_pred2, LABELS)"
   ]
  },
  {
   "cell_type": "code",
   "execution_count": null,
   "metadata": {
    "collapsed": true
   },
   "outputs": [],
   "source": []
  }
 ],
 "metadata": {
  "kernelspec": {
   "display_name": "Python (tf)",
   "language": "python",
   "name": "tf"
  },
  "language_info": {
   "codemirror_mode": {
    "name": "ipython",
    "version": 3
   },
   "file_extension": ".py",
   "mimetype": "text/x-python",
   "name": "python",
   "nbconvert_exporter": "python",
   "pygments_lexer": "ipython3",
   "version": "3.6.3"
  }
 },
 "nbformat": 4,
 "nbformat_minor": 2
}
