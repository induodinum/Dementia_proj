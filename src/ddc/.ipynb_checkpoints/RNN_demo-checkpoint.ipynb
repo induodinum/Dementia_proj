{
 "cells": [
  {
   "cell_type": "markdown",
   "metadata": {
    "colab_type": "text",
    "id": "mjsfLZ4YB85B"
   },
   "source": [
    "# Import Dataset"
   ]
  },
  {
   "cell_type": "markdown",
   "metadata": {
    "colab_type": "text",
    "id": "v788FJQoCxWa"
   },
   "source": [
    "## **Import Modules**"
   ]
  },
  {
   "cell_type": "code",
   "execution_count": 1,
   "metadata": {
    "colab": {},
    "colab_type": "code",
    "id": "vfQs0bJxxVsN"
   },
   "outputs": [],
   "source": [
    "import pandas as pd\n",
    "import numpy as np\n",
    "import math\n",
    "import matplotlib.pyplot as plt\n",
    "import os\n",
    "\n",
    "from os import listdir\n",
    "from os.path import isfile, join"
   ]
  },
  {
   "cell_type": "markdown",
   "metadata": {
    "colab_type": "text",
    "id": "8OjM7U3q2wH1"
   },
   "source": [
    "## **Load OPPORTUNITY Dataset**"
   ]
  },
  {
   "cell_type": "code",
   "execution_count": 2,
   "metadata": {
    "colab": {},
    "colab_type": "code",
    "id": "o0MBMLuCx5DC"
   },
   "outputs": [],
   "source": [
    "mypath = 'Dataset/OpportunityDataset/dataset'\n",
    "basepath = ''\n",
    "\n",
    "files = [f for f in listdir(mypath) if isfile(join(mypath, f)) and f[-3:]=='dat' and f[-9:-4]!='Drill']\n",
    "files = sorted(files)\n",
    "files = [join(mypath,f) for f in files]"
   ]
  },
  {
   "cell_type": "code",
   "execution_count": 3,
   "metadata": {
    "colab": {},
    "colab_type": "code",
    "id": "44yiMGyVt0yn"
   },
   "outputs": [],
   "source": [
    "def load_data(filename):\n",
    "  g = 9.8\n",
    "  xyz_cols = ['x','y','z']\n",
    "  using_cols = [0,23,24,25,243]\n",
    "  \n",
    "  df = pd.read_csv(filename, sep='\\s+', usecols=using_cols,names=['ts','x','y','z','label'], header=None, engine='python')\n",
    "\n",
    "  df = df.dropna(axis='index')\n",
    "  df[xyz_cols] = df[xyz_cols].apply(lambda x: x/1000 * g)\n",
    "  \n",
    "  return df"
   ]
  },
  {
   "cell_type": "code",
   "execution_count": 4,
   "metadata": {
    "colab": {},
    "colab_type": "code",
    "id": "rvWf7GFrHzPk"
   },
   "outputs": [],
   "source": [
    "df1 = load_data(files[0])\n",
    "df2 = load_data(files[1])\n",
    "df3 = load_data(files[2])"
   ]
  },
  {
   "cell_type": "code",
   "execution_count": 5,
   "metadata": {
    "colab": {
     "base_uri": "https://localhost:8080/",
     "height": 119
    },
    "colab_type": "code",
    "executionInfo": {
     "elapsed": 14531,
     "status": "ok",
     "timestamp": 1548331289880,
     "user": {
      "displayName": "Korpong Sawataksornchuen",
      "photoUrl": "https://lh4.googleusercontent.com/-Fs38zY4a4Z0/AAAAAAAAAAI/AAAAAAAAEFo/7hYtZAcKXLg/s64/photo.jpg",
      "userId": "00289111090385315496"
     },
     "user_tz": -420
    },
    "id": "dGeh6XHv0b4s",
    "outputId": "6229cfb4-cb53-4aff-b487-ffc3506d55e7"
   },
   "outputs": [
    {
     "data": {
      "text/plain": [
       "1    22168\n",
       "0    12951\n",
       "4     7437\n",
       "2     6465\n",
       "5     1128\n",
       "Name: label, dtype: int64"
      ]
     },
     "execution_count": 5,
     "metadata": {},
     "output_type": "execute_result"
    }
   ],
   "source": [
    "df1['label'].value_counts()"
   ]
  },
  {
   "cell_type": "code",
   "execution_count": 6,
   "metadata": {
    "colab": {
     "base_uri": "https://localhost:8080/",
     "height": 119
    },
    "colab_type": "code",
    "executionInfo": {
     "elapsed": 14525,
     "status": "ok",
     "timestamp": 1548331289880,
     "user": {
      "displayName": "Korpong Sawataksornchuen",
      "photoUrl": "https://lh4.googleusercontent.com/-Fs38zY4a4Z0/AAAAAAAAAAI/AAAAAAAAEFo/7hYtZAcKXLg/s64/photo.jpg",
      "userId": "00289111090385315496"
     },
     "user_tz": -420
    },
    "id": "4V2ydKX0H_ER",
    "outputId": "e1072111-4e1f-4129-8ae1-06e79ddf114e"
   },
   "outputs": [],
   "source": [
    "# df2['label'].value_counts()"
   ]
  },
  {
   "cell_type": "code",
   "execution_count": 7,
   "metadata": {
    "colab": {
     "base_uri": "https://localhost:8080/",
     "height": 119
    },
    "colab_type": "code",
    "executionInfo": {
     "elapsed": 14518,
     "status": "ok",
     "timestamp": 1548331289881,
     "user": {
      "displayName": "Korpong Sawataksornchuen",
      "photoUrl": "https://lh4.googleusercontent.com/-Fs38zY4a4Z0/AAAAAAAAAAI/AAAAAAAAEFo/7hYtZAcKXLg/s64/photo.jpg",
      "userId": "00289111090385315496"
     },
     "user_tz": -420
    },
    "id": "gXpuY1F0uJtP",
    "outputId": "a89f8e93-03ce-4b23-c6b6-64721db12cd1"
   },
   "outputs": [],
   "source": [
    "# df3['label'].value_counts()"
   ]
  },
  {
   "cell_type": "markdown",
   "metadata": {
    "colab_type": "text",
    "id": "VmdlKM_JCAlo"
   },
   "source": [
    "# Preprocess Data"
   ]
  },
  {
   "cell_type": "markdown",
   "metadata": {
    "colab_type": "text",
    "id": "NhS3Pg0UCk8G"
   },
   "source": [
    "## **Import sklearn Library**"
   ]
  },
  {
   "cell_type": "code",
   "execution_count": 8,
   "metadata": {
    "colab": {},
    "colab_type": "code",
    "id": "ua0LL7mE2uel"
   },
   "outputs": [],
   "source": [
    "from sklearn.preprocessing import MinMaxScaler, label_binarize\n",
    "from sklearn.metrics import roc_auc_score, accuracy_score, confusion_matrix"
   ]
  },
  {
   "cell_type": "markdown",
   "metadata": {
    "colab_type": "text",
    "id": "GKcqSpuOvwop"
   },
   "source": [
    "## **Prepare Data**"
   ]
  },
  {
   "cell_type": "code",
   "execution_count": 9,
   "metadata": {
    "colab": {},
    "colab_type": "code",
    "id": "hhu9rSuQIN_8"
   },
   "outputs": [],
   "source": [
    "def normalize_data(series):\n",
    "  series = np.array(series)\n",
    "  \n",
    "  scaler = MinMaxScaler(feature_range=(0, 1))\n",
    "  scaler = scaler.fit(series)\n",
    "  \n",
    "  return scaler.transform(series)"
   ]
  },
  {
   "cell_type": "code",
   "execution_count": 10,
   "metadata": {
    "colab": {},
    "colab_type": "code",
    "id": "yo0va4C380oH"
   },
   "outputs": [],
   "source": [
    "def prepare_data(df1):\n",
    "  feature_cols = ['x','y','z']\n",
    "  label_cols = ['label']\n",
    "\n",
    "  X_series = df1[feature_cols]\n",
    "  y_series = df1[label_cols]\n",
    "\n",
    "  X_train = normalize_data(X_series)\n",
    "  # Convert labels to a binary vector\n",
    "  y_train = label_binarize(y_series.values, classes=[0,1,2,3,4,5])\n",
    "\n",
    "  length = len(X_train)\n",
    "\n",
    "  X_train = X_train.reshape((length,1,TRIAXIAL))\n",
    "  y_train = y_train.reshape((length,1,LABEL_COUNT))\n",
    "  \n",
    "  return X_train, y_train"
   ]
  },
  {
   "cell_type": "code",
   "execution_count": 11,
   "metadata": {
    "colab": {},
    "colab_type": "code",
    "id": "Qea5uxujtc3H"
   },
   "outputs": [],
   "source": [
    "# define parameters\n",
    "LABEL_COUNT = 6\n",
    "TRIAXIAL = 3"
   ]
  },
  {
   "cell_type": "code",
   "execution_count": 12,
   "metadata": {
    "colab": {},
    "colab_type": "code",
    "id": "kwDKb6ipQSeF"
   },
   "outputs": [],
   "source": [
    "# Load data from a certain dataframe\n",
    "X_train, y_train = prepare_data(df1)\n",
    "X_val, y_val = prepare_data(df2)\n",
    "X_test, y_test = prepare_data(df3)"
   ]
  },
  {
   "cell_type": "code",
   "execution_count": 13,
   "metadata": {
    "colab": {
     "base_uri": "https://localhost:8080/",
     "height": 34
    },
    "colab_type": "code",
    "executionInfo": {
     "elapsed": 14496,
     "status": "ok",
     "timestamp": 1548331289889,
     "user": {
      "displayName": "Korpong Sawataksornchuen",
      "photoUrl": "https://lh4.googleusercontent.com/-Fs38zY4a4Z0/AAAAAAAAAAI/AAAAAAAAEFo/7hYtZAcKXLg/s64/photo.jpg",
      "userId": "00289111090385315496"
     },
     "user_tz": -420
    },
    "id": "ODe1VVl3u49l",
    "outputId": "a62ec89f-fc56-4857-8f92-c36822cf8f40"
   },
   "outputs": [
    {
     "name": "stdout",
     "output_type": "stream",
     "text": [
      "31145\n"
     ]
    }
   ],
   "source": [
    "VALIDAT_LEN = len(X_val)\n",
    "print(VALIDAT_LEN)\n",
    "\n",
    "X_train_1 = X_train[:VALIDAT_LEN]\n",
    "y_train_1 = y_train[:VALIDAT_LEN]\n",
    "\n",
    "X_test = X_test[:VALIDAT_LEN]\n",
    "y_test = y_test[:VALIDAT_LEN]"
   ]
  },
  {
   "cell_type": "code",
   "execution_count": 14,
   "metadata": {
    "colab": {
     "base_uri": "https://localhost:8080/",
     "height": 136
    },
    "colab_type": "code",
    "executionInfo": {
     "elapsed": 14491,
     "status": "ok",
     "timestamp": 1548331289891,
     "user": {
      "displayName": "Korpong Sawataksornchuen",
      "photoUrl": "https://lh4.googleusercontent.com/-Fs38zY4a4Z0/AAAAAAAAAAI/AAAAAAAAEFo/7hYtZAcKXLg/s64/photo.jpg",
      "userId": "00289111090385315496"
     },
     "user_tz": -420
    },
    "id": "exoQAq0VqLAg",
    "outputId": "a73473d4-a843-4c89-c457-04f6880e8304"
   },
   "outputs": [
    {
     "name": "stdout",
     "output_type": "stream",
     "text": [
      "(31145, 1, 3) (31145, 1, 3) (31145, 1, 3)\n",
      "(31145, 1, 6) (31145, 1, 6) (31145, 1, 6)\n",
      "\n",
      "31145 31145\n",
      "\n",
      "[[0.66486703 0.56163583 0.55995298]]\n",
      "[[1 0 0 0 0 0]]\n"
     ]
    }
   ],
   "source": [
    "TESTING_LEN = len(X_test)\n",
    "# TRAINING_LEN = len(X_train)\n",
    "\n",
    "print(X_train_1.shape, X_val.shape, X_test.shape)\n",
    "print(y_train_1.shape, y_val.shape, y_test.shape)\n",
    "\n",
    "print()\n",
    "print(VALIDAT_LEN, TESTING_LEN)\n",
    "print()\n",
    "\n",
    "print(X_test[0])\n",
    "print(y_test[0])"
   ]
  },
  {
   "cell_type": "code",
   "execution_count": 15,
   "metadata": {},
   "outputs": [],
   "source": [
    "LABELS = [0,1,2,4,5]"
   ]
  },
  {
   "cell_type": "code",
   "execution_count": 16,
   "metadata": {
    "colab": {
     "base_uri": "https://localhost:8080/",
     "height": 68
    },
    "colab_type": "code",
    "executionInfo": {
     "elapsed": 14782,
     "status": "ok",
     "timestamp": 1548331290188,
     "user": {
      "displayName": "Korpong Sawataksornchuen",
      "photoUrl": "https://lh4.googleusercontent.com/-Fs38zY4a4Z0/AAAAAAAAAAI/AAAAAAAAEFo/7hYtZAcKXLg/s64/photo.jpg",
      "userId": "00289111090385315496"
     },
     "user_tz": -420
    },
    "id": "V6CjgeRbQhzv",
    "outputId": "316dd5fe-14e9-4d48-c4b0-c8be99dfcefc"
   },
   "outputs": [
    {
     "name": "stdout",
     "output_type": "stream",
     "text": [
      "[0 1 0 0 0 0] \n",
      "\n",
      "[6686, 0, 0, 0, 0, 0]\n"
     ]
    }
   ],
   "source": [
    "d1 = y_val\n",
    "# print(len(d1))\n",
    "print(d1[1600][0],'\\n')\n",
    "  \n",
    "cnter = [0,0,0,0,0,0]\n",
    "\n",
    "for x in range(len(d1)):\n",
    "  for a in range(len(d1[0])):\n",
    "    for lb in LABELS:\n",
    "      if d1[x][0][a]==1 and a==lb:\n",
    "        cnter[a] += 1\n",
    "        \n",
    "print(cnter)"
   ]
  },
  {
   "cell_type": "code",
   "execution_count": 17,
   "metadata": {},
   "outputs": [
    {
     "name": "stderr",
     "output_type": "stream",
     "text": [
      "Using TensorFlow backend.\n"
     ]
    }
   ],
   "source": [
    "%run RNN_model.ipynb"
   ]
  },
  {
   "cell_type": "code",
   "execution_count": 18,
   "metadata": {},
   "outputs": [],
   "source": [
    "# rnn_model = create_rnn_model(X_train_1)\n",
    "# rnn_model.summary()\n",
    "\n",
    "# rnn_model = compile_model(rnn_model)\n",
    "# rnn_model = train_model(rnn_model, X_train_1, y_train_1, \n",
    "#                         X_val, y_val)\n",
    "\n",
    "# y_pred = get_y_predict(rnn_model, X_test)"
   ]
  },
  {
   "cell_type": "markdown",
   "metadata": {
    "colab_type": "text",
    "id": "e7dC1fK5COTs"
   },
   "source": [
    " # Classification"
   ]
  },
  {
   "cell_type": "markdown",
   "metadata": {
    "colab_type": "text",
    "id": "WhgM2hKIEKwi"
   },
   "source": [
    "## Import keras library"
   ]
  },
  {
   "cell_type": "code",
   "execution_count": 19,
   "metadata": {
    "colab": {},
    "colab_type": "code",
    "id": "1e-ygiLlEN8f"
   },
   "outputs": [],
   "source": [
    "import keras\n",
    "\n",
    "from keras import metrics\n",
    "from keras import callbacks\n",
    "from keras import models\n",
    "\n",
    "from keras.models import Sequential\n",
    "from keras.layers import Dense, Activation, Dropout\n",
    "from keras.layers import GRU, Input, concatenate\n",
    "from keras.callbacks import ModelCheckpoint, EarlyStopping, LearningRateScheduler"
   ]
  },
  {
   "cell_type": "markdown",
   "metadata": {
    "colab_type": "text",
    "id": "pM3IwF0Dv2tn"
   },
   "source": [
    "## **Create RNN Model**"
   ]
  },
  {
   "cell_type": "code",
   "execution_count": 20,
   "metadata": {
    "colab": {},
    "colab_type": "code",
    "id": "JBEpZbFN7J8B"
   },
   "outputs": [],
   "source": [
    "def create_rnn_model(X_val):\n",
    "  model = Sequential()\n",
    "  \n",
    "  # RNN layers\n",
    "  gru_layer_1 = GRU(units=GRU_UNITS, \n",
    "                 dropout=0.1, recurrent_dropout=0.1, \n",
    "                 return_sequences=True,\n",
    "                 input_shape=(X_val.shape[1], X_val.shape[2]))\n",
    "  \n",
    "  model.add(gru_layer_1)\n",
    "  model.add(Activation('relu'))\n",
    "  \n",
    "  gru_layer_2 = GRU(units=GRU_UNITS_2, \n",
    "                 dropout=0.1, recurrent_dropout=0.1, \n",
    "                 return_sequences=True)\n",
    "\n",
    "  model.add(gru_layer_2)\n",
    "  model.add(Activation('relu'))\n",
    "  \n",
    "  # Output layers\n",
    "  output = Dense(LABEL_COUNT, activation='softmax')\n",
    "#   drpout = Dropout(0.08, seed=42)\n",
    "  model.add(output)\n",
    "#   model.add(drpout)\n",
    "  \n",
    "  return model"
   ]
  },
  {
   "cell_type": "code",
   "execution_count": 21,
   "metadata": {
    "colab": {
     "base_uri": "https://localhost:8080/",
     "height": 306
    },
    "colab_type": "code",
    "executionInfo": {
     "elapsed": 1322,
     "status": "ok",
     "timestamp": 1548331915978,
     "user": {
      "displayName": "Korpong Sawataksornchuen",
      "photoUrl": "https://lh4.googleusercontent.com/-Fs38zY4a4Z0/AAAAAAAAAAI/AAAAAAAAEFo/7hYtZAcKXLg/s64/photo.jpg",
      "userId": "00289111090385315496"
     },
     "user_tz": -420
    },
    "id": "JRwPUX1j-GJ8",
    "outputId": "fc0957a1-b027-4a6e-e83d-4fc5fe881a16"
   },
   "outputs": [
    {
     "name": "stdout",
     "output_type": "stream",
     "text": [
      "_________________________________________________________________\n",
      "Layer (type)                 Output Shape              Param #   \n",
      "=================================================================\n",
      "gru_1 (GRU)                  (None, 1, 90)             25380     \n",
      "_________________________________________________________________\n",
      "activation_1 (Activation)    (None, 1, 90)             0         \n",
      "_________________________________________________________________\n",
      "gru_2 (GRU)                  (None, 1, 90)             48870     \n",
      "_________________________________________________________________\n",
      "activation_2 (Activation)    (None, 1, 90)             0         \n",
      "_________________________________________________________________\n",
      "dense_1 (Dense)              (None, 1, 6)              546       \n",
      "=================================================================\n",
      "Total params: 74,796\n",
      "Trainable params: 74,796\n",
      "Non-trainable params: 0\n",
      "_________________________________________________________________\n"
     ]
    }
   ],
   "source": [
    "# define GRU units\n",
    "GRU_UNITS = 90\n",
    "GRU_UNITS_2 = 90\n",
    "\n",
    "rnn_model = create_rnn_model(X_val)\n",
    "rnn_model.summary()"
   ]
  },
  {
   "cell_type": "code",
   "execution_count": 22,
   "metadata": {
    "colab": {},
    "colab_type": "code",
    "id": "DESm_0AyHaCO"
   },
   "outputs": [],
   "source": [
    "initial_lrate = 0.001\n",
    "\n",
    "optimizer = keras.optimizers.Adam(lr=initial_lrate)\n",
    "\n",
    "rnn_model.compile(optimizer=optimizer,\n",
    "                  loss=keras.losses.categorical_crossentropy,\n",
    "                  metrics=[metrics.categorical_accuracy])"
   ]
  },
  {
   "cell_type": "markdown",
   "metadata": {
    "colab_type": "text",
    "id": "kRL8_NVpGz8n"
   },
   "source": [
    "## Train the Model"
   ]
  },
  {
   "cell_type": "code",
   "execution_count": 23,
   "metadata": {
    "colab": {},
    "colab_type": "code",
    "id": "XfOr-s8osBv2"
   },
   "outputs": [],
   "source": [
    "drop = 0.9\n",
    "epochs_drop = 9.0\n",
    "\n",
    "decay_rate = []"
   ]
  },
  {
   "cell_type": "code",
   "execution_count": 24,
   "metadata": {
    "colab": {},
    "colab_type": "code",
    "id": "wVbHh9Ohq52n"
   },
   "outputs": [],
   "source": [
    "def scheduler(epoch):\n",
    "  lrate = initial_lrate * math.pow(drop, math.floor((epoch)/epochs_drop))\n",
    "  decay_rate.append(lrate)\n",
    "  \n",
    "  return lrate"
   ]
  },
  {
   "cell_type": "code",
   "execution_count": 25,
   "metadata": {
    "colab": {},
    "colab_type": "code",
    "id": "vMJBTI3Noxny"
   },
   "outputs": [],
   "source": [
    "chkpoint_path = basepath + 'model_chkpoints/weights.best.hdf5'\n",
    "\n",
    "model_chkpoint = ModelCheckpoint(chkpoint_path, verbose=0, save_best_only=True, save_weights_only=True)\n",
    "early_stop = EarlyStopping(monitor='categorical_accuracy', min_delta=0.1, patience=10, verbose=0)\n",
    "lrate = LearningRateScheduler(scheduler, verbose=1)"
   ]
  },
  {
   "cell_type": "code",
   "execution_count": 26,
   "metadata": {
    "colab": {},
    "colab_type": "code",
    "id": "5Pc5wr8yydGq"
   },
   "outputs": [],
   "source": [
    "BATCH_SIZE = 50\n",
    "EPOCHS = 50"
   ]
  },
  {
   "cell_type": "code",
   "execution_count": 27,
   "metadata": {
    "colab": {
     "base_uri": "https://localhost:8080/",
     "height": 1054
    },
    "colab_type": "code",
    "executionInfo": {
     "elapsed": 219043,
     "status": "ok",
     "timestamp": 1548332133752,
     "user": {
      "displayName": "Korpong Sawataksornchuen",
      "photoUrl": "https://lh4.googleusercontent.com/-Fs38zY4a4Z0/AAAAAAAAAAI/AAAAAAAAEFo/7hYtZAcKXLg/s64/photo.jpg",
      "userId": "00289111090385315496"
     },
     "user_tz": -420
    },
    "id": "Rpp1nBvPHkWA",
    "outputId": "a33dfd95-a143-437e-9f40-f44e31526396"
   },
   "outputs": [
    {
     "name": "stdout",
     "output_type": "stream",
     "text": [
      "Train on 31145 samples, validate on 31145 samples\n",
      "Epoch 1/50\n",
      "\n",
      "Epoch 00001: LearningRateScheduler setting learning rate to 0.001.\n",
      "31145/31145 [==============================] - 29s 931us/step - loss: 1.1872 - categorical_accuracy: 0.4984 - val_loss: 1.7117 - val_categorical_accuracy: 0.3297\n",
      "Epoch 2/50\n",
      "\n",
      "Epoch 00002: LearningRateScheduler setting learning rate to 0.001.\n",
      "31145/31145 [==============================] - 18s 570us/step - loss: 1.1177 - categorical_accuracy: 0.5227 - val_loss: 1.5880 - val_categorical_accuracy: 0.3313\n",
      "Epoch 3/50\n",
      "\n",
      "Epoch 00003: LearningRateScheduler setting learning rate to 0.001.\n",
      "31145/31145 [==============================] - 18s 567us/step - loss: 1.0511 - categorical_accuracy: 0.5576 - val_loss: 1.4653 - val_categorical_accuracy: 0.3321\n",
      "Epoch 4/50\n",
      "\n",
      "Epoch 00004: LearningRateScheduler setting learning rate to 0.001.\n",
      "31145/31145 [==============================] - 18s 569us/step - loss: 1.0055 - categorical_accuracy: 0.5591 - val_loss: 1.4094 - val_categorical_accuracy: 0.3322\n",
      "Epoch 5/50\n",
      "\n",
      "Epoch 00005: LearningRateScheduler setting learning rate to 0.001.\n",
      "31145/31145 [==============================] - 18s 579us/step - loss: 0.9715 - categorical_accuracy: 0.5714 - val_loss: 1.3765 - val_categorical_accuracy: 0.4163\n",
      "Epoch 6/50\n",
      "\n",
      "Epoch 00006: LearningRateScheduler setting learning rate to 0.001.\n",
      "31145/31145 [==============================] - 20s 628us/step - loss: 0.9431 - categorical_accuracy: 0.5904 - val_loss: 1.4000 - val_categorical_accuracy: 0.3463\n",
      "Epoch 7/50\n",
      "\n",
      "Epoch 00007: LearningRateScheduler setting learning rate to 0.001.\n",
      "31145/31145 [==============================] - 19s 605us/step - loss: 0.9268 - categorical_accuracy: 0.6013 - val_loss: 1.4069 - val_categorical_accuracy: 0.3645\n",
      "Epoch 8/50\n",
      "\n",
      "Epoch 00008: LearningRateScheduler setting learning rate to 0.001.\n",
      "31145/31145 [==============================] - 18s 590us/step - loss: 0.9164 - categorical_accuracy: 0.6038 - val_loss: 1.3874 - val_categorical_accuracy: 0.3890\n",
      "Epoch 9/50\n",
      "\n",
      "Epoch 00009: LearningRateScheduler setting learning rate to 0.001.\n",
      "31145/31145 [==============================] - 18s 593us/step - loss: 0.9077 - categorical_accuracy: 0.6107 - val_loss: 1.3632 - val_categorical_accuracy: 0.4048\n",
      "Epoch 10/50\n",
      "\n",
      "Epoch 00010: LearningRateScheduler setting learning rate to 0.0009000000000000001.\n",
      "31145/31145 [==============================] - 19s 615us/step - loss: 0.9032 - categorical_accuracy: 0.6081 - val_loss: 1.4405 - val_categorical_accuracy: 0.3765\n",
      "Epoch 11/50\n",
      "\n",
      "Epoch 00011: LearningRateScheduler setting learning rate to 0.0009000000000000001.\n",
      "31145/31145 [==============================] - 22s 691us/step - loss: 0.8966 - categorical_accuracy: 0.6127 - val_loss: 1.4490 - val_categorical_accuracy: 0.3998\n",
      "Epoch 12/50\n",
      "\n",
      "Epoch 00012: LearningRateScheduler setting learning rate to 0.0009000000000000001.\n",
      "31145/31145 [==============================] - 20s 641us/step - loss: 0.8903 - categorical_accuracy: 0.6164 - val_loss: 1.4507 - val_categorical_accuracy: 0.3961\n",
      "Epoch 13/50\n",
      "\n",
      "Epoch 00013: LearningRateScheduler setting learning rate to 0.0009000000000000001.\n",
      "31145/31145 [==============================] - 19s 618us/step - loss: 0.8890 - categorical_accuracy: 0.6156 - val_loss: 1.4513 - val_categorical_accuracy: 0.3908\n",
      "Epoch 14/50\n",
      "\n",
      "Epoch 00014: LearningRateScheduler setting learning rate to 0.0009000000000000001.\n",
      "31145/31145 [==============================] - 20s 647us/step - loss: 0.8832 - categorical_accuracy: 0.6156 - val_loss: 1.4927 - val_categorical_accuracy: 0.3946\n",
      "Epoch 15/50\n",
      "\n",
      "Epoch 00015: LearningRateScheduler setting learning rate to 0.0009000000000000001.\n",
      "31145/31145 [==============================] - 19s 622us/step - loss: 0.8815 - categorical_accuracy: 0.6170 - val_loss: 1.4653 - val_categorical_accuracy: 0.3991\n",
      "Epoch 16/50\n",
      "\n",
      "Epoch 00016: LearningRateScheduler setting learning rate to 0.0009000000000000001.\n",
      "31145/31145 [==============================] - 20s 632us/step - loss: 0.8773 - categorical_accuracy: 0.6190 - val_loss: 1.4311 - val_categorical_accuracy: 0.4007\n",
      "Epoch 17/50\n",
      "\n",
      "Epoch 00017: LearningRateScheduler setting learning rate to 0.0009000000000000001.\n",
      "31145/31145 [==============================] - 19s 598us/step - loss: 0.8707 - categorical_accuracy: 0.6222 - val_loss: 1.4810 - val_categorical_accuracy: 0.3925\n"
     ]
    }
   ],
   "source": [
    "model_fit = rnn_model.fit(X_train_1, y_train_1,\n",
    "                 batch_size=BATCH_SIZE,\n",
    "                 epochs=EPOCHS,\n",
    "                 validation_data=(X_val, y_val),\n",
    "                 verbose=1,\n",
    "                 callbacks=[model_chkpoint, early_stop, lrate])"
   ]
  },
  {
   "cell_type": "code",
   "execution_count": 28,
   "metadata": {
    "colab": {
     "base_uri": "https://localhost:8080/",
     "height": 362
    },
    "colab_type": "code",
    "executionInfo": {
     "elapsed": 219992,
     "status": "ok",
     "timestamp": 1548332134708,
     "user": {
      "displayName": "Korpong Sawataksornchuen",
      "photoUrl": "https://lh4.googleusercontent.com/-Fs38zY4a4Z0/AAAAAAAAAAI/AAAAAAAAEFo/7hYtZAcKXLg/s64/photo.jpg",
      "userId": "00289111090385315496"
     },
     "user_tz": -420
    },
    "id": "adMlSV8dvKIP",
    "outputId": "23f4180b-a6ab-4bd8-cc1e-1028c2e26484"
   },
   "outputs": [
    {
     "data": {
      "image/png": "[encoded data removed]",
      "text/plain": [
       "<Figure size 432x288 with 1 Axes>"
      ]
     },
     "metadata": {
      "needs_background": "light"
     },
     "output_type": "display_data"
    }
   ],
   "source": [
    "plt.plot(model_fit.history['categorical_accuracy'])\n",
    "plt.title('Categorical Acc. for GRU Units: ' + str(GRU_UNITS) + ', GRU Units (2): ' + str(GRU_UNITS_2) + ' ,and Batch_size: ' + str(BATCH_SIZE))\n",
    "\n",
    "plt.savefig(basepath + 'Graphs/RNN_accuracy_' + str(GRU_UNITS) + '_' + str(GRU_UNITS_2) + '_' + str(BATCH_SIZE) + '.png', dpi=200)\n",
    "plt.show()"
   ]
  },
  {
   "cell_type": "markdown",
   "metadata": {
    "colab_type": "text",
    "id": "YWkQubDsG4-N"
   },
   "source": [
    "## Evaluate the Model"
   ]
  },
  {
   "cell_type": "code",
   "execution_count": 29,
   "metadata": {
    "colab": {},
    "colab_type": "code",
    "id": "e0emCX0imNYv"
   },
   "outputs": [],
   "source": [
    "rnn_model.load_weights(chkpoint_path)"
   ]
  },
  {
   "cell_type": "code",
   "execution_count": 30,
   "metadata": {
    "colab": {},
    "colab_type": "code",
    "id": "EKQvtTtyszmC"
   },
   "outputs": [],
   "source": [
    "y_pred = rnn_model.predict(X_test, batch_size=BATCH_SIZE)"
   ]
  },
  {
   "cell_type": "code",
   "execution_count": 31,
   "metadata": {
    "colab": {},
    "colab_type": "code",
    "id": "OLWHyMy5NjAd"
   },
   "outputs": [],
   "source": [
    "# get the max probability for label binarized y value\n",
    "def convert_y(y):\n",
    "  y_conv = [j for i in range(len(y)) for j in range(len(y[i][0])) if y[i][0][j]==np.amax(y[i][0])]\n",
    "  return np.array(y_conv)"
   ]
  },
  {
   "cell_type": "code",
   "execution_count": 32,
   "metadata": {
    "colab": {
     "base_uri": "https://localhost:8080/",
     "height": 68
    },
    "colab_type": "code",
    "executionInfo": {
     "elapsed": 235616,
     "status": "ok",
     "timestamp": 1548332150359,
     "user": {
      "displayName": "Korpong Sawataksornchuen",
      "photoUrl": "https://lh4.googleusercontent.com/-Fs38zY4a4Z0/AAAAAAAAAAI/AAAAAAAAEFo/7hYtZAcKXLg/s64/photo.jpg",
      "userId": "00289111090385315496"
     },
     "user_tz": -420
    },
    "id": "Arf2QQzCp76d",
    "outputId": "13560092-aa43-47e8-c14e-4467dc9fbc9a"
   },
   "outputs": [
    {
     "name": "stdout",
     "output_type": "stream",
     "text": [
      "[0 0 0 ... 0 0 0]\n",
      "[1 1 1 ... 1 1 1]\n"
     ]
    }
   ],
   "source": [
    "print(convert_y(y_test))\n",
    "print(convert_y(y_pred))"
   ]
  },
  {
   "cell_type": "code",
   "execution_count": 33,
   "metadata": {
    "colab": {
     "base_uri": "https://localhost:8080/",
     "height": 204
    },
    "colab_type": "code",
    "executionInfo": {
     "elapsed": 237100,
     "status": "ok",
     "timestamp": 1548332151849,
     "user": {
      "displayName": "Korpong Sawataksornchuen",
      "photoUrl": "https://lh4.googleusercontent.com/-Fs38zY4a4Z0/AAAAAAAAAAI/AAAAAAAAEFo/7hYtZAcKXLg/s64/photo.jpg",
      "userId": "00289111090385315496"
     },
     "user_tz": -420
    },
    "id": "H8Wk2d46LWsD",
    "outputId": "3248355f-0e42-417f-a3f4-29c8fa2c80fa"
   },
   "outputs": [
    {
     "name": "stdout",
     "output_type": "stream",
     "text": [
      "GRU units:  90\n",
      "GRU units 2:  90\n",
      "Batch size:  50\n",
      "\n",
      "Accuracy:  0.4047519666078022\n"
     ]
    }
   ],
   "source": [
    "y_t = convert_y(y_test)\n",
    "y_p = convert_y(y_pred)\n",
    "      \n",
    "print(\"GRU units: \", GRU_UNITS)\n",
    "print('GRU units 2: ', GRU_UNITS_2)\n",
    "print(\"Batch size: \", BATCH_SIZE)\n",
    "print()\n",
    "  \n",
    "acc_score = accuracy_score(y_t, y_p)\n",
    "\n",
    "print(\"Accuracy: \", acc_score)"
   ]
  },
  {
   "cell_type": "markdown",
   "metadata": {},
   "source": [
    "## Confusion Matrix"
   ]
  },
  {
   "cell_type": "code",
   "execution_count": 34,
   "metadata": {},
   "outputs": [],
   "source": [
    "%run eval_score.ipynb"
   ]
  },
  {
   "cell_type": "code",
   "execution_count": 35,
   "metadata": {},
   "outputs": [],
   "source": [
    "LABELS = ['Nan','Stand','Walk','Sit','Sleep']"
   ]
  },
  {
   "cell_type": "code",
   "execution_count": 36,
   "metadata": {},
   "outputs": [
    {
     "data": {
      "image/png": "[encoded data removed]",
      "text/plain": [
       "<Figure size 432x288 with 2 Axes>"
      ]
     },
     "metadata": {
      "needs_background": "light"
     },
     "output_type": "display_data"
    },
    {
     "data": {
      "image/png": "[encoded data removed]",
      "text/plain": [
       "<Figure size 432x288 with 2 Axes>"
      ]
     },
     "metadata": {
      "needs_background": "light"
     },
     "output_type": "display_data"
    }
   ],
   "source": [
    "show_conf_matrix(y_t, y_p, LABELS)"
   ]
  },
  {
   "cell_type": "code",
   "execution_count": 37,
   "metadata": {},
   "outputs": [
    {
     "name": "stdout",
     "output_type": "stream",
     "text": [
      "              precision    recall  f1-score   support\n",
      "\n",
      "         Nan       0.41      0.04      0.07      6399\n",
      "       Stand       0.35      0.95      0.52      9958\n",
      "        Walk       0.00      0.00      0.00      5950\n",
      "         Sit       0.87      0.22      0.35      7544\n",
      "       Sleep       0.66      0.94      0.78      1294\n",
      "\n",
      "   micro avg       0.40      0.40      0.40     31145\n",
      "   macro avg       0.46      0.43      0.34     31145\n",
      "weighted avg       0.44      0.40      0.30     31145\n",
      "\n"
     ]
    },
    {
     "name": "stderr",
     "output_type": "stream",
     "text": [
      "/Users/admin/anaconda3/lib/python3.6/site-packages/sklearn/metrics/classification.py:1143: UndefinedMetricWarning: Precision and F-score are ill-defined and being set to 0.0 in labels with no predicted samples.\n",
      "  'precision', 'predicted', average, warn_for)\n"
     ]
    }
   ],
   "source": [
    "show_clf_report(y_t, y_p, LABELS)"
   ]
  },
  {
   "cell_type": "markdown",
   "metadata": {
    "colab_type": "text",
    "id": "OCAfLuAW9des"
   },
   "source": [
    "### Note (1)\n",
    "* **0 - NaN**\n",
    "* **1 - Stand**\n",
    "* **2 - Walk**\n",
    "* **4 - Sit**\n",
    "* **5 - Lie**"
   ]
  },
  {
   "cell_type": "code",
   "execution_count": null,
   "metadata": {},
   "outputs": [],
   "source": []
  }
 ],
 "metadata": {
  "accelerator": "GPU",
  "colab": {
   "collapsed_sections": [],
   "name": "RNN_demo.ipynb",
   "provenance": [],
   "version": "0.3.2"
  },
  "kernelspec": {
   "display_name": "Python 3",
   "language": "python",
   "name": "python3"
  },
  "language_info": {
   "codemirror_mode": {
    "name": "ipython",
    "version": 3
   },
   "file_extension": ".py",
   "mimetype": "text/x-python",
   "name": "python",
   "nbconvert_exporter": "python",
   "pygments_lexer": "ipython3",
   "version": "3.6.6"
  }
 },
 "nbformat": 4,
 "nbformat_minor": 1
}
