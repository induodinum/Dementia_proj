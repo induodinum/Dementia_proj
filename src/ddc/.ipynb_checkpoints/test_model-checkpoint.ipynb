{
 "cells": [
  {
   "cell_type": "code",
   "execution_count": 8,
   "metadata": {},
   "outputs": [],
   "source": [
    "import pandas as pd\n",
    "import numpy as np\n",
    "import matplotlib.pyplot as plt\n",
    "\n",
    "from prettytable import PrettyTable\n",
    "from os import listdir\n",
    "from sklearn.metrics import f1_score\n",
    "from datetime import datetime"
   ]
  },
  {
   "cell_type": "code",
   "execution_count": 33,
   "metadata": {},
   "outputs": [],
   "source": [
    "%run preprocessing.ipynb"
   ]
  },
  {
   "cell_type": "code",
   "execution_count": 1,
   "metadata": {},
   "outputs": [],
   "source": [
    "mypath = '../../DDC_Data/raw/'\n",
    "basepath = '../../'"
   ]
  },
  {
   "cell_type": "markdown",
   "metadata": {},
   "source": [
    "# Get the Actual Timestamp Labels"
   ]
  },
  {
   "cell_type": "code",
   "execution_count": 24,
   "metadata": {
    "collapsed": true
   },
   "outputs": [],
   "source": [
    "def load_timer(subject_id):\n",
    "    \n",
    "    sid_dir = mypath + subject_id\n",
    "    sid_files = [f for f in listdir(sid_dir) if 'history_amdtimer' in f]\n",
    "\n",
    "    sid_filepath = sid_dir + '/' + sid_files[0]\n",
    "\n",
    "    timer_df = pd.read_csv(sid_filepath, header=None, names=['sid','raw_label', 'timestamp', 'duration','label'])\n",
    "\n",
    "    filtered_timer = [i for i in timer_df['sid'] if i==int(subject_id)]\n",
    "\n",
    "    timer_filt = timer_df[timer_df['sid'].isin(filtered_timer)]\n",
    "    timer_filt = timer_filt.reset_index(drop=True)\n",
    "    \n",
    "    timer_label = []\n",
    "    \n",
    "    for i in range(len(timer_filt)):\n",
    "        if(timer_filt.loc[i]['raw_label']=='upstairs' or \n",
    "          timer_filt.loc[i]['raw_label']=='downstairs'):\n",
    "            timer_label.append('walk')\n",
    "        else:\n",
    "            timer_label.append(timer_filt.loc[i]['raw_label'])\n",
    "\n",
    "    timer_filt['label'] = pd.Series(timer_label)\n",
    "    \n",
    "    datetime_format = '%Y-%m-%d %H:%M:%S.%f'\n",
    "    timer_filt['time_start'] = timer_filt['timestamp'].apply(lambda x: datetime.strptime(x, datetime_format))\n",
    "    \n",
    "    time_format = '%H:%M:%S'\n",
    "    zero_date = datetime(1900, 1, 1)\n",
    "    \n",
    "    timer_filt['duration'] = timer_filt['duration'].apply(lambda x: datetime.strptime(x, time_format)-zero_date)\n",
    "    \n",
    "    for i in range(timer_filt.shape[0]):\n",
    "        timer_filt.loc[i, 'time_end'] = timer_filt.loc[i, 'time_start'] + timer_filt.loc[i, 'duration']\n",
    "\n",
    "#     print(timer_filt)\n",
    "    \n",
    "    return timer_filt"
   ]
  },
  {
   "cell_type": "markdown",
   "metadata": {},
   "source": [
    "# Load Data of the Subject"
   ]
  },
  {
   "cell_type": "code",
   "execution_count": 5,
   "metadata": {},
   "outputs": [],
   "source": [
    "def load_acc(subject_id, start_time, end_time):\n",
    "    # Load accelerations\n",
    "    acc_path = mypath + '/' + subject_id + '/' + subject_id + '-log_acc.csv'\n",
    "\n",
    "    df = pd.read_csv(acc_path, header=None, names=['x','y','z','timestamp'])\n",
    "    \n",
    "    datetime_format = '%Y-%m-%d %H:%M:%S.%f'\n",
    "    df['timestamp'] = df['timestamp'].apply(lambda x: datetime.strptime(x, datetime_format))\n",
    "\n",
    "    filtered = [r for r in df['timestamp'] if r>=start_time and r<=end_time]\n",
    "\n",
    "    df_filt = df[df['timestamp'].isin(filtered)]\n",
    "    df_filt = df_filt.reset_index(drop=True)\n",
    "\n",
    "    df_filt['ID'] = pd.Series([subject_id for i in range(len(df_filt))])\n",
    "    \n",
    "    cols = ['ID','timestamp','x','y','z']\n",
    "    df_filt = df_filt[cols]\n",
    "\n",
    "    return df_filt"
   ]
  },
  {
   "cell_type": "code",
   "execution_count": 12,
   "metadata": {
    "collapsed": true
   },
   "outputs": [],
   "source": [
    "def load_data(test_subj, df_sid):\n",
    "    filepath = mypath + test_subj + '/' + test_subj + '-log_acc.csv'\n",
    "\n",
    "    df_test = pd.read_csv(filepath, header=None, names=['x','y','z','timestamp'])\n",
    "\n",
    "    test_filt = [i for i in range(len(df_test)) \n",
    "                 if calc_sec(df_test.loc[i]['timestamp'].split(' ')[1])<=calc_sec(df_sid.loc[len(df_sid)-1]['finish']) \n",
    "                 and calc_sec(df_test.loc[i]['timestamp'].split(' ')[1])>=calc_sec(df_sid.loc[0]['start'])]\n",
    "\n",
    "    df_test_filt = df_test[df_test.index.isin(test_filt)]\n",
    "    df_test = df_test_filt.reset_index(drop=True)\n",
    "    \n",
    "    return df_test"
   ]
  },
  {
   "cell_type": "markdown",
   "metadata": {},
   "source": [
    "# Preprocess (PCA, impure)"
   ]
  },
  {
   "cell_type": "code",
   "execution_count": 29,
   "metadata": {
    "collapsed": true
   },
   "outputs": [],
   "source": [
    "def preprocess_data(df_test, pca):\n",
    "    ts_list = []\n",
    "    g = 9.8\n",
    "\n",
    "    X_list = []\n",
    "    \n",
    "    for i in range(len(df_test)):\n",
    "        X_i = [df_test.loc[i]['x']/g, df_test.loc[i]['y']/g, df_test.loc[i]['z']/g]\n",
    "        X_list.append(X_i)\n",
    "        \n",
    "    X_stack = np.vstack(X_list)\n",
    "    X_norm = MinMaxScaler().fit_transform(X_stack)\n",
    "    X_pca = pca.transform(X_norm)\n",
    "\n",
    "    y_imp = [-1 for i in range(X_pca.shape[0])]\n",
    "    X_imp, y_imp = prepare_impure_label(X_pca, y_imp)\n",
    "    \n",
    "    return X_imp, y_imp"
   ]
  },
  {
   "cell_type": "markdown",
   "metadata": {},
   "source": [
    "# Predict"
   ]
  },
  {
   "cell_type": "code",
   "execution_count": 11,
   "metadata": {},
   "outputs": [],
   "source": [
    "%run classifier_alg.ipynb"
   ]
  },
  {
   "cell_type": "code",
   "execution_count": 6,
   "metadata": {},
   "outputs": [],
   "source": [
    "def predict_combine(X_imp, model, window_length=60):\n",
    "    \n",
    "    y_pred = model.predict(X_imp)\n",
    "    print(\"Finished prediction\")\n",
    "    \n",
    "#     y_pred = combine_2(X_imp, y_pred)\n",
    "#     y_pred_fill = np.hstack(([y_pred[0] for i in range(window_length-1)], y_pred))\n",
    "    \n",
    "#     print(X_imp.shape, y_pred_fill.shape)\n",
    "    \n",
    "    return y_pred"
   ]
  },
  {
   "cell_type": "markdown",
   "metadata": {},
   "source": [
    "# Group dataframe by label"
   ]
  },
  {
   "cell_type": "code",
   "execution_count": 12,
   "metadata": {},
   "outputs": [],
   "source": [
    "def group_dataframe_by_label(df1, df_timer, subject_id, label_list):\n",
    "    df_list = {}\n",
    "    period = {}\n",
    "    \n",
    "    for label in label_list:\n",
    "        df_list[label] = pd.DataFrame()\n",
    "        period[label] = []\n",
    "    \n",
    "    for label in label_list:\n",
    "#         print(label)\n",
    "        for i in range(df_timer.shape[0]):\n",
    "            start = 0\n",
    "            end = 0\n",
    "            \n",
    "            if(df_timer.loc[i, 'label']==label):\n",
    "                t_a = df_timer.loc[i, 'time_start']\n",
    "                t_b = df_timer.loc[i, 'time_end']\n",
    "\n",
    "                for j in range(df1.shape[0]):    \n",
    "                    if(df1.loc[j, 'ID']==subject_id):\n",
    "                        if(j>0 and df1.loc[j, 'timestamp']<=t_b and df1.loc[j-1, 'timestamp']<t_b):\n",
    "                            end = j\n",
    "\n",
    "                for j in reversed(range(df1.shape[0])):\n",
    "                    if(df1.loc[j, 'ID']==subject_id):\n",
    "                        if(j<df1.shape[0]-1 and df1.loc[j, 'timestamp']>=t_a and df1.loc[j+1, 'timestamp']>t_a):\n",
    "                            start = j\n",
    "\n",
    "                period[label].append([start, end])\n",
    "                \n",
    "                if(df_list[label].empty):\n",
    "                    df_list[label] = df1.loc[start:end+1]\n",
    "                else:\n",
    "                    df_list[label].append(df1.loc[start:end+1], ignore_index=True)\n",
    "                    \n",
    "    for label in label_list:\n",
    "        df_list[label] = df_list[label].reset_index(drop=True)\n",
    "\n",
    "    return df_list, period"
   ]
  },
  {
   "cell_type": "markdown",
   "metadata": {},
   "source": [
    "# Prepare Predicted Labels"
   ]
  },
  {
   "cell_type": "code",
   "execution_count": 18,
   "metadata": {},
   "outputs": [],
   "source": [
    "def get_periods_from_list(y_pred, label_list):\n",
    "    \n",
    "    pred_periods = [[] for i in range(len(label_list))]\n",
    "\n",
    "    keep = 0\n",
    "\n",
    "    for i in range(len(y_pred)):\n",
    "        keep_lb = y_pred[keep]\n",
    "\n",
    "        if(keep_lb!=y_pred[i]):\n",
    "            \n",
    "            if(y_pred[i]!=None):\n",
    "                pred_periods[y_pred[i-1]].append([keep, i-1])               \n",
    "\n",
    "            keep = i\n",
    "\n",
    "        elif(i==len(y_pred)-1):\n",
    "\n",
    "            if(y_pred[i]!=None):\n",
    "                pred_periods[y_pred[i-1]].append([keep, i]) \n",
    "\n",
    "    pred_periods = np.array(pred_periods)\n",
    "    \n",
    "    return pred_periods"
   ]
  },
  {
   "cell_type": "code",
   "execution_count": 16,
   "metadata": {},
   "outputs": [],
   "source": [
    "def postprocess_predicted(pred_periods, y_length):\n",
    "    onesec = 1  # 1 sec.\n",
    "    T = 0.16    # T = 1/f\n",
    "\n",
    "    pp_periods = []\n",
    "    \n",
    "    for pp in pred_periods:\n",
    "        pp_i = pred_periods[pp]\n",
    "        \n",
    "        temp = []\n",
    "        for p in pp_i:\n",
    "            if(p[1]-p[0]>int(onesec*2*(1/T))):\n",
    "                temp.append([p[0],p[1]])\n",
    "                \n",
    "        pp_periods.append(temp)\n",
    "\n",
    "    pp_periods = np.array(pp_periods)\n",
    "    \n",
    "    other_label = -1\n",
    "    all_run = [other_label for i in range(y_length)]\n",
    "\n",
    "    for i in range(len(pp_periods)):\n",
    "        for p in pp_periods[i]:\n",
    "            for j in range(p[0],p[1]+1):\n",
    "                all_run[j] = i\n",
    "\n",
    "    for i in range(len(all_run)-1,0,-1):\n",
    "        if(all_run[i-1]==other_label):\n",
    "            all_run[i-1] = all_run[i]\n",
    "\n",
    "    return all_run"
   ]
  },
  {
   "cell_type": "markdown",
   "metadata": {},
   "source": [
    "# Get sequence from periods"
   ]
  },
  {
   "cell_type": "code",
   "execution_count": 17,
   "metadata": {},
   "outputs": [],
   "source": [
    "def sequence_from_periods(periods, label_list):\n",
    "    \n",
    "    max_length = 0\n",
    "    \n",
    "    for label in label_list:\n",
    "        if(len(periods[label])>0):\n",
    "            periods_i = np.hstack(periods[label])\n",
    "        \n",
    "            if(max_length<max(periods_i)):\n",
    "                max_length = max(periods_i)\n",
    "    \n",
    "    seq = ['' for i in range(max_length+1)]\n",
    "    \n",
    "    for label in label_list:\n",
    "        for element in periods[label]:\n",
    "            for i in range(element[0], element[1]+1):\n",
    "                seq[i] = label\n",
    "    \n",
    "    return seq, max_length"
   ]
  },
  {
   "cell_type": "markdown",
   "metadata": {},
   "source": [
    "# Evaluation baab mai kee ju"
   ]
  },
  {
   "cell_type": "code",
   "execution_count": 3,
   "metadata": {},
   "outputs": [],
   "source": [
    "def evaluate_period(p1, p2, max_length, label_list):\n",
    "    iou_all = []\n",
    "    \n",
    "    for lb in label_list:\n",
    "        p1_onehot = []\n",
    "        for i in range(max_length):\n",
    "            if(p1[i]==lb):\n",
    "                p1_onehot.append(1)\n",
    "            else:\n",
    "                p1_onehot.append(0)\n",
    "                \n",
    "        p2_onehot = []\n",
    "        for i in range(max_length):\n",
    "            if(p2[i]==lb):\n",
    "                p2_onehot.append(1)\n",
    "            else:\n",
    "                p2_onehot.append(0)\n",
    "                \n",
    "        intersection = 0\n",
    "        union = 0\n",
    "        \n",
    "        for i in range(max_length):\n",
    "            if(p1_onehot[i]==1 and p2_onehot[i]==1):\n",
    "                intersection += 1\n",
    "            if(p1_onehot[i]==1 or p2_onehot[i]==1):\n",
    "                union += 1\n",
    "                \n",
    "        iou_lb = intersection/union\n",
    "        \n",
    "        iou_all.append(iou_lb)\n",
    "        \n",
    "    return iou_all"
   ]
  },
  {
   "cell_type": "markdown",
   "metadata": {},
   "source": [
    "# Function Call"
   ]
  },
  {
   "cell_type": "code",
   "execution_count": 9,
   "metadata": {},
   "outputs": [],
   "source": [
    "def call_functions(subject_id, pca, model, label_list):\n",
    "    \n",
    "    print(\"Loading {0}'s data\".format(subject_id))\n",
    "\n",
    "    df_timer = load_timer(subject_id)\n",
    "    \n",
    "    start_time = df_timer.loc[0, 'time_start']\n",
    "    end_time = df_timer.loc[df_timer.shape[0]-1, 'time_end']\n",
    "\n",
    "    df_acc = load_acc(subject_id, start_time, end_time)\n",
    "\n",
    "    X_impure, y_impure = preprocess_data(df_acc, pca)\n",
    "    y_pred = predict_combine(X_impure, model)\n",
    "    \n",
    "    df_acc_label, true_periods = group_dataframe_by_label(df_acc, df_timer, subject_id, label_list)\n",
    "    \n",
    "    p_periods = get_periods_from_list(y_pred, label_list)\n",
    "    pred_periods = {}\n",
    "\n",
    "    for i in range(len(label_list)):\n",
    "        pred_periods[label_list[i]] = p_periods[i]\n",
    "    \n",
    "    pp_all = postprocess_predicted(pred_periods, len(y_pred))\n",
    "    \n",
    "    p_true, len_true = sequence_from_periods(true_periods, label_list)\n",
    "    p_pred, len_pred = sequence_from_periods(pred_periods, label_list)\n",
    "    \n",
    "    iou = evaluate_period(p_true, p_pred, len_pred, label_list)\n",
    "    \n",
    "    print('label:', label_list)\n",
    "    print('iou:', iou)\n",
    "    \n",
    "    return df_acc_label, true_periods, pred_periods, iou\n",
    "\n",
    "\n",
    "#     pp_all = postprocess_predicted(pred_periods, df_y)\n",
    "\n",
    "#     df_y['y_pred'] = pd.Series(pp_all)\n",
    "#     pp_periods = get_predicted_periods(df_y)\n",
    "#     plot_highlighted(s, df_acc, pred_periods, pp_periods, actual_periods)\n",
    "\n",
    "#     evaluate(df_y)\n",
    "\n",
    "#     df_y_all =  df_y_all.append(df_y, ignore_index=True)\n",
    "        \n",
    "#     return df_y_all"
   ]
  }
 ],
 "metadata": {
  "kernelspec": {
   "display_name": "Python 3",
   "language": "python",
   "name": "python3"
  },
  "language_info": {
   "codemirror_mode": {
    "name": "ipython",
    "version": 3
   },
   "file_extension": ".py",
   "mimetype": "text/x-python",
   "name": "python",
   "nbconvert_exporter": "python",
   "pygments_lexer": "ipython3",
   "version": "3.7.3"
  }
 },
 "nbformat": 4,
 "nbformat_minor": 2
}
