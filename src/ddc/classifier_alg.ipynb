{
 "cells": [
  {
   "cell_type": "markdown",
   "metadata": {},
   "source": [
    "# Import Libraries"
   ]
  },
  {
   "cell_type": "code",
   "execution_count": 2,
   "metadata": {},
   "outputs": [],
   "source": [
    "import numpy as np\n",
    "import pandas as pd\n",
    "import matplotlib.pyplot as plt\n",
    "import math"
   ]
  },
  {
   "cell_type": "code",
   "execution_count": 1,
   "metadata": {},
   "outputs": [],
   "source": [
    "from detect_peaks import detect_peaks"
   ]
  },
  {
   "cell_type": "markdown",
   "metadata": {},
   "source": [
    "# Classification Algorithms"
   ]
  },
  {
   "cell_type": "markdown",
   "metadata": {},
   "source": [
    "## Classify walk"
   ]
  },
  {
   "cell_type": "code",
   "execution_count": 11,
   "metadata": {},
   "outputs": [],
   "source": [
    "def fluc(X,axis,rs,rf,diff=0.15):\n",
    "    cnt = 0\n",
    "    mult = 0\n",
    "    j = 1\n",
    "\n",
    "    i = rs\n",
    "    while(i+j<rf):\n",
    "        if(abs(X[i+j][axis]-X[i][axis])>diff):\n",
    "            if(cnt==0):\n",
    "                if(X[i+j][axis]>X[i][axis]):\n",
    "                    mult = 1\n",
    "                else:\n",
    "                    mult = -1\n",
    "                cnt += 1\n",
    "            else:\n",
    "                if((X[i+j][axis]>X[i][axis] and mult==-1) or \n",
    "                   (X[i+j][axis]<X[i][axis] and mult==1)):\n",
    "                    mult *= -1\n",
    "                    cnt += 1\n",
    "            i += j-1  \n",
    "        else:\n",
    "            if(cnt==0):\n",
    "                if(X[i+j][axis]>X[i][axis]):\n",
    "                    mult = 1\n",
    "                else:\n",
    "                    mult = -1\n",
    "        i += 1\n",
    "\n",
    "#     print(rf, cnt)\n",
    "    return cnt"
   ]
  },
  {
   "cell_type": "code",
   "execution_count": 1,
   "metadata": {},
   "outputs": [],
   "source": [
    "def calc_walk(X, step=10):\n",
    "    s = 0\n",
    "    f = len(X)\n",
    "\n",
    "    thres = 2\n",
    "\n",
    "    walk = [set(),set(),set()]\n",
    "    arr = [[],[],[]]\n",
<<<<<<< HEAD
    "    diff_arr = [0.09,0.009,0.02]\n",
    "    #diff_arr = [0.19,0.13,0.1]\n",
=======
    "    diff_arr = [0.28, 0.18, 0.18]\n",
    "#     diff_arr = [0.19,0.13,0.1]\n",
>>>>>>> 748b80a734f5ad524a2c2f5dd11ab45c8f448ce9
    "    axes = 3\n",
    "    streak = 6\n",
    "        \n",
    "    for i in range(s,f,step):\n",
    "        for j in range(axes):\n",
    "            if(i+step<f):\n",
    "                arr[j].append(fluc(X,j,i,i+step,diff=diff_arr[j]))\n",
    "            else:\n",
    "                arr[j].append(fluc(X,j,i,f,diff=diff_arr[j]))\n",
    "            if(len(arr[j])>=streak):\n",
    "                walk_true = True\n",
    "                for k in range(-streak,0):\n",
    "                    if(arr[j][k]<thres):\n",
    "                        walk_true = False\n",
    "                        break\n",
    "                \n",
    "                if(walk_true==True):\n",
    "                    for k in range(streak):\n",
    "                        walk[j].add(i-k*step)\n",
    "\n",
    "    for i in range(axes):\n",
    "        walk[i] = list(walk[i])\n",
    "        walk[i] = sorted(walk[i])\n",
    "\n",
    "    return walk"
   ]
  },
  {
   "cell_type": "code",
   "execution_count": 6,
   "metadata": {
    "collapsed": true
   },
   "outputs": [],
   "source": [
    "def intersection(lst1, lst2): \n",
    "    return [value for value in lst1 if value in lst2] "
   ]
  },
  {
   "cell_type": "code",
   "execution_count": 7,
   "metadata": {
    "collapsed": true
   },
   "outputs": [],
   "source": [
    "def intersection_walk(walk):\n",
    "  \n",
    "    walk_its = intersection(walk[0],walk[1])\n",
    "    walk_its = intersection(walk_its,walk[2])\n",
    "\n",
    "    return walk_its"
   ]
  },
  {
   "cell_type": "code",
   "execution_count": 9,
   "metadata": {},
   "outputs": [],
   "source": [
    "def calc_walk_periods(walk_its, step=10):\n",
    "    walk_its_p = []\n",
    "    if(len(walk_its)!=0):\n",
    "        kp = walk_its[0]\n",
    "\n",
    "        for i in range(len(walk_its)):\n",
    "            if(i+1<=len(walk_its)-1 and walk_its[i+1]-walk_its[i]>step):\n",
    "                walk_its_p.append(period(kp,walk_its[i]))\n",
    "                kp = walk_its[i+1]\n",
    "\n",
    "            if(i==len(walk_its)-1 and walk_its[i]-walk_its[i-1]==step):\n",
    "                walk_its_p.append(period(kp,walk_its[i]))\n",
    "\n",
    "        #   print(len(walk_its_p))\n",
    "\n",
    "        #   for x in walk_its_p:\n",
    "        #       print(x.s,x.f)\n",
    "\n",
    "    return walk_its_p"
   ]
  },
  {
   "cell_type": "markdown",
   "metadata": {},
   "source": [
    "## Walk"
   ]
  },
  {
   "cell_type": "code",
   "execution_count": 1,
   "metadata": {},
   "outputs": [],
   "source": [
    "def get_exact_walk(y):\n",
    "    walk_lbl = 3\n",
    "    \n",
    "#     walk_chk = np.array((y-walk_lbl)==0)\n",
    "    walk_chk = np.array(y==walk_lbl)\n",
    "    \n",
    "    walk_ts = np.array([i for i in range(len(walk_chk)) if walk_chk[i]==True])\n",
    "    \n",
    "    walk_keep = walk_ts[0]\n",
    "    walk_prd = []     # walk period\n",
    "    \n",
    "    for i in range(len(walk_ts)):\n",
    "        if(walk_ts[i]-walk_ts[i-1]>1):\n",
    "            walk_prd.append(period(walk_keep,walk_ts[i-1]))\n",
    "            walk_keep = walk_ts[i]\n",
    "        \n",
    "    return walk_prd"
   ]
  },
  {
   "cell_type": "code",
   "execution_count": 38,
   "metadata": {
    "collapsed": true
   },
   "outputs": [],
   "source": [
    "def binarize_walk_prd(walk_prd, y):\n",
    "    walk_bin = np.zeros(len(y))\n",
    "    \n",
    "    for w in walk_prd:\n",
    "        for i in range(w.s, w.f+1):\n",
    "            walk_bin[i] = 1\n",
    "    \n",
    "    return walk_bin"
   ]
  },
  {
   "cell_type": "markdown",
   "metadata": {},
   "source": [
    "## Classify inactive"
   ]
  },
  {
   "cell_type": "code",
   "execution_count": 9,
   "metadata": {
    "collapsed": true
   },
   "outputs": [],
   "source": [
    "def calc_inactive(ai1):\n",
    "    # Slide windows by 1\n",
    "    # Each window length is at least 50\n",
    "    ki = -1\n",
    "    kj = -1\n",
    "    s = []\n",
    "\n",
    "    SD_THRES = 0.002\n",
    "    WINDOW_LEN = 50\n",
    "\n",
    "    for i in tqdm(range(0,len(ai1)-1)):\n",
    "        if(not(len(s)!=0 and s[-1].s==ki and s[-1].f==kj)):\n",
    "            s.append(period(ki,kj))\n",
    "        for j in range(1,len(ai1)):\n",
    "            if(j-i>=WINDOW_LEN):\n",
    "                if(np.std(ai1[i:j])<SD_THRES):\n",
    "                    kj = j\n",
    "                    ki = i\n",
    "\n",
    "    return s                  "
   ]
  },
  {
   "cell_type": "code",
   "execution_count": 10,
   "metadata": {
    "collapsed": true
   },
   "outputs": [],
   "source": [
    "def get_sequence(s):\n",
    "  \n",
    "    seq = []\n",
    "    for i in range(len(ai1)):\n",
    "        seq.append(i)\n",
    "\n",
    "    sequence = []\n",
    "    for x in s:\n",
    "        if(x.s in seq and x.f in seq):\n",
    "            for i in range(x.s,x.f+1):\n",
    "                seq.remove(i)\n",
    "            sequence.append(x)\n",
    "\n",
    "    #   for x in sequence:\n",
    "    #       print(x.s,x.f)\n",
    "\n",
    "    return sequence"
   ]
  },
  {
   "cell_type": "markdown",
   "metadata": {},
   "source": [
    "# Show Plots of Classification"
   ]
  },
  {
   "cell_type": "markdown",
   "metadata": {},
   "source": [
    "## Walking"
   ]
  },
  {
   "cell_type": "code",
   "execution_count": 12,
   "metadata": {
    "collapsed": true
   },
   "outputs": [],
   "source": [
    "def plot_walk(df1, ai1, walk_its_p):\n",
    "    x_axis = []\n",
    "    y_axis = []\n",
    "\n",
    "    p_idx = 0\n",
    "\n",
    "    fig = plt.figure(figsize=(16,6))\n",
    "\n",
    "    # print(len(walk_its_p))\n",
    "    for i in range(len(df1)):\n",
    "        if(p_idx<len(walk_its_p)):\n",
    "            if(i>=walk_its_p[p_idx].s and i<=walk_its_p[p_idx].f):\n",
    "            #         print('r',i)\n",
    "                x_axis.append(i)\n",
    "                y_axis.append(ai1[i])\n",
    "\n",
    "            if(i==walk_its_p[p_idx].f):\n",
    "                plt.plot(x_axis,y_axis,color='r')\n",
    "                x_axis = []\n",
    "                y_axis = []\n",
    "                p_idx += 1\n",
    "\n",
    "        if(p_idx<len(walk_its_p)):\n",
    "            if(i<=walk_its_p[p_idx].s):\n",
    "            #         print('b++',i)\n",
    "                x_axis.append(i)\n",
    "                y_axis.append(ai1[i])\n",
    "\n",
    "            if(i==walk_its_p[p_idx].s):\n",
    "                plt.plot(x_axis,y_axis,color='b')\n",
    "                x_axis = []\n",
    "                y_axis = []\n",
    "\n",
    "        else:\n",
    "            x_axis.append(i)\n",
    "            y_axis.append(ai1[i])\n",
    "            if(i==len(df1)-1):\n",
    "                plt.plot(x_axis,y_axis,color='b')\n",
    "\n",
    "\n",
    "    fig.savefig(basepath + 'Graphs/' + subject_id + '/' + subject_id + '_ddc_walking.png', dpi=300) \n",
    "    #   plt.show()\n",
    "    plt.close(fig)"
   ]
  },
  {
   "cell_type": "markdown",
   "metadata": {},
   "source": [
    "## Inactive"
   ]
  },
  {
   "cell_type": "code",
   "execution_count": 11,
   "metadata": {
    "collapsed": true
   },
   "outputs": [],
   "source": [
    "def plot_inactive(df1, ai1, sequence):\n",
    "    x_axis = []\n",
    "    y_axis = []\n",
    "    active = set()\n",
    "    seq_idx = 0\n",
    "    idx = 1 + np.std(ai1)\n",
    "\n",
    "    fig = plt.figure(figsize=(16,6))\n",
    "\n",
    "    for i in range(len(ai1)):\n",
    "        if(seq_idx<len(sequence) and i>=sequence[seq_idx].s and i<=sequence[seq_idx].f):\n",
    "        #         print('r',i)\n",
    "            x_axis.append(i)\n",
    "            y_axis.append(ai1[i])\n",
    "            active.add(ai1[i])\n",
    "\n",
    "        if(seq_idx<len(sequence) and i==sequence[seq_idx].f):\n",
    "            plt.plot(x_axis,y_axis,color='r')\n",
    "            x_axis = []\n",
    "            y_axis = []\n",
    "            seq_idx += 1\n",
    "\n",
    "        if(seq_idx<len(sequence) and i<=sequence[seq_idx].s):\n",
    "        #         print('b++',i)\n",
    "            x_axis.append(i)\n",
    "            y_axis.append(ai1[i])\n",
    "\n",
    "        if(seq_idx<len(sequence) and i==sequence[seq_idx].s):\n",
    "            plt.plot(x_axis,y_axis,color='b')\n",
    "            x_axis = []\n",
    "            y_axis = []\n",
    "\n",
    "\n",
    "    x_axis = []\n",
    "    y_axis = []\n",
    "\n",
    "    p_idx = 0\n",
    "    for i in range(len(df1)):\n",
    "        if(p_idx<len(walk_its_p)):\n",
    "            if(i>=walk_its_p[p_idx].s and i<=walk_its_p[p_idx].f):\n",
    "            #         print('r',i)\n",
    "                x_axis.append(i)\n",
    "                y_axis.append(ai1[i])\n",
    "\n",
    "            if(i==walk_its_p[p_idx].f):\n",
    "                plt.plot(x_axis,y_axis,color='b')\n",
    "                x_axis = []\n",
    "                y_axis = []\n",
    "                p_idx += 1\n",
    "\n",
    "        if(p_idx<len(walk_its_p)):\n",
    "            if(i<=walk_its_p[p_idx].s):\n",
    "            #         print('b++',i)\n",
    "                x_axis.append(i)\n",
    "                y_axis.append(ai1[i])\n",
    "\n",
    "            if(i==walk_its_p[p_idx].s):\n",
    "                # color some red?\n",
    "                x_axis = []\n",
    "                y_axis = []\n",
    "\n",
    "        else:\n",
    "            x_axis.append(i)\n",
    "            y_axis.append(ai1[i])\n",
    "            if(i==len(df1)-1):\n",
    "                plt.plot(x_axis,y_axis,color='r')\n",
    "\n",
    "    fig.savefig(basepath + 'Graphs/' + subject_id + '/' + subject_id + '_inactive.png', dpi=300)          \n",
    "    #   plt.show()\n",
    "    plt.close(fig)"
   ]
  },
  {
   "cell_type": "markdown",
   "metadata": {
    "collapsed": true
   },
   "source": [
    "# Combine SVM and Walk Classifier"
   ]
  },
  {
   "cell_type": "code",
   "execution_count": 3,
   "metadata": {},
   "outputs": [],
   "source": [
    "def get_inverse_X(X):\n",
    "    win_length = 180\n",
    "    new_X = []\n",
    "    \n",
    "    for X_i in X:\n",
    "        acc_x = np.array(X_i[0:int(win_length/3)])\n",
    "        acc_y = np.array(X_i[int(win_length/3):int(win_length*2/3)])\n",
    "        acc_z = np.array(X_i[int(win_length*2/3):win_length])\n",
    "        \n",
    "        new_X_i = np.vstack((acc_x, acc_y, acc_z))\n",
    "        new_X_i = np.transpose(new_X_i)\n",
    "        \n",
    "        new_X.append(new_X_i)\n",
    "            \n",
    "    return np.array(new_X)"
   ]
  },
  {
   "cell_type": "code",
   "execution_count": 15,
   "metadata": {},
   "outputs": [],
   "source": [
    "def classify_walk(new_X, WALK_LABEL = 3):\n",
    "    y_pred_walk = []\n",
    "    \n",
    "    WIN_LEN_S = 0\n",
    "    WIN_LEN_F = 50\n",
    "\n",
    "    for X_i in new_X:\n",
    "        walk3 = calc_walk(X_i)\n",
    "        walk3_its = intersection_walk(walk3)\n",
    "        walk_p = calc_walk_periods(walk3_its)\n",
    "        \n",
    "        if(len(walk_p)!=0 and walk_p[0].s==WIN_LEN_S and walk_p[0].f==WIN_LEN_F):\n",
    "            y_pred = WALK_LABEL\n",
    "        else:\n",
    "            y_pred = 0\n",
    "    \n",
    "        y_pred_walk.append(y_pred)\n",
    "    \n",
    "    return np.array(y_pred_walk)"
   ]
  },
  {
   "cell_type": "code",
   "execution_count": 1,
   "metadata": {},
   "outputs": [],
   "source": [
    "def classify_walk_2(xyz_pca):\n",
    "\n",
    "    window_length = 60   # 3 sec/0.16 sec = 18.75 time point\n",
    "    one_sec = 6     # 1 sec/0.16 sec = 6.25 time point\n",
    "\n",
    "    cols = [0,1,2]\n",
    "    threshold = [0.05, 0.035, 0.04]\n",
    "    exceed_threshold = 4\n",
    "    \n",
    "    walk_label = 3\n",
    "    nonwalk_label = 0\n",
    "\n",
    "    walk_pred = [[],[],[]]\n",
    "\n",
    "    for k in range(len(xyz_pca)):\n",
    "        \n",
    "        for cl in range(len(cols)):\n",
    "            c = cols[cl]\n",
    "\n",
    "#             for i in range(0, len(xyz_pca[k])):\n",
    "            xyz_pca_k_c = np.transpose(xyz_pca[k])[c]\n",
    "\n",
    "            peak_idx = detect_peaks(xyz_pca_k_c)    \n",
    "            valley_idx = detect_peaks(xyz_pca_k_c, valley=True)\n",
    "\n",
    "            peak_point = [xyz_pca_k_c[j] for j in peak_idx]    \n",
    "            valley_point = [xyz_pca_k_c[j] for j in valley_idx]\n",
    "\n",
    "            min_length = min(len(peak_idx), len(valley_idx))\n",
    "\n",
    "            diff_peak_valley = [np.abs(peak_point[i] - valley_point[i]) for i in range(min_length)]\n",
    "            diff_peak_valley = np.array(diff_peak_valley)\n",
    "\n",
    "            exceed = len(diff_peak_valley[diff_peak_valley>=threshold[cl]])\n",
    "#             print(exceed)\n",
    "            if(exceed>=exceed_threshold):\n",
    "                walk_pred[cl].append(walk_label)\n",
    "            else:\n",
    "                walk_pred[cl].append(nonwalk_label)\n",
    "                \n",
    "    \n",
    "    walk_pred_ax = np.array(walk_pred)\n",
    "    walk_pred_t = walk_pred_ax.transpose()\n",
    "    \n",
    "#     print(walk_pred_ax)\n",
    "\n",
    "    walk_pred = []\n",
    "\n",
    "    for w in walk_pred_t:\n",
    "        walk_bool = walk_label\n",
    "        \n",
    "        for i in range(3):\n",
    "            if(w[i]!=walk_label):\n",
    "                walk_bool = nonwalk_label\n",
    "                break\n",
    "\n",
    "        walk_pred.append(walk_bool)\n",
    "        \n",
    "    return walk_pred"
   ]
  },
  {
   "cell_type": "code",
   "execution_count": 16,
   "metadata": {},
   "outputs": [],
   "source": [
    "def combine(X_test, y_pred_svm, WALK_LABEL = 3):\n",
    "    X_test_new = get_inverse_X(X_test)\n",
    "    y_pred_walk = classify_walk(X_test_new, WALK_LABEL)\n",
    "    \n",
    "    y_pred_new = []\n",
    "\n",
    "    for i in range(len(y_pred_walk)):\n",
    "        if(y_pred_svm[i]!=WALK_LABEL and y_pred_walk[i]==WALK_LABEL):\n",
    "            y_pred_new.append(y_pred_walk[i])\n",
    "\n",
    "        else:\n",
    "            y_pred_new.append(y_pred_svm[i])\n",
    "            \n",
    "    return y_pred_new"
   ]
  },
  {
   "cell_type": "code",
   "execution_count": 2,
   "metadata": {},
   "outputs": [],
   "source": [
    "def combine_2(xyz_, y_pred_svm, WALK_LABEL = 3):\n",
    "    y_pred_walk = classify_walk_2(xyz_)\n",
    "    \n",
    "    y_pred_new = []\n",
    "\n",
    "    for i in range(len(y_pred_walk)):\n",
    "        if(y_pred_svm[i]!=WALK_LABEL and y_pred_walk[i]==WALK_LABEL):\n",
    "            y_pred_new.append(y_pred_walk[i])\n",
    "\n",
    "        else:\n",
    "            y_pred_new.append(y_pred_svm[i])\n",
    "            \n",
    "#     print(y_pred_walk)\n",
    "            \n",
    "    return y_pred_new"
   ]
  }
 ],
 "metadata": {
  "kernelspec": {
   "display_name": "Python 3",
   "language": "python",
   "name": "python3"
  },
  "language_info": {
   "codemirror_mode": {
    "name": "ipython",
    "version": 3
   },
   "file_extension": ".py",
   "mimetype": "text/x-python",
   "name": "python",
   "nbconvert_exporter": "python",
   "pygments_lexer": "ipython3",
   "version": "3.6.6"
  }
 },
 "nbformat": 4,
 "nbformat_minor": 2
}
