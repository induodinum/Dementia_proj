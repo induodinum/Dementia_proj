{
 "cells": [
  {
   "cell_type": "code",
   "execution_count": 2,
   "metadata": {},
   "outputs": [],
   "source": [
    "import numpy as np\n",
    "import pandas as pd\n",
    "import matplotlib.pyplot as plt\n",
    "import os\n",
    "import math\n",
    "\n",
    "from os import listdir, walk\n",
    "from os.path import isfile, join\n",
    "from sklearn.preprocessing import label_binarize"
   ]
  },
  {
   "cell_type": "code",
   "execution_count": 3,
   "metadata": {
    "scrolled": true
   },
   "outputs": [
    {
     "name": "stdout",
     "output_type": "stream",
     "text": [
      "Loading 1001's data\n",
      "Loading 1002's data\n",
      "Loading 1003's data\n",
      "Loading 1004's data\n",
      "Loading 1005's data\n",
      "Loading 1006's data\n",
      "Loading 1007's data\n",
      "Loading 1008's data\n",
      "Loading 1009's data\n",
      "Loading 1010's data\n",
      "Loading 1011's data\n",
      "Loading 1012's data\n",
      "Loading 2001's data\n",
      "Loading 2002's data\n",
      "Finished loading\n"
     ]
    }
   ],
   "source": [
    "%run load_dataset.ipynb"
   ]
  },
  {
   "cell_type": "code",
   "execution_count": 4,
   "metadata": {},
   "outputs": [],
   "source": [
    "%run preprocess_for_SVM.ipynb"
   ]
  },
  {
   "cell_type": "code",
   "execution_count": 5,
   "metadata": {},
   "outputs": [],
   "source": [
    "subj_train = ['1001','1002','1003','1004','2001','2002']\n",
    "subj_val = ['1005','1006']\n",
    "subj_test = ['1007','1008','1009']"
   ]
  },
  {
   "cell_type": "code",
   "execution_count": 6,
   "metadata": {},
   "outputs": [],
   "source": [
    "def get_X_y(subj_ids, X, y, s):\n",
    "    X_get = []\n",
    "    y_get = []\n",
    "    s_get = []\n",
    "    for i in range(len(s)):\n",
    "        for j in range(len(subj_ids)):\n",
    "            if(s[i]==subj_ids[j]):\n",
    "                X_get.append(X[i])\n",
    "                y_get.append(y[i])\n",
    "                s_get.append(s[i])\n",
    "                \n",
    "    return np.array(X_get), np.array(y_get), np.array(s_get)"
   ]
  },
  {
   "cell_type": "code",
   "execution_count": 7,
   "metadata": {},
   "outputs": [],
   "source": [
    "X_train, y_train, s_train = get_X_y(subj_train, X_all, y_all, subj_all)\n",
    "X_val, y_val, s_val = get_X_y(subj_val, X_all, y_all, subj_all)\n",
    "X_test, y_test, s_test = get_X_y(subj_test, X_all, y_all, subj_all)"
   ]
  },
  {
   "cell_type": "code",
   "execution_count": 8,
   "metadata": {},
   "outputs": [
    {
     "name": "stdout",
     "output_type": "stream",
     "text": [
      "(12126, 3) (12126,) (12126,)\n",
      "(3899, 3) (3899,) (3899,)\n",
      "(5982, 3) (5982,) (5982,)\n"
     ]
    }
   ],
   "source": [
    "print(X_train.shape, y_train.shape, s_train.shape)\n",
    "print(X_val.shape, y_val.shape, s_val.shape)\n",
    "print(X_test.shape, y_test.shape, s_test.shape)"
   ]
  },
  {
   "cell_type": "code",
   "execution_count": 9,
   "metadata": {},
   "outputs": [],
   "source": [
    "def prepare_pure(X, y, subj_all, new_label_list):\n",
    "    X_label, y_label = label_grouping(X, y, subj_all, new_label_list)\n",
    "    \n",
    "    X_concat = []\n",
    "    y_concat = []\n",
    "    for i in range(len(X_label)):\n",
    "        for j in range(len(X_label[i])):\n",
    "            X_ol, y_ol = make_overlapping(np.array(X_label[i][j]), y_label[i][j])\n",
    "#             print(i, j, X_ol.shape)\n",
    "            \n",
    "            if(len(X_concat)==0):\n",
    "                X_concat = X_ol\n",
    "            else:\n",
    "                X_concat = np.vstack((X_concat, X_ol))\n",
    "\n",
    "            if(len(y_concat)==0):\n",
    "                y_concat = y_ol\n",
    "            else:\n",
    "                y_concat = np.hstack((y_concat, y_ol))\n",
    "                \n",
    "#     X_concat_xyz = concat_xyz(X_concat)\n",
    "    \n",
    "    return X_concat, y_concat    "
   ]
  },
  {
   "cell_type": "code",
   "execution_count": 10,
   "metadata": {},
   "outputs": [],
   "source": [
    "X_label, y_label = label_grouping(X_train, y_train, s_train, label_list)"
   ]
  },
  {
   "cell_type": "code",
   "execution_count": 12,
   "metadata": {},
   "outputs": [],
   "source": [
    "label_list = [0,1,2,3]\n",
    "label_dict = {\n",
    "    0: 'sit',\n",
    "    1: 'sleep',\n",
    "    2: 'stand',\n",
    "    3: 'walk'\n",
    "}\n",
    "\n",
    "all_subjects = subj_train\n",
    "X_train_pure, y_train_pure = prepare_pure(X_train, y_train, s_train, label_list)\n",
    "\n",
    "all_subjects = subj_val\n",
    "X_val_pure, y_val_pure = prepare_pure(X_val, y_val, s_val, label_list)\n",
    "\n",
    "all_subjects = subj_test\n",
    "X_test_pure, y_test_pure = prepare_pure(X_test, y_test, s_test, label_list)"
   ]
  },
  {
   "cell_type": "code",
   "execution_count": 13,
   "metadata": {},
   "outputs": [
    {
     "name": "stdout",
     "output_type": "stream",
     "text": [
      "(10710, 60, 3) (10710,)\n",
      "(3427, 60, 3) (3427,)\n",
      "(5274, 60, 3) (5274,)\n"
     ]
    }
   ],
   "source": [
    "print(X_train_pure.shape, y_train_pure.shape)\n",
    "print(X_val_pure.shape, y_val_pure.shape)\n",
    "print(X_test_pure.shape, y_test_pure.shape)"
   ]
  },
  {
   "cell_type": "code",
   "execution_count": 15,
   "metadata": {},
   "outputs": [],
   "source": [
    "LABEL_COUNT = 4"
   ]
  },
  {
   "cell_type": "code",
   "execution_count": 20,
   "metadata": {},
   "outputs": [],
   "source": [
    "def reshape_y(y, window_length=60):\n",
    "    \n",
    "    y_rs_ = label_binarize(y, classes=[0,1,2,3])\n",
    "    \n",
    "    y_rs = []\n",
    "    for i in range(len(y_rs_)):\n",
    "        y_temp = []\n",
    "        for j in range(window_length):\n",
    "            y_temp.append(y_rs_[i])\n",
    "            \n",
    "        y_rs.append(np.array(y_temp))\n",
    "        \n",
    "    y_rs = np.array(y_rs)\n",
    "    y_rs = y_rs.reshape((y_rs.shape[0],y_rs.shape[1],LABEL_COUNT))\n",
    "        \n",
    "    return np.array(y_rs)"
   ]
  },
  {
   "cell_type": "code",
   "execution_count": 21,
   "metadata": {},
   "outputs": [],
   "source": [
    "def reshape_X(X):\n",
    "    X_rs = X.reshape((X.shape[0],1,X.shape[1]))\n",
    "    return X_rs"
   ]
  },
  {
   "cell_type": "code",
   "execution_count": 22,
   "metadata": {},
   "outputs": [],
   "source": [
    "y_train_rs = reshape_y(y_train_pure)\n",
    "y_val_rs = reshape_y(y_val_pure)\n",
    "y_test_rs = reshape_y(y_test_pure)"
   ]
  },
  {
   "cell_type": "code",
   "execution_count": 23,
   "metadata": {},
   "outputs": [],
   "source": [
    "# X_train_rs = reshape_X(X_train_pure)\n",
    "# X_val_rs = reshape_X(X_val_pure)\n",
    "# X_test_rs = reshape_X(X_test_pure)"
   ]
  },
  {
   "cell_type": "code",
   "execution_count": 24,
   "metadata": {},
   "outputs": [
    {
     "name": "stdout",
     "output_type": "stream",
     "text": [
      "(10710, 60, 4)\n",
      "(10710, 60, 3)\n"
     ]
    }
   ],
   "source": [
    "print(y_train_rs.shape)\n",
    "print(X_train_pure.shape)"
   ]
  },
  {
   "cell_type": "code",
   "execution_count": 25,
   "metadata": {},
   "outputs": [
    {
     "name": "stderr",
     "output_type": "stream",
     "text": [
      "Using TensorFlow backend.\n"
     ]
    }
   ],
   "source": [
    "%run RNN_model.ipynb"
   ]
  },
  {
   "cell_type": "code",
   "execution_count": null,
   "metadata": {
    "scrolled": false
   },
   "outputs": [
    {
     "name": "stdout",
     "output_type": "stream",
     "text": [
      "_________________________________________________________________\n",
      "Layer (type)                 Output Shape              Param #   \n",
      "=================================================================\n",
      "gru_1 (GRU)                  (None, 60, 90)            25380     \n",
      "_________________________________________________________________\n",
      "activation_1 (Activation)    (None, 60, 90)            0         \n",
      "_________________________________________________________________\n",
      "gru_2 (GRU)                  (None, 60, 90)            48870     \n",
      "_________________________________________________________________\n",
      "activation_2 (Activation)    (None, 60, 90)            0         \n",
      "_________________________________________________________________\n",
      "dense_1 (Dense)              (None, 60, 4)             364       \n",
      "=================================================================\n",
      "Total params: 74,614\n",
      "Trainable params: 74,614\n",
      "Non-trainable params: 0\n",
      "_________________________________________________________________\n",
      "Train on 10710 samples, validate on 3427 samples\n",
      "Epoch 1/50\n",
      "\n",
      "Epoch 00001: LearningRateScheduler setting learning rate to 0.001.\n",
      "10710/10710 [==============================] - 111s 10ms/step - loss: 0.8705 - categorical_accuracy: 0.5828 - val_loss: 0.8360 - val_categorical_accuracy: 0.5723\n",
      "Epoch 2/50\n",
      "\n",
      "Epoch 00002: LearningRateScheduler setting learning rate to 0.001.\n",
      "10710/10710 [==============================] - 99s 9ms/step - loss: 0.6906 - categorical_accuracy: 0.6488 - val_loss: 0.7074 - val_categorical_accuracy: 0.6176\n",
      "Epoch 3/50\n",
      "\n",
      "Epoch 00003: LearningRateScheduler setting learning rate to 0.001.\n",
      "10710/10710 [==============================] - 105s 10ms/step - loss: 0.6291 - categorical_accuracy: 0.7001 - val_loss: 0.7972 - val_categorical_accuracy: 0.5770\n",
      "Epoch 4/50\n",
      "\n",
      "Epoch 00004: LearningRateScheduler setting learning rate to 0.001.\n",
      "10710/10710 [==============================] - 2491s 233ms/step - loss: 0.5300 - categorical_accuracy: 0.7667 - val_loss: 0.6123 - val_categorical_accuracy: 0.7203\n",
      "Epoch 5/50\n",
      "\n",
      "Epoch 00005: LearningRateScheduler setting learning rate to 0.001.\n",
      "10710/10710 [==============================] - 110s 10ms/step - loss: 0.4041 - categorical_accuracy: 0.8370 - val_loss: 0.4070 - val_categorical_accuracy: 0.8490\n",
      "Epoch 6/50\n",
      "\n",
      "Epoch 00006: LearningRateScheduler setting learning rate to 0.001.\n",
      "10710/10710 [==============================] - 1259s 118ms/step - loss: 0.3279 - categorical_accuracy: 0.8719 - val_loss: 0.4298 - val_categorical_accuracy: 0.8164\n",
      "Epoch 7/50\n",
      "\n",
      "Epoch 00007: LearningRateScheduler setting learning rate to 0.001.\n",
      "10710/10710 [==============================] - 100s 9ms/step - loss: 0.2822 - categorical_accuracy: 0.8902 - val_loss: 0.3725 - val_categorical_accuracy: 0.8406\n",
      "Epoch 8/50\n",
      "\n",
      "Epoch 00008: LearningRateScheduler setting learning rate to 0.001.\n",
      " 2000/10710 [====>.........................] - ETA: 1:25 - loss: 0.2708 - categorical_accuracy: 0.8919"
     ]
    }
   ],
   "source": [
    "rnn_model = create_rnn_model(X_train_pure)\n",
    "rnn_model.summary()\n",
    "\n",
    "compile_model(rnn_model)\n",
    "train_model(rnn_model, X_train_pure, y_train_rs, \n",
    "                        X_val_pure, y_val_rs)"
   ]
  },
  {
   "cell_type": "code",
   "execution_count": null,
   "metadata": {},
   "outputs": [],
   "source": [
    "y_pred = get_y_predict(rnn_model, X_test_pure)"
   ]
  },
  {
   "cell_type": "code",
   "execution_count": null,
   "metadata": {},
   "outputs": [],
   "source": [
    "def convert_y(y):\n",
    "  y_conv = [j for i in range(len(y)) for j in range(len(y[i][0])) if y[i][0][j]==np.amax(y[i][0])]\n",
    "  return np.array(y_conv)"
   ]
  },
  {
   "cell_type": "code",
   "execution_count": null,
   "metadata": {},
   "outputs": [],
   "source": [
    "y_t = convert_y(y_test_rs)\n",
    "y_p = convert_y(y_pred)\n",
    "      \n",
    "print(\"GRU units: \", GRU_UNITS)\n",
    "print('GRU units 2: ', GRU_UNITS_2)\n",
    "print(\"Batch size: \", BATCH_SIZE)\n",
    "print()\n",
    "  \n",
    "acc_score = accuracy_score(y_t, y_p)\n",
    "\n",
    "print(\"Accuracy: \", acc_score)"
   ]
  },
  {
   "cell_type": "code",
   "execution_count": null,
   "metadata": {},
   "outputs": [],
   "source": [
    "print(y_p)\n",
    "print(y_t)"
   ]
  },
  {
   "cell_type": "code",
   "execution_count": null,
   "metadata": {},
   "outputs": [],
   "source": [
    "%run eval_score.ipynb"
   ]
  },
  {
   "cell_type": "code",
   "execution_count": null,
   "metadata": {},
   "outputs": [],
   "source": [
    "LABELS = list(label_dict.values())\n",
    "print(LABELS)"
   ]
  },
  {
   "cell_type": "code",
   "execution_count": null,
   "metadata": {},
   "outputs": [],
   "source": [
    "show_conf_matrix(y_t, y_p, LABELS)\n",
    "show_clf_report(y_t, y_p, LABELS)"
   ]
  },
  {
   "cell_type": "code",
   "execution_count": null,
   "metadata": {},
   "outputs": [],
   "source": []
  },
  {
   "cell_type": "code",
   "execution_count": null,
   "metadata": {},
   "outputs": [],
   "source": []
  }
 ],
 "metadata": {
  "kernelspec": {
   "display_name": "Python 3",
   "language": "python",
   "name": "python3"
  }
 },
 "nbformat": 4,
 "nbformat_minor": 2
}
