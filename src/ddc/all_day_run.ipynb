{
 "cells": [
  {
   "cell_type": "markdown",
   "metadata": {
    "colab_type": "text",
    "id": "M7KG93zTnlu0"
   },
   "source": [
    "# Import Core Libraries"
   ]
  },
  {
   "cell_type": "code",
   "execution_count": 1,
   "metadata": {
    "colab": {},
    "colab_type": "code",
    "id": "4AvIBQQQMGyA"
   },
   "outputs": [],
   "source": [
    "import numpy as np\n",
    "import pandas as pd\n",
    "import matplotlib.pyplot as plt\n",
    "import os\n",
    "import math\n",
    "import pickle\n",
    "\n",
    "from os import listdir, walk\n",
    "from os.path import isfile, join"
   ]
  },
  {
   "cell_type": "code",
   "execution_count": 2,
   "metadata": {},
   "outputs": [],
   "source": [
    "from detect_peaks import detect_peaks"
   ]
  },
  {
   "cell_type": "markdown",
   "metadata": {
    "colab_type": "text",
    "id": "Im12HZ4kMGyQ"
   },
   "source": [
    "# Load Dataset"
   ]
  },
  {
   "cell_type": "code",
   "execution_count": 3,
   "metadata": {},
   "outputs": [],
   "source": [
    "sid = '260219'\n",
    "rec_date = '2019-02-26'\n",
    "\n",
    "mypath = '../../DDC_Data/'\n",
    "basepath = '../../'\n",
    "\n",
    "acc_filepath = mypath + sid + '/' + sid + '-log_acc.csv'\n",
    "df_raw = pd.read_csv(acc_filepath, header=None, names=['x','y','z','timestamp'])\n",
    "\n",
    "bool_list = df_raw['timestamp'].str[:10] == rec_date\n",
    "\n",
    "df1 = df_raw[bool_list]\n",
    "df1 = df1.reset_index(drop=True)\n",
    "\n",
    "xyz_cols = ['x','y','z']\n",
    "g = 9.8\n",
    "\n",
    "for c in xyz_cols:\n",
    "    df1[c] = df1[c].apply(lambda x: x/g)\n",
    "\n",
    "X_dict = df1[xyz_cols].to_dict(orient='split')"
   ]
  },
  {
   "cell_type": "code",
   "execution_count": 4,
   "metadata": {},
   "outputs": [
    {
     "data": {
      "text/plain": [
       "array([[-0.07634571,  0.40628137,  0.87095194],\n",
       "       [-0.07194821,  0.39015716,  0.89831418],\n",
       "       [-0.07732294,  0.40872443,  0.89733694],\n",
       "       ...,\n",
       "       [-0.07158174,  0.32578245,  1.13797867],\n",
       "       [-0.1048074 ,  0.22854854,  0.78129153],\n",
       "       [-0.23184666,  0.26714894,  0.7236352 ]])"
      ]
     },
     "execution_count": 4,
     "metadata": {},
     "output_type": "execute_result"
    }
   ],
   "source": [
    "X_all = np.array(X_dict['data'])\n",
    "X_all"
   ]
  },
  {
   "cell_type": "code",
   "execution_count": 5,
   "metadata": {},
   "outputs": [],
   "source": [
    "y_all = np.zeros(X_all.shape[0])"
   ]
  },
  {
   "cell_type": "markdown",
   "metadata": {
    "colab_type": "text",
    "id": "wyuXI7owzjG4"
   },
   "source": [
    "# Data Preprocessing"
   ]
  },
  {
   "cell_type": "code",
   "execution_count": 6,
   "metadata": {},
   "outputs": [],
   "source": [
    "%run preprocessing.ipynb"
   ]
  },
  {
   "cell_type": "code",
   "execution_count": 7,
   "metadata": {},
   "outputs": [
    {
     "name": "stdout",
     "output_type": "stream",
     "text": [
      "(169647, 3) (169647,)\n"
     ]
    }
   ],
   "source": [
    "print(X_all.shape, y_all.shape)"
   ]
  },
  {
   "cell_type": "markdown",
   "metadata": {
    "colab_type": "text",
    "id": "5ac3q3J-hXiY"
   },
   "source": [
    "# Labels"
   ]
  },
  {
   "cell_type": "code",
   "execution_count": 8,
   "metadata": {
    "scrolled": false
   },
   "outputs": [],
   "source": [
    "new_label_list = [0,1,2,3]\n",
    "new_label_dict = {\n",
    "    0: 'sit',\n",
    "    1: 'sleep',\n",
    "    2: 'stand',\n",
    "    3: 'walk'\n",
    "}\n",
    "\n",
    "colors = ['r','g','b','navy','turquoise','darkorange']"
   ]
  },
  {
   "cell_type": "markdown",
   "metadata": {},
   "source": [
    "# Apply PCA"
   ]
  },
  {
   "cell_type": "code",
   "execution_count": 9,
   "metadata": {},
   "outputs": [],
   "source": [
    "from sklearn.decomposition import PCA"
   ]
  },
  {
   "cell_type": "code",
   "execution_count": 10,
   "metadata": {
    "scrolled": true
   },
   "outputs": [],
   "source": [
    "n_comp = 3\n",
    "\n",
    "pca = PCA(n_components=n_comp)\n",
    "X_pca = pca.fit(X_all).transform(X_all)"
   ]
  },
  {
   "cell_type": "code",
   "execution_count": 11,
   "metadata": {},
   "outputs": [],
   "source": [
    "X_svm, y_svm = prepare_impure_label(X_pca, y_all)"
   ]
  },
  {
   "cell_type": "code",
   "execution_count": 12,
   "metadata": {},
   "outputs": [
    {
     "name": "stdout",
     "output_type": "stream",
     "text": [
      "(169588, 180) (169588,)\n"
     ]
    }
   ],
   "source": [
    "print(X_svm.shape, y_svm.shape)"
   ]
  },
  {
   "cell_type": "markdown",
   "metadata": {},
   "source": [
    "# Predict"
   ]
  },
  {
   "cell_type": "code",
   "execution_count": 13,
   "metadata": {},
   "outputs": [],
   "source": [
    "filename = basepath + 'model/knn_model_normal_people.pkl'\n",
    "\n",
    "model = pickle.load(open(filename, 'rb'))"
   ]
  },
  {
   "cell_type": "code",
   "execution_count": 14,
   "metadata": {
    "scrolled": true
   },
   "outputs": [
    {
     "ename": "KeyboardInterrupt",
     "evalue": "",
     "output_type": "error",
     "traceback": [
      "\u001b[1;31m---------------------------------------------------------------------------\u001b[0m",
      "\u001b[1;31mKeyboardInterrupt\u001b[0m                         Traceback (most recent call last)",
      "\u001b[1;32m<ipython-input-14-ab31d27d00e0>\u001b[0m in \u001b[0;36m<module>\u001b[1;34m()\u001b[0m\n\u001b[1;32m----> 1\u001b[1;33m \u001b[0my_pred\u001b[0m \u001b[1;33m=\u001b[0m \u001b[0mmodel\u001b[0m\u001b[1;33m.\u001b[0m\u001b[0mpredict\u001b[0m\u001b[1;33m(\u001b[0m\u001b[0mX_svm\u001b[0m\u001b[1;33m)\u001b[0m\u001b[1;33m\u001b[0m\u001b[0m\n\u001b[0m",
      "\u001b[1;32mE:\\ProgramData\\Anaconda\\lib\\site-packages\\sklearn\\neighbors\\classification.py\u001b[0m in \u001b[0;36mpredict\u001b[1;34m(self, X)\u001b[0m\n\u001b[0;32m    147\u001b[0m         \u001b[0mX\u001b[0m \u001b[1;33m=\u001b[0m \u001b[0mcheck_array\u001b[0m\u001b[1;33m(\u001b[0m\u001b[0mX\u001b[0m\u001b[1;33m,\u001b[0m \u001b[0maccept_sparse\u001b[0m\u001b[1;33m=\u001b[0m\u001b[1;34m'csr'\u001b[0m\u001b[1;33m)\u001b[0m\u001b[1;33m\u001b[0m\u001b[0m\n\u001b[0;32m    148\u001b[0m \u001b[1;33m\u001b[0m\u001b[0m\n\u001b[1;32m--> 149\u001b[1;33m         \u001b[0mneigh_dist\u001b[0m\u001b[1;33m,\u001b[0m \u001b[0mneigh_ind\u001b[0m \u001b[1;33m=\u001b[0m \u001b[0mself\u001b[0m\u001b[1;33m.\u001b[0m\u001b[0mkneighbors\u001b[0m\u001b[1;33m(\u001b[0m\u001b[0mX\u001b[0m\u001b[1;33m)\u001b[0m\u001b[1;33m\u001b[0m\u001b[0m\n\u001b[0m\u001b[0;32m    150\u001b[0m         \u001b[0mclasses_\u001b[0m \u001b[1;33m=\u001b[0m \u001b[0mself\u001b[0m\u001b[1;33m.\u001b[0m\u001b[0mclasses_\u001b[0m\u001b[1;33m\u001b[0m\u001b[0m\n\u001b[0;32m    151\u001b[0m         \u001b[0m_y\u001b[0m \u001b[1;33m=\u001b[0m \u001b[0mself\u001b[0m\u001b[1;33m.\u001b[0m\u001b[0m_y\u001b[0m\u001b[1;33m\u001b[0m\u001b[0m\n",
      "\u001b[1;32mE:\\ProgramData\\Anaconda\\lib\\site-packages\\sklearn\\neighbors\\base.py\u001b[0m in \u001b[0;36mkneighbors\u001b[1;34m(self, X, n_neighbors, return_distance)\u001b[0m\n\u001b[0;32m    453\u001b[0m                 delayed_query(\n\u001b[0;32m    454\u001b[0m                     self._tree, X[s], n_neighbors, return_distance)\n\u001b[1;32m--> 455\u001b[1;33m                 \u001b[1;32mfor\u001b[0m \u001b[0ms\u001b[0m \u001b[1;32min\u001b[0m \u001b[0mgen_even_slices\u001b[0m\u001b[1;33m(\u001b[0m\u001b[0mX\u001b[0m\u001b[1;33m.\u001b[0m\u001b[0mshape\u001b[0m\u001b[1;33m[\u001b[0m\u001b[1;36m0\u001b[0m\u001b[1;33m]\u001b[0m\u001b[1;33m,\u001b[0m \u001b[0mn_jobs\u001b[0m\u001b[1;33m)\u001b[0m\u001b[1;33m\u001b[0m\u001b[0m\n\u001b[0m\u001b[0;32m    456\u001b[0m             )\n\u001b[0;32m    457\u001b[0m         \u001b[1;32melse\u001b[0m\u001b[1;33m:\u001b[0m\u001b[1;33m\u001b[0m\u001b[0m\n",
      "\u001b[1;32mE:\\ProgramData\\Anaconda\\lib\\site-packages\\sklearn\\externals\\joblib\\parallel.py\u001b[0m in \u001b[0;36m__call__\u001b[1;34m(self, iterable)\u001b[0m\n\u001b[0;32m    915\u001b[0m             \u001b[1;31m# remaining jobs.\u001b[0m\u001b[1;33m\u001b[0m\u001b[1;33m\u001b[0m\u001b[0m\n\u001b[0;32m    916\u001b[0m             \u001b[0mself\u001b[0m\u001b[1;33m.\u001b[0m\u001b[0m_iterating\u001b[0m \u001b[1;33m=\u001b[0m \u001b[1;32mFalse\u001b[0m\u001b[1;33m\u001b[0m\u001b[0m\n\u001b[1;32m--> 917\u001b[1;33m             \u001b[1;32mif\u001b[0m \u001b[0mself\u001b[0m\u001b[1;33m.\u001b[0m\u001b[0mdispatch_one_batch\u001b[0m\u001b[1;33m(\u001b[0m\u001b[0miterator\u001b[0m\u001b[1;33m)\u001b[0m\u001b[1;33m:\u001b[0m\u001b[1;33m\u001b[0m\u001b[0m\n\u001b[0m\u001b[0;32m    918\u001b[0m                 \u001b[0mself\u001b[0m\u001b[1;33m.\u001b[0m\u001b[0m_iterating\u001b[0m \u001b[1;33m=\u001b[0m \u001b[0mself\u001b[0m\u001b[1;33m.\u001b[0m\u001b[0m_original_iterator\u001b[0m \u001b[1;32mis\u001b[0m \u001b[1;32mnot\u001b[0m \u001b[1;32mNone\u001b[0m\u001b[1;33m\u001b[0m\u001b[0m\n\u001b[0;32m    919\u001b[0m \u001b[1;33m\u001b[0m\u001b[0m\n",
      "\u001b[1;32mE:\\ProgramData\\Anaconda\\lib\\site-packages\\sklearn\\externals\\joblib\\parallel.py\u001b[0m in \u001b[0;36mdispatch_one_batch\u001b[1;34m(self, iterator)\u001b[0m\n\u001b[0;32m    757\u001b[0m                 \u001b[1;32mreturn\u001b[0m \u001b[1;32mFalse\u001b[0m\u001b[1;33m\u001b[0m\u001b[0m\n\u001b[0;32m    758\u001b[0m             \u001b[1;32melse\u001b[0m\u001b[1;33m:\u001b[0m\u001b[1;33m\u001b[0m\u001b[0m\n\u001b[1;32m--> 759\u001b[1;33m                 \u001b[0mself\u001b[0m\u001b[1;33m.\u001b[0m\u001b[0m_dispatch\u001b[0m\u001b[1;33m(\u001b[0m\u001b[0mtasks\u001b[0m\u001b[1;33m)\u001b[0m\u001b[1;33m\u001b[0m\u001b[0m\n\u001b[0m\u001b[0;32m    760\u001b[0m                 \u001b[1;32mreturn\u001b[0m \u001b[1;32mTrue\u001b[0m\u001b[1;33m\u001b[0m\u001b[0m\n\u001b[0;32m    761\u001b[0m \u001b[1;33m\u001b[0m\u001b[0m\n",
      "\u001b[1;32mE:\\ProgramData\\Anaconda\\lib\\site-packages\\sklearn\\externals\\joblib\\parallel.py\u001b[0m in \u001b[0;36m_dispatch\u001b[1;34m(self, batch)\u001b[0m\n\u001b[0;32m    714\u001b[0m         \u001b[1;32mwith\u001b[0m \u001b[0mself\u001b[0m\u001b[1;33m.\u001b[0m\u001b[0m_lock\u001b[0m\u001b[1;33m:\u001b[0m\u001b[1;33m\u001b[0m\u001b[0m\n\u001b[0;32m    715\u001b[0m             \u001b[0mjob_idx\u001b[0m \u001b[1;33m=\u001b[0m \u001b[0mlen\u001b[0m\u001b[1;33m(\u001b[0m\u001b[0mself\u001b[0m\u001b[1;33m.\u001b[0m\u001b[0m_jobs\u001b[0m\u001b[1;33m)\u001b[0m\u001b[1;33m\u001b[0m\u001b[0m\n\u001b[1;32m--> 716\u001b[1;33m             \u001b[0mjob\u001b[0m \u001b[1;33m=\u001b[0m \u001b[0mself\u001b[0m\u001b[1;33m.\u001b[0m\u001b[0m_backend\u001b[0m\u001b[1;33m.\u001b[0m\u001b[0mapply_async\u001b[0m\u001b[1;33m(\u001b[0m\u001b[0mbatch\u001b[0m\u001b[1;33m,\u001b[0m \u001b[0mcallback\u001b[0m\u001b[1;33m=\u001b[0m\u001b[0mcb\u001b[0m\u001b[1;33m)\u001b[0m\u001b[1;33m\u001b[0m\u001b[0m\n\u001b[0m\u001b[0;32m    717\u001b[0m             \u001b[1;31m# A job can complete so quickly than its callback is\u001b[0m\u001b[1;33m\u001b[0m\u001b[1;33m\u001b[0m\u001b[0m\n\u001b[0;32m    718\u001b[0m             \u001b[1;31m# called before we get here, causing self._jobs to\u001b[0m\u001b[1;33m\u001b[0m\u001b[1;33m\u001b[0m\u001b[0m\n",
      "\u001b[1;32mE:\\ProgramData\\Anaconda\\lib\\site-packages\\sklearn\\externals\\joblib\\_parallel_backends.py\u001b[0m in \u001b[0;36mapply_async\u001b[1;34m(self, func, callback)\u001b[0m\n\u001b[0;32m    180\u001b[0m     \u001b[1;32mdef\u001b[0m \u001b[0mapply_async\u001b[0m\u001b[1;33m(\u001b[0m\u001b[0mself\u001b[0m\u001b[1;33m,\u001b[0m \u001b[0mfunc\u001b[0m\u001b[1;33m,\u001b[0m \u001b[0mcallback\u001b[0m\u001b[1;33m=\u001b[0m\u001b[1;32mNone\u001b[0m\u001b[1;33m)\u001b[0m\u001b[1;33m:\u001b[0m\u001b[1;33m\u001b[0m\u001b[0m\n\u001b[0;32m    181\u001b[0m         \u001b[1;34m\"\"\"Schedule a func to be run\"\"\"\u001b[0m\u001b[1;33m\u001b[0m\u001b[0m\n\u001b[1;32m--> 182\u001b[1;33m         \u001b[0mresult\u001b[0m \u001b[1;33m=\u001b[0m \u001b[0mImmediateResult\u001b[0m\u001b[1;33m(\u001b[0m\u001b[0mfunc\u001b[0m\u001b[1;33m)\u001b[0m\u001b[1;33m\u001b[0m\u001b[0m\n\u001b[0m\u001b[0;32m    183\u001b[0m         \u001b[1;32mif\u001b[0m \u001b[0mcallback\u001b[0m\u001b[1;33m:\u001b[0m\u001b[1;33m\u001b[0m\u001b[0m\n\u001b[0;32m    184\u001b[0m             \u001b[0mcallback\u001b[0m\u001b[1;33m(\u001b[0m\u001b[0mresult\u001b[0m\u001b[1;33m)\u001b[0m\u001b[1;33m\u001b[0m\u001b[0m\n",
      "\u001b[1;32mE:\\ProgramData\\Anaconda\\lib\\site-packages\\sklearn\\externals\\joblib\\_parallel_backends.py\u001b[0m in \u001b[0;36m__init__\u001b[1;34m(self, batch)\u001b[0m\n\u001b[0;32m    547\u001b[0m         \u001b[1;31m# Don't delay the application, to avoid keeping the input\u001b[0m\u001b[1;33m\u001b[0m\u001b[1;33m\u001b[0m\u001b[0m\n\u001b[0;32m    548\u001b[0m         \u001b[1;31m# arguments in memory\u001b[0m\u001b[1;33m\u001b[0m\u001b[1;33m\u001b[0m\u001b[0m\n\u001b[1;32m--> 549\u001b[1;33m         \u001b[0mself\u001b[0m\u001b[1;33m.\u001b[0m\u001b[0mresults\u001b[0m \u001b[1;33m=\u001b[0m \u001b[0mbatch\u001b[0m\u001b[1;33m(\u001b[0m\u001b[1;33m)\u001b[0m\u001b[1;33m\u001b[0m\u001b[0m\n\u001b[0m\u001b[0;32m    550\u001b[0m \u001b[1;33m\u001b[0m\u001b[0m\n\u001b[0;32m    551\u001b[0m     \u001b[1;32mdef\u001b[0m \u001b[0mget\u001b[0m\u001b[1;33m(\u001b[0m\u001b[0mself\u001b[0m\u001b[1;33m)\u001b[0m\u001b[1;33m:\u001b[0m\u001b[1;33m\u001b[0m\u001b[0m\n",
      "\u001b[1;32mE:\\ProgramData\\Anaconda\\lib\\site-packages\\sklearn\\externals\\joblib\\parallel.py\u001b[0m in \u001b[0;36m__call__\u001b[1;34m(self)\u001b[0m\n\u001b[0;32m    223\u001b[0m         \u001b[1;32mwith\u001b[0m \u001b[0mparallel_backend\u001b[0m\u001b[1;33m(\u001b[0m\u001b[0mself\u001b[0m\u001b[1;33m.\u001b[0m\u001b[0m_backend\u001b[0m\u001b[1;33m,\u001b[0m \u001b[0mn_jobs\u001b[0m\u001b[1;33m=\u001b[0m\u001b[0mself\u001b[0m\u001b[1;33m.\u001b[0m\u001b[0m_n_jobs\u001b[0m\u001b[1;33m)\u001b[0m\u001b[1;33m:\u001b[0m\u001b[1;33m\u001b[0m\u001b[0m\n\u001b[0;32m    224\u001b[0m             return [func(*args, **kwargs)\n\u001b[1;32m--> 225\u001b[1;33m                     for func, args, kwargs in self.items]\n\u001b[0m\u001b[0;32m    226\u001b[0m \u001b[1;33m\u001b[0m\u001b[0m\n\u001b[0;32m    227\u001b[0m     \u001b[1;32mdef\u001b[0m \u001b[0m__len__\u001b[0m\u001b[1;33m(\u001b[0m\u001b[0mself\u001b[0m\u001b[1;33m)\u001b[0m\u001b[1;33m:\u001b[0m\u001b[1;33m\u001b[0m\u001b[0m\n",
      "\u001b[1;32mE:\\ProgramData\\Anaconda\\lib\\site-packages\\sklearn\\externals\\joblib\\parallel.py\u001b[0m in \u001b[0;36m<listcomp>\u001b[1;34m(.0)\u001b[0m\n\u001b[0;32m    223\u001b[0m         \u001b[1;32mwith\u001b[0m \u001b[0mparallel_backend\u001b[0m\u001b[1;33m(\u001b[0m\u001b[0mself\u001b[0m\u001b[1;33m.\u001b[0m\u001b[0m_backend\u001b[0m\u001b[1;33m,\u001b[0m \u001b[0mn_jobs\u001b[0m\u001b[1;33m=\u001b[0m\u001b[0mself\u001b[0m\u001b[1;33m.\u001b[0m\u001b[0m_n_jobs\u001b[0m\u001b[1;33m)\u001b[0m\u001b[1;33m:\u001b[0m\u001b[1;33m\u001b[0m\u001b[0m\n\u001b[0;32m    224\u001b[0m             return [func(*args, **kwargs)\n\u001b[1;32m--> 225\u001b[1;33m                     for func, args, kwargs in self.items]\n\u001b[0m\u001b[0;32m    226\u001b[0m \u001b[1;33m\u001b[0m\u001b[0m\n\u001b[0;32m    227\u001b[0m     \u001b[1;32mdef\u001b[0m \u001b[0m__len__\u001b[0m\u001b[1;33m(\u001b[0m\u001b[0mself\u001b[0m\u001b[1;33m)\u001b[0m\u001b[1;33m:\u001b[0m\u001b[1;33m\u001b[0m\u001b[0m\n",
      "\u001b[1;32mE:\\ProgramData\\Anaconda\\lib\\site-packages\\sklearn\\neighbors\\base.py\u001b[0m in \u001b[0;36m_tree_query_parallel_helper\u001b[1;34m(tree, data, n_neighbors, return_distance)\u001b[0m\n\u001b[0;32m    290\u001b[0m     \u001b[0munder\u001b[0m \u001b[0mPyPy\u001b[0m\u001b[1;33m.\u001b[0m\u001b[1;33m\u001b[0m\u001b[0m\n\u001b[0;32m    291\u001b[0m     \"\"\"\n\u001b[1;32m--> 292\u001b[1;33m     \u001b[1;32mreturn\u001b[0m \u001b[0mtree\u001b[0m\u001b[1;33m.\u001b[0m\u001b[0mquery\u001b[0m\u001b[1;33m(\u001b[0m\u001b[0mdata\u001b[0m\u001b[1;33m,\u001b[0m \u001b[0mn_neighbors\u001b[0m\u001b[1;33m,\u001b[0m \u001b[0mreturn_distance\u001b[0m\u001b[1;33m)\u001b[0m\u001b[1;33m\u001b[0m\u001b[0m\n\u001b[0m\u001b[0;32m    293\u001b[0m \u001b[1;33m\u001b[0m\u001b[0m\n\u001b[0;32m    294\u001b[0m \u001b[1;33m\u001b[0m\u001b[0m\n",
      "\u001b[1;31mKeyboardInterrupt\u001b[0m: "
     ]
    }
   ],
   "source": [
    "y_pred = model.predict(X_svm)"
   ]
  },
  {
   "cell_type": "code",
   "execution_count": null,
   "metadata": {},
   "outputs": [],
   "source": [
    "print(y_pred.shape)"
   ]
  },
  {
   "cell_type": "markdown",
   "metadata": {},
   "source": [
    "## Evaluation"
   ]
  },
  {
   "cell_type": "code",
   "execution_count": 16,
   "metadata": {},
   "outputs": [],
   "source": [
    "%run eval_score.ipynb"
   ]
  },
  {
   "cell_type": "code",
   "execution_count": 17,
   "metadata": {},
   "outputs": [],
   "source": [
    "%run classifier_alg.ipynb"
   ]
  },
  {
   "cell_type": "code",
   "execution_count": 18,
   "metadata": {},
   "outputs": [],
   "source": [
    "LABELS = ['sit','sleep','stand','walk']"
   ]
  },
  {
   "cell_type": "markdown",
   "metadata": {},
   "source": [
    "# Combine SVM and Walk Algorithm"
   ]
  },
  {
   "cell_type": "code",
   "execution_count": null,
   "metadata": {},
   "outputs": [],
   "source": [
    "y_pred_new = combine_2(X_svm, y_pred)"
   ]
  },
  {
   "cell_type": "code",
   "execution_count": null,
   "metadata": {},
   "outputs": [],
   "source": [
    "y_pred_new = np.array(y_pred_new)\n",
    "\n",
    "df1['y_pred'] = pd.Series(y_pred_new)"
   ]
  },
  {
   "cell_type": "code",
   "execution_count": null,
   "metadata": {},
   "outputs": [],
   "source": [
    "for i in range(len(df1)):\n",
    "    if(not (df1.loc[i, 'y_pred'] in [0.0,1.0,2.0,3.0])):\n",
    "        keep = i\n",
    "        break"
   ]
  },
  {
   "cell_type": "code",
   "execution_count": null,
   "metadata": {},
   "outputs": [],
   "source": [
    "df_no_null = df1[:keep].copy()\n",
    "\n",
    "df_no_null['y_pred'] = df_no_null['y_pred'].astype(int)"
   ]
  },
  {
   "cell_type": "code",
   "execution_count": null,
   "metadata": {
    "scrolled": true
   },
   "outputs": [],
   "source": [
    "df_no_null"
   ]
  },
  {
   "cell_type": "code",
   "execution_count": null,
   "metadata": {},
   "outputs": [],
   "source": [
    "df_no_null['y_pred'].value_counts()"
   ]
  },
  {
   "cell_type": "markdown",
   "metadata": {},
   "source": [
    "# Visualization"
   ]
  },
  {
   "cell_type": "code",
   "execution_count": 51,
   "metadata": {},
   "outputs": [],
   "source": [
    "%run test_model.ipynb"
   ]
  },
  {
   "cell_type": "code",
   "execution_count": 52,
   "metadata": {},
   "outputs": [],
   "source": [
    "LABELS = ['sit','sleep','stand','walk']"
   ]
  },
  {
   "cell_type": "code",
   "execution_count": 53,
   "metadata": {},
   "outputs": [
    {
     "data": {
      "image/png": "[encoded data removed]",
      "text/plain": [
       "<Figure size 1080x288 with 1 Axes>"
      ]
     },
     "metadata": {
      "needs_background": "light"
     },
     "output_type": "display_data"
    }
   ],
   "source": [
    "pred_periods = get_predicted_periods(df_no_null)\n",
    "pp_all_run = postprocess_predicted(pred_periods, df_no_null)\n",
    "\n",
    "df_no_null['y_pred'] = pd.Series(pp_all_run)\n",
    "pp_periods = get_predicted_periods(df_no_null)\n",
    "\n",
    "ax1 = df_no_null.plot(y=['x','y','z'], figsize=(15,4), color=['r','g','b'])\n",
    "\n",
    "color_list = ['indianred','khaki','lightgreen','skyblue']   # sit, sleep, stand, walk\n",
    "\n",
    "for i in range(len(pred_periods)):\n",
    "    for item in pred_periods[i]:\n",
    "        ax1.axvspan(item[0], item[1], color=color_list[i])"
   ]
  },
  {
   "cell_type": "code",
   "execution_count": 55,
   "metadata": {},
   "outputs": [],
   "source": [
    "fig = ax1.get_figure()\n",
    "fig.savefig(basepath + 'Graphs/all_day_260219.png', dpi=300)"
   ]
  },
  {
   "cell_type": "markdown",
   "metadata": {},
   "source": [
    "# Display Table"
   ]
  },
  {
   "cell_type": "code",
   "execution_count": null,
   "metadata": {},
   "outputs": [],
   "source": [
    "from prettytable import PrettyTable"
   ]
  },
  {
   "cell_type": "code",
   "execution_count": null,
   "metadata": {},
   "outputs": [],
   "source": [
    "df_y = df_no_null.copy()"
   ]
  },
  {
   "cell_type": "code",
   "execution_count": null,
   "metadata": {},
   "outputs": [],
   "source": [
    "label_period = []\n",
    "period_list = [[] for i in range(len(LABELS))]\n",
    "\n",
    "first = 0\n",
    "keep = 0\n",
    "\n",
    "for i in range(len(df_y)):\n",
    "    keep_lb = df_y.loc[keep]['y_pred']\n",
    "\n",
    "    if(keep_lb!=df_y.loc[i]['y_pred']):\n",
    "        label_period.append([df_y.loc[keep]['timestamp'], df_y.loc[i-1]['timestamp'], \n",
    "                             df_y.loc[i-1]['y_pred']])\n",
    "\n",
    "        period_list[df_y.loc[i-1]['y_pred']].append([df_y.loc[keep]['timestamp'], df_y.loc[i-1]['timestamp']])\n",
    "\n",
    "        keep = i"
   ]
  },
  {
   "cell_type": "code",
   "execution_count": null,
   "metadata": {},
   "outputs": [],
   "source": [
    "labels_list = ['sit', 'sleep', 'stand', 'walk']\n",
    "headers = ['start', 'end', 'pred']\n",
    "\n",
    "t = PrettyTable(headers)\n",
    "\n",
    "for row in  \n",
    "#     if(calc_sec(row[1].split(' ')[1])-calc_sec(row[0].split(' ')[1])>1):\n",
    "    t.add_row([row[0], row[1], labels_list[row[2]]])"
   ]
  },
  {
   "cell_type": "code",
   "execution_count": null,
   "metadata": {
    "scrolled": true
   },
   "outputs": [],
   "source": [
    "print(t)"
   ]
  },
  {
   "cell_type": "code",
   "execution_count": null,
   "metadata": {},
   "outputs": [],
   "source": [
    "print(len(label_period))\n",
    "\n",
    "label_cnt_list = [0 for i in range(len(labels_list))]\n",
    "for lb_p in label_period:\n",
    "    label_i = lb_p[2]\n",
    "    \n",
    "    label_cnt_list[label_i] += 1\n",
    "\n",
    "activity_changes = []\n",
    "for i in range(len(labels_list)):\n",
    "    activity_changes.append([labels_list[i], label_cnt_list[i]])\n",
    "    \n",
    "print(activity_changes)"
   ]
  },
  {
   "cell_type": "code",
   "execution_count": null,
   "metadata": {},
   "outputs": [],
   "source": [
    "headers = ['Label', 'Activities Count']\n",
    "tabl_act_chng = PrettyTable(headers)\n",
    "\n",
    "for ac in activity_changes:\n",
    "    tabl_act_chng.add_row([ac[0], ac[1]])\n",
    "    \n",
    "tabl_act_chng.add_row(['', ''])\n",
    "tabl_act_chng.add_row(['total changes', len(label_period)])"
   ]
  },
  {
   "cell_type": "code",
   "execution_count": null,
   "metadata": {},
   "outputs": [],
   "source": [
    "print(tabl_act_chng)"
   ]
  },
  {
   "cell_type": "markdown",
   "metadata": {},
   "source": [
    "## Frequency Active <-> Inactive"
   ]
  },
  {
   "cell_type": "code",
   "execution_count": null,
   "metadata": {},
   "outputs": [],
   "source": [
    "headers = ['Frequency', 'Activities Count']\n",
    "tabl_Freq = PrettyTable(headers)\n",
    "Fq1 = 0\n",
    "isActive = None\n",
    "if(labels_list[label_period[0][2]] == 'stand' or labels_list[label_period[0][2]] == 'walk') :\n",
    "    isActive = True\n",
    "else :\n",
    "    isActive = False\n",
    "    \n",
    "for fq in label_period :\n",
    "    if((labels_list[fq[2]] == 'stand' or labels_list[fq[2]] == 'walk') and isActive == False):\n",
    "        Fq1 += 1\n",
    "        isActive = True\n",
    "    elif((labels_list[fq[2]] == 'sleep' or labels_list[fq[2]] == 'sit') and isActive == True) :\n",
    "        Fq1 += 1\n",
    "        isActive = False\n",
    "    else :\n",
    "        waste = 0\n",
    "\n",
    "tabl_Freq.add_row(['Active <-> Inactive', Fq1])"
   ]
  },
  {
   "cell_type": "code",
   "execution_count": null,
   "metadata": {},
   "outputs": [],
   "source": [
    "print(tabl_Freq)"
   ]
  },
  {
   "cell_type": "markdown",
   "metadata": {},
   "source": [
    "## Active Inactive AC (ALL)"
   ]
  },
  {
   "cell_type": "code",
   "execution_count": null,
   "metadata": {},
   "outputs": [],
   "source": [
    "headers = ['Label', 'Activities Count']\n",
    "tabl_act = PrettyTable(headers)\n",
    "inactive_table = []\n",
    "active_table = []\n",
    "\n",
    "sum = 0\n",
    "sum_2 = 0\n",
    "for ac in activity_changes:\n",
    "    if(ac[0] == 'sit' or ac[0] == 'sleep'):\n",
    "        sum += ac[1]\n",
    "    else :\n",
    "        sum_2 += ac[1]\n",
    "\n",
    "tabl_act.add_row(['Inactive', sum])\n",
    "tabl_act.add_row(['Active', sum_2])"
   ]
  },
  {
   "cell_type": "code",
   "execution_count": null,
   "metadata": {
    "scrolled": true
   },
   "outputs": [],
   "source": [
    "print(tabl_act)"
   ]
  },
  {
   "cell_type": "markdown",
   "metadata": {},
   "source": [
    "# Frequency of Transition between Active and Inactive"
   ]
  },
  {
   "cell_type": "code",
   "execution_count": null,
   "metadata": {},
   "outputs": [],
   "source": [
    "label_period"
   ]
  },
  {
   "cell_type": "code",
   "execution_count": null,
   "metadata": {},
   "outputs": [],
   "source": [
    "headers = ['Frequency', 'Activities Count']\n",
    "tabl_Freq = PrettyTable(headers)\n",
    "Fq1 = 0\n",
    "isActive = None\n",
    "if(labels_list[label_period[0][2]] == 'stand' or labels_list[label_period[0][2]] == 'walk') :\n",
    "    isActive = True\n",
    "else :\n",
    "    isActive = False\n",
    "    \n",
    "for fq in label_period :\n",
    "    if((labels_list[fq[2]] == 'stand' or labels_list[fq[2]] == 'walk') and isActive == False):\n",
    "        Fq1 += 1\n",
    "        isActive = True\n",
    "    elif((labels_list[fq[2]] == 'sleep' or labels_list[fq[2]] == 'sit') and isActive == True) :\n",
    "        Fq1 += 1\n",
    "        isActive = False\n",
    "    else :\n",
    "        waste = 0\n",
    "\n",
    "tabl_Freq.add_row(['Active <-> Inactive', Fq1])"
   ]
  },
  {
   "cell_type": "code",
   "execution_count": null,
   "metadata": {},
   "outputs": [],
   "source": [
    "print(tabl_Freq)"
   ]
  },
  {
   "cell_type": "markdown",
   "metadata": {},
   "source": [
    "# Convert Time to String Method"
   ]
  },
  {
   "cell_type": "code",
   "execution_count": null,
   "metadata": {},
   "outputs": [],
   "source": [
    "def convert_time_to_string(sec):\n",
    "    minute = math.floor(sec/60)\n",
    "    sec = int(sec%60)\n",
    "\n",
    "    time_string = str(minute) + ':' + str(sec)\n",
    "    if(sec<10):\n",
    "        time_string = str(minute) + ':0' + str(sec)\n",
    "    \n",
    "    return time_string"
   ]
  },
  {
   "cell_type": "markdown",
   "metadata": {},
   "source": [
    "# Predicted Duration"
   ]
  },
  {
   "cell_type": "code",
   "execution_count": null,
   "metadata": {},
   "outputs": [],
   "source": [
    "total_secs = []\n",
    "for i in range(len(period_list)):    \n",
    "    secs = 0\n",
    "    for p_i in period_list[i]:\n",
    "        sec = calc_sec(p_i[1].split(' ')[1]) - calc_sec(p_i[0].split(' ')[1])\n",
    "        secs += sec\n",
    "    \n",
    "    secs = round(secs, 3)\n",
    "    total_secs.append(secs)\n",
    "    \n",
    "percent_secs = [round(t/np.sum(total_secs)*100, 3) for t in total_secs]\n",
    "\n",
    "tb = PrettyTable(['Label', 'Seconds', 'Percentage'])\n",
    "\n",
    "for i in range(len(LABELS)):\n",
    "    tb.add_row([labels_list[i], convert_time_to_string(total_secs[i]), percent_secs[i]])\n",
    "\n",
    "tb.add_row(['', '', ''])\n",
    "tb.add_row(['total', convert_time_to_string(round(np.sum(total_secs), 3)), round(np.sum(percent_secs), 3)])"
   ]
  },
  {
   "cell_type": "markdown",
   "metadata": {},
   "source": [
    "# Activity Durations Table"
   ]
  },
  {
   "cell_type": "code",
   "execution_count": null,
   "metadata": {
    "scrolled": true
   },
   "outputs": [],
   "source": [
    "print('Prediction')\n",
    "print(tb)"
   ]
  },
  {
   "cell_type": "markdown",
   "metadata": {},
   "source": [
    "# Bar Chart for Every 1 Hour"
   ]
  },
  {
   "cell_type": "code",
   "execution_count": null,
   "metadata": {},
   "outputs": [],
   "source": [
    "s_idx = 0\n",
    "f_idx = 1\n",
    "lb_idx = 2"
   ]
  },
  {
   "cell_type": "markdown",
   "metadata": {},
   "source": [
    "## Separate Each Hour"
   ]
  },
  {
   "cell_type": "code",
   "execution_count": 22,
   "metadata": {},
   "outputs": [
    {
     "ename": "NameError",
     "evalue": "name 'calc_sec' is not defined",
     "output_type": "error",
     "traceback": [
      "\u001b[0;31m---------------------------------------------------------------------------\u001b[0m",
      "\u001b[0;31mNameError\u001b[0m                                 Traceback (most recent call last)",
      "\u001b[0;32m<ipython-input-22-1983be989a8f>\u001b[0m in \u001b[0;36m<module>\u001b[0;34m\u001b[0m\n\u001b[1;32m      2\u001b[0m \u001b[0mnew_label_period\u001b[0m \u001b[0;34m=\u001b[0m \u001b[0;34m[\u001b[0m\u001b[0;34m]\u001b[0m\u001b[0;34m\u001b[0m\u001b[0m\n\u001b[1;32m      3\u001b[0m \u001b[0;34m\u001b[0m\u001b[0m\n\u001b[0;32m----> 4\u001b[0;31m \u001b[0mstart_time\u001b[0m \u001b[0;34m=\u001b[0m \u001b[0mcalc_sec\u001b[0m\u001b[0;34m(\u001b[0m\u001b[0mlabel_period\u001b[0m\u001b[0;34m[\u001b[0m\u001b[0;36m0\u001b[0m\u001b[0;34m]\u001b[0m\u001b[0;34m[\u001b[0m\u001b[0ms_idx\u001b[0m\u001b[0;34m]\u001b[0m\u001b[0;34m.\u001b[0m\u001b[0msplit\u001b[0m\u001b[0;34m(\u001b[0m\u001b[0;34m' '\u001b[0m\u001b[0;34m)\u001b[0m\u001b[0;34m[\u001b[0m\u001b[0;36m1\u001b[0m\u001b[0;34m]\u001b[0m\u001b[0;34m)\u001b[0m\u001b[0;34m\u001b[0m\u001b[0m\n\u001b[0m\u001b[1;32m      5\u001b[0m \u001b[0mfinish_time\u001b[0m \u001b[0;34m=\u001b[0m \u001b[0mcalc_sec\u001b[0m\u001b[0;34m(\u001b[0m\u001b[0mlabel_period\u001b[0m\u001b[0;34m[\u001b[0m\u001b[0;34m-\u001b[0m\u001b[0;36m1\u001b[0m\u001b[0;34m]\u001b[0m\u001b[0;34m[\u001b[0m\u001b[0mf_idx\u001b[0m\u001b[0;34m]\u001b[0m\u001b[0;34m.\u001b[0m\u001b[0msplit\u001b[0m\u001b[0;34m(\u001b[0m\u001b[0;34m' '\u001b[0m\u001b[0;34m)\u001b[0m\u001b[0;34m[\u001b[0m\u001b[0;36m1\u001b[0m\u001b[0;34m]\u001b[0m\u001b[0;34m)\u001b[0m\u001b[0;34m\u001b[0m\u001b[0m\n\u001b[1;32m      6\u001b[0m \u001b[0;34m\u001b[0m\u001b[0m\n",
      "\u001b[0;31mNameError\u001b[0m: name 'calc_sec' is not defined"
     ]
    }
   ],
   "source": [
    "fivemin = 60*60\n",
    "new_label_period = []\n",
    "\n",
    "start_time = calc_sec(label_period[0][s_idx].split(' ')[1])\n",
    "finish_time = calc_sec(label_period[-1][f_idx].split(' ')[1])\n",
    "\n",
    "floor_start = start_time - (start_time%fivemin)\n",
    "ceil_finish = finish_time - (finish_time%fivemin) + fivemin\n",
    "\n",
    "# print(calc_ts(floor_start), calc_ts(ceil_finish))\n",
    "\n",
    "tm_s = floor_start\n",
    "tm_f = floor_start + fivemin\n",
    "date = label_period[0][s_idx].split(' ')[0]\n",
    "\n",
    "for prd in label_period:\n",
    "    start = calc_sec(prd[s_idx].split(' ')[1])\n",
    "    finish = calc_sec(prd[f_idx].split(' ')[1])\n",
    "    \n",
    "    if(finish>=tm_f and\n",
    "      start-(start%fivemin)==tm_s):\n",
    "            \n",
    "        new_prd = [prd[s_idx], date + ' ' + calc_ts(tm_f), prd[lb_idx]]\n",
    "        new_label_period.append(new_prd)\n",
    "    \n",
    "    elif(start-(start%fivemin)==tm_s and\n",
    "        finish-(finish%fivemin)+fivemin==tm_f):\n",
    "        new_label_period.append(prd)\n",
    "        \n",
    "    while(finish>=tm_f):\n",
    "        tm_s += fivemin\n",
    "        tm_f += fivemin\n",
    "                \n",
    "    if(start<tm_s):\n",
    "        new_prd = [date + ' ' + calc_ts(tm_s), prd[f_idx], prd[lb_idx]]\n",
    "        new_label_period.append(new_prd)"
   ]
  },
  {
   "cell_type": "code",
   "execution_count": 161,
   "metadata": {},
   "outputs": [
    {
     "data": {
      "text/plain": [
       "[['10:11:22.151', '10:11:36.408', 0],\n",
       " ['10:11:36.569', '10:11:42.68', 1],\n",
       " ['10:11:42.841', '10:11:51.848', 0],\n",
       " ['10:11:52.009', '10:12:15.639', 3],\n",
       " ['10:12:15.802', '10:12:21.426', 0],\n",
       " ['10:12:21.586', '10:12:29.783', 3],\n",
       " ['10:12:29.967', '10:13:52.871', 0],\n",
       " ['10:13:53.029', '10:15:02.626', 3],\n",
       " ['10:15:02.787', '10:15:58.695', 0],\n",
       " ['10:15:58.854', '10:16:02.231', 3],\n",
       " ['10:16:02.389', '10:17:25.605', 0],\n",
       " ['10:17:25.763', '10:18:05.605', 3],\n",
       " ['10:18:05.764', '10:18:09.139', 0],\n",
       " ['10:18:09.299', '10:18:25.523', 1],\n",
       " ['10:18:25.682', '10:18:32.749', 3],\n",
       " ['10:18:32.91', '10:18:43.67', 0],\n",
       " ['10:18:43.83', '10:19:19.333', 3],\n",
       " ['10:19:19.491', '10:19:27.364', 0],\n",
       " ['10:19:27.525', '10:19:33.148', 3],\n",
       " ['10:19:33.309', '10:19:58.846', 0],\n",
       " ['10:19:59.008', '10:20:06.877', 1],\n",
       " ['10:20:07.039', '10:20:52.809', 3],\n",
       " ['10:20:52.97', '10:21:05.177', 0],\n",
       " ['10:21:05.338', '10:22:12.006', 3],\n",
       " ['10:22:12.165', '10:22:14.737', 0],\n",
       " ['10:22:14.896', '10:22:48.465', 3],\n",
       " ['10:22:48.627', '10:22:53.282', 0],\n",
       " ['10:22:53.445', '10:23:00.045', 1],\n",
       " ['10:23:00.199', '10:23:09.194', 3],\n",
       " ['10:23:09.351', '10:23:13.689', 1],\n",
       " ['10:23:13.855', '10:23:36.176', 3],\n",
       " ['10:23:36.338', '10:23:53.202', 2],\n",
       " ['10:23:53.371', '10:30:07.999', 0],\n",
       " ['10:30:08.161', '10:30:15.548', 1],\n",
       " ['10:30:15.711', '10:30:43.335', 0],\n",
       " ['10:30:43.495', '10:35:24.476', 3],\n",
       " ['10:35:24.639', '10:50:24.588', 0],\n",
       " ['10:50:24.749', '10:50:42.245', 3],\n",
       " ['10:50:42.404', '10:54:31.566', 0],\n",
       " ['10:54:31.736', '11:0:0.0', 3],\n",
       " ['11:0:0.0', '11:00:25.986', 3],\n",
       " ['11:00:26.148', '11:00:43.15', 0],\n",
       " ['11:00:43.31', '11:01:02.071', 3],\n",
       " ['11:01:02.23', '11:01:06.239', 2],\n",
       " ['11:01:06.401', '11:02:09.274', 0],\n",
       " ['11:02:09.436', '11:03:17.938', 3],\n",
       " ['11:03:18.098', '11:03:38.957', 0],\n",
       " ['11:03:39.116', '11:04:19.718', 3],\n",
       " ['11:04:19.878', '11:04:29.507', 0],\n",
       " ['11:04:29.669', '11:04:45.395', 3],\n",
       " ['11:04:45.557', '11:04:48.605', 2],\n",
       " ['11:04:48.766', '11:05:23.923', 1],\n",
       " ['11:05:24.083', '11:05:42.067', 0],\n",
       " ['11:05:42.226', '11:05:51.699', 3],\n",
       " ['11:05:51.859', '11:06:03.094', 0],\n",
       " ['11:06:03.254', '11:06:12.079', 3],\n",
       " ['11:06:12.241', '11:07:29.423', 0],\n",
       " ['11:07:29.583', '11:07:39.856', 3],\n",
       " ['11:07:40.015', '11:07:48.203', 0],\n",
       " ['11:07:48.362', '11:08:25.433', 1],\n",
       " ['11:08:25.594', '11:08:35.546', 0],\n",
       " ['11:08:35.708', '11:08:52.559', 1],\n",
       " ['11:08:52.718', '11:09:00.423', 0],\n",
       " ['11:09:00.585', '11:11:26.949', 3],\n",
       " ['11:11:27.112', '11:13:16.555', 0],\n",
       " ['11:13:16.716', '11:13:27.471', 3],\n",
       " ['11:13:27.63', '11:15:35.859', 0],\n",
       " ['11:15:36.02', '11:16:41.029', 3],\n",
       " ['11:16:41.192', '11:17:14.741', 0],\n",
       " ['11:17:14.9', '11:17:18.436', 3],\n",
       " ['11:17:18.594', '11:18:44.001', 0],\n",
       " ['11:18:44.164', '11:19:52.391', 3],\n",
       " ['11:19:52.553', '11:19:54.799', 0],\n",
       " ['11:19:54.961', '11:20:16.793', 3],\n",
       " ['11:20:16.952', '11:20:23.212', 0],\n",
       " ['11:20:23.373', '11:21:57.171', 3],\n",
       " ['11:21:57.329', '11:22:09.856', 0],\n",
       " ['11:22:10.018', '11:22:22.223', 3],\n",
       " ['11:22:22.383', '11:22:34.431', 0],\n",
       " ['11:22:34.59', '11:22:42.3', 3],\n",
       " ['11:22:42.461', '11:22:51.769', 1],\n",
       " ['11:22:51.931', '11:23:05.574', 0],\n",
       " ['11:23:05.734', '11:23:07.981', 2],\n",
       " ['11:23:08.144', '11:23:28.694', 3],\n",
       " ['11:23:28.853', '11:23:55.516', 0],\n",
       " ['11:23:55.678', '11:23:58.889', 1],\n",
       " ['11:23:59.049', '11:24:04.671', 0],\n",
       " ['11:24:04.829', '11:24:27.149', 3],\n",
       " ['11:24:27.308', '11:24:32.448', 0],\n",
       " ['11:24:32.609', '11:24:45.453', 3],\n",
       " ['11:24:45.613', '11:24:59.1', 0],\n",
       " ['11:24:59.263', '11:25:06.165', 3],\n",
       " ['11:25:06.327', '11:25:36.026', 0],\n",
       " ['11:25:36.189', '11:25:49.512', 3],\n",
       " ['11:25:49.671', '11:25:53.042', 0],\n",
       " ['11:25:53.204', '11:26:00.106', 1],\n",
       " ['11:26:00.278', '11:26:05.085', 0],\n",
       " ['11:26:05.245', '11:26:18.568', 3],\n",
       " ['11:26:18.744', '11:26:27.557', 0],\n",
       " ['11:26:27.717', '11:26:31.889', 2],\n",
       " ['11:26:32.052', '11:26:35.261', 0],\n",
       " ['11:26:35.423', '11:26:45.376', 3],\n",
       " ['11:26:45.538', '11:28:20.583', 0],\n",
       " ['11:28:20.745', '11:28:29.735', 3],\n",
       " ['11:28:29.895', '11:28:36.961', 0],\n",
       " ['11:28:37.123', '11:28:41.296', 2],\n",
       " ['11:28:41.458', '11:29:33.639', 3],\n",
       " ['11:29:33.798', '11:30:37.526', 0],\n",
       " ['11:30:37.686', '11:30:46.996', 1],\n",
       " ['11:30:47.157', '11:30:50.207', 0],\n",
       " ['11:30:50.368', '11:30:52.775', 2],\n",
       " ['11:30:52.937', '11:32:30.043', 3],\n",
       " ['11:32:30.202', '11:32:40.314', 0],\n",
       " ['11:32:40.506', '11:33:14.988', 3],\n",
       " ['11:33:15.149', '11:33:28.788', 0],\n",
       " ['11:33:28.946', '11:33:42.263', 3],\n",
       " ['11:33:42.424', '11:33:46.755', 2],\n",
       " ['11:33:46.917', '11:34:06.815', 3],\n",
       " ['11:34:06.976', '11:35:01.557', 0],\n",
       " ['11:35:01.716', '11:35:04.928', 2],\n",
       " ['11:35:05.088', '11:36:25.368', 3],\n",
       " ['11:36:25.529', '11:36:31.629', 0],\n",
       " ['11:36:31.791', '11:36:34.359', 2],\n",
       " ['11:36:34.521', '11:36:38.535', 3],\n",
       " ['11:36:38.694', '11:36:52.663', 0],\n",
       " ['11:36:52.822', '11:37:10.641', 3],\n",
       " ['11:37:10.801', '11:37:16.9', 2],\n",
       " ['11:37:17.058', '11:37:27.173', 0],\n",
       " ['11:37:27.331', '11:37:35.197', 3],\n",
       " ['11:37:35.356', '11:37:45.786', 0],\n",
       " ['11:37:45.947', '11:38:30.404', 3],\n",
       " ['11:38:30.563', '11:38:37.625', 0],\n",
       " ['11:38:37.787', '11:38:47.095', 3],\n",
       " ['11:38:47.256', '11:39:00.261', 0],\n",
       " ['11:39:00.42', '11:39:18.238', 3],\n",
       " ['11:39:18.399', '11:39:36.374', 0],\n",
       " ['11:39:36.535', '11:40:13.614', 3],\n",
       " ['11:40:13.786', '11:40:17.305', 0],\n",
       " ['11:40:17.467', '11:40:26.776', 1],\n",
       " ['11:40:26.943', '11:40:33.68', 3],\n",
       " ['11:40:33.838', '11:40:46.038', 0],\n",
       " ['11:40:46.199', '11:40:53.421', 3],\n",
       " ['11:40:53.578', '11:41:28.239', 0],\n",
       " ['11:41:28.401', '11:41:32.893', 3],\n",
       " ['11:41:33.054', '11:41:36.263', 2],\n",
       " ['11:41:36.426', '11:41:52.631', 0],\n",
       " ['11:41:52.793', '11:42:03.066', 3],\n",
       " ['11:42:03.224', '11:42:06.273', 0],\n",
       " ['11:42:06.435', '11:42:15.744', 3],\n",
       " ['11:42:15.903', '11:42:21.201', 0],\n",
       " ['11:42:21.36', '11:42:24.893', 2],\n",
       " ['11:42:25.053', '11:42:29.065', 3],\n",
       " ['11:42:29.226', '11:42:58.284', 0],\n",
       " ['11:42:58.443', '11:43:04.062', 2],\n",
       " ['11:43:04.221', '11:43:48.52', 3],\n",
       " ['11:43:48.683', '11:44:25.268', 0],\n",
       " ['11:44:25.431', '11:44:45.646', 1],\n",
       " ['11:44:45.806', '11:44:52.546', 0],\n",
       " ['11:44:52.707', '11:45:02.174', 3],\n",
       " ['11:45:02.334', '11:45:28.328', 0],\n",
       " ['11:45:28.491', '11:45:33.786', 3],\n",
       " ['11:45:33.946', '11:45:42.774', 0],\n",
       " ['11:45:42.934', '11:45:45.181', 1],\n",
       " ['11:45:45.339', '11:46:00.264', 0],\n",
       " ['11:46:00.425', '11:46:02.833', 2],\n",
       " ['11:46:02.993', '11:46:40.384', 3],\n",
       " ['11:46:40.543', '11:47:29.479', 1],\n",
       " ['11:47:29.638', '11:47:46.648', 3],\n",
       " ['11:47:46.808', '11:48:07.506', 1],\n",
       " ['11:48:07.666', '11:48:12.484', 0],\n",
       " ['11:48:12.643', '11:48:22.918', 1],\n",
       " ['11:48:23.079', '11:48:31.266', 0],\n",
       " ['11:48:31.424', '11:48:38.487', 1],\n",
       " ['11:48:38.648', '11:48:41.376', 2],\n",
       " ['11:48:41.537', '11:48:46.19', 3],\n",
       " ['11:48:46.352', '11:49:12.993', 0],\n",
       " ['11:49:13.151', '11:49:30.485', 1],\n",
       " ['11:49:30.644', '11:49:38.83', 0],\n",
       " ['11:49:38.989', '11:49:42.679', 2],\n",
       " ['11:49:42.841', '11:49:47.013', 1],\n",
       " ['11:49:47.175', '11:49:55.36', 2],\n",
       " ['11:49:55.52', '11:54:26.544', 3],\n",
       " ['11:54:26.704', '11:54:39.218', 0],\n",
       " ['11:54:39.379', '11:55:39.411', 3],\n",
       " ['11:55:39.569', '11:57:32.407', 0],\n",
       " ['11:57:32.566', '11:57:37.384', 3],\n",
       " ['11:57:37.545', '11:58:17.531', 0],\n",
       " ['11:58:17.689', '12:0:0.0', 3],\n",
       " ['12:0:0.0', '12:05:42.39', 3],\n",
       " ['12:05:42.552', '12:05:48.975', 0],\n",
       " ['12:05:49.137', '12:06:03.907', 3],\n",
       " ['12:06:04.068', '12:06:09.524', 0],\n",
       " ['12:06:09.686', '12:06:47.407', 3],\n",
       " ['12:06:47.568', '12:07:51.963', 0],\n",
       " ['12:07:52.124', '12:10:51.968', 3],\n",
       " ['12:10:52.129', '12:11:00.475', 0],\n",
       " ['12:11:00.636', '12:11:09.468', 3],\n",
       " ['12:11:09.629', '12:11:19.421', 0],\n",
       " ['12:11:19.58', '12:11:29.538', 3],\n",
       " ['12:11:29.698', '12:14:16.068', 0],\n",
       " ['12:14:16.229', '12:14:43.994', 3],\n",
       " ['12:14:44.154', '12:14:50.095', 0],\n",
       " ['12:14:50.254', '12:15:02.134', 3],\n",
       " ['12:15:02.296', '12:15:49.5', 0],\n",
       " ['12:15:49.697', '12:15:54.157', 3],\n",
       " ['12:15:54.319', '12:22:07.941', 0],\n",
       " ['12:22:08.103', '12:22:11.795', 3],\n",
       " ['12:22:11.955', '12:22:20.781', 0],\n",
       " ['12:22:20.941', '12:22:26.72', 3],\n",
       " ['12:22:26.882', '12:26:55.473', 0],\n",
       " ['12:26:55.636', '12:27:00.935', 3],\n",
       " ['12:27:01.093', '12:27:43.158', 0],\n",
       " ['12:27:43.32', '12:27:59.058', 3],\n",
       " ['12:27:59.219', '12:30:29.836', 0],\n",
       " ['12:30:29.997', '12:31:09.985', 3],\n",
       " ['12:31:10.144', '12:31:13.194', 0],\n",
       " ['12:31:13.357', '12:33:23.261', 3],\n",
       " ['12:33:23.423', '12:33:32.089', 2],\n",
       " ['12:33:32.249', '12:33:44.131', 3],\n",
       " ['12:33:44.291', '12:33:50.079', 2],\n",
       " ['12:33:50.235', '12:34:04.85', 0],\n",
       " ['12:34:05.04', '12:34:08.222', 3],\n",
       " ['12:34:08.384', '12:34:14.326', 2],\n",
       " ['12:34:14.485', '12:38:01.185', 3],\n",
       " ['12:38:01.343', '12:38:19.161', 1],\n",
       " ['12:38:19.323', '12:40:54.24', 3],\n",
       " ['12:40:54.403', '12:41:08.848', 0],\n",
       " ['12:41:09.009', '12:41:16.714', 1],\n",
       " ['12:41:16.872', '12:41:33.885', 3],\n",
       " ['12:41:34.046', '12:41:39.181', 2],\n",
       " ['12:41:39.343', '12:41:52.822', 3],\n",
       " ['12:41:52.985', '12:43:21.56', 0],\n",
       " ['12:43:21.722', '12:43:31.992', 3],\n",
       " ['12:43:32.151', '12:43:35.522', 2],\n",
       " ['12:43:35.684', '12:44:02.332', 0],\n",
       " ['12:44:02.493', '12:44:10.359', 3],\n",
       " ['12:44:10.518', '12:44:27.533', 0],\n",
       " ['12:44:27.691', '12:44:45.024', 3],\n",
       " ['12:44:45.185', '12:45:26.905', 0],\n",
       " ['12:45:27.067', '12:46:02.051', 3],\n",
       " ['12:46:02.213', '12:46:15.374', 0],\n",
       " ['12:46:15.535', '12:47:03.689', 3],\n",
       " ['12:47:03.851', '12:47:21.507', 0],\n",
       " ['12:47:21.666', '12:49:32.009', 3],\n",
       " ['12:49:32.024', '12:50:42.419', 0],\n",
       " ['12:50:42.58', '12:50:58.459', 3],\n",
       " ['12:50:58.621', '12:51:13.382', 0],\n",
       " ['12:51:13.541', '12:51:16.593', 3],\n",
       " ['12:51:16.751', '12:51:52.219', 0],\n",
       " ['12:51:52.379', '12:51:54.949', 3],\n",
       " ['12:51:55.109', '12:54:49.725', 0],\n",
       " ['12:54:49.887', '12:54:54.383', 3],\n",
       " ['12:54:54.542', '12:57:36.959', 0],\n",
       " ['12:57:37.119', '12:57:46.584', 1],\n",
       " ['12:57:46.747', '12:57:55.414', 3],\n",
       " ['12:57:55.575', '12:58:00.229', 0],\n",
       " ['12:58:00.389', '12:58:29.122', 1],\n",
       " ['12:58:29.28', '13:0:0.0', 3],\n",
       " ['13:0:0.0', '13:04:31.944', 3],\n",
       " ['13:04:32.103', '13:04:38.204', 0],\n",
       " ['13:04:38.364', '13:14:00.847', 3],\n",
       " ['13:14:01.007', '13:14:04.376', 0],\n",
       " ['13:14:04.537', '13:14:16.093', 3],\n",
       " ['13:14:16.254', '13:14:24.279', 0],\n",
       " ['13:14:24.441', '13:18:27.556', 3],\n",
       " ['13:18:27.715', '13:18:59.008', 0],\n",
       " ['13:18:59.172', '13:23:38.617', 3],\n",
       " ['13:23:38.777', '13:23:46.483', 0],\n",
       " ['13:23:46.644', '13:27:14.5', 3],\n",
       " ['13:27:14.66', '13:27:34.399', 0],\n",
       " ['13:27:34.56', '13:27:45.153', 3],\n",
       " ['13:27:45.311', '13:28:39.079', 0],\n",
       " ['13:28:39.241', '13:33:10.477', 3],\n",
       " ['13:33:10.658', '13:33:18.019', 0],\n",
       " ['13:33:18.181', '13:33:40.171', 1],\n",
       " ['13:33:40.334', '13:33:44.664', 0],\n",
       " ['13:33:44.824', '13:34:27.691', 3],\n",
       " ['13:34:27.854', '13:34:36.524', 0],\n",
       " ['13:34:36.685', '13:36:19.281', 3],\n",
       " ['13:36:19.439', '13:36:25.859', 0],\n",
       " ['13:36:26.021', '13:36:37.257', 1],\n",
       " ['13:36:37.418', '13:36:40.146', 0],\n",
       " ['13:36:40.307', '13:40:04.298', 3],\n",
       " ['13:40:04.461', '13:40:11.522', 0],\n",
       " ['13:40:11.681', '13:42:16.864', 3],\n",
       " ['13:42:17.025', '13:42:35.641', 0],\n",
       " ['13:42:35.804', '13:42:55.7', 3],\n",
       " ['13:42:55.861', '13:43:07.896', 0],\n",
       " ['13:43:08.056', '13:44:02.145', 3],\n",
       " ['13:44:02.304', '13:44:08.725', 0],\n",
       " ['13:44:08.887', '13:44:10.973', 1],\n",
       " ['13:44:11.135', '13:44:15.949', 2],\n",
       " ['13:44:16.109', '13:44:36.167', 3],\n",
       " ['13:44:36.328', '13:45:16.929', 0],\n",
       " ['13:45:17.091', '13:45:38.92', 3],\n",
       " ['13:45:39.079', '13:46:01.553', 0],\n",
       " ['13:46:01.713', '13:55:47.609', 1],\n",
       " ['13:55:47.77', '13:55:59.322', 0],\n",
       " ['13:55:59.481', '13:56:08.791', 1],\n",
       " ['13:56:08.949', '13:56:14.086', 0],\n",
       " ['13:56:14.247', '13:57:58.548', 3],\n",
       " ['13:57:58.707', '13:58:30.481', 0],\n",
       " ['13:58:30.639', '14:0:0.0', 3],\n",
       " ['14:0:0.0', '14:00:05.479', 3],\n",
       " ['14:00:05.637', '14:00:14.949', 0],\n",
       " ['14:00:15.111', '14:00:42.23', 3],\n",
       " ['14:00:42.393', '14:00:56.671', 0],\n",
       " ['14:00:56.832', '14:02:00.564', 3],\n",
       " ['14:02:00.71', '14:02:09.206', 0],\n",
       " ['14:02:09.367', '14:02:19.802', 3],\n",
       " ['14:02:19.962', '14:02:26.448', 0],\n",
       " ['14:02:26.464', '14:02:36.175', 3],\n",
       " ['14:02:36.329', '14:03:31.216', 0],\n",
       " ['14:03:31.376', '14:07:54.992', 3],\n",
       " ['14:07:55.151', '14:07:59.486', 0],\n",
       " ['14:07:59.644', '14:08:20.025', 1],\n",
       " ['14:08:20.269', '14:08:25.479', 2],\n",
       " ['14:08:25.64', '14:08:31.415', 3],\n",
       " ['14:08:31.577', '14:08:39.439', 0],\n",
       " ['14:08:39.599', '14:09:05.928', 1],\n",
       " ['14:09:06.099', '14:09:11.036', 0],\n",
       " ['14:09:11.202', '14:09:58.363', 3],\n",
       " ['14:09:58.528', '14:10:37.675', 0],\n",
       " ['14:10:37.834', '14:10:53.081', 3],\n",
       " ['14:10:53.239', '14:11:00.943', 0],\n",
       " ['14:11:01.102', '14:11:11.851', 3],\n",
       " ['14:11:12.013', '14:11:26.615', 0],\n",
       " ['14:11:26.775', '14:11:32.393', 1],\n",
       " ['14:11:32.552', '14:12:08.804', 0],\n",
       " ['14:12:08.964', '14:12:19.548', 1],\n",
       " ['14:12:19.71', '14:12:48.413', 0],\n",
       " ['14:12:48.573', '14:12:53.708', 1],\n",
       " ['14:12:53.869', '14:13:52.911', 0],\n",
       " ['14:13:53.073', '14:15:38.616', 1],\n",
       " ['14:15:38.777', '14:15:41.513', 0],\n",
       " ['14:15:41.662', '14:16:07.166', 3],\n",
       " ['14:16:07.327', '14:16:41.339', 0],\n",
       " ['14:16:41.5', '14:16:51.604', 3],\n",
       " ['14:16:51.766', '14:16:54.49', 0],\n",
       " ['14:16:54.652', '14:20:11.02', 3],\n",
       " ['14:20:11.179', '14:20:44.073', 0],\n",
       " ['14:20:44.231', '14:20:53.382', 3],\n",
       " ['14:20:53.54', '14:21:59.8', 0],\n",
       " ['14:21:59.958', '14:22:16.061', 3],\n",
       " ['14:22:16.073', '14:24:34.864', 0],\n",
       " ['14:24:35.025', '14:24:40.317', 2],\n",
       " ['14:24:40.475', '14:24:51.859', 0],\n",
       " ['14:24:52.021', '14:25:01.974', 3],\n",
       " ['14:25:01.987', '14:25:43.507', 0],\n",
       " ['14:25:43.668', '14:25:54.089', 3],\n",
       " ['14:25:54.251', '14:27:51.504', 0],\n",
       " ['14:27:51.664', '14:29:23.894', 3],\n",
       " ['14:29:24.056', '14:29:28.387', 0],\n",
       " ['14:29:28.546', '14:29:46.195', 1],\n",
       " ['14:29:46.354', '14:29:50.526', 2],\n",
       " ['14:29:50.686', '14:30:54.856', 3],\n",
       " ['14:30:55.057', '14:31:23.25', 0],\n",
       " ['14:31:23.617', '14:32:06.398', 1],\n",
       " ['14:32:06.559', '14:32:09.606', 2],\n",
       " ['14:32:09.767', '14:32:21.157', 3],\n",
       " ['14:32:21.316', '14:32:25.166', 0],\n",
       " ['14:32:25.327', '14:34:50.486', 1],\n",
       " ['14:34:50.646', '14:37:06.811', 0],\n",
       " ['14:37:06.971', '14:38:04.218', 3],\n",
       " ['14:38:04.38', '14:40:30.469', 0],\n",
       " ['14:40:30.634', '14:40:39.13', 3],\n",
       " ['14:40:39.292', '14:42:56.435', 0],\n",
       " ['14:42:56.594', '14:43:54.041', 3],\n",
       " ['14:43:54.2', '14:44:01.422', 2],\n",
       " ['14:44:01.58', '14:44:45.867', 3],\n",
       " ['14:44:46.028', '14:45:25.481', 0],\n",
       " ['14:45:25.639', '14:45:30.93', 1],\n",
       " ['14:45:31.092', '14:45:35.581', 2],\n",
       " ['14:45:35.739', '14:45:41.675', 3],\n",
       " ['14:45:41.839', '14:46:09.736', 0],\n",
       " ['14:46:09.897', '14:46:13.746', 3],\n",
       " ['14:46:13.905', '14:46:18.234', 0],\n",
       " ['14:46:18.394', '14:46:20.481', 2],\n",
       " ['14:46:20.641', '14:47:56.082', 1],\n",
       " ['14:47:56.24', '14:48:06.189', 0],\n",
       " ['14:48:06.351', '14:48:24.149', 1],\n",
       " ['14:48:24.311', '14:48:41.944', 0],\n",
       " ['14:48:42.105', '14:48:48.516', 2],\n",
       " ['14:48:48.819', '14:50:57.94', 3],\n",
       " ['14:50:58.094', '14:51:01.945', 2],\n",
       " ['14:51:02.101', '14:51:11.723', 0],\n",
       " ['14:51:11.885', '14:52:41.873', 1],\n",
       " ['14:52:42.035', '14:52:59.196', 3],\n",
       " ['14:52:59.357', '14:54:30.804', 1],\n",
       " ['14:54:30.948', '14:54:33.354', 0],\n",
       " ['14:54:33.516', '14:56:44.219', 1],\n",
       " ['14:56:44.378', '14:56:47.586', 2],\n",
       " ['14:56:47.747', '14:56:50.955', 0],\n",
       " ['14:56:51.116', '14:56:56.091', 2],\n",
       " ['14:56:56.25', '14:56:59.778', 0],\n",
       " ['14:56:59.941', '14:57:11.006', 2],\n",
       " ['14:57:11.167', '14:57:18.701', 3],\n",
       " ['14:57:18.86', '14:57:22.55', 2],\n",
       " ['14:57:22.709', '14:57:25.118', 0],\n",
       " ['14:57:25.275', '14:58:44.488', 1],\n",
       " ['14:58:44.648', '14:58:47.856', 2],\n",
       " ['14:58:48.015', '14:58:52.83', 3],\n",
       " ['14:58:52.989', '14:59:28.434', 1],\n",
       " ['14:59:28.595', '14:59:34.529', 0],\n",
       " ['14:59:34.69', '14:59:48.164', 2],\n",
       " ['14:59:48.334', '14:59:56.506', 3],\n",
       " ['14:59:56.666', '15:0:0.0', 0],\n",
       " ['15:0:0.0', '15:00:02.194', 0],\n",
       " ['15:00:02.289', '15:00:10.785', 2],\n",
       " ['15:00:10.944', '15:00:40.297', 0],\n",
       " ['15:00:40.458', '15:00:43.031', 3],\n",
       " ['15:00:43.182', '15:00:50.078', 0],\n",
       " ['15:00:50.24', '15:00:55.853', 2],\n",
       " ['15:00:56.014', '15:01:03.873', 0],\n",
       " ['15:01:04.033', '15:05:06.757', 1],\n",
       " ['15:05:06.768', '15:05:38.303', 0],\n",
       " ['15:05:38.462', '15:06:01.573', 1],\n",
       " ['15:06:01.733', '15:06:06.71', 2],\n",
       " ['15:06:06.868', '15:06:30.455', 3],\n",
       " ['15:06:30.617', '15:07:23.09', 0],\n",
       " ['15:07:23.246', '15:07:27.579', 1],\n",
       " ['15:07:27.739', '15:07:32.553', 2],\n",
       " ['15:07:32.713', '15:07:50.68', 3],\n",
       " ['15:07:50.842', '15:08:05.917', 0],\n",
       " ['15:08:06.076', '15:08:26.606', 1],\n",
       " ['15:08:26.766', '15:09:23.87', 0],\n",
       " ['15:09:24.029', '15:09:28.201', 3],\n",
       " ['15:09:28.359', '15:09:34.774', 0],\n",
       " ['15:09:34.935', '15:09:40.547', 3],\n",
       " ['15:09:40.707', '15:11:20.807', 0],\n",
       " ['15:11:20.957', '15:11:31.061', 3],\n",
       " ['15:11:31.22', '15:13:03.286', 0],\n",
       " ['15:13:03.446', '15:13:48.518', 3],\n",
       " ['15:13:48.679', '15:14:10.333', 0],\n",
       " ['15:14:10.492', '15:14:36.789', 3],\n",
       " ['15:14:36.951', '15:14:45.443', 0],\n",
       " ['15:14:45.606', '15:15:46.57', 3],\n",
       " ['15:15:46.77', '15:16:03.864', 0],\n",
       " ['15:16:04.023', '15:16:24.389', 3],\n",
       " ['15:16:24.549', '15:18:19.389', 0],\n",
       " ['15:18:19.551', '15:18:29.812', 3],\n",
       " ['15:18:29.974', '15:22:29.916', 0],\n",
       " ['15:22:30.076', '15:23:11.61', 3],\n",
       " ['15:23:11.768', '15:23:26.686', 0],\n",
       " ['15:23:26.844', '15:23:45.285', 1],\n",
       " ['15:23:45.444', '15:23:49.773', 2],\n",
       " ['15:23:49.935', '15:24:18.486', 3],\n",
       " ['15:24:18.648', '15:24:27.789', 0],\n",
       " ['15:24:27.951', '15:24:30.036', 3],\n",
       " ['15:24:30.197', '15:24:37.574', 0],\n",
       " ['15:24:37.735', '15:25:05.649', 1],\n",
       " ['15:25:05.811', '15:25:18.641', 3],\n",
       " ['15:25:18.802', '15:26:06.137', 1],\n",
       " ['15:26:06.283', '15:26:24.726', 3],\n",
       " ['15:26:24.886', '15:26:35.949', 1],\n",
       " ['15:26:36.111', '15:26:40.923', 2],\n",
       " ['15:26:41.082', '15:27:48.301', 3],\n",
       " ['15:27:48.464', '15:28:07.562', 0],\n",
       " ['15:28:07.721', '15:28:33.72', 1],\n",
       " ['15:28:33.879', '15:28:39.172', 3],\n",
       " ['15:28:39.335', '15:29:00.192', 0],\n",
       " ['15:29:00.352', '15:29:02.758', 3],\n",
       " ['15:29:02.92', '15:29:17.52', 0],\n",
       " ['15:29:17.682', '15:29:25.864', 1],\n",
       " ['15:29:26.255', '15:30:12.708', 0],\n",
       " ['15:30:12.868', '15:30:25.222', 1],\n",
       " ['15:30:25.384', '15:30:40.464', 0],\n",
       " ['15:30:40.624', '15:30:55.704', 3],\n",
       " ['15:30:55.863', '15:31:04.686', 0],\n",
       " ['15:31:04.847', '15:31:15.754', 3],\n",
       " ['15:31:15.913', '15:31:34.035', 0],\n",
       " ['15:31:34.195', '15:31:57.142', 3],\n",
       " ['15:31:57.301', '15:32:01.955', 0],\n",
       " ['15:32:02.116', '15:32:41.906', 3],\n",
       " ['15:32:42.065', '15:32:45.365', 0],\n",
       " ['15:32:45.435', '15:34:39.05', 3],\n",
       " ['15:34:39.212', '15:35:04.407', 0],\n",
       " ['15:35:04.569', '15:35:09.706', 3],\n",
       " ['15:35:09.864', '15:38:31.952', 0],\n",
       " ['15:38:32.114', '15:39:51.254', 3],\n",
       " ['15:39:51.415', '15:40:14.369', 0],\n",
       " ['15:40:14.53', '15:40:20.628', 1],\n",
       " ['15:40:20.81', '15:40:22.877', 0],\n",
       " ['15:40:23.036', '15:40:36.997', 1],\n",
       " ['15:40:37.154', '15:40:53.363', 0],\n",
       " ['15:40:53.523', '15:40:58.819', 1],\n",
       " ['15:40:58.978', '15:41:10.051', 0],\n",
       " ['15:41:10.212', '15:41:14.865', 1],\n",
       " ['15:41:15.026', '15:41:22.41', 0],\n",
       " ['15:41:22.573', '15:41:25.139', 3],\n",
       " ['15:41:25.302', '15:41:54.999', 0],\n",
       " ['15:41:55.162', '15:41:57.891', 1],\n",
       " ['15:41:58.049', '15:42:00.779', 0],\n",
       " ['15:42:00.943', '15:42:03.029', 2],\n",
       " ['15:42:03.188', '15:42:29.195', 3],\n",
       " ['15:42:29.355', '15:43:12.374', 0],\n",
       " ['15:43:12.535', '15:54:56.294', 3],\n",
       " ['15:54:56.453', '15:55:11.063', 0],\n",
       " ['15:55:11.223', '15:55:22.136', 3],\n",
       " ['15:55:22.296', '15:55:42.245', 1],\n",
       " ['15:55:42.257', '15:55:44.441', 0],\n",
       " ['15:55:44.6', '15:55:46.848', 1],\n",
       " ['15:55:47.009', '15:56:03.057', 2],\n",
       " ['15:56:03.224', '15:56:14.135', 0],\n",
       " ['15:56:14.295', '15:56:17.185', 1],\n",
       " ['15:56:17.345', '15:56:32.437', 0],\n",
       " ['15:56:32.596', '15:56:43.192', 3],\n",
       " ['15:56:43.352', '15:56:47.043', 0],\n",
       " ['15:56:47.202', '15:57:02.612', 1],\n",
       " ['15:57:02.774', '15:57:05.662', 0],\n",
       " ['15:57:05.824', '15:57:15.774', 2],\n",
       " ['15:57:15.937', '15:57:40.493', 3],\n",
       " ['15:57:40.652', '15:58:01.194', 0],\n",
       " ['15:58:01.355', '16:0:0.0', 3],\n",
       " ['16:0:0.0', '16:03:50.697', 3],\n",
       " ['16:03:50.856', '16:03:55.513', 0],\n",
       " ['16:03:55.672', '16:04:09.961', 3],\n",
       " ['16:04:10.12', '16:04:20.075', 0],\n",
       " ['16:04:20.236', '16:04:51.22', 3],\n",
       " ['16:04:51.382', '16:05:07.439', 0],\n",
       " ['16:05:07.602', '16:05:24.3', 3],\n",
       " ['16:05:24.459', '16:05:34.735', 0],\n",
       " ['16:05:34.897', '16:05:53.679', 3],\n",
       " ['16:05:53.84', '16:06:07.167', 0],\n",
       " ['16:06:07.326', '16:06:17.762', 3],\n",
       " ['16:06:17.924', '16:06:22.899', 1],\n",
       " ['16:06:23.061', '16:06:36.867', 0],\n",
       " ['16:06:37.029', '16:07:56.831', 3],\n",
       " ['16:07:56.992', '16:08:00.525', 0],\n",
       " ['16:08:00.685', '16:08:07.587', 3],\n",
       " ['16:08:07.749', '16:08:44.838', 1],\n",
       " ['16:08:44.999', '16:08:50.779', 0],\n",
       " ['16:08:51.269', '16:09:01.695', 3],\n",
       " ['16:09:01.855', '16:09:16.303', 2],\n",
       " ['16:09:16.474', '16:09:28.509', 1],\n",
       " ['16:09:28.67', '16:09:33.165', 0],\n",
       " ['16:09:33.326', '16:09:54.682', 3],\n",
       " ['16:09:54.844', '16:10:01.267', 2],\n",
       " ['16:10:01.426', '16:10:17.965', 3],\n",
       " ['16:10:18.126', '16:10:40.605', 0],\n",
       " ['16:10:40.766', '16:10:43.336', 2],\n",
       " ['16:10:43.496', '16:10:52.009', 3],\n",
       " ['16:10:52.169', '16:10:56.345', 2],\n",
       " ['16:10:56.505', '16:11:01.003', 1],\n",
       " ['16:11:01.164', '16:11:19.468', 3],\n",
       " ['16:11:19.629', '16:11:22.679', 0],\n",
       " ['16:11:22.842', '16:11:37.456', 3],\n",
       " ['16:11:37.617', '16:11:44.844', 0],\n",
       " ['16:11:45.004', '16:12:00.264', 1],\n",
       " ['16:12:00.424', '16:12:03.315', 0],\n",
       " ['16:12:03.477', '16:12:05.564', 2],\n",
       " ['16:12:05.724', '16:12:10.378', 3],\n",
       " ['16:12:10.541', '16:12:13.269', 2],\n",
       " ['16:12:13.429', '16:13:26.668', 0],\n",
       " ['16:13:26.829', '16:15:47.987', 3],\n",
       " ['16:15:48.156', '16:15:57.142', 0],\n",
       " ['16:15:57.304', '16:17:53.219', 3],\n",
       " ['16:17:53.378', '16:17:59.642', 0],\n",
       " ['16:17:59.8', '16:25:23.91', 3],\n",
       " ['16:25:24.069', '16:25:29.527', 0],\n",
       " ['16:25:29.689', '16:25:40.445', 1],\n",
       " ['16:25:40.606', '16:25:44.05', 0],\n",
       " ['16:25:44.099', '16:25:46.223', 2],\n",
       " ['16:25:46.383', '16:26:53.83', 3],\n",
       " ['16:26:53.989', '16:27:08.924', 0],\n",
       " ['16:27:09.084', '16:27:20.805', 1],\n",
       " ['16:27:20.976', '16:27:28.99', 0],\n",
       " ['16:27:29.153', '16:27:43.281', 1],\n",
       " ['16:27:43.447', '16:27:55.323', 0],\n",
       " ['16:27:55.483', '16:28:02.869', 1],\n",
       " ['16:28:03.032', '16:28:12.664', 0],\n",
       " ['16:28:12.826', '16:29:46.113', 3],\n",
       " ['16:29:46.274', '16:30:20.626', 0],\n",
       " ['16:30:20.786', '16:30:31.54', 3],\n",
       " ['16:30:31.703', '16:31:12.16', 0],\n",
       " ['16:31:12.322', '16:31:23.559', 3],\n",
       " ['16:31:23.719', '16:32:14.46', 0],\n",
       " ['16:32:14.621', '16:34:38.309', 1],\n",
       " ['16:34:38.471', '16:36:15.754', 0],\n",
       " ['16:36:15.915', '16:36:47.38', 3],\n",
       " ['16:36:47.54', '16:37:45.183', 0],\n",
       " ['16:37:45.34', '16:37:53.375', 3],\n",
       " ['16:37:53.386', '16:38:34.458', 0],\n",
       " ['16:38:34.621', '16:38:43.145', 3],\n",
       " ['16:38:43.156', '16:38:47.624', 0],\n",
       " ['16:38:47.785', '16:39:20.691', 1],\n",
       " ['16:39:20.852', '16:40:34.049', 0],\n",
       " ['16:40:34.21', '16:41:28.144', 3],\n",
       " ['16:41:28.306', '16:43:05.244', 0],\n",
       " ['16:43:05.404', '16:43:28.359', 3],\n",
       " ['16:43:28.521', '16:44:14.589', 0],\n",
       " ['16:44:15.072', '16:45:28.746', 3],\n",
       " ['16:45:28.908', '16:46:36.327', 0],\n",
       " ['16:46:36.489', '16:46:55.426', 3],\n",
       " ['16:46:55.587', '16:46:58.796', 0],\n",
       " ['16:46:58.957', '16:47:02.969', 2],\n",
       " ['16:47:03.129', '16:50:30.311', 3],\n",
       " ['16:50:30.469', '16:51:00.963', 0],\n",
       " ['16:51:01.124', '16:54:13.584', 3],\n",
       " ['16:54:13.742', '16:54:16.469', 0],\n",
       " ['16:54:16.632', '16:54:53.221', 3],\n",
       " ['16:54:53.382', '16:54:57.718', 0],\n",
       " ['16:54:57.878', '16:55:11.203', 1],\n",
       " ['16:55:11.364', '16:55:15.696', 0],\n",
       " ['16:55:15.856', '16:55:37.518', 3],\n",
       " ['16:55:37.678', '16:55:42.011', 0],\n",
       " ['16:55:42.173', '16:55:54.368', 1],\n",
       " ['16:55:54.531', '16:56:32.888', 3],\n",
       " ['16:56:33.048', '16:57:06.754', 1],\n",
       " ['16:57:06.914', '16:57:36.609', 3],\n",
       " ['16:57:36.769', '16:57:56.189', 0],\n",
       " ['16:57:56.349', '16:58:14.975', 3],\n",
       " ['16:58:15.137', '16:58:21.074', 2],\n",
       " ['16:58:21.236', '16:58:44.033', 3],\n",
       " ['16:58:44.195', '16:58:51.26', 0],\n",
       " ['16:58:51.418', '16:59:56.426', 3],\n",
       " ['16:59:56.587', '17:0:0.0', 0],\n",
       " ['17:0:0.0', '17:00:10.715', 0],\n",
       " ['17:00:10.876', '17:00:44.585', 3],\n",
       " ['17:00:44.745', '17:01:20.384', 1],\n",
       " ['17:01:20.544', '17:05:14.809', 3],\n",
       " ['17:05:14.928', '17:05:26.809', 0],\n",
       " ['17:05:26.969', '17:13:21.143', 3],\n",
       " ['17:13:21.303', '17:13:24.514', 1],\n",
       " ['17:13:24.672', '17:13:44.897', 0],\n",
       " ['17:13:45.056', '17:14:02.549', 1],\n",
       " ['17:14:02.713', '17:14:14.111', 0],\n",
       " ['17:14:14.274', '17:14:30.486', 3],\n",
       " ['17:14:30.648', '17:15:09.977', 0],\n",
       " ['17:15:10.139', '17:15:16.079', 3],\n",
       " ['17:15:16.239', '17:15:21.858', 2],\n",
       " ['17:15:22.019', '17:18:14.156', 3],\n",
       " ['17:18:14.254', '17:18:35.128', 1],\n",
       " ['17:18:35.291', '17:18:46.528', 0],\n",
       " ['17:18:46.687', '17:18:52.952', 3],\n",
       " ['17:18:53.111', '17:19:10.768', 1],\n",
       " ['17:19:10.929', '17:19:16.866', 2],\n",
       " ['17:19:17.027', '17:19:24.573', 3],\n",
       " ['17:19:24.733', '17:19:36.614', 0],\n",
       " ['17:19:37.137', '17:19:41.43', 2],\n",
       " ['17:19:41.591', '17:19:59.569', 3],\n",
       " ['17:19:59.728', '17:20:30.388', 1],\n",
       " ['17:20:30.548', '17:20:44.832', 3],\n",
       " ['17:20:44.991', '17:21:17.098', 1],\n",
       " ['17:21:17.258', '17:21:42.002', 3],\n",
       " ['17:21:42.14', '17:21:57.552', 1],\n",
       " ['17:21:57.711', '17:22:08.147', 0],\n",
       " ['17:22:08.306', '17:22:14.246', 2],\n",
       " ['17:22:14.406', '17:23:26.16', 3],\n",
       " ['17:23:26.322', '17:24:15.286', 0],\n",
       " ['17:24:15.445', '17:24:39.046', 3],\n",
       " ['17:24:39.208', '17:24:44.342', 0],\n",
       " ['17:24:44.5', '17:25:23.349', 3],\n",
       " ['17:25:23.511', '17:26:06.029', 0],\n",
       " ['17:26:06.19', '17:26:09.243', 1],\n",
       " ['17:26:09.401', '17:26:48.724', 0],\n",
       " ['17:26:48.887', '17:26:55.789', 1],\n",
       " ['17:26:55.951', '17:26:59.644', 0],\n",
       " ['17:26:59.803', '17:27:02.695', 3],\n",
       " ['17:27:02.86', '17:27:21.313', 0],\n",
       " ['17:27:21.84', '17:27:25.645', 3],\n",
       " ['17:27:25.806', '17:27:46.19', 0],\n",
       " ['17:27:46.35', '17:28:02.727', 3],\n",
       " ['17:28:02.888', '17:28:17.974', 0],\n",
       " ['17:28:18.135', '17:28:22.469', 1],\n",
       " ['17:28:22.628', '17:30:33.412', 0],\n",
       " ['17:30:33.574', '17:31:01.659', 3],\n",
       " ['17:31:01.819', '17:31:08.561', 0],\n",
       " ['17:31:08.72', '17:33:30.288', 3],\n",
       " ['17:33:30.449', '17:33:33.337', 2],\n",
       " ['17:33:33.498', '17:33:41.201', 3],\n",
       " ['17:33:41.361', '17:33:52.596', 0],\n",
       " ['17:33:52.757', '17:33:55.807', 2],\n",
       " ['17:33:55.966', '17:34:10.571', 0],\n",
       " ['17:34:10.729', '17:35:11.708', 3],\n",
       " ['17:35:11.869', '17:35:14.436', 2],\n",
       " ['17:35:14.596', '17:35:25.834', 0],\n",
       " ['17:35:25.994', '17:35:38.354', 3],\n",
       " ['17:35:38.513', '17:37:33.612', 0],\n",
       " ['17:37:33.771', '17:37:36.017', 2],\n",
       " ['17:37:36.178', '17:38:01.215', 0],\n",
       " ['17:38:01.379', '17:38:07.797', 2],\n",
       " ['17:38:07.956', '17:38:52.733', 0],\n",
       " ['17:38:52.892', '17:39:06.857', 3],\n",
       " ['17:39:07.017', '17:39:09.424', 2],\n",
       " ['17:39:09.586', '17:40:25.521', 0],\n",
       " ['17:40:25.678', '17:40:29.694', 2],\n",
       " ['17:40:29.856', '17:41:03.249', 0],\n",
       " ['17:41:03.411', '17:41:31.831', 3],\n",
       " ['17:41:31.991', '17:41:38.091', 0],\n",
       " ['17:41:38.25', '17:43:34.792', 3],\n",
       " ['17:43:34.951', '17:43:40.958', 0],\n",
       " ['17:43:40.97', '17:44:27.602', 3]]"
      ]
     },
     "execution_count": 161,
     "metadata": {},
     "output_type": "execute_result"
    }
   ],
   "source": [
    "new_label_period"
   ]
  },
  {
   "cell_type": "code",
   "execution_count": 164,
   "metadata": {},
   "outputs": [],
   "source": [
    "label_dict = {\n",
    "    'sit': 0,\n",
    "    'sleep': 1,\n",
    "    'stand': 2,\n",
    "    'walk': 3\n",
    "}"
   ]
  },
  {
   "cell_type": "markdown",
   "metadata": {},
   "source": [
    "# Get Active/Inactive Count and Transition Count"
   ]
  },
  {
   "cell_type": "code",
   "execution_count": 203,
   "metadata": {},
   "outputs": [],
   "source": [
    "all_periods_label = []\n",
    "all_act_count = []\n",
    "all_trans = []\n",
    "\n",
    "for t_i in range(int(floor_start), int(ceil_finish), fivemin):\n",
    "    period_lb = [0 for i in range(len(LABELS))]\n",
    "    act_count = [0 for i in range(2)]\n",
    "    trans = 0\n",
    "    \n",
    "    for p_i in range(len(new_label_period)):\n",
    "        prd = new_label_period[p_i]\n",
    "        \n",
    "        if(calc_sec(prd[s_idx])>=t_i and calc_sec(prd[f_idx])<=t_i+fivemin):\n",
    "            period_lb[prd[lb_idx]] += calc_sec(prd[f_idx])-calc_sec(prd[s_idx])\n",
    "            period_lb[prd[lb_idx]] = round(period_lb[prd[lb_idx]], 3)\n",
    "            \n",
    "            # count activities\n",
    "            if(prd[lb_idx]==label_dict['sit'] or prd[lb_idx]==label_dict['sleep']):\n",
    "                act_count[0] += 1\n",
    "            else:\n",
    "                act_count[1] += 1\n",
    "                \n",
    "            # count transitions\n",
    "            if(p_i+1<len(new_label_period)):\n",
    "                next_prd = new_label_period[p_i+1]\n",
    "                \n",
    "                if((prd[lb_idx]==label_dict['sit'] or prd[lb_idx]==label_dict['sleep']) and\n",
    "                  (next_prd[lb_idx]==label_dict['stand'] or next_prd[lb_idx]==label_dict['walk'])):\n",
    "                    trans += 1\n",
    "                if((prd[lb_idx]==label_dict['stand'] or prd[lb_idx]==label_dict['walk']) and\n",
    "                  (next_prd[lb_idx]==label_dict['sit'] or next_prd[lb_idx]==label_dict['sleep'])):\n",
    "                    trans += 1\n",
    "            \n",
    "    all_periods_label.append(period_lb)\n",
    "    all_act_count.append(act_count)\n",
    "    all_trans.append(trans)"
   ]
  },
  {
   "cell_type": "code",
   "execution_count": 251,
   "metadata": {},
   "outputs": [],
   "source": [
    "active_cols = ['inactive', 'active']\n",
    "columns = labels_list\n",
    "onehour = 60\n",
    "\n",
    "df_all = pd.DataFrame(all_periods_label, columns=columns)\n",
    "\n",
    "for i in range(2):\n",
    "    df_all[active_cols[i]] = pd.Series(np.transpose(all_act_count)[i])\n",
    "    \n",
    "df_all['total activities'] = df_all['inactive'] + df_all['active']\n",
    "    \n",
    "df_all['transition'] = pd.Series(all_trans)\n",
    "\n",
    "df_all['minutes per action'] = onehour/df_all['transition']\n",
    "df_all['minutes per action'] = round(df_all['minutes per action'], 3)\n",
    "df_all['minutes per action'] = df_all['minutes per action'].apply(lambda x: \n",
    "                                                                 convert_time_to_string(x*60))"
   ]
  },
  {
   "cell_type": "code",
   "execution_count": 208,
   "metadata": {},
   "outputs": [],
   "source": [
    "onemin = 60\n",
    "df_all[labels_list] = df_all[labels_list].apply(lambda x: x/onemin)"
   ]
  },
  {
   "cell_type": "code",
   "execution_count": 252,
   "metadata": {},
   "outputs": [
    {
     "data": {
      "text/html": [
       "<div>\n",
       "<style scoped>\n",
       "    .dataframe tbody tr th:only-of-type {\n",
       "        vertical-align: middle;\n",
       "    }\n",
       "\n",
       "    .dataframe tbody tr th {\n",
       "        vertical-align: top;\n",
       "    }\n",
       "\n",
       "    .dataframe thead th {\n",
       "        text-align: right;\n",
       "    }\n",
       "</style>\n",
       "<table border=\"1\" class=\"dataframe\">\n",
       "  <thead>\n",
       "    <tr style=\"text-align: right;\">\n",
       "      <th></th>\n",
       "      <th>sit</th>\n",
       "      <th>sleep</th>\n",
       "      <th>stand</th>\n",
       "      <th>walk</th>\n",
       "      <th>inactive</th>\n",
       "      <th>active</th>\n",
       "      <th>total activities</th>\n",
       "      <th>transition</th>\n",
       "      <th>minutes per action</th>\n",
       "    </tr>\n",
       "  </thead>\n",
       "  <tbody>\n",
       "    <tr>\n",
       "      <th>0</th>\n",
       "      <td>1849.258</td>\n",
       "      <td>48.529</td>\n",
       "      <td>16.864</td>\n",
       "      <td>996.900</td>\n",
       "      <td>23</td>\n",
       "      <td>17</td>\n",
       "      <td>40</td>\n",
       "      <td>31</td>\n",
       "      <td>1:56</td>\n",
       "    </tr>\n",
       "    <tr>\n",
       "      <th>1</th>\n",
       "      <td>1482.881</td>\n",
       "      <td>258.059</td>\n",
       "      <td>65.638</td>\n",
       "      <td>1769.759</td>\n",
       "      <td>77</td>\n",
       "      <td>71</td>\n",
       "      <td>148</td>\n",
       "      <td>108</td>\n",
       "      <td>0:33</td>\n",
       "    </tr>\n",
       "    <tr>\n",
       "      <th>2</th>\n",
       "      <td>1856.844</td>\n",
       "      <td>63.721</td>\n",
       "      <td>28.902</td>\n",
       "      <td>1639.527</td>\n",
       "      <td>32</td>\n",
       "      <td>38</td>\n",
       "      <td>70</td>\n",
       "      <td>58</td>\n",
       "      <td>1:02</td>\n",
       "    </tr>\n",
       "    <tr>\n",
       "      <th>3</th>\n",
       "      <td>315.181</td>\n",
       "      <td>630.518</td>\n",
       "      <td>4.814</td>\n",
       "      <td>2642.399</td>\n",
       "      <td>26</td>\n",
       "      <td>19</td>\n",
       "      <td>45</td>\n",
       "      <td>34</td>\n",
       "      <td>1:45</td>\n",
       "    </tr>\n",
       "    <tr>\n",
       "      <th>4</th>\n",
       "      <td>1329.090</td>\n",
       "      <td>924.505</td>\n",
       "      <td>81.401</td>\n",
       "      <td>1248.483</td>\n",
       "      <td>58</td>\n",
       "      <td>46</td>\n",
       "      <td>104</td>\n",
       "      <td>67</td>\n",
       "      <td>0:53</td>\n",
       "    </tr>\n",
       "    <tr>\n",
       "      <th>5</th>\n",
       "      <td>1417.849</td>\n",
       "      <td>515.220</td>\n",
       "      <td>61.125</td>\n",
       "      <td>1588.994</td>\n",
       "      <td>65</td>\n",
       "      <td>42</td>\n",
       "      <td>107</td>\n",
       "      <td>71</td>\n",
       "      <td>0:50</td>\n",
       "    </tr>\n",
       "    <tr>\n",
       "      <th>6</th>\n",
       "      <td>948.348</td>\n",
       "      <td>353.668</td>\n",
       "      <td>44.505</td>\n",
       "      <td>2236.804</td>\n",
       "      <td>56</td>\n",
       "      <td>47</td>\n",
       "      <td>103</td>\n",
       "      <td>71</td>\n",
       "      <td>0:50</td>\n",
       "    </tr>\n",
       "    <tr>\n",
       "      <th>7</th>\n",
       "      <td>801.609</td>\n",
       "      <td>187.342</td>\n",
       "      <td>45.381</td>\n",
       "      <td>1620.786</td>\n",
       "      <td>39</td>\n",
       "      <td>37</td>\n",
       "      <td>76</td>\n",
       "      <td>55</td>\n",
       "      <td>1:05</td>\n",
       "    </tr>\n",
       "  </tbody>\n",
       "</table>\n",
       "</div>"
      ],
      "text/plain": [
       "        sit    sleep   stand      walk  inactive  active  total activities  \\\n",
       "0  1849.258   48.529  16.864   996.900        23      17                40   \n",
       "1  1482.881  258.059  65.638  1769.759        77      71               148   \n",
       "2  1856.844   63.721  28.902  1639.527        32      38                70   \n",
       "3   315.181  630.518   4.814  2642.399        26      19                45   \n",
       "4  1329.090  924.505  81.401  1248.483        58      46               104   \n",
       "5  1417.849  515.220  61.125  1588.994        65      42               107   \n",
       "6   948.348  353.668  44.505  2236.804        56      47               103   \n",
       "7   801.609  187.342  45.381  1620.786        39      37                76   \n",
       "\n",
       "   transition minutes per action  \n",
       "0          31               1:56  \n",
       "1         108               0:33  \n",
       "2          58               1:02  \n",
       "3          34               1:45  \n",
       "4          67               0:53  \n",
       "5          71               0:50  \n",
       "6          71               0:50  \n",
       "7          55               1:05  "
      ]
     },
     "execution_count": 252,
     "metadata": {},
     "output_type": "execute_result"
    }
   ],
   "source": [
    "df_all"
   ]
  },
  {
   "cell_type": "markdown",
   "metadata": {},
   "source": [
    "## Plot Bar Graph"
   ]
  },
  {
   "cell_type": "code",
   "execution_count": 145,
   "metadata": {},
   "outputs": [],
   "source": [
    "test_subj = 'Indy-260219'"
   ]
  },
  {
   "cell_type": "code",
   "execution_count": 218,
   "metadata": {},
   "outputs": [
    {
     "data": {
      "image/png": "[encoded data removed]",
      "text/plain": [
       "<Figure size 720x360 with 1 Axes>"
      ]
     },
     "metadata": {
      "needs_background": "light"
     },
     "output_type": "display_data"
    }
   ],
   "source": [
    "pos = list(range(len(df_all['sit'])))\n",
    "width = 0.2\n",
    "colors = ['crimson','gold','lime','dodgerblue']\n",
    "\n",
    "fig, ax = plt.subplots(figsize=(10,5))\n",
    "\n",
    "for i in range(len(LABELS)):\n",
    "    plt.bar([p + i*width for p in pos],\n",
    "            df_all[labels_list[i]],\n",
    "            width,\n",
    "            alpha=0.5,\n",
    "            color=colors[i],\n",
    "            label=labels_list[i])\n",
    "    \n",
    "ax.set_xticks([p + 1.5 * width for p in pos])\n",
    "\n",
    "xtick_labels = [calc_ts(floor_start + i*fivemin) + '-' + calc_ts(floor_start + (i+1)*fivemin)\n",
    "                for i in range(len(df_all))]\n",
    "ax.set_xticklabels(xtick_labels)\n",
    "plt.xticks(rotation=90)\n",
    "\n",
    "ax.set_ylabel('Time (min)')\n",
    "\n",
    "plt.xlim(min(pos)-width, max(pos)+width*4)\n",
    "plt.legend(loc='upper left')\n",
    "plt.title('Activity Summary for Subject ID: ' + test_subj)\n",
    "\n",
    "plt.show()"
   ]
  },
  {
   "cell_type": "code",
   "execution_count": 219,
   "metadata": {},
   "outputs": [
    {
     "data": {
      "image/png": "[encoded data removed]",
      "text/plain": [
       "<Figure size 720x360 with 1 Axes>"
      ]
     },
     "metadata": {
      "needs_background": "light"
     },
     "output_type": "display_data"
    }
   ],
   "source": [
    "cols = ['inactive', 'active', 'transition']\n",
    "\n",
    "fig, ax = plt.subplots(figsize=(10,5))\n",
    "\n",
    "for i in range(len(cols)):\n",
    "    plt.bar([p + i*width for p in pos],\n",
    "            df_all[cols[i]],\n",
    "            width,\n",
    "            alpha=0.5,\n",
    "            color=colors[i],\n",
    "            label=cols[i])\n",
    "    \n",
    "ax.set_xticks([p + 1 * width for p in pos])\n",
    "\n",
    "xtick_labels = [calc_ts(floor_start + i*fivemin) + '-' + calc_ts(floor_start + (i+1)*fivemin)\n",
    "                for i in range(len(df_all))]\n",
    "ax.set_xticklabels(xtick_labels)\n",
    "plt.xticks(rotation=90)\n",
    "\n",
    "ax.set_ylabel('Count (times)')\n",
    "\n",
    "plt.xlim(min(pos)-width, max(pos)+width*4)\n",
    "plt.legend(loc='upper left')\n",
    "plt.title('Activity Summary for Subject ID: ' + test_subj)\n",
    "\n",
    "plt.show()"
   ]
  },
  {
   "cell_type": "code",
   "execution_count": null,
   "metadata": {},
   "outputs": [],
   "source": []
  }
 ],
 "metadata": {
  "colab": {
   "collapsed_sections": [],
   "name": "DDC_run.ipynb",
   "provenance": [
    {
     "file_id": "1uW9RzCQha3RZ_wzM_gLxhAN7ytclHWHC",
     "timestamp": 1548220076491
    }
   ],
   "toc_visible": true,
   "version": "0.3.2"
  },
  "kernelspec": {
   "display_name": "Python 3",
   "language": "python",
   "name": "python3"
  },
  "language_info": {
   "codemirror_mode": {
    "name": "ipython",
    "version": 3
   },
   "file_extension": ".py",
   "mimetype": "text/x-python",
   "name": "python",
   "nbconvert_exporter": "python",
   "pygments_lexer": "ipython3",
   "version": "3.6.5"
  }
 },
 "nbformat": 4,
 "nbformat_minor": 2
}
