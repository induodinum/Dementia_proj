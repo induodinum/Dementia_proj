{
 "cells": [
  {
   "cell_type": "code",
   "execution_count": 1,
   "metadata": {},
   "outputs": [],
   "source": [
    "import matplotlib.dates as mdate\n",
    "import matplotlib.pyplot as plt\n",
    "import matplotlib\n",
    "from datetime import datetime\n",
    "import pandas as pd"
   ]
  },
  {
   "cell_type": "code",
   "execution_count": 7,
   "metadata": {},
   "outputs": [
    {
     "name": "stdout",
     "output_type": "stream",
     "text": [
      "             timestamp         x         y         z               label\n",
      "0  2018-10-05 14:42:28  0.590171  0.414197  9.877279  walking_downstairs\n",
      "1  2018-10-05 14:42:29  0.592565  0.614113  9.827001  walking_downstairs\n",
      "2  2018-10-05 14:42:30  0.567426  0.681150  9.844957  walking_downstairs\n",
      "3  2018-10-05 14:42:31  0.545878  0.799663  9.817424  walking_downstairs\n",
      "4  2018-10-05 14:42:32  3.347693 -0.791882  7.060501  walking_downstairs\n",
      "dict_keys(['walking', 'walking_downstairs', 'walking_upstairs'])\n"
     ]
    }
   ],
   "source": [
    "filepath = \"SmartwatchData/prep_data/data_activities_eq_time.csv\"\n",
    "df = pd.read_csv(filepath)\n",
    "\n",
    "print(df.head())\n",
    "\n",
    "df_grp = df.groupby('label')\n",
    "\n",
    "idx = {}\n",
    "df_key = {}\n",
    "\n",
    "for key,item in df_grp:\n",
    "    idx[key] = df_grp.get_group(key).index\n",
    "    df_key[key] = df_grp.get_group(key)\n",
    "\n",
    "print(df_key.keys())\n",
    "    \n",
    "# plt.subplot(211)\n",
    "# plt.plot_date(mts_1,npx_1,'r',label='X')\n",
    "# plt.plot_date(mts_1,npy_1,'g',label='Y')\n",
    "# plt.plot_date(mts_1,npz_1,'b',label='Z')\n",
    "# plt.legend()\n",
    "# plt.title('Walking')\n",
    "\n",
    "# plt.subplot(212)\n",
    "# plt.plot_date(mts_2,npx_2,'r',label='X')\n",
    "# plt.plot_date(mts_2,npy_2,'g',label='Y')\n",
    "# plt.plot_date(mts_2,npz_2,'b',label='Z')\n",
    "# plt.legend()\n",
    "# plt.title('Running')\n",
    "\n",
    "# plt.gca().xaxis.set_major_formatter(matplotlib.dates.DateFormatter(\"%H:%M:%S\"))\n",
    "\n",
    "\n",
    "# plt.show()"
   ]
  }
 ],
 "metadata": {
  "kernelspec": {
   "display_name": "Python 3",
   "language": "python",
   "name": "python3"
  },
  "language_info": {
   "codemirror_mode": {
    "name": "ipython",
    "version": 3
   },
   "file_extension": ".py",
   "mimetype": "text/x-python",
   "name": "python",
   "nbconvert_exporter": "python",
   "pygments_lexer": "ipython3",
   "version": "3.6.5"
  }
 },
 "nbformat": 4,
 "nbformat_minor": 2
}
